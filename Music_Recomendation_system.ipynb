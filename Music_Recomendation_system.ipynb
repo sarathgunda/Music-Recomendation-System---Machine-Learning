{
  "cells": [
    {
      "cell_type": "markdown",
      "metadata": {
        "id": "I4vMY8hmx1-V"
      },
      "source": [
        "Importing libraries"
      ]
    },
    {
      "cell_type": "code",
      "execution_count": null,
      "metadata": {
        "id": "PlDOXcYUs4hQ"
      },
      "outputs": [],
      "source": [
        "from sklearn import metrics\n",
        "import numpy as np\n",
        "import pandas as pd\n",
        "\n",
        "import matplotlib.pyplot as plt\n",
        "%matplotlib inline\n",
        "\n",
        "import seaborn as sns\n",
        "import datetime as dt\n",
        "from sklearn import metrics\n",
        "from sklearn.preprocessing import LabelEncoder, OneHotEncoder, MinMaxScaler\n",
        "from sklearn.model_selection import train_test_split\n",
        "from sklearn.linear_model import LogisticRegression\n",
        "from sklearn.metrics import accuracy_score\n",
        "\n",
        "import time\n",
        "from sklearn.metrics import accuracy_score, roc_auc_score, classification_report, plot_confusion_matrix, plot_roc_curve"
      ]
    },
    {
      "cell_type": "code",
      "execution_count": null,
      "metadata": {
        "id": "Di5Ihqbr3r4Y"
      },
      "outputs": [],
      "source": [
        "import pandas as pd\n",
        "import numpy as np\n",
        "import matplotlib.pyplot as plt\n",
        "import seaborn as sns\n",
        "from sklearn.preprocessing import RobustScaler\n",
        "from sklearn.neighbors import KNeighborsClassifier\n",
        "from math import sqrt\n",
        "from sklearn import metrics\n",
        "from sklearn.linear_model import LinearRegression,LogisticRegression\n",
        "from sklearn.model_selection import train_test_split\n",
        "from sklearn.metrics import confusion_matrix,classification_report,accuracy_score\n",
        "from sklearn.metrics import r2_score, accuracy_score\n",
        "import warnings\n",
        "warnings.filterwarnings('ignore')\n",
        "from sklearn.preprocessing import LabelEncoder\n",
        "import plotly.express as px\n",
        "import plotly.graph_objects as go\n",
        "from sklearn.svm import SVC\n",
        "from sklearn.metrics import confusion_matrix,classification_report,accuracy_score\n",
        "from sklearn import preprocessing\n",
        "from sklearn import utils\n",
        "from sklearn.ensemble import RandomForestClassifier\n",
        "from sklearn.naive_bayes import GaussianNB\n",
        "from sklearn.tree import DecisionTreeClassifier\n",
        "from sklearn.ensemble import BaggingClassifier\n",
        "from sklearn.decomposition import PCA\n",
        "from sklearn.ensemble import StackingClassifier\n",
        "from sklearn.cluster import KMeans\n"
      ]
    },
    {
      "cell_type": "markdown",
      "metadata": {
        "id": "rlRROy5UvLhC"
      },
      "source": [
        "Loading the data"
      ]
    },
    {
      "cell_type": "code",
      "execution_count": null,
      "metadata": {
        "id": "-mKJR1v5tWBp"
      },
      "outputs": [],
      "source": [
        "members = pd.read_csv('/content/members.csv')\n",
        "songextrainfo = pd.read_csv('/content/song_extra_info.csv')\n",
        "song = pd.read_csv('/content/songs.csv')\n",
        "train = pd.read_csv('/content/train.csv')"
      ]
    },
    {
      "cell_type": "markdown",
      "metadata": {
        "id": "wEhoDnhKvOEe"
      },
      "source": [
        "Anayzing the data"
      ]
    },
    {
      "cell_type": "code",
      "execution_count": null,
      "metadata": {
        "colab": {
          "base_uri": "https://localhost:8080/",
          "height": 424
        },
        "id": "JXJ3WY4juimu",
        "outputId": "59e7d67c-620c-4e35-9b05-f75da57bd641"
      },
      "outputs": [
        {
          "data": {
            "text/html": [
              "\n",
              "  <div id=\"df-d0f26c41-9796-483e-985a-702aa79917ea\">\n",
              "    <div class=\"colab-df-container\">\n",
              "      <div>\n",
              "<style scoped>\n",
              "    .dataframe tbody tr th:only-of-type {\n",
              "        vertical-align: middle;\n",
              "    }\n",
              "\n",
              "    .dataframe tbody tr th {\n",
              "        vertical-align: top;\n",
              "    }\n",
              "\n",
              "    .dataframe thead th {\n",
              "        text-align: right;\n",
              "    }\n",
              "</style>\n",
              "<table border=\"1\" class=\"dataframe\">\n",
              "  <thead>\n",
              "    <tr style=\"text-align: right;\">\n",
              "      <th></th>\n",
              "      <th>msno</th>\n",
              "      <th>city</th>\n",
              "      <th>bd</th>\n",
              "      <th>gender</th>\n",
              "      <th>registered_via</th>\n",
              "      <th>registration_init_time</th>\n",
              "      <th>expiration_date</th>\n",
              "    </tr>\n",
              "  </thead>\n",
              "  <tbody>\n",
              "    <tr>\n",
              "      <th>0</th>\n",
              "      <td>XQxgAYj3klVKjR3oxPPXYYFp4soD4TuBghkhMTD4oTw=</td>\n",
              "      <td>1</td>\n",
              "      <td>0</td>\n",
              "      <td>NaN</td>\n",
              "      <td>7</td>\n",
              "      <td>20110820</td>\n",
              "      <td>20170920</td>\n",
              "    </tr>\n",
              "    <tr>\n",
              "      <th>1</th>\n",
              "      <td>UizsfmJb9mV54qE9hCYyU07Va97c0lCRLEQX3ae+ztM=</td>\n",
              "      <td>1</td>\n",
              "      <td>0</td>\n",
              "      <td>NaN</td>\n",
              "      <td>7</td>\n",
              "      <td>20150628</td>\n",
              "      <td>20170622</td>\n",
              "    </tr>\n",
              "    <tr>\n",
              "      <th>2</th>\n",
              "      <td>D8nEhsIOBSoE6VthTaqDX8U6lqjJ7dLdr72mOyLya2A=</td>\n",
              "      <td>1</td>\n",
              "      <td>0</td>\n",
              "      <td>NaN</td>\n",
              "      <td>4</td>\n",
              "      <td>20160411</td>\n",
              "      <td>20170712</td>\n",
              "    </tr>\n",
              "    <tr>\n",
              "      <th>3</th>\n",
              "      <td>mCuD+tZ1hERA/o5GPqk38e041J8ZsBaLcu7nGoIIvhI=</td>\n",
              "      <td>1</td>\n",
              "      <td>0</td>\n",
              "      <td>NaN</td>\n",
              "      <td>9</td>\n",
              "      <td>20150906</td>\n",
              "      <td>20150907</td>\n",
              "    </tr>\n",
              "    <tr>\n",
              "      <th>4</th>\n",
              "      <td>q4HRBfVSssAFS9iRfxWrohxuk9kCYMKjHOEagUMV6rQ=</td>\n",
              "      <td>1</td>\n",
              "      <td>0</td>\n",
              "      <td>NaN</td>\n",
              "      <td>4</td>\n",
              "      <td>20170126</td>\n",
              "      <td>20170613</td>\n",
              "    </tr>\n",
              "    <tr>\n",
              "      <th>...</th>\n",
              "      <td>...</td>\n",
              "      <td>...</td>\n",
              "      <td>...</td>\n",
              "      <td>...</td>\n",
              "      <td>...</td>\n",
              "      <td>...</td>\n",
              "      <td>...</td>\n",
              "    </tr>\n",
              "    <tr>\n",
              "      <th>95</th>\n",
              "      <td>8sEEszoN7JW047C9Qt5XN29r7UJwsb5J6RWTz8gLlqE=</td>\n",
              "      <td>1</td>\n",
              "      <td>0</td>\n",
              "      <td>NaN</td>\n",
              "      <td>7</td>\n",
              "      <td>20130604</td>\n",
              "      <td>20171004</td>\n",
              "    </tr>\n",
              "    <tr>\n",
              "      <th>96</th>\n",
              "      <td>5aK/dB0N/7AuXaOmBdXsawoIgJ3I6332BH5tBvChWt4=</td>\n",
              "      <td>11</td>\n",
              "      <td>34</td>\n",
              "      <td>female</td>\n",
              "      <td>9</td>\n",
              "      <td>20120627</td>\n",
              "      <td>20171022</td>\n",
              "    </tr>\n",
              "    <tr>\n",
              "      <th>97</th>\n",
              "      <td>1yd9fOVZVhdmRiBQSGNNIkt1auPjBJ1nSHWhVHLR9Fg=</td>\n",
              "      <td>13</td>\n",
              "      <td>0</td>\n",
              "      <td>NaN</td>\n",
              "      <td>4</td>\n",
              "      <td>20151107</td>\n",
              "      <td>20170930</td>\n",
              "    </tr>\n",
              "    <tr>\n",
              "      <th>98</th>\n",
              "      <td>hZ4kF/3r+IOCcO+h0oPXypRkx17TF0LI0tq1qATx4/4=</td>\n",
              "      <td>4</td>\n",
              "      <td>32</td>\n",
              "      <td>male</td>\n",
              "      <td>3</td>\n",
              "      <td>20120606</td>\n",
              "      <td>20120613</td>\n",
              "    </tr>\n",
              "    <tr>\n",
              "      <th>99</th>\n",
              "      <td>H1iLsaODONTbpeZL5ZV/sco341Xf/oCQ1P71tiLO6mQ=</td>\n",
              "      <td>1</td>\n",
              "      <td>0</td>\n",
              "      <td>NaN</td>\n",
              "      <td>7</td>\n",
              "      <td>20120705</td>\n",
              "      <td>20171003</td>\n",
              "    </tr>\n",
              "  </tbody>\n",
              "</table>\n",
              "<p>100 rows × 7 columns</p>\n",
              "</div>\n",
              "      <button class=\"colab-df-convert\" onclick=\"convertToInteractive('df-d0f26c41-9796-483e-985a-702aa79917ea')\"\n",
              "              title=\"Convert this dataframe to an interactive table.\"\n",
              "              style=\"display:none;\">\n",
              "        \n",
              "  <svg xmlns=\"http://www.w3.org/2000/svg\" height=\"24px\"viewBox=\"0 0 24 24\"\n",
              "       width=\"24px\">\n",
              "    <path d=\"M0 0h24v24H0V0z\" fill=\"none\"/>\n",
              "    <path d=\"M18.56 5.44l.94 2.06.94-2.06 2.06-.94-2.06-.94-.94-2.06-.94 2.06-2.06.94zm-11 1L8.5 8.5l.94-2.06 2.06-.94-2.06-.94L8.5 2.5l-.94 2.06-2.06.94zm10 10l.94 2.06.94-2.06 2.06-.94-2.06-.94-.94-2.06-.94 2.06-2.06.94z\"/><path d=\"M17.41 7.96l-1.37-1.37c-.4-.4-.92-.59-1.43-.59-.52 0-1.04.2-1.43.59L10.3 9.45l-7.72 7.72c-.78.78-.78 2.05 0 2.83L4 21.41c.39.39.9.59 1.41.59.51 0 1.02-.2 1.41-.59l7.78-7.78 2.81-2.81c.8-.78.8-2.07 0-2.86zM5.41 20L4 18.59l7.72-7.72 1.47 1.35L5.41 20z\"/>\n",
              "  </svg>\n",
              "      </button>\n",
              "      \n",
              "  <style>\n",
              "    .colab-df-container {\n",
              "      display:flex;\n",
              "      flex-wrap:wrap;\n",
              "      gap: 12px;\n",
              "    }\n",
              "\n",
              "    .colab-df-convert {\n",
              "      background-color: #E8F0FE;\n",
              "      border: none;\n",
              "      border-radius: 50%;\n",
              "      cursor: pointer;\n",
              "      display: none;\n",
              "      fill: #1967D2;\n",
              "      height: 32px;\n",
              "      padding: 0 0 0 0;\n",
              "      width: 32px;\n",
              "    }\n",
              "\n",
              "    .colab-df-convert:hover {\n",
              "      background-color: #E2EBFA;\n",
              "      box-shadow: 0px 1px 2px rgba(60, 64, 67, 0.3), 0px 1px 3px 1px rgba(60, 64, 67, 0.15);\n",
              "      fill: #174EA6;\n",
              "    }\n",
              "\n",
              "    [theme=dark] .colab-df-convert {\n",
              "      background-color: #3B4455;\n",
              "      fill: #D2E3FC;\n",
              "    }\n",
              "\n",
              "    [theme=dark] .colab-df-convert:hover {\n",
              "      background-color: #434B5C;\n",
              "      box-shadow: 0px 1px 3px 1px rgba(0, 0, 0, 0.15);\n",
              "      filter: drop-shadow(0px 1px 2px rgba(0, 0, 0, 0.3));\n",
              "      fill: #FFFFFF;\n",
              "    }\n",
              "  </style>\n",
              "\n",
              "      <script>\n",
              "        const buttonEl =\n",
              "          document.querySelector('#df-d0f26c41-9796-483e-985a-702aa79917ea button.colab-df-convert');\n",
              "        buttonEl.style.display =\n",
              "          google.colab.kernel.accessAllowed ? 'block' : 'none';\n",
              "\n",
              "        async function convertToInteractive(key) {\n",
              "          const element = document.querySelector('#df-d0f26c41-9796-483e-985a-702aa79917ea');\n",
              "          const dataTable =\n",
              "            await google.colab.kernel.invokeFunction('convertToInteractive',\n",
              "                                                     [key], {});\n",
              "          if (!dataTable) return;\n",
              "\n",
              "          const docLinkHtml = 'Like what you see? Visit the ' +\n",
              "            '<a target=\"_blank\" href=https://colab.research.google.com/notebooks/data_table.ipynb>data table notebook</a>'\n",
              "            + ' to learn more about interactive tables.';\n",
              "          element.innerHTML = '';\n",
              "          dataTable['output_type'] = 'display_data';\n",
              "          await google.colab.output.renderOutput(dataTable, element);\n",
              "          const docLink = document.createElement('div');\n",
              "          docLink.innerHTML = docLinkHtml;\n",
              "          element.appendChild(docLink);\n",
              "        }\n",
              "      </script>\n",
              "    </div>\n",
              "  </div>\n",
              "  "
            ],
            "text/plain": [
              "                                            msno  city  bd  gender  \\\n",
              "0   XQxgAYj3klVKjR3oxPPXYYFp4soD4TuBghkhMTD4oTw=     1   0     NaN   \n",
              "1   UizsfmJb9mV54qE9hCYyU07Va97c0lCRLEQX3ae+ztM=     1   0     NaN   \n",
              "2   D8nEhsIOBSoE6VthTaqDX8U6lqjJ7dLdr72mOyLya2A=     1   0     NaN   \n",
              "3   mCuD+tZ1hERA/o5GPqk38e041J8ZsBaLcu7nGoIIvhI=     1   0     NaN   \n",
              "4   q4HRBfVSssAFS9iRfxWrohxuk9kCYMKjHOEagUMV6rQ=     1   0     NaN   \n",
              "..                                           ...   ...  ..     ...   \n",
              "95  8sEEszoN7JW047C9Qt5XN29r7UJwsb5J6RWTz8gLlqE=     1   0     NaN   \n",
              "96  5aK/dB0N/7AuXaOmBdXsawoIgJ3I6332BH5tBvChWt4=    11  34  female   \n",
              "97  1yd9fOVZVhdmRiBQSGNNIkt1auPjBJ1nSHWhVHLR9Fg=    13   0     NaN   \n",
              "98  hZ4kF/3r+IOCcO+h0oPXypRkx17TF0LI0tq1qATx4/4=     4  32    male   \n",
              "99  H1iLsaODONTbpeZL5ZV/sco341Xf/oCQ1P71tiLO6mQ=     1   0     NaN   \n",
              "\n",
              "    registered_via  registration_init_time  expiration_date  \n",
              "0                7                20110820         20170920  \n",
              "1                7                20150628         20170622  \n",
              "2                4                20160411         20170712  \n",
              "3                9                20150906         20150907  \n",
              "4                4                20170126         20170613  \n",
              "..             ...                     ...              ...  \n",
              "95               7                20130604         20171004  \n",
              "96               9                20120627         20171022  \n",
              "97               4                20151107         20170930  \n",
              "98               3                20120606         20120613  \n",
              "99               7                20120705         20171003  \n",
              "\n",
              "[100 rows x 7 columns]"
            ]
          },
          "execution_count": 11,
          "metadata": {},
          "output_type": "execute_result"
        }
      ],
      "source": [
        "members.head(100)"
      ]
    },
    {
      "cell_type": "markdown",
      "metadata": {
        "id": "TTUoNJ3Yu9tr"
      },
      "source": [
        "members dataframe - Member serial no, "
      ]
    },
    {
      "cell_type": "code",
      "execution_count": null,
      "metadata": {
        "colab": {
          "base_uri": "https://localhost:8080/",
          "height": 424
        },
        "id": "hGfDBLsAvZUM",
        "outputId": "35d4cc9c-c3e9-4654-84ae-a9336dc30a29"
      },
      "outputs": [
        {
          "data": {
            "text/html": [
              "\n",
              "  <div id=\"df-8d8512c0-6baa-47c5-811e-2a9354e23a67\">\n",
              "    <div class=\"colab-df-container\">\n",
              "      <div>\n",
              "<style scoped>\n",
              "    .dataframe tbody tr th:only-of-type {\n",
              "        vertical-align: middle;\n",
              "    }\n",
              "\n",
              "    .dataframe tbody tr th {\n",
              "        vertical-align: top;\n",
              "    }\n",
              "\n",
              "    .dataframe thead th {\n",
              "        text-align: right;\n",
              "    }\n",
              "</style>\n",
              "<table border=\"1\" class=\"dataframe\">\n",
              "  <thead>\n",
              "    <tr style=\"text-align: right;\">\n",
              "      <th></th>\n",
              "      <th>song_id</th>\n",
              "      <th>name</th>\n",
              "      <th>isrc</th>\n",
              "    </tr>\n",
              "  </thead>\n",
              "  <tbody>\n",
              "    <tr>\n",
              "      <th>0</th>\n",
              "      <td>LP7pLJoJFBvyuUwvu+oLzjT+bI+UeBPURCecJsX1jjs=</td>\n",
              "      <td>我們</td>\n",
              "      <td>TWUM71200043</td>\n",
              "    </tr>\n",
              "    <tr>\n",
              "      <th>1</th>\n",
              "      <td>ClazTFnk6r0Bnuie44bocdNMM3rdlrq0bCGAsGUWcHE=</td>\n",
              "      <td>Let Me Love You</td>\n",
              "      <td>QMZSY1600015</td>\n",
              "    </tr>\n",
              "    <tr>\n",
              "      <th>2</th>\n",
              "      <td>u2ja/bZE3zhCGxvbbOB3zOoUjx27u40cf5g09UXMoKQ=</td>\n",
              "      <td>原諒我</td>\n",
              "      <td>TWA530887303</td>\n",
              "    </tr>\n",
              "    <tr>\n",
              "      <th>3</th>\n",
              "      <td>92Fqsy0+p6+RHe2EoLKjHahORHR1Kq1TBJoClW9v+Ts=</td>\n",
              "      <td>Classic</td>\n",
              "      <td>USSM11301446</td>\n",
              "    </tr>\n",
              "    <tr>\n",
              "      <th>4</th>\n",
              "      <td>0QFmz/+rJy1Q56C1DuYqT9hKKqi5TUqx0sN0IwvoHrw=</td>\n",
              "      <td>愛投羅網</td>\n",
              "      <td>TWA471306001</td>\n",
              "    </tr>\n",
              "    <tr>\n",
              "      <th>...</th>\n",
              "      <td>...</td>\n",
              "      <td>...</td>\n",
              "      <td>...</td>\n",
              "    </tr>\n",
              "    <tr>\n",
              "      <th>95</th>\n",
              "      <td>BzLojXj3nde+kOyOFx0Q0zDxyxbitlsdfhhg2Q7xDjU=</td>\n",
              "      <td>What Time Is It</td>\n",
              "      <td>USWD10731999</td>\n",
              "    </tr>\n",
              "    <tr>\n",
              "      <th>96</th>\n",
              "      <td>5T18vNgsFtCKs03RiXei/IdH+aJudCEp1WanSK1eDjY=</td>\n",
              "      <td>最懂得愛你</td>\n",
              "      <td>TWB519805906</td>\n",
              "    </tr>\n",
              "    <tr>\n",
              "      <th>97</th>\n",
              "      <td>jgkHcQGMojHLaYUWGxXhw/NaPsxD05Z3X3OVea1HwxI=</td>\n",
              "      <td>愛的鼓勵 (Woo)</td>\n",
              "      <td>TWA531480009</td>\n",
              "    </tr>\n",
              "    <tr>\n",
              "      <th>98</th>\n",
              "      <td>wClbvD0nyZ///xIZwcpgnZVq5R6AXZJPnAJ1bUo6obU=</td>\n",
              "      <td>你和我 (You and Me)</td>\n",
              "      <td>JPU901603290</td>\n",
              "    </tr>\n",
              "    <tr>\n",
              "      <th>99</th>\n",
              "      <td>r3e6EZvbBrEJRjNkuaayAORJLu1OFGgB9IJPWs3TJCw=</td>\n",
              "      <td>民謠‧Ej Lucka Lucka</td>\n",
              "      <td>NaN</td>\n",
              "    </tr>\n",
              "  </tbody>\n",
              "</table>\n",
              "<p>100 rows × 3 columns</p>\n",
              "</div>\n",
              "      <button class=\"colab-df-convert\" onclick=\"convertToInteractive('df-8d8512c0-6baa-47c5-811e-2a9354e23a67')\"\n",
              "              title=\"Convert this dataframe to an interactive table.\"\n",
              "              style=\"display:none;\">\n",
              "        \n",
              "  <svg xmlns=\"http://www.w3.org/2000/svg\" height=\"24px\"viewBox=\"0 0 24 24\"\n",
              "       width=\"24px\">\n",
              "    <path d=\"M0 0h24v24H0V0z\" fill=\"none\"/>\n",
              "    <path d=\"M18.56 5.44l.94 2.06.94-2.06 2.06-.94-2.06-.94-.94-2.06-.94 2.06-2.06.94zm-11 1L8.5 8.5l.94-2.06 2.06-.94-2.06-.94L8.5 2.5l-.94 2.06-2.06.94zm10 10l.94 2.06.94-2.06 2.06-.94-2.06-.94-.94-2.06-.94 2.06-2.06.94z\"/><path d=\"M17.41 7.96l-1.37-1.37c-.4-.4-.92-.59-1.43-.59-.52 0-1.04.2-1.43.59L10.3 9.45l-7.72 7.72c-.78.78-.78 2.05 0 2.83L4 21.41c.39.39.9.59 1.41.59.51 0 1.02-.2 1.41-.59l7.78-7.78 2.81-2.81c.8-.78.8-2.07 0-2.86zM5.41 20L4 18.59l7.72-7.72 1.47 1.35L5.41 20z\"/>\n",
              "  </svg>\n",
              "      </button>\n",
              "      \n",
              "  <style>\n",
              "    .colab-df-container {\n",
              "      display:flex;\n",
              "      flex-wrap:wrap;\n",
              "      gap: 12px;\n",
              "    }\n",
              "\n",
              "    .colab-df-convert {\n",
              "      background-color: #E8F0FE;\n",
              "      border: none;\n",
              "      border-radius: 50%;\n",
              "      cursor: pointer;\n",
              "      display: none;\n",
              "      fill: #1967D2;\n",
              "      height: 32px;\n",
              "      padding: 0 0 0 0;\n",
              "      width: 32px;\n",
              "    }\n",
              "\n",
              "    .colab-df-convert:hover {\n",
              "      background-color: #E2EBFA;\n",
              "      box-shadow: 0px 1px 2px rgba(60, 64, 67, 0.3), 0px 1px 3px 1px rgba(60, 64, 67, 0.15);\n",
              "      fill: #174EA6;\n",
              "    }\n",
              "\n",
              "    [theme=dark] .colab-df-convert {\n",
              "      background-color: #3B4455;\n",
              "      fill: #D2E3FC;\n",
              "    }\n",
              "\n",
              "    [theme=dark] .colab-df-convert:hover {\n",
              "      background-color: #434B5C;\n",
              "      box-shadow: 0px 1px 3px 1px rgba(0, 0, 0, 0.15);\n",
              "      filter: drop-shadow(0px 1px 2px rgba(0, 0, 0, 0.3));\n",
              "      fill: #FFFFFF;\n",
              "    }\n",
              "  </style>\n",
              "\n",
              "      <script>\n",
              "        const buttonEl =\n",
              "          document.querySelector('#df-8d8512c0-6baa-47c5-811e-2a9354e23a67 button.colab-df-convert');\n",
              "        buttonEl.style.display =\n",
              "          google.colab.kernel.accessAllowed ? 'block' : 'none';\n",
              "\n",
              "        async function convertToInteractive(key) {\n",
              "          const element = document.querySelector('#df-8d8512c0-6baa-47c5-811e-2a9354e23a67');\n",
              "          const dataTable =\n",
              "            await google.colab.kernel.invokeFunction('convertToInteractive',\n",
              "                                                     [key], {});\n",
              "          if (!dataTable) return;\n",
              "\n",
              "          const docLinkHtml = 'Like what you see? Visit the ' +\n",
              "            '<a target=\"_blank\" href=https://colab.research.google.com/notebooks/data_table.ipynb>data table notebook</a>'\n",
              "            + ' to learn more about interactive tables.';\n",
              "          element.innerHTML = '';\n",
              "          dataTable['output_type'] = 'display_data';\n",
              "          await google.colab.output.renderOutput(dataTable, element);\n",
              "          const docLink = document.createElement('div');\n",
              "          docLink.innerHTML = docLinkHtml;\n",
              "          element.appendChild(docLink);\n",
              "        }\n",
              "      </script>\n",
              "    </div>\n",
              "  </div>\n",
              "  "
            ],
            "text/plain": [
              "                                         song_id               name  \\\n",
              "0   LP7pLJoJFBvyuUwvu+oLzjT+bI+UeBPURCecJsX1jjs=                 我們   \n",
              "1   ClazTFnk6r0Bnuie44bocdNMM3rdlrq0bCGAsGUWcHE=    Let Me Love You   \n",
              "2   u2ja/bZE3zhCGxvbbOB3zOoUjx27u40cf5g09UXMoKQ=                原諒我   \n",
              "3   92Fqsy0+p6+RHe2EoLKjHahORHR1Kq1TBJoClW9v+Ts=            Classic   \n",
              "4   0QFmz/+rJy1Q56C1DuYqT9hKKqi5TUqx0sN0IwvoHrw=               愛投羅網   \n",
              "..                                           ...                ...   \n",
              "95  BzLojXj3nde+kOyOFx0Q0zDxyxbitlsdfhhg2Q7xDjU=    What Time Is It   \n",
              "96  5T18vNgsFtCKs03RiXei/IdH+aJudCEp1WanSK1eDjY=              最懂得愛你   \n",
              "97  jgkHcQGMojHLaYUWGxXhw/NaPsxD05Z3X3OVea1HwxI=         愛的鼓勵 (Woo)   \n",
              "98  wClbvD0nyZ///xIZwcpgnZVq5R6AXZJPnAJ1bUo6obU=   你和我 (You and Me)   \n",
              "99  r3e6EZvbBrEJRjNkuaayAORJLu1OFGgB9IJPWs3TJCw=  民謠‧Ej Lucka Lucka   \n",
              "\n",
              "            isrc  \n",
              "0   TWUM71200043  \n",
              "1   QMZSY1600015  \n",
              "2   TWA530887303  \n",
              "3   USSM11301446  \n",
              "4   TWA471306001  \n",
              "..           ...  \n",
              "95  USWD10731999  \n",
              "96  TWB519805906  \n",
              "97  TWA531480009  \n",
              "98  JPU901603290  \n",
              "99           NaN  \n",
              "\n",
              "[100 rows x 3 columns]"
            ]
          },
          "execution_count": 12,
          "metadata": {},
          "output_type": "execute_result"
        }
      ],
      "source": [
        "songextrainfo.head(100)"
      ]
    },
    {
      "cell_type": "markdown",
      "metadata": {
        "id": "01YfeK-xvfDw"
      },
      "source": [
        "Song_extra_info - Contains unique song_id, name of the song, isrc uniquely determines the song."
      ]
    },
    {
      "cell_type": "code",
      "execution_count": null,
      "metadata": {
        "colab": {
          "base_uri": "https://localhost:8080/",
          "height": 537
        },
        "id": "MZLYJ9Buvc3g",
        "outputId": "ab75ff8c-bdc5-4ad2-e216-38d7c3597a43"
      },
      "outputs": [
        {
          "data": {
            "text/html": [
              "\n",
              "  <div id=\"df-7d623c71-6957-4425-ae97-5af8d661a149\">\n",
              "    <div class=\"colab-df-container\">\n",
              "      <div>\n",
              "<style scoped>\n",
              "    .dataframe tbody tr th:only-of-type {\n",
              "        vertical-align: middle;\n",
              "    }\n",
              "\n",
              "    .dataframe tbody tr th {\n",
              "        vertical-align: top;\n",
              "    }\n",
              "\n",
              "    .dataframe thead th {\n",
              "        text-align: right;\n",
              "    }\n",
              "</style>\n",
              "<table border=\"1\" class=\"dataframe\">\n",
              "  <thead>\n",
              "    <tr style=\"text-align: right;\">\n",
              "      <th></th>\n",
              "      <th>song_id</th>\n",
              "      <th>song_length</th>\n",
              "      <th>genre_ids</th>\n",
              "      <th>artist_name</th>\n",
              "      <th>composer</th>\n",
              "      <th>lyricist</th>\n",
              "      <th>language</th>\n",
              "    </tr>\n",
              "  </thead>\n",
              "  <tbody>\n",
              "    <tr>\n",
              "      <th>0</th>\n",
              "      <td>CXoTN1eb7AI+DntdU1vbcwGRV4SCIDxZu+YD8JP8r4E=</td>\n",
              "      <td>247640</td>\n",
              "      <td>465</td>\n",
              "      <td>張信哲 (Jeff Chang)</td>\n",
              "      <td>董貞</td>\n",
              "      <td>何啟弘</td>\n",
              "      <td>3.0</td>\n",
              "    </tr>\n",
              "    <tr>\n",
              "      <th>1</th>\n",
              "      <td>o0kFgae9QtnYgRkVPqLJwa05zIhRlUjfF7O1tDw0ZDU=</td>\n",
              "      <td>197328</td>\n",
              "      <td>444</td>\n",
              "      <td>BLACKPINK</td>\n",
              "      <td>TEDDY|  FUTURE BOUNCE|  Bekuh BOOM</td>\n",
              "      <td>TEDDY</td>\n",
              "      <td>31.0</td>\n",
              "    </tr>\n",
              "    <tr>\n",
              "      <th>2</th>\n",
              "      <td>DwVvVurfpuz+XPuFvucclVQEyPqcpUkHR0ne1RQzPs0=</td>\n",
              "      <td>231781</td>\n",
              "      <td>465</td>\n",
              "      <td>SUPER JUNIOR</td>\n",
              "      <td>NaN</td>\n",
              "      <td>NaN</td>\n",
              "      <td>31.0</td>\n",
              "    </tr>\n",
              "    <tr>\n",
              "      <th>3</th>\n",
              "      <td>dKMBWoZyScdxSkihKG+Vf47nc18N9q4m58+b4e7dSSE=</td>\n",
              "      <td>273554</td>\n",
              "      <td>465</td>\n",
              "      <td>S.H.E</td>\n",
              "      <td>湯小康</td>\n",
              "      <td>徐世珍</td>\n",
              "      <td>3.0</td>\n",
              "    </tr>\n",
              "    <tr>\n",
              "      <th>4</th>\n",
              "      <td>W3bqWd3T+VeHFzHAUfARgW9AvVRaF4N5Yzm4Mr6Eo/o=</td>\n",
              "      <td>140329</td>\n",
              "      <td>726</td>\n",
              "      <td>貴族精選</td>\n",
              "      <td>Traditional</td>\n",
              "      <td>Traditional</td>\n",
              "      <td>52.0</td>\n",
              "    </tr>\n",
              "    <tr>\n",
              "      <th>...</th>\n",
              "      <td>...</td>\n",
              "      <td>...</td>\n",
              "      <td>...</td>\n",
              "      <td>...</td>\n",
              "      <td>...</td>\n",
              "      <td>...</td>\n",
              "      <td>...</td>\n",
              "    </tr>\n",
              "    <tr>\n",
              "      <th>95</th>\n",
              "      <td>/XuPT2n3/VjGZuKKCxEwj97F6DRWiyBmFQpoZN8I5/M=</td>\n",
              "      <td>219324</td>\n",
              "      <td>1609|2107</td>\n",
              "      <td>Kyary Pamyu Pamyu (きゃりーぱみゅぱみゅ)</td>\n",
              "      <td>Yasutaka Nakata</td>\n",
              "      <td>Yasutaka Nakata</td>\n",
              "      <td>17.0</td>\n",
              "    </tr>\n",
              "    <tr>\n",
              "      <th>96</th>\n",
              "      <td>XCLTSwcKdd4emAdtdyYPKU8XPCJwh0GH2JwQhI4Bf0U=</td>\n",
              "      <td>186906</td>\n",
              "      <td>2022</td>\n",
              "      <td>Skillet</td>\n",
              "      <td>John L. Cooper| Korey Cooper</td>\n",
              "      <td>NaN</td>\n",
              "      <td>52.0</td>\n",
              "    </tr>\n",
              "    <tr>\n",
              "      <th>97</th>\n",
              "      <td>Z0J/qtjv7A5dtkS+xgQ173lvH/s47INk3vbzdC0Y99Y=</td>\n",
              "      <td>235937</td>\n",
              "      <td>465</td>\n",
              "      <td>梁靜茹 (Fish Leong)</td>\n",
              "      <td>NaN</td>\n",
              "      <td>NaN</td>\n",
              "      <td>3.0</td>\n",
              "    </tr>\n",
              "    <tr>\n",
              "      <th>98</th>\n",
              "      <td>O80yuLYpg2y/512HcLB+gzaH/waW4mC50B1q3mg2qio=</td>\n",
              "      <td>166321</td>\n",
              "      <td>921</td>\n",
              "      <td>Alan Silvestri</td>\n",
              "      <td>Alan Silvestri</td>\n",
              "      <td>NaN</td>\n",
              "      <td>52.0</td>\n",
              "    </tr>\n",
              "    <tr>\n",
              "      <th>99</th>\n",
              "      <td>+uLozC5Uy/kiXdW76c/Jcyj/edSaCqmohhVUhaSD8p0=</td>\n",
              "      <td>169377</td>\n",
              "      <td>921</td>\n",
              "      <td>Various Artists</td>\n",
              "      <td>NaN</td>\n",
              "      <td>NaN</td>\n",
              "      <td>52.0</td>\n",
              "    </tr>\n",
              "  </tbody>\n",
              "</table>\n",
              "<p>100 rows × 7 columns</p>\n",
              "</div>\n",
              "      <button class=\"colab-df-convert\" onclick=\"convertToInteractive('df-7d623c71-6957-4425-ae97-5af8d661a149')\"\n",
              "              title=\"Convert this dataframe to an interactive table.\"\n",
              "              style=\"display:none;\">\n",
              "        \n",
              "  <svg xmlns=\"http://www.w3.org/2000/svg\" height=\"24px\"viewBox=\"0 0 24 24\"\n",
              "       width=\"24px\">\n",
              "    <path d=\"M0 0h24v24H0V0z\" fill=\"none\"/>\n",
              "    <path d=\"M18.56 5.44l.94 2.06.94-2.06 2.06-.94-2.06-.94-.94-2.06-.94 2.06-2.06.94zm-11 1L8.5 8.5l.94-2.06 2.06-.94-2.06-.94L8.5 2.5l-.94 2.06-2.06.94zm10 10l.94 2.06.94-2.06 2.06-.94-2.06-.94-.94-2.06-.94 2.06-2.06.94z\"/><path d=\"M17.41 7.96l-1.37-1.37c-.4-.4-.92-.59-1.43-.59-.52 0-1.04.2-1.43.59L10.3 9.45l-7.72 7.72c-.78.78-.78 2.05 0 2.83L4 21.41c.39.39.9.59 1.41.59.51 0 1.02-.2 1.41-.59l7.78-7.78 2.81-2.81c.8-.78.8-2.07 0-2.86zM5.41 20L4 18.59l7.72-7.72 1.47 1.35L5.41 20z\"/>\n",
              "  </svg>\n",
              "      </button>\n",
              "      \n",
              "  <style>\n",
              "    .colab-df-container {\n",
              "      display:flex;\n",
              "      flex-wrap:wrap;\n",
              "      gap: 12px;\n",
              "    }\n",
              "\n",
              "    .colab-df-convert {\n",
              "      background-color: #E8F0FE;\n",
              "      border: none;\n",
              "      border-radius: 50%;\n",
              "      cursor: pointer;\n",
              "      display: none;\n",
              "      fill: #1967D2;\n",
              "      height: 32px;\n",
              "      padding: 0 0 0 0;\n",
              "      width: 32px;\n",
              "    }\n",
              "\n",
              "    .colab-df-convert:hover {\n",
              "      background-color: #E2EBFA;\n",
              "      box-shadow: 0px 1px 2px rgba(60, 64, 67, 0.3), 0px 1px 3px 1px rgba(60, 64, 67, 0.15);\n",
              "      fill: #174EA6;\n",
              "    }\n",
              "\n",
              "    [theme=dark] .colab-df-convert {\n",
              "      background-color: #3B4455;\n",
              "      fill: #D2E3FC;\n",
              "    }\n",
              "\n",
              "    [theme=dark] .colab-df-convert:hover {\n",
              "      background-color: #434B5C;\n",
              "      box-shadow: 0px 1px 3px 1px rgba(0, 0, 0, 0.15);\n",
              "      filter: drop-shadow(0px 1px 2px rgba(0, 0, 0, 0.3));\n",
              "      fill: #FFFFFF;\n",
              "    }\n",
              "  </style>\n",
              "\n",
              "      <script>\n",
              "        const buttonEl =\n",
              "          document.querySelector('#df-7d623c71-6957-4425-ae97-5af8d661a149 button.colab-df-convert');\n",
              "        buttonEl.style.display =\n",
              "          google.colab.kernel.accessAllowed ? 'block' : 'none';\n",
              "\n",
              "        async function convertToInteractive(key) {\n",
              "          const element = document.querySelector('#df-7d623c71-6957-4425-ae97-5af8d661a149');\n",
              "          const dataTable =\n",
              "            await google.colab.kernel.invokeFunction('convertToInteractive',\n",
              "                                                     [key], {});\n",
              "          if (!dataTable) return;\n",
              "\n",
              "          const docLinkHtml = 'Like what you see? Visit the ' +\n",
              "            '<a target=\"_blank\" href=https://colab.research.google.com/notebooks/data_table.ipynb>data table notebook</a>'\n",
              "            + ' to learn more about interactive tables.';\n",
              "          element.innerHTML = '';\n",
              "          dataTable['output_type'] = 'display_data';\n",
              "          await google.colab.output.renderOutput(dataTable, element);\n",
              "          const docLink = document.createElement('div');\n",
              "          docLink.innerHTML = docLinkHtml;\n",
              "          element.appendChild(docLink);\n",
              "        }\n",
              "      </script>\n",
              "    </div>\n",
              "  </div>\n",
              "  "
            ],
            "text/plain": [
              "                                         song_id  song_length  genre_ids  \\\n",
              "0   CXoTN1eb7AI+DntdU1vbcwGRV4SCIDxZu+YD8JP8r4E=       247640        465   \n",
              "1   o0kFgae9QtnYgRkVPqLJwa05zIhRlUjfF7O1tDw0ZDU=       197328        444   \n",
              "2   DwVvVurfpuz+XPuFvucclVQEyPqcpUkHR0ne1RQzPs0=       231781        465   \n",
              "3   dKMBWoZyScdxSkihKG+Vf47nc18N9q4m58+b4e7dSSE=       273554        465   \n",
              "4   W3bqWd3T+VeHFzHAUfARgW9AvVRaF4N5Yzm4Mr6Eo/o=       140329        726   \n",
              "..                                           ...          ...        ...   \n",
              "95  /XuPT2n3/VjGZuKKCxEwj97F6DRWiyBmFQpoZN8I5/M=       219324  1609|2107   \n",
              "96  XCLTSwcKdd4emAdtdyYPKU8XPCJwh0GH2JwQhI4Bf0U=       186906       2022   \n",
              "97  Z0J/qtjv7A5dtkS+xgQ173lvH/s47INk3vbzdC0Y99Y=       235937        465   \n",
              "98  O80yuLYpg2y/512HcLB+gzaH/waW4mC50B1q3mg2qio=       166321        921   \n",
              "99  +uLozC5Uy/kiXdW76c/Jcyj/edSaCqmohhVUhaSD8p0=       169377        921   \n",
              "\n",
              "                       artist_name                            composer  \\\n",
              "0                 張信哲 (Jeff Chang)                                  董貞   \n",
              "1                        BLACKPINK  TEDDY|  FUTURE BOUNCE|  Bekuh BOOM   \n",
              "2                     SUPER JUNIOR                                 NaN   \n",
              "3                            S.H.E                                 湯小康   \n",
              "4                             貴族精選                         Traditional   \n",
              "..                             ...                                 ...   \n",
              "95  Kyary Pamyu Pamyu (きゃりーぱみゅぱみゅ)                     Yasutaka Nakata   \n",
              "96                         Skillet        John L. Cooper| Korey Cooper   \n",
              "97                梁靜茹 (Fish Leong)                                 NaN   \n",
              "98                  Alan Silvestri                      Alan Silvestri   \n",
              "99                 Various Artists                                 NaN   \n",
              "\n",
              "           lyricist  language  \n",
              "0               何啟弘       3.0  \n",
              "1             TEDDY      31.0  \n",
              "2               NaN      31.0  \n",
              "3               徐世珍       3.0  \n",
              "4       Traditional      52.0  \n",
              "..              ...       ...  \n",
              "95  Yasutaka Nakata      17.0  \n",
              "96              NaN      52.0  \n",
              "97              NaN       3.0  \n",
              "98              NaN      52.0  \n",
              "99              NaN      52.0  \n",
              "\n",
              "[100 rows x 7 columns]"
            ]
          },
          "execution_count": 13,
          "metadata": {},
          "output_type": "execute_result"
        }
      ],
      "source": [
        "song.head(100)"
      ]
    },
    {
      "cell_type": "code",
      "execution_count": null,
      "metadata": {
        "colab": {
          "base_uri": "https://localhost:8080/",
          "height": 522
        },
        "id": "KbtVLBI7v04N",
        "outputId": "470ad8aa-2390-4aa8-9569-71a3f96c872e"
      },
      "outputs": [
        {
          "data": {
            "text/html": [
              "\n",
              "  <div id=\"df-66521185-273e-4e48-8b93-f90a4d3d6858\">\n",
              "    <div class=\"colab-df-container\">\n",
              "      <div>\n",
              "<style scoped>\n",
              "    .dataframe tbody tr th:only-of-type {\n",
              "        vertical-align: middle;\n",
              "    }\n",
              "\n",
              "    .dataframe tbody tr th {\n",
              "        vertical-align: top;\n",
              "    }\n",
              "\n",
              "    .dataframe thead th {\n",
              "        text-align: right;\n",
              "    }\n",
              "</style>\n",
              "<table border=\"1\" class=\"dataframe\">\n",
              "  <thead>\n",
              "    <tr style=\"text-align: right;\">\n",
              "      <th></th>\n",
              "      <th>msno</th>\n",
              "      <th>song_id</th>\n",
              "      <th>source_system_tab</th>\n",
              "      <th>source_screen_name</th>\n",
              "      <th>source_type</th>\n",
              "      <th>target</th>\n",
              "    </tr>\n",
              "  </thead>\n",
              "  <tbody>\n",
              "    <tr>\n",
              "      <th>0</th>\n",
              "      <td>FGtllVqz18RPiwJj/edr2gV78zirAiY/9SmYvia+kCg=</td>\n",
              "      <td>BBzumQNXUHKdEBOB7mAJuzok+IJA1c2Ryg/yzTF6tik=</td>\n",
              "      <td>explore</td>\n",
              "      <td>Explore</td>\n",
              "      <td>online-playlist</td>\n",
              "      <td>1.0</td>\n",
              "    </tr>\n",
              "    <tr>\n",
              "      <th>1</th>\n",
              "      <td>Xumu+NIjS6QYVxDS4/t3SawvJ7viT9hPKXmf0RtLNx8=</td>\n",
              "      <td>bhp/MpSNoqoxOIB+/l8WPqu6jldth4DIpCm3ayXnJqM=</td>\n",
              "      <td>my library</td>\n",
              "      <td>Local playlist more</td>\n",
              "      <td>local-playlist</td>\n",
              "      <td>1.0</td>\n",
              "    </tr>\n",
              "    <tr>\n",
              "      <th>2</th>\n",
              "      <td>Xumu+NIjS6QYVxDS4/t3SawvJ7viT9hPKXmf0RtLNx8=</td>\n",
              "      <td>JNWfrrC7zNN7BdMpsISKa4Mw+xVJYNnxXh3/Epw7QgY=</td>\n",
              "      <td>my library</td>\n",
              "      <td>Local playlist more</td>\n",
              "      <td>local-playlist</td>\n",
              "      <td>1.0</td>\n",
              "    </tr>\n",
              "    <tr>\n",
              "      <th>3</th>\n",
              "      <td>Xumu+NIjS6QYVxDS4/t3SawvJ7viT9hPKXmf0RtLNx8=</td>\n",
              "      <td>2A87tzfnJTSWqD7gIZHisolhe4DMdzkbd6LzO1KHjNs=</td>\n",
              "      <td>my library</td>\n",
              "      <td>Local playlist more</td>\n",
              "      <td>local-playlist</td>\n",
              "      <td>1.0</td>\n",
              "    </tr>\n",
              "    <tr>\n",
              "      <th>4</th>\n",
              "      <td>FGtllVqz18RPiwJj/edr2gV78zirAiY/9SmYvia+kCg=</td>\n",
              "      <td>3qm6XTZ6MOCU11x8FIVbAGH5l5uMkT3/ZalWG1oo2Gc=</td>\n",
              "      <td>explore</td>\n",
              "      <td>Explore</td>\n",
              "      <td>online-playlist</td>\n",
              "      <td>1.0</td>\n",
              "    </tr>\n",
              "    <tr>\n",
              "      <th>...</th>\n",
              "      <td>...</td>\n",
              "      <td>...</td>\n",
              "      <td>...</td>\n",
              "      <td>...</td>\n",
              "      <td>...</td>\n",
              "      <td>...</td>\n",
              "    </tr>\n",
              "    <tr>\n",
              "      <th>95</th>\n",
              "      <td>Eaq21N7ijazDjnqU5v1jjWewJopGxgZxkKr4GIq7JTs=</td>\n",
              "      <td>BwDDym6Tp7EnGudWBGJyjONZeX0/4ndu5PETiPWzav8=</td>\n",
              "      <td>my library</td>\n",
              "      <td>NaN</td>\n",
              "      <td>local-library</td>\n",
              "      <td>1.0</td>\n",
              "    </tr>\n",
              "    <tr>\n",
              "      <th>96</th>\n",
              "      <td>pNPe9+kUnGJem0nHfYPdQ/Jx5yNlGLTJLshSohjkSdA=</td>\n",
              "      <td>b+OlR6qF0gzG++m+sYrOnf7bJF6WmXv51xGLBpmugxg=</td>\n",
              "      <td>my library</td>\n",
              "      <td>Local playlist more</td>\n",
              "      <td>local-library</td>\n",
              "      <td>1.0</td>\n",
              "    </tr>\n",
              "    <tr>\n",
              "      <th>97</th>\n",
              "      <td>pNPe9+kUnGJem0nHfYPdQ/Jx5yNlGLTJLshSohjkSdA=</td>\n",
              "      <td>9tNXaK/yKJfTcoWLRFw6HXplizDxq4bFvzs3scmesCU=</td>\n",
              "      <td>my library</td>\n",
              "      <td>Local playlist more</td>\n",
              "      <td>local-library</td>\n",
              "      <td>1.0</td>\n",
              "    </tr>\n",
              "    <tr>\n",
              "      <th>98</th>\n",
              "      <td>pNPe9+kUnGJem0nHfYPdQ/Jx5yNlGLTJLshSohjkSdA=</td>\n",
              "      <td>dKsoBHe5cVhyQSU8CimXs4ysaAky4RNgBwIafHaLkik=</td>\n",
              "      <td>my library</td>\n",
              "      <td>Local playlist more</td>\n",
              "      <td>local-library</td>\n",
              "      <td>1.0</td>\n",
              "    </tr>\n",
              "    <tr>\n",
              "      <th>99</th>\n",
              "      <td>pNPe9+kUnGJem0nHfYPdQ/Jx5yNlGLTJLshSohjkSdA=</td>\n",
              "      <td>3W6VBSN09a/Vh9w1Fwmdus4H4xxmde/yu0RBgMcTtZM=</td>\n",
              "      <td>my library</td>\n",
              "      <td>Local playlist more</td>\n",
              "      <td>local-library</td>\n",
              "      <td>1.0</td>\n",
              "    </tr>\n",
              "  </tbody>\n",
              "</table>\n",
              "<p>100 rows × 6 columns</p>\n",
              "</div>\n",
              "      <button class=\"colab-df-convert\" onclick=\"convertToInteractive('df-66521185-273e-4e48-8b93-f90a4d3d6858')\"\n",
              "              title=\"Convert this dataframe to an interactive table.\"\n",
              "              style=\"display:none;\">\n",
              "        \n",
              "  <svg xmlns=\"http://www.w3.org/2000/svg\" height=\"24px\"viewBox=\"0 0 24 24\"\n",
              "       width=\"24px\">\n",
              "    <path d=\"M0 0h24v24H0V0z\" fill=\"none\"/>\n",
              "    <path d=\"M18.56 5.44l.94 2.06.94-2.06 2.06-.94-2.06-.94-.94-2.06-.94 2.06-2.06.94zm-11 1L8.5 8.5l.94-2.06 2.06-.94-2.06-.94L8.5 2.5l-.94 2.06-2.06.94zm10 10l.94 2.06.94-2.06 2.06-.94-2.06-.94-.94-2.06-.94 2.06-2.06.94z\"/><path d=\"M17.41 7.96l-1.37-1.37c-.4-.4-.92-.59-1.43-.59-.52 0-1.04.2-1.43.59L10.3 9.45l-7.72 7.72c-.78.78-.78 2.05 0 2.83L4 21.41c.39.39.9.59 1.41.59.51 0 1.02-.2 1.41-.59l7.78-7.78 2.81-2.81c.8-.78.8-2.07 0-2.86zM5.41 20L4 18.59l7.72-7.72 1.47 1.35L5.41 20z\"/>\n",
              "  </svg>\n",
              "      </button>\n",
              "      \n",
              "  <style>\n",
              "    .colab-df-container {\n",
              "      display:flex;\n",
              "      flex-wrap:wrap;\n",
              "      gap: 12px;\n",
              "    }\n",
              "\n",
              "    .colab-df-convert {\n",
              "      background-color: #E8F0FE;\n",
              "      border: none;\n",
              "      border-radius: 50%;\n",
              "      cursor: pointer;\n",
              "      display: none;\n",
              "      fill: #1967D2;\n",
              "      height: 32px;\n",
              "      padding: 0 0 0 0;\n",
              "      width: 32px;\n",
              "    }\n",
              "\n",
              "    .colab-df-convert:hover {\n",
              "      background-color: #E2EBFA;\n",
              "      box-shadow: 0px 1px 2px rgba(60, 64, 67, 0.3), 0px 1px 3px 1px rgba(60, 64, 67, 0.15);\n",
              "      fill: #174EA6;\n",
              "    }\n",
              "\n",
              "    [theme=dark] .colab-df-convert {\n",
              "      background-color: #3B4455;\n",
              "      fill: #D2E3FC;\n",
              "    }\n",
              "\n",
              "    [theme=dark] .colab-df-convert:hover {\n",
              "      background-color: #434B5C;\n",
              "      box-shadow: 0px 1px 3px 1px rgba(0, 0, 0, 0.15);\n",
              "      filter: drop-shadow(0px 1px 2px rgba(0, 0, 0, 0.3));\n",
              "      fill: #FFFFFF;\n",
              "    }\n",
              "  </style>\n",
              "\n",
              "      <script>\n",
              "        const buttonEl =\n",
              "          document.querySelector('#df-66521185-273e-4e48-8b93-f90a4d3d6858 button.colab-df-convert');\n",
              "        buttonEl.style.display =\n",
              "          google.colab.kernel.accessAllowed ? 'block' : 'none';\n",
              "\n",
              "        async function convertToInteractive(key) {\n",
              "          const element = document.querySelector('#df-66521185-273e-4e48-8b93-f90a4d3d6858');\n",
              "          const dataTable =\n",
              "            await google.colab.kernel.invokeFunction('convertToInteractive',\n",
              "                                                     [key], {});\n",
              "          if (!dataTable) return;\n",
              "\n",
              "          const docLinkHtml = 'Like what you see? Visit the ' +\n",
              "            '<a target=\"_blank\" href=https://colab.research.google.com/notebooks/data_table.ipynb>data table notebook</a>'\n",
              "            + ' to learn more about interactive tables.';\n",
              "          element.innerHTML = '';\n",
              "          dataTable['output_type'] = 'display_data';\n",
              "          await google.colab.output.renderOutput(dataTable, element);\n",
              "          const docLink = document.createElement('div');\n",
              "          docLink.innerHTML = docLinkHtml;\n",
              "          element.appendChild(docLink);\n",
              "        }\n",
              "      </script>\n",
              "    </div>\n",
              "  </div>\n",
              "  "
            ],
            "text/plain": [
              "                                            msno  \\\n",
              "0   FGtllVqz18RPiwJj/edr2gV78zirAiY/9SmYvia+kCg=   \n",
              "1   Xumu+NIjS6QYVxDS4/t3SawvJ7viT9hPKXmf0RtLNx8=   \n",
              "2   Xumu+NIjS6QYVxDS4/t3SawvJ7viT9hPKXmf0RtLNx8=   \n",
              "3   Xumu+NIjS6QYVxDS4/t3SawvJ7viT9hPKXmf0RtLNx8=   \n",
              "4   FGtllVqz18RPiwJj/edr2gV78zirAiY/9SmYvia+kCg=   \n",
              "..                                           ...   \n",
              "95  Eaq21N7ijazDjnqU5v1jjWewJopGxgZxkKr4GIq7JTs=   \n",
              "96  pNPe9+kUnGJem0nHfYPdQ/Jx5yNlGLTJLshSohjkSdA=   \n",
              "97  pNPe9+kUnGJem0nHfYPdQ/Jx5yNlGLTJLshSohjkSdA=   \n",
              "98  pNPe9+kUnGJem0nHfYPdQ/Jx5yNlGLTJLshSohjkSdA=   \n",
              "99  pNPe9+kUnGJem0nHfYPdQ/Jx5yNlGLTJLshSohjkSdA=   \n",
              "\n",
              "                                         song_id source_system_tab  \\\n",
              "0   BBzumQNXUHKdEBOB7mAJuzok+IJA1c2Ryg/yzTF6tik=           explore   \n",
              "1   bhp/MpSNoqoxOIB+/l8WPqu6jldth4DIpCm3ayXnJqM=        my library   \n",
              "2   JNWfrrC7zNN7BdMpsISKa4Mw+xVJYNnxXh3/Epw7QgY=        my library   \n",
              "3   2A87tzfnJTSWqD7gIZHisolhe4DMdzkbd6LzO1KHjNs=        my library   \n",
              "4   3qm6XTZ6MOCU11x8FIVbAGH5l5uMkT3/ZalWG1oo2Gc=           explore   \n",
              "..                                           ...               ...   \n",
              "95  BwDDym6Tp7EnGudWBGJyjONZeX0/4ndu5PETiPWzav8=        my library   \n",
              "96  b+OlR6qF0gzG++m+sYrOnf7bJF6WmXv51xGLBpmugxg=        my library   \n",
              "97  9tNXaK/yKJfTcoWLRFw6HXplizDxq4bFvzs3scmesCU=        my library   \n",
              "98  dKsoBHe5cVhyQSU8CimXs4ysaAky4RNgBwIafHaLkik=        my library   \n",
              "99  3W6VBSN09a/Vh9w1Fwmdus4H4xxmde/yu0RBgMcTtZM=        my library   \n",
              "\n",
              "     source_screen_name      source_type  target  \n",
              "0               Explore  online-playlist     1.0  \n",
              "1   Local playlist more   local-playlist     1.0  \n",
              "2   Local playlist more   local-playlist     1.0  \n",
              "3   Local playlist more   local-playlist     1.0  \n",
              "4               Explore  online-playlist     1.0  \n",
              "..                  ...              ...     ...  \n",
              "95                  NaN    local-library     1.0  \n",
              "96  Local playlist more    local-library     1.0  \n",
              "97  Local playlist more    local-library     1.0  \n",
              "98  Local playlist more    local-library     1.0  \n",
              "99  Local playlist more    local-library     1.0  \n",
              "\n",
              "[100 rows x 6 columns]"
            ]
          },
          "execution_count": 14,
          "metadata": {},
          "output_type": "execute_result"
        }
      ],
      "source": [
        "train.head(100)"
      ]
    },
    {
      "cell_type": "markdown",
      "metadata": {
        "id": "AuSyBXzNwG30"
      },
      "source": [
        "Train dataset - member serialno., song_id of the the song the members listens to, target - says whether the song is listened more than once in the month"
      ]
    },
    {
      "cell_type": "code",
      "execution_count": null,
      "metadata": {
        "colab": {
          "base_uri": "https://localhost:8080/"
        },
        "id": "Wm_b23XzwDJg",
        "outputId": "8f4951dc-ff05-40ec-e362-5e3380ae6142"
      },
      "outputs": [
        {
          "output_type": "stream",
          "name": "stdout",
          "text": [
            "Columns of the merge dataset (msongs) are: \n",
            " Index(['msno', 'song_id', 'source_system_tab', 'source_screen_name',\n",
            "       'source_type', 'target', 'song_length', 'genre_ids', 'artist_name',\n",
            "       'composer', 'lyricist', 'language', 'name', 'isrc', 'city', 'bd',\n",
            "       'gender', 'registered_via', 'registration_init_time',\n",
            "       'expiration_date'],\n",
            "      dtype='object')\n"
          ]
        }
      ],
      "source": [
        "m1 = pd.merge(train,song, on='song_id',how='left')\n",
        "m2 = pd.merge(m1,songextrainfo, on='song_id',how='left')\n",
        "msongs = pd.merge(m2,members, on='msno',how='left')\n",
        "#del m1,m2,members,songextrainfo,song,train\n",
        "print('Columns of the merge dataset (msongs) are: \\n',msongs.columns)"
      ]
    },
    {
      "cell_type": "code",
      "execution_count": null,
      "metadata": {
        "colab": {
          "base_uri": "https://localhost:8080/"
        },
        "id": "1PfiRJI3wtzg",
        "outputId": "fb73e663-a9bd-4583-e9d4-3e22b45ed586"
      },
      "outputs": [
        {
          "name": "stdout",
          "output_type": "stream",
          "text": [
            "                                           msno  \\\n",
            "0  FGtllVqz18RPiwJj/edr2gV78zirAiY/9SmYvia+kCg=   \n",
            "1  Xumu+NIjS6QYVxDS4/t3SawvJ7viT9hPKXmf0RtLNx8=   \n",
            "2  Xumu+NIjS6QYVxDS4/t3SawvJ7viT9hPKXmf0RtLNx8=   \n",
            "3  Xumu+NIjS6QYVxDS4/t3SawvJ7viT9hPKXmf0RtLNx8=   \n",
            "4  FGtllVqz18RPiwJj/edr2gV78zirAiY/9SmYvia+kCg=   \n",
            "5  FGtllVqz18RPiwJj/edr2gV78zirAiY/9SmYvia+kCg=   \n",
            "6  Xumu+NIjS6QYVxDS4/t3SawvJ7viT9hPKXmf0RtLNx8=   \n",
            "7  FGtllVqz18RPiwJj/edr2gV78zirAiY/9SmYvia+kCg=   \n",
            "8  uHqAtShXTRXju5GE8ri3ITsVFepPf8jUoCF7ffNOuqE=   \n",
            "9  uHqAtShXTRXju5GE8ri3ITsVFepPf8jUoCF7ffNOuqE=   \n",
            "\n",
            "                                        song_id source_system_tab  \\\n",
            "0  BBzumQNXUHKdEBOB7mAJuzok+IJA1c2Ryg/yzTF6tik=           explore   \n",
            "1  bhp/MpSNoqoxOIB+/l8WPqu6jldth4DIpCm3ayXnJqM=        my library   \n",
            "2  JNWfrrC7zNN7BdMpsISKa4Mw+xVJYNnxXh3/Epw7QgY=        my library   \n",
            "3  2A87tzfnJTSWqD7gIZHisolhe4DMdzkbd6LzO1KHjNs=        my library   \n",
            "4  3qm6XTZ6MOCU11x8FIVbAGH5l5uMkT3/ZalWG1oo2Gc=           explore   \n",
            "5  3Hg5kugV1S0wzEVLAEfqjIV5UHzb7bCrdBRQlGygLvU=           explore   \n",
            "6  VkILU0H1h3NMmk9MQrXouNudGk5n8Ls5cqRRuBxeTh4=        my library   \n",
            "7  bPIvRTzfHxH5LgHrStll+tYwSQNVV8PySgA3M1PfTgc=           explore   \n",
            "8  /bU6IRSK+YNlNbaTkxo7bhsb2EDLPrnksdX3ggcZNhI=        my library   \n",
            "9  EbI7xoNxI+3QSsiHxL13zBdgHIJOwa3srHd7cDcnJ0g=        my library   \n",
            "\n",
            "    source_screen_name      source_type  target  song_length genre_ids  \\\n",
            "0              Explore  online-playlist     1.0     206471.0       359   \n",
            "1  Local playlist more   local-playlist     1.0     284584.0      1259   \n",
            "2  Local playlist more   local-playlist     1.0     225396.0      1259   \n",
            "3  Local playlist more   local-playlist     1.0     255512.0      1019   \n",
            "4              Explore  online-playlist     1.0     187802.0      1011   \n",
            "5              Explore  online-playlist     1.0     247803.0      1259   \n",
            "6  Local playlist more   local-playlist     1.0     229982.0       465   \n",
            "7              Explore  online-playlist     1.0     181115.0      1011   \n",
            "8  Local playlist more    local-library     1.0     278964.0      2022   \n",
            "9  Local playlist more    local-library     1.0     257369.0       465   \n",
            "\n",
            "       artist_name                                 composer        lyricist  \\\n",
            "0         Bastille                     Dan Smith| Mark Crew             NaN   \n",
            "1  Various Artists                                      NaN             NaN   \n",
            "2              Nas     N. Jones、W. Adams、J. Lordan、D. Ingle             NaN   \n",
            "3         Soundway                            Kwadwo Donkoh             NaN   \n",
            "4      Brett Young  Brett Young| Kelly Archer| Justin Ebach             NaN   \n",
            "5        Desiigner                 Sidney Selby| Adnan Khan             NaN   \n",
            "6  BIGBANG TAEYANG            TEDDY| DEE.P| Rebecca Johnson  TEDDY| TAEYANG   \n",
            "7     Thomas Rhett   Thomas Rhett| Rhett Akins| Ben Hayslip             NaN   \n",
            "8      OneRepublic                              Ryan Tedder             NaN   \n",
            "9      OneRepublic                              Ryan Tedder             NaN   \n",
            "\n",
            "   language                                     name          isrc  city  \\\n",
            "0      52.0                               Good Grief  GBUM71602854   1.0   \n",
            "1      52.0                       Lords of Cardboard  US3C69910183  13.0   \n",
            "2      52.0  Hip Hop Is Dead(Album Version (Edited))  USUM70618761  13.0   \n",
            "3      -1.0                             Disco Africa  GBUQH1000063  13.0   \n",
            "4      52.0                        Sleep Without You  QM3E21606003   1.0   \n",
            "5      52.0                                    Panda  USUM71601094   1.0   \n",
            "6      31.0               眼| 鼻| 口 (Eyes| Nose| Lips)  TWA531400512  13.0   \n",
            "7      52.0                         Star Of The Show  USLXJ1607334   1.0   \n",
            "8      52.0                        Dreaming Out Loud  USUM70759544  15.0   \n",
            "9      52.0                           Counting Stars  USUM71301306  15.0   \n",
            "\n",
            "     bd  gender  registered_via  registration_init_time  expiration_date  \n",
            "0   0.0     NaN             7.0              20120102.0       20171005.0  \n",
            "1  24.0  female             9.0              20110525.0       20170911.0  \n",
            "2  24.0  female             9.0              20110525.0       20170911.0  \n",
            "3  24.0  female             9.0              20110525.0       20170911.0  \n",
            "4   0.0     NaN             7.0              20120102.0       20171005.0  \n",
            "5   0.0     NaN             7.0              20120102.0       20171005.0  \n",
            "6  24.0  female             9.0              20110525.0       20170911.0  \n",
            "7   0.0     NaN             7.0              20120102.0       20171005.0  \n",
            "8  26.0    male             9.0              20111107.0       20180304.0  \n",
            "9  26.0    male             9.0              20111107.0       20180304.0  \n"
          ]
        }
      ],
      "source": [
        "print(msongs.head(10))"
      ]
    },
    {
      "cell_type": "markdown",
      "metadata": {
        "id": "988eON7Fxp3W"
      },
      "source": [
        "Analysing the data\n",
        "\n",
        "\n",
        "---\n",
        "\n",
        "\n",
        "\n",
        "---\n",
        "\n"
      ]
    },
    {
      "cell_type": "code",
      "execution_count": null,
      "metadata": {
        "colab": {
          "base_uri": "https://localhost:8080/"
        },
        "id": "UGisIkUSxWdo",
        "outputId": "360c5d69-2e6d-4dc8-c2b6-3bde29f6cbdb"
      },
      "outputs": [
        {
          "data": {
            "text/plain": [
              "(15683, 20)"
            ]
          },
          "execution_count": 16,
          "metadata": {},
          "output_type": "execute_result"
        }
      ],
      "source": [
        "msongs.shape"
      ]
    },
    {
      "cell_type": "code",
      "execution_count": null,
      "metadata": {
        "colab": {
          "base_uri": "https://localhost:8080/"
        },
        "id": "Ucs-xBUvylVk",
        "outputId": "06ca6e6e-3699-4131-a4ce-c83cc16dc09a"
      },
      "outputs": [
        {
          "output_type": "stream",
          "name": "stdout",
          "text": [
            "name\n",
            "告白氣球                            3977\n",
            "帥到分手                            3689\n",
            "你，好不好？ (How Have You Been?)     3532\n",
            "謝謝妳愛我 (Thanks For Your Love)    3334\n",
            "Closer                          3285\n",
            "Name: rat, dtype: int64\n"
          ]
        }
      ],
      "source": [
        "#Algorithm to find the top listened songs.\n",
        "t_songs =msongs[msongs['target']==1]\n",
        "t_songs['rat']=1\n",
        "top_songs=t_songs.groupby(by=['name'])['rat'].sum()\n",
        "#print(msongs.columns)\n",
        "#print(t_songs[12:12])\n",
        "sorted_top = top_songs.sort_values(ascending=False)\n",
        "print(sorted_top.head())"
      ]
    },
    {
      "cell_type": "code",
      "execution_count": null,
      "metadata": {
        "colab": {
          "base_uri": "https://localhost:8080/"
        },
        "id": "nY2oqNvK4VVd",
        "outputId": "f4fd11d3-cc42-43d0-a4aa-509eafc5ba2c"
      },
      "outputs": [
        {
          "output_type": "stream",
          "name": "stdout",
          "text": [
            "name\n",
            "Uramado                                            1\n",
            "Uranium Fever                                      1\n",
            "Uranium Rock                                       1\n",
            "Uranium-Chan                                       1\n",
            " 24karats –type S-(與放浪兄弟EXILE、DOBELMAN合作超跳嘻哈單曲)    1\n",
            "Name: rat, dtype: int64\n"
          ]
        }
      ],
      "source": [
        "#Algorithm to find the least listened songs.\n",
        "t_songs =msongs[msongs['target']==0]\n",
        "t_songs['rat']=1\n",
        "top_songs=t_songs.groupby(by=['name'])['rat'].sum()\n",
        "#print(msongs.columns)\n",
        "#print(t_songs[12:12])\n",
        "sorted_top = top_songs.sort_values(ascending=False)\n",
        "print(sorted_top.tail())"
      ]
    },
    {
      "cell_type": "code",
      "execution_count": null,
      "metadata": {
        "colab": {
          "base_uri": "https://localhost:8080/"
        },
        "id": "KuTFq1Q7wxL6",
        "outputId": "14c36081-9945-404d-d4eb-0d5c64f3fe39"
      },
      "outputs": [
        {
          "name": "stdout",
          "output_type": "stream",
          "text": [
            "msno                         0\n",
            "song_id                      0\n",
            "source_system_tab           51\n",
            "source_screen_name         679\n",
            "source_type                 41\n",
            "target                       2\n",
            "song_length                  2\n",
            "genre_ids                  287\n",
            "artist_name                  2\n",
            "composer                  3404\n",
            "lyricist                  6418\n",
            "language                     2\n",
            "name                         2\n",
            "isrc                      1214\n",
            "city                         1\n",
            "bd                           1\n",
            "gender                    6458\n",
            "registered_via               1\n",
            "registration_init_time       1\n",
            "expiration_date              1\n",
            "dtype: int64\n"
          ]
        }
      ],
      "source": [
        "#Getting the sum of null values\n",
        "print(msongs.isnull().sum())"
      ]
    },
    {
      "cell_type": "markdown",
      "metadata": {
        "id": "yYST5hnfyTjt"
      },
      "source": [
        "Data Cleaning"
      ]
    },
    {
      "cell_type": "code",
      "execution_count": null,
      "metadata": {
        "colab": {
          "base_uri": "https://localhost:8080/"
        },
        "id": "ZeWC1K6DxTla",
        "outputId": "c3896c53-a9c0-423c-a54e-794de19a14c0"
      },
      "outputs": [
        {
          "data": {
            "text/plain": [
              "0"
            ]
          },
          "execution_count": 20,
          "metadata": {},
          "output_type": "execute_result"
        }
      ],
      "source": [
        "#Finding the duplicates\n",
        "msongs.duplicated().sum()"
      ]
    },
    {
      "cell_type": "code",
      "execution_count": null,
      "metadata": {
        "colab": {
          "base_uri": "https://localhost:8080/"
        },
        "id": "1an3yB-f4mH9",
        "outputId": "7990c7f2-1923-4cf4-f65a-050aa1881c3e"
      },
      "outputs": [
        {
          "data": {
            "text/plain": [
              "msno                      0.000000\n",
              "song_id                   0.000000\n",
              "source_system_tab         0.003252\n",
              "source_screen_name        0.043295\n",
              "source_type               0.002614\n",
              "target                    0.000128\n",
              "song_length               0.000128\n",
              "genre_ids                 0.018300\n",
              "artist_name               0.000128\n",
              "composer                  0.217050\n",
              "lyricist                  0.409233\n",
              "language                  0.000128\n",
              "name                      0.000128\n",
              "isrc                      0.077409\n",
              "city                      0.000064\n",
              "bd                        0.000064\n",
              "gender                    0.411783\n",
              "registered_via            0.000064\n",
              "registration_init_time    0.000064\n",
              "expiration_date           0.000064\n",
              "dtype: float64"
            ]
          },
          "execution_count": 21,
          "metadata": {},
          "output_type": "execute_result"
        }
      ],
      "source": [
        "msongs.isnull().mean()"
      ]
    },
    {
      "cell_type": "code",
      "execution_count": null,
      "metadata": {
        "colab": {
          "base_uri": "https://localhost:8080/",
          "height": 517
        },
        "id": "MBjNIdF-53Mz",
        "outputId": "cbf313eb-2d74-4552-f1bf-e0c630e96d5a"
      },
      "outputs": [
        {
          "data": {
            "text/plain": [
              "Text(0.5, 1.0, 'Quantifying missing data')"
            ]
          },
          "execution_count": 22,
          "metadata": {},
          "output_type": "execute_result"
        },
        {
          "data": {
            "image/png": "[encoded data removed]",
            "text/plain": [
              "<Figure size 864x432 with 1 Axes>"
            ]
          },
          "metadata": {},
          "output_type": "display_data"
        }
      ],
      "source": [
        "#Quantifying the missing data\n",
        "msongs.isnull().mean().plot.bar(figsize=(12,6))\n",
        "plt.ylabel('Percentage of missing values')\n",
        "plt.xlabel('Variables')\n",
        "plt.title('Quantifying missing data')"
      ]
    },
    {
      "cell_type": "code",
      "execution_count": null,
      "metadata": {
        "colab": {
          "base_uri": "https://localhost:8080/"
        },
        "id": "Q1R3rzTFDz4X",
        "outputId": "836c62d1-0a61-4c53-95f9-73375750e3b7"
      },
      "outputs": [
        {
          "name": "stdout",
          "output_type": "stream",
          "text": [
            "['target', 'song_length', 'language', 'city', 'bd', 'registered_via', 'registration_init_time', 'expiration_date']\n"
          ]
        }
      ],
      "source": [
        "#Splitting the integer valued columns.\n",
        "integer_columns=msongs.select_dtypes(include=['int64','float64']).columns.tolist()\n",
        "print(integer_columns)"
      ]
    },
    {
      "cell_type": "markdown",
      "metadata": {
        "id": "9c1dELNBwYcr"
      },
      "source": [
        "Filling nullvalues\n",
        "\n",
        "---\n",
        "\n",
        "\n",
        "\n",
        "---\n",
        "\n"
      ]
    },
    {
      "cell_type": "code",
      "execution_count": null,
      "metadata": {
        "colab": {
          "base_uri": "https://localhost:8080/",
          "height": 351
        },
        "id": "ECHV-t7P6E3M",
        "outputId": "97fe016b-73e2-4999-af81-1afa9498098e"
      },
      "outputs": [
        {
          "name": "stderr",
          "output_type": "stream",
          "text": [
            "/usr/local/lib/python3.8/dist-packages/seaborn/_decorators.py:36: FutureWarning: Pass the following variable as a keyword arg: x. From version 0.12, the only valid positional argument will be `data`, and passing other arguments without an explicit keyword will result in an error or misinterpretation.\n",
            "  warnings.warn(\n"
          ]
        },
        {
          "data": {
            "text/plain": [
              "<matplotlib.axes._subplots.AxesSubplot at 0x7eff922cdfa0>"
            ]
          },
          "execution_count": 24,
          "metadata": {},
          "output_type": "execute_result"
        },
        {
          "data": {
            "image/png": "[encoded data removed]",
            "text/plain": [
              "<Figure size 432x288 with 1 Axes>"
            ]
          },
          "metadata": {},
          "output_type": "display_data"
        }
      ],
      "source": [
        "#Filling the integer data having outliers(skewed data) with mode and no outliers(non-skewed) with mean.\n",
        "#fig, ax = plt.subplots(figsize=(12,8))\n",
        "sns.boxplot(msongs.language)\n",
        "#msongs.boxplot('target')\n",
        "#msongs.boxplot(column=['target', 'song_length', 'language', 'city', 'bd', 'registered_via', 'registration_init_time', 'expiration_date'])"
      ]
    },
    {
      "cell_type": "code",
      "execution_count": null,
      "metadata": {
        "id": "NHh6aDYIEGsF"
      },
      "outputs": [],
      "source": [
        "msongs['language'].fillna(msongs['language'].mode()[0], inplace = True)"
      ]
    },
    {
      "cell_type": "code",
      "execution_count": null,
      "metadata": {
        "colab": {
          "base_uri": "https://localhost:8080/",
          "height": 352
        },
        "id": "OihY1a7AA0iG",
        "outputId": "e5aa70ce-3e34-48c3-b3ef-7b8453f5d616"
      },
      "outputs": [
        {
          "name": "stderr",
          "output_type": "stream",
          "text": [
            "/usr/local/lib/python3.8/dist-packages/seaborn/_decorators.py:36: FutureWarning: Pass the following variable as a keyword arg: x. From version 0.12, the only valid positional argument will be `data`, and passing other arguments without an explicit keyword will result in an error or misinterpretation.\n",
            "  warnings.warn(\n"
          ]
        },
        {
          "data": {
            "text/plain": [
              "<matplotlib.axes._subplots.AxesSubplot at 0x7eff96a37c40>"
            ]
          },
          "execution_count": 26,
          "metadata": {},
          "output_type": "execute_result"
        },
        {
          "data": {
            "image/png": "[encoded data removed]",
            "text/plain": [
              "<Figure size 432x288 with 1 Axes>"
            ]
          },
          "metadata": {},
          "output_type": "display_data"
        }
      ],
      "source": [
        "sns.boxplot(msongs.song_length)"
      ]
    },
    {
      "cell_type": "code",
      "execution_count": null,
      "metadata": {
        "id": "dEL0QOGuFLAM"
      },
      "outputs": [],
      "source": [
        "msongs['song_length'].fillna(msongs['song_length'].mode()[0], inplace = True)"
      ]
    },
    {
      "cell_type": "code",
      "execution_count": null,
      "metadata": {
        "colab": {
          "base_uri": "https://localhost:8080/",
          "height": 351
        },
        "id": "umke652qCLyO",
        "outputId": "f34f6809-79c9-49da-9cc7-c9491827254f"
      },
      "outputs": [
        {
          "name": "stderr",
          "output_type": "stream",
          "text": [
            "/usr/local/lib/python3.8/dist-packages/seaborn/_decorators.py:36: FutureWarning: Pass the following variable as a keyword arg: x. From version 0.12, the only valid positional argument will be `data`, and passing other arguments without an explicit keyword will result in an error or misinterpretation.\n",
            "  warnings.warn(\n"
          ]
        },
        {
          "data": {
            "text/plain": [
              "<matplotlib.axes._subplots.AxesSubplot at 0x7eff96ebadf0>"
            ]
          },
          "execution_count": 28,
          "metadata": {},
          "output_type": "execute_result"
        },
        {
          "data": {
            "image/png": "[encoded data removed]",
            "text/plain": [
              "<Figure size 432x288 with 1 Axes>"
            ]
          },
          "metadata": {},
          "output_type": "display_data"
        }
      ],
      "source": [
        "sns.boxplot(msongs.city)"
      ]
    },
    {
      "cell_type": "code",
      "execution_count": null,
      "metadata": {
        "id": "wjbfWkp4Fbva"
      },
      "outputs": [],
      "source": [
        "msongs['city'].fillna(msongs['city'].mean(), inplace = True)"
      ]
    },
    {
      "cell_type": "code",
      "execution_count": null,
      "metadata": {
        "colab": {
          "base_uri": "https://localhost:8080/",
          "height": 351
        },
        "id": "fjZ49JnJCXhu",
        "outputId": "30de9a8e-dd43-4feb-a03b-dd1a5ca218ab"
      },
      "outputs": [
        {
          "name": "stderr",
          "output_type": "stream",
          "text": [
            "/usr/local/lib/python3.8/dist-packages/seaborn/_decorators.py:36: FutureWarning: Pass the following variable as a keyword arg: x. From version 0.12, the only valid positional argument will be `data`, and passing other arguments without an explicit keyword will result in an error or misinterpretation.\n",
            "  warnings.warn(\n"
          ]
        },
        {
          "data": {
            "text/plain": [
              "<matplotlib.axes._subplots.AxesSubplot at 0x7eff9f11e940>"
            ]
          },
          "execution_count": 30,
          "metadata": {},
          "output_type": "execute_result"
        },
        {
          "data": {
            "image/png": "[encoded data removed]",
            "text/plain": [
              "<Figure size 432x288 with 1 Axes>"
            ]
          },
          "metadata": {},
          "output_type": "display_data"
        }
      ],
      "source": [
        "sns.boxplot(msongs.bd)"
      ]
    },
    {
      "cell_type": "code",
      "execution_count": null,
      "metadata": {
        "id": "Tyz8FRaBFidX"
      },
      "outputs": [],
      "source": [
        "msongs['bd'].fillna(msongs['bd'].mode(), inplace = True)"
      ]
    },
    {
      "cell_type": "code",
      "execution_count": null,
      "metadata": {
        "colab": {
          "base_uri": "https://localhost:8080/",
          "height": 352
        },
        "id": "9qmNNEVhCXse",
        "outputId": "b15c23a7-1a67-4737-9d06-713fa6f2f573"
      },
      "outputs": [
        {
          "name": "stderr",
          "output_type": "stream",
          "text": [
            "/usr/local/lib/python3.8/dist-packages/seaborn/_decorators.py:36: FutureWarning: Pass the following variable as a keyword arg: x. From version 0.12, the only valid positional argument will be `data`, and passing other arguments without an explicit keyword will result in an error or misinterpretation.\n",
            "  warnings.warn(\n"
          ]
        },
        {
          "data": {
            "text/plain": [
              "<matplotlib.axes._subplots.AxesSubplot at 0x7effa589a670>"
            ]
          },
          "execution_count": 32,
          "metadata": {},
          "output_type": "execute_result"
        },
        {
          "data": {
            "image/png": "[encoded data removed]",
            "text/plain": [
              "<Figure size 432x288 with 1 Axes>"
            ]
          },
          "metadata": {},
          "output_type": "display_data"
        }
      ],
      "source": [
        "sns.boxplot(msongs.registered_via)"
      ]
    },
    {
      "cell_type": "code",
      "execution_count": null,
      "metadata": {
        "id": "D0BJ3cyYFx7w"
      },
      "outputs": [],
      "source": [
        "msongs['registered_via'].fillna(msongs['registered_via'].mean(), inplace = True)"
      ]
    },
    {
      "cell_type": "code",
      "execution_count": null,
      "metadata": {
        "colab": {
          "base_uri": "https://localhost:8080/",
          "height": 352
        },
        "id": "kMqKfY8UCX31",
        "outputId": "b4c511c5-e1a5-498c-e2dc-6b8f02a1d799"
      },
      "outputs": [
        {
          "name": "stderr",
          "output_type": "stream",
          "text": [
            "/usr/local/lib/python3.8/dist-packages/seaborn/_decorators.py:36: FutureWarning: Pass the following variable as a keyword arg: x. From version 0.12, the only valid positional argument will be `data`, and passing other arguments without an explicit keyword will result in an error or misinterpretation.\n",
            "  warnings.warn(\n"
          ]
        },
        {
          "data": {
            "text/plain": [
              "<matplotlib.axes._subplots.AxesSubplot at 0x7eff8bee2d90>"
            ]
          },
          "execution_count": 34,
          "metadata": {},
          "output_type": "execute_result"
        },
        {
          "data": {
            "image/png": "[encoded data removed]",
            "text/plain": [
              "<Figure size 432x288 with 1 Axes>"
            ]
          },
          "metadata": {},
          "output_type": "display_data"
        }
      ],
      "source": [
        "sns.boxplot(msongs.registration_init_time)"
      ]
    },
    {
      "cell_type": "code",
      "execution_count": null,
      "metadata": {
        "id": "w4fbf5k9F54A"
      },
      "outputs": [],
      "source": [
        "msongs['registration_init_time'].fillna(msongs['registration_init_time'].mean(), inplace = True)"
      ]
    },
    {
      "cell_type": "code",
      "execution_count": null,
      "metadata": {
        "colab": {
          "base_uri": "https://localhost:8080/",
          "height": 352
        },
        "id": "R9Xsa__1CYCR",
        "outputId": "a91f188c-e216-4e1b-d888-ce24335b24d9"
      },
      "outputs": [
        {
          "name": "stderr",
          "output_type": "stream",
          "text": [
            "/usr/local/lib/python3.8/dist-packages/seaborn/_decorators.py:36: FutureWarning: Pass the following variable as a keyword arg: x. From version 0.12, the only valid positional argument will be `data`, and passing other arguments without an explicit keyword will result in an error or misinterpretation.\n",
            "  warnings.warn(\n"
          ]
        },
        {
          "data": {
            "text/plain": [
              "<matplotlib.axes._subplots.AxesSubplot at 0x7eff8ec4f820>"
            ]
          },
          "execution_count": 36,
          "metadata": {},
          "output_type": "execute_result"
        },
        {
          "data": {
            "image/png": "[encoded data removed]",
            "text/plain": [
              "<Figure size 432x288 with 1 Axes>"
            ]
          },
          "metadata": {},
          "output_type": "display_data"
        }
      ],
      "source": [
        "sns.boxplot(msongs.expiration_date)"
      ]
    },
    {
      "cell_type": "code",
      "execution_count": null,
      "metadata": {
        "id": "nmKHGsvHGFkl"
      },
      "outputs": [],
      "source": [
        "msongs['expiration_date'].fillna(msongs['expiration_date'].mode(), inplace = True)"
      ]
    },
    {
      "cell_type": "code",
      "execution_count": null,
      "metadata": {
        "colab": {
          "base_uri": "https://localhost:8080/"
        },
        "id": "vGsVYO-ACYQi",
        "outputId": "57d68241-19ef-449d-94bc-6e2832478b10"
      },
      "outputs": [
        {
          "name": "stdout",
          "output_type": "stream",
          "text": [
            "msno                         0\n",
            "song_id                      0\n",
            "source_system_tab           51\n",
            "source_screen_name         679\n",
            "source_type                 41\n",
            "target                       2\n",
            "song_length                  0\n",
            "genre_ids                  287\n",
            "artist_name                  2\n",
            "composer                  3404\n",
            "lyricist                  6418\n",
            "language                     0\n",
            "name                         2\n",
            "isrc                      1214\n",
            "city                         0\n",
            "bd                           1\n",
            "gender                    6458\n",
            "registered_via               0\n",
            "registration_init_time       0\n",
            "expiration_date              1\n",
            "dtype: int64\n"
          ]
        }
      ],
      "source": [
        "print(msongs.isnull().sum())"
      ]
    },
    {
      "cell_type": "code",
      "execution_count": null,
      "metadata": {
        "id": "CGfFsOv-8EN7"
      },
      "outputs": [],
      "source": [
        "msongs['song_id'].fillna(msongs['song_id'].mode()[0], inplace = True)\n",
        "msongs['source_system_tab'].fillna(msongs['source_system_tab'].mode()[0], inplace = True)\n",
        "msongs['source_screen_name'].fillna(msongs['source_screen_name'].mode()[0], inplace = True)\n",
        "msongs['source_type'].fillna(msongs['source_type'].mode()[0], inplace = True)\n",
        "msongs['genre_ids'].fillna(msongs['genre_ids'].mode()[0], inplace = True)\n",
        "msongs['artist_name'].fillna(msongs['artist_name'].mode()[0], inplace = True)\n",
        "msongs['composer'].fillna(msongs['composer'].mode()[0], inplace = True)\n",
        "msongs['lyricist'].fillna(msongs['lyricist'].mode()[0], inplace = True)\n",
        "msongs['name'].fillna(msongs['name'].mode()[0], inplace = True)\n",
        "msongs['isrc'].fillna(msongs['isrc'].mode()[0], inplace = True)\n",
        "msongs['gender'].fillna(msongs['gender'].mode()[0], inplace = True)\n",
        "msongs['expiration_date'].fillna(msongs['expiration_date'].mode()[0], inplace = True)\n",
        "msongs['target'].fillna(6, inplace = True)\n",
        "msongs['bd'].fillna(6, inplace = True)\n"
      ]
    },
    {
      "cell_type": "code",
      "execution_count": null,
      "metadata": {
        "colab": {
          "base_uri": "https://localhost:8080/"
        },
        "id": "N_XHPhShCPoy",
        "outputId": "3bf4190a-f094-47e5-f623-5ed0f4214688"
      },
      "outputs": [
        {
          "output_type": "stream",
          "name": "stdout",
          "text": [
            "msno                      0\n",
            "song_id                   0\n",
            "source_system_tab         0\n",
            "source_screen_name        0\n",
            "source_type               0\n",
            "target                    0\n",
            "song_length               0\n",
            "genre_ids                 0\n",
            "artist_name               0\n",
            "composer                  0\n",
            "lyricist                  0\n",
            "language                  0\n",
            "name                      0\n",
            "isrc                      0\n",
            "city                      0\n",
            "bd                        0\n",
            "gender                    0\n",
            "registered_via            0\n",
            "registration_init_time    0\n",
            "expiration_date           0\n",
            "dtype: int64\n"
          ]
        }
      ],
      "source": [
        "print(msongs.isnull().sum())"
      ]
    },
    {
      "cell_type": "markdown",
      "metadata": {
        "id": "ytCPMz5F3nHq"
      },
      "source": [
        "Normalization\n",
        "\n",
        "---\n",
        "\n",
        "\n",
        "\n",
        "---\n",
        "\n"
      ]
    },
    {
      "cell_type": "code",
      "execution_count": null,
      "metadata": {
        "id": "ebjvCI6xckN5"
      },
      "outputs": [],
      "source": [
        "cateogry_columns=msongs.select_dtypes(include=['object']).columns.tolist()"
      ]
    },
    {
      "cell_type": "code",
      "execution_count": null,
      "metadata": {
        "id": "Uv9zvE-3Ce6g"
      },
      "outputs": [],
      "source": [
        "le = LabelEncoder()\n",
        "ohe = OneHotEncoder()\n",
        "for i in cateogry_columns:\n",
        "  msongs[i] = le.fit_transform(msongs[i])"
      ]
    },
    {
      "cell_type": "code",
      "execution_count": null,
      "metadata": {
        "id": "Qw7gVj8_DU3v"
      },
      "outputs": [],
      "source": []
    },
    {
      "cell_type": "markdown",
      "metadata": {
        "id": "c3_5iPE5W1Aq"
      },
      "source": [
        "EDA"
      ]
    },
    {
      "cell_type": "code",
      "execution_count": null,
      "metadata": {
        "colab": {
          "base_uri": "https://localhost:8080/"
        },
        "id": "EalujTasXXlG",
        "outputId": "0055ea5f-8962-4e21-9176-849c16221038"
      },
      "outputs": [
        {
          "output_type": "stream",
          "name": "stdout",
          "text": [
            "<class 'pandas.core.frame.DataFrame'>\n",
            "Int64Index: 1200162 entries, 0 to 1200161\n",
            "Data columns (total 20 columns):\n",
            " #   Column                  Non-Null Count    Dtype  \n",
            "---  ------                  --------------    -----  \n",
            " 0   msno                    1200162 non-null  int64  \n",
            " 1   song_id                 1200162 non-null  int64  \n",
            " 2   source_system_tab       1200162 non-null  int64  \n",
            " 3   source_screen_name      1200162 non-null  int64  \n",
            " 4   source_type             1200162 non-null  int64  \n",
            " 5   target                  1200162 non-null  float64\n",
            " 6   song_length             1200162 non-null  float64\n",
            " 7   genre_ids               1200162 non-null  int64  \n",
            " 8   artist_name             1200162 non-null  int64  \n",
            " 9   composer                1200162 non-null  int64  \n",
            " 10  lyricist                1200162 non-null  int64  \n",
            " 11  language                1200162 non-null  float64\n",
            " 12  name                    1200162 non-null  int64  \n",
            " 13  isrc                    1200162 non-null  int64  \n",
            " 14  city                    1200162 non-null  int64  \n",
            " 15  bd                      1200162 non-null  int64  \n",
            " 16  gender                  1200162 non-null  int64  \n",
            " 17  registered_via          1200162 non-null  int64  \n",
            " 18  registration_init_time  1200162 non-null  int64  \n",
            " 19  expiration_date         1200162 non-null  int64  \n",
            "dtypes: float64(3), int64(17)\n",
            "memory usage: 192.3 MB\n"
          ]
        }
      ],
      "source": [
        "msongs.info()"
      ]
    },
    {
      "cell_type": "code",
      "execution_count": null,
      "metadata": {
        "colab": {
          "base_uri": "https://localhost:8080/",
          "height": 364
        },
        "id": "4ZW-BHcyW3rY",
        "outputId": "c5586c55-0ccc-49d7-b2d3-1c61f06dee72"
      },
      "outputs": [
        {
          "data": {
            "text/html": [
              "\n",
              "  <div id=\"df-563f9e5e-3ad4-4e4e-b89e-21a3d66a9692\">\n",
              "    <div class=\"colab-df-container\">\n",
              "      <div>\n",
              "<style scoped>\n",
              "    .dataframe tbody tr th:only-of-type {\n",
              "        vertical-align: middle;\n",
              "    }\n",
              "\n",
              "    .dataframe tbody tr th {\n",
              "        vertical-align: top;\n",
              "    }\n",
              "\n",
              "    .dataframe thead th {\n",
              "        text-align: right;\n",
              "    }\n",
              "</style>\n",
              "<table border=\"1\" class=\"dataframe\">\n",
              "  <thead>\n",
              "    <tr style=\"text-align: right;\">\n",
              "      <th></th>\n",
              "      <th>msno</th>\n",
              "      <th>song_id</th>\n",
              "      <th>source_system_tab</th>\n",
              "      <th>source_screen_name</th>\n",
              "      <th>source_type</th>\n",
              "      <th>target</th>\n",
              "      <th>song_length</th>\n",
              "      <th>genre_ids</th>\n",
              "      <th>artist_name</th>\n",
              "      <th>composer</th>\n",
              "      <th>lyricist</th>\n",
              "      <th>language</th>\n",
              "      <th>name</th>\n",
              "      <th>isrc</th>\n",
              "      <th>city</th>\n",
              "      <th>bd</th>\n",
              "      <th>gender</th>\n",
              "      <th>registered_via</th>\n",
              "      <th>registration_init_time</th>\n",
              "      <th>expiration_date</th>\n",
              "    </tr>\n",
              "  </thead>\n",
              "  <tbody>\n",
              "    <tr>\n",
              "      <th>count</th>\n",
              "      <td>15683.000000</td>\n",
              "      <td>15683.000000</td>\n",
              "      <td>15683.000000</td>\n",
              "      <td>15683.000000</td>\n",
              "      <td>15683.000000</td>\n",
              "      <td>15683.000000</td>\n",
              "      <td>1.568300e+04</td>\n",
              "      <td>15683.000000</td>\n",
              "      <td>15683.000000</td>\n",
              "      <td>15683.000000</td>\n",
              "      <td>15683.000000</td>\n",
              "      <td>15683.000000</td>\n",
              "      <td>15683.000000</td>\n",
              "      <td>15683.000000</td>\n",
              "      <td>15683.000000</td>\n",
              "      <td>15683.000000</td>\n",
              "      <td>15683.000000</td>\n",
              "      <td>15683.000000</td>\n",
              "      <td>1.568300e+04</td>\n",
              "      <td>1.568300e+04</td>\n",
              "    </tr>\n",
              "    <tr>\n",
              "      <th>mean</th>\n",
              "      <td>1335.976153</td>\n",
              "      <td>4134.337882</td>\n",
              "      <td>3.516100</td>\n",
              "      <td>7.171778</td>\n",
              "      <td>3.971562</td>\n",
              "      <td>0.673022</td>\n",
              "      <td>2.467726e+05</td>\n",
              "      <td>56.656635</td>\n",
              "      <td>1297.542817</td>\n",
              "      <td>2215.961806</td>\n",
              "      <td>1373.719633</td>\n",
              "      <td>17.915322</td>\n",
              "      <td>3937.087675</td>\n",
              "      <td>3928.647835</td>\n",
              "      <td>7.462377</td>\n",
              "      <td>16.851623</td>\n",
              "      <td>0.282471</td>\n",
              "      <td>6.777197</td>\n",
              "      <td>2.012810e+07</td>\n",
              "      <td>2.017174e+07</td>\n",
              "    </tr>\n",
              "    <tr>\n",
              "      <th>std</th>\n",
              "      <td>730.934064</td>\n",
              "      <td>2414.533916</td>\n",
              "      <td>1.546802</td>\n",
              "      <td>2.722736</td>\n",
              "      <td>1.803002</td>\n",
              "      <td>0.473184</td>\n",
              "      <td>6.822584e+04</td>\n",
              "      <td>18.604198</td>\n",
              "      <td>649.634004</td>\n",
              "      <td>954.732809</td>\n",
              "      <td>491.997191</td>\n",
              "      <td>20.932949</td>\n",
              "      <td>2117.796658</td>\n",
              "      <td>1944.111162</td>\n",
              "      <td>6.568944</td>\n",
              "      <td>15.631835</td>\n",
              "      <td>0.450216</td>\n",
              "      <td>2.241729</td>\n",
              "      <td>2.854231e+04</td>\n",
              "      <td>3.802233e+03</td>\n",
              "    </tr>\n",
              "    <tr>\n",
              "      <th>min</th>\n",
              "      <td>0.000000</td>\n",
              "      <td>0.000000</td>\n",
              "      <td>0.000000</td>\n",
              "      <td>0.000000</td>\n",
              "      <td>0.000000</td>\n",
              "      <td>0.000000</td>\n",
              "      <td>1.421000e+04</td>\n",
              "      <td>0.000000</td>\n",
              "      <td>0.000000</td>\n",
              "      <td>0.000000</td>\n",
              "      <td>0.000000</td>\n",
              "      <td>-1.000000</td>\n",
              "      <td>0.000000</td>\n",
              "      <td>0.000000</td>\n",
              "      <td>1.000000</td>\n",
              "      <td>0.000000</td>\n",
              "      <td>0.000000</td>\n",
              "      <td>3.000000</td>\n",
              "      <td>2.004033e+07</td>\n",
              "      <td>2.013041e+07</td>\n",
              "    </tr>\n",
              "    <tr>\n",
              "      <th>25%</th>\n",
              "      <td>733.000000</td>\n",
              "      <td>2034.500000</td>\n",
              "      <td>3.000000</td>\n",
              "      <td>7.000000</td>\n",
              "      <td>3.000000</td>\n",
              "      <td>0.000000</td>\n",
              "      <td>2.151990e+05</td>\n",
              "      <td>58.000000</td>\n",
              "      <td>788.000000</td>\n",
              "      <td>1520.500000</td>\n",
              "      <td>1282.000000</td>\n",
              "      <td>3.000000</td>\n",
              "      <td>2145.500000</td>\n",
              "      <td>2469.500000</td>\n",
              "      <td>1.000000</td>\n",
              "      <td>0.000000</td>\n",
              "      <td>0.000000</td>\n",
              "      <td>4.000000</td>\n",
              "      <td>2.011081e+07</td>\n",
              "      <td>2.017091e+07</td>\n",
              "    </tr>\n",
              "    <tr>\n",
              "      <th>50%</th>\n",
              "      <td>1373.000000</td>\n",
              "      <td>4063.000000</td>\n",
              "      <td>4.000000</td>\n",
              "      <td>7.000000</td>\n",
              "      <td>3.000000</td>\n",
              "      <td>1.000000</td>\n",
              "      <td>2.439830e+05</td>\n",
              "      <td>60.000000</td>\n",
              "      <td>1440.000000</td>\n",
              "      <td>2672.000000</td>\n",
              "      <td>1518.000000</td>\n",
              "      <td>3.000000</td>\n",
              "      <td>4107.000000</td>\n",
              "      <td>4159.000000</td>\n",
              "      <td>5.000000</td>\n",
              "      <td>20.000000</td>\n",
              "      <td>0.000000</td>\n",
              "      <td>7.000000</td>\n",
              "      <td>2.013091e+07</td>\n",
              "      <td>2.017092e+07</td>\n",
              "    </tr>\n",
              "    <tr>\n",
              "      <th>75%</th>\n",
              "      <td>1937.000000</td>\n",
              "      <td>6206.500000</td>\n",
              "      <td>4.000000</td>\n",
              "      <td>7.000000</td>\n",
              "      <td>5.000000</td>\n",
              "      <td>1.000000</td>\n",
              "      <td>2.733450e+05</td>\n",
              "      <td>60.000000</td>\n",
              "      <td>1806.000000</td>\n",
              "      <td>2820.000000</td>\n",
              "      <td>1518.000000</td>\n",
              "      <td>31.000000</td>\n",
              "      <td>5713.500000</td>\n",
              "      <td>5428.000000</td>\n",
              "      <td>13.000000</td>\n",
              "      <td>29.000000</td>\n",
              "      <td>1.000000</td>\n",
              "      <td>9.000000</td>\n",
              "      <td>2.015092e+07</td>\n",
              "      <td>2.017101e+07</td>\n",
              "    </tr>\n",
              "    <tr>\n",
              "      <th>max</th>\n",
              "      <td>2637.000000</td>\n",
              "      <td>8345.000000</td>\n",
              "      <td>8.000000</td>\n",
              "      <td>16.000000</td>\n",
              "      <td>10.000000</td>\n",
              "      <td>6.000000</td>\n",
              "      <td>3.600114e+06</td>\n",
              "      <td>108.000000</td>\n",
              "      <td>2277.000000</td>\n",
              "      <td>3544.000000</td>\n",
              "      <td>2228.000000</td>\n",
              "      <td>59.000000</td>\n",
              "      <td>7498.000000</td>\n",
              "      <td>7190.000000</td>\n",
              "      <td>22.000000</td>\n",
              "      <td>111.000000</td>\n",
              "      <td>1.000000</td>\n",
              "      <td>13.000000</td>\n",
              "      <td>2.016121e+07</td>\n",
              "      <td>2.019031e+07</td>\n",
              "    </tr>\n",
              "  </tbody>\n",
              "</table>\n",
              "</div>\n",
              "      <button class=\"colab-df-convert\" onclick=\"convertToInteractive('df-563f9e5e-3ad4-4e4e-b89e-21a3d66a9692')\"\n",
              "              title=\"Convert this dataframe to an interactive table.\"\n",
              "              style=\"display:none;\">\n",
              "        \n",
              "  <svg xmlns=\"http://www.w3.org/2000/svg\" height=\"24px\"viewBox=\"0 0 24 24\"\n",
              "       width=\"24px\">\n",
              "    <path d=\"M0 0h24v24H0V0z\" fill=\"none\"/>\n",
              "    <path d=\"M18.56 5.44l.94 2.06.94-2.06 2.06-.94-2.06-.94-.94-2.06-.94 2.06-2.06.94zm-11 1L8.5 8.5l.94-2.06 2.06-.94-2.06-.94L8.5 2.5l-.94 2.06-2.06.94zm10 10l.94 2.06.94-2.06 2.06-.94-2.06-.94-.94-2.06-.94 2.06-2.06.94z\"/><path d=\"M17.41 7.96l-1.37-1.37c-.4-.4-.92-.59-1.43-.59-.52 0-1.04.2-1.43.59L10.3 9.45l-7.72 7.72c-.78.78-.78 2.05 0 2.83L4 21.41c.39.39.9.59 1.41.59.51 0 1.02-.2 1.41-.59l7.78-7.78 2.81-2.81c.8-.78.8-2.07 0-2.86zM5.41 20L4 18.59l7.72-7.72 1.47 1.35L5.41 20z\"/>\n",
              "  </svg>\n",
              "      </button>\n",
              "      \n",
              "  <style>\n",
              "    .colab-df-container {\n",
              "      display:flex;\n",
              "      flex-wrap:wrap;\n",
              "      gap: 12px;\n",
              "    }\n",
              "\n",
              "    .colab-df-convert {\n",
              "      background-color: #E8F0FE;\n",
              "      border: none;\n",
              "      border-radius: 50%;\n",
              "      cursor: pointer;\n",
              "      display: none;\n",
              "      fill: #1967D2;\n",
              "      height: 32px;\n",
              "      padding: 0 0 0 0;\n",
              "      width: 32px;\n",
              "    }\n",
              "\n",
              "    .colab-df-convert:hover {\n",
              "      background-color: #E2EBFA;\n",
              "      box-shadow: 0px 1px 2px rgba(60, 64, 67, 0.3), 0px 1px 3px 1px rgba(60, 64, 67, 0.15);\n",
              "      fill: #174EA6;\n",
              "    }\n",
              "\n",
              "    [theme=dark] .colab-df-convert {\n",
              "      background-color: #3B4455;\n",
              "      fill: #D2E3FC;\n",
              "    }\n",
              "\n",
              "    [theme=dark] .colab-df-convert:hover {\n",
              "      background-color: #434B5C;\n",
              "      box-shadow: 0px 1px 3px 1px rgba(0, 0, 0, 0.15);\n",
              "      filter: drop-shadow(0px 1px 2px rgba(0, 0, 0, 0.3));\n",
              "      fill: #FFFFFF;\n",
              "    }\n",
              "  </style>\n",
              "\n",
              "      <script>\n",
              "        const buttonEl =\n",
              "          document.querySelector('#df-563f9e5e-3ad4-4e4e-b89e-21a3d66a9692 button.colab-df-convert');\n",
              "        buttonEl.style.display =\n",
              "          google.colab.kernel.accessAllowed ? 'block' : 'none';\n",
              "\n",
              "        async function convertToInteractive(key) {\n",
              "          const element = document.querySelector('#df-563f9e5e-3ad4-4e4e-b89e-21a3d66a9692');\n",
              "          const dataTable =\n",
              "            await google.colab.kernel.invokeFunction('convertToInteractive',\n",
              "                                                     [key], {});\n",
              "          if (!dataTable) return;\n",
              "\n",
              "          const docLinkHtml = 'Like what you see? Visit the ' +\n",
              "            '<a target=\"_blank\" href=https://colab.research.google.com/notebooks/data_table.ipynb>data table notebook</a>'\n",
              "            + ' to learn more about interactive tables.';\n",
              "          element.innerHTML = '';\n",
              "          dataTable['output_type'] = 'display_data';\n",
              "          await google.colab.output.renderOutput(dataTable, element);\n",
              "          const docLink = document.createElement('div');\n",
              "          docLink.innerHTML = docLinkHtml;\n",
              "          element.appendChild(docLink);\n",
              "        }\n",
              "      </script>\n",
              "    </div>\n",
              "  </div>\n",
              "  "
            ],
            "text/plain": [
              "               msno       song_id  source_system_tab  source_screen_name  \\\n",
              "count  15683.000000  15683.000000       15683.000000        15683.000000   \n",
              "mean    1335.976153   4134.337882           3.516100            7.171778   \n",
              "std      730.934064   2414.533916           1.546802            2.722736   \n",
              "min        0.000000      0.000000           0.000000            0.000000   \n",
              "25%      733.000000   2034.500000           3.000000            7.000000   \n",
              "50%     1373.000000   4063.000000           4.000000            7.000000   \n",
              "75%     1937.000000   6206.500000           4.000000            7.000000   \n",
              "max     2637.000000   8345.000000           8.000000           16.000000   \n",
              "\n",
              "        source_type        target   song_length     genre_ids   artist_name  \\\n",
              "count  15683.000000  15683.000000  1.568300e+04  15683.000000  15683.000000   \n",
              "mean       3.971562      0.673022  2.467726e+05     56.656635   1297.542817   \n",
              "std        1.803002      0.473184  6.822584e+04     18.604198    649.634004   \n",
              "min        0.000000      0.000000  1.421000e+04      0.000000      0.000000   \n",
              "25%        3.000000      0.000000  2.151990e+05     58.000000    788.000000   \n",
              "50%        3.000000      1.000000  2.439830e+05     60.000000   1440.000000   \n",
              "75%        5.000000      1.000000  2.733450e+05     60.000000   1806.000000   \n",
              "max       10.000000      6.000000  3.600114e+06    108.000000   2277.000000   \n",
              "\n",
              "           composer      lyricist      language          name          isrc  \\\n",
              "count  15683.000000  15683.000000  15683.000000  15683.000000  15683.000000   \n",
              "mean    2215.961806   1373.719633     17.915322   3937.087675   3928.647835   \n",
              "std      954.732809    491.997191     20.932949   2117.796658   1944.111162   \n",
              "min        0.000000      0.000000     -1.000000      0.000000      0.000000   \n",
              "25%     1520.500000   1282.000000      3.000000   2145.500000   2469.500000   \n",
              "50%     2672.000000   1518.000000      3.000000   4107.000000   4159.000000   \n",
              "75%     2820.000000   1518.000000     31.000000   5713.500000   5428.000000   \n",
              "max     3544.000000   2228.000000     59.000000   7498.000000   7190.000000   \n",
              "\n",
              "               city            bd        gender  registered_via  \\\n",
              "count  15683.000000  15683.000000  15683.000000    15683.000000   \n",
              "mean       7.462377     16.851623      0.282471        6.777197   \n",
              "std        6.568944     15.631835      0.450216        2.241729   \n",
              "min        1.000000      0.000000      0.000000        3.000000   \n",
              "25%        1.000000      0.000000      0.000000        4.000000   \n",
              "50%        5.000000     20.000000      0.000000        7.000000   \n",
              "75%       13.000000     29.000000      1.000000        9.000000   \n",
              "max       22.000000    111.000000      1.000000       13.000000   \n",
              "\n",
              "       registration_init_time  expiration_date  \n",
              "count            1.568300e+04     1.568300e+04  \n",
              "mean             2.012810e+07     2.017174e+07  \n",
              "std              2.854231e+04     3.802233e+03  \n",
              "min              2.004033e+07     2.013041e+07  \n",
              "25%              2.011081e+07     2.017091e+07  \n",
              "50%              2.013091e+07     2.017092e+07  \n",
              "75%              2.015092e+07     2.017101e+07  \n",
              "max              2.016121e+07     2.019031e+07  "
            ]
          },
          "execution_count": 44,
          "metadata": {},
          "output_type": "execute_result"
        }
      ],
      "source": [
        "msongs.describe()"
      ]
    },
    {
      "cell_type": "code",
      "execution_count": null,
      "metadata": {
        "colab": {
          "base_uri": "https://localhost:8080/"
        },
        "id": "_ZGMcAP3XeTH",
        "outputId": "c98a261c-3e52-4a6c-8c7e-fa364202927a"
      },
      "outputs": [
        {
          "name": "stdout",
          "output_type": "stream",
          "text": [
            "Duplicate values:  0\n"
          ]
        }
      ],
      "source": [
        "print('Duplicate values: ',msongs.duplicated().sum())"
      ]
    },
    {
      "cell_type": "code",
      "execution_count": null,
      "metadata": {
        "id": "4DWQjQPPCHzU"
      },
      "outputs": [],
      "source": []
    },
    {
      "cell_type": "code",
      "execution_count": null,
      "metadata": {
        "colab": {
          "base_uri": "https://localhost:8080/"
        },
        "id": "7sK3NKjkXrZs",
        "outputId": "499cecfa-9920-4da7-e1ff-e8637036487a"
      },
      "outputs": [
        {
          "name": "stdout",
          "output_type": "stream",
          "text": [
            "                            msno   song_id  source_system_tab  \\\n",
            "msno                    1.000000  0.009812          -0.000103   \n",
            "song_id                 0.009812  1.000000          -0.007620   \n",
            "source_system_tab      -0.000103 -0.007620           1.000000   \n",
            "source_screen_name      0.023955 -0.011152           0.003265   \n",
            "source_type             0.010874  0.012921          -0.084298   \n",
            "target                 -0.027071 -0.012446           0.087259   \n",
            "song_length            -0.000599 -0.021146           0.018653   \n",
            "genre_ids              -0.002758  0.018706           0.032825   \n",
            "artist_name             0.023012 -0.019297           0.020544   \n",
            "composer                0.004290 -0.037117           0.037227   \n",
            "lyricist                0.009264 -0.058105           0.022460   \n",
            "language               -0.024626  0.006273          -0.052108   \n",
            "name                    0.023105 -0.018990           0.024589   \n",
            "isrc                    0.022935 -0.039570          -0.029827   \n",
            "city                    0.057830  0.001727           0.041710   \n",
            "bd                      0.013505  0.006445          -0.006889   \n",
            "gender                  0.026894 -0.002646           0.029089   \n",
            "registered_via         -0.026270 -0.008018           0.013223   \n",
            "registration_init_time  0.044760  0.000622          -0.016895   \n",
            "expiration_date         0.043188 -0.006940           0.023848   \n",
            "\n",
            "                        source_screen_name  source_type    target  \\\n",
            "msno                              0.023955     0.010874 -0.027071   \n",
            "song_id                          -0.011152     0.012921 -0.012446   \n",
            "source_system_tab                 0.003265    -0.084298  0.087259   \n",
            "source_screen_name                1.000000     0.167717 -0.064251   \n",
            "source_type                       0.167717     1.000000 -0.141701   \n",
            "target                           -0.064251    -0.141701  1.000000   \n",
            "song_length                       0.013461    -0.011313  0.004243   \n",
            "genre_ids                        -0.035070    -0.065655  0.004377   \n",
            "artist_name                       0.015318    -0.043546  0.026173   \n",
            "composer                          0.014397    -0.032977  0.001615   \n",
            "lyricist                          0.015666    -0.009390 -0.008965   \n",
            "language                         -0.019821     0.040948 -0.041866   \n",
            "name                              0.036500    -0.021539  0.047214   \n",
            "isrc                              0.005223    -0.022392  0.021448   \n",
            "city                              0.014812    -0.008707  0.052096   \n",
            "bd                                0.013959     0.000020  0.013950   \n",
            "gender                            0.013786     0.023094 -0.000744   \n",
            "registered_via                   -0.041568    -0.018193  0.025931   \n",
            "registration_init_time            0.011519     0.022785 -0.026483   \n",
            "expiration_date                  -0.021852    -0.047937  0.072005   \n",
            "\n",
            "                        song_length  genre_ids  artist_name  composer  \\\n",
            "msno                      -0.000599  -0.002758     0.023012  0.004290   \n",
            "song_id                   -0.021146   0.018706    -0.019297 -0.037117   \n",
            "source_system_tab          0.018653   0.032825     0.020544  0.037227   \n",
            "source_screen_name         0.013461  -0.035070     0.015318  0.014397   \n",
            "source_type               -0.011313  -0.065655    -0.043546 -0.032977   \n",
            "target                     0.004243   0.004377     0.026173  0.001615   \n",
            "song_length                1.000000   0.051533     0.134452  0.107553   \n",
            "genre_ids                  0.051533   1.000000     0.202612  0.151236   \n",
            "artist_name                0.134452   0.202612     1.000000  0.327661   \n",
            "composer                   0.107553   0.151236     0.327661  1.000000   \n",
            "lyricist                   0.069988   0.086162     0.200404  0.591581   \n",
            "language                  -0.223912  -0.286085    -0.576707 -0.366247   \n",
            "name                       0.191265   0.210186     0.492529  0.334102   \n",
            "isrc                      -0.002640   0.004094     0.079710  0.051736   \n",
            "city                       0.002543   0.012420     0.014905  0.019652   \n",
            "bd                         0.011876   0.028356     0.046299  0.026630   \n",
            "gender                    -0.003919  -0.019085     0.035662  0.016933   \n",
            "registered_via             0.031018  -0.002761     0.035629  0.013254   \n",
            "registration_init_time    -0.035852  -0.010833    -0.026584 -0.013572   \n",
            "expiration_date            0.009929   0.030696     0.051197  0.041354   \n",
            "\n",
            "                        lyricist  language      name      isrc      city  \\\n",
            "msno                    0.009264 -0.024626  0.023105  0.022935  0.057830   \n",
            "song_id                -0.058105  0.006273 -0.018990 -0.039570  0.001727   \n",
            "source_system_tab       0.022460 -0.052108  0.024589 -0.029827  0.041710   \n",
            "source_screen_name      0.015666 -0.019821  0.036500  0.005223  0.014812   \n",
            "source_type            -0.009390  0.040948 -0.021539 -0.022392 -0.008707   \n",
            "target                 -0.008965 -0.041866  0.047214  0.021448  0.052096   \n",
            "song_length             0.069988 -0.223912  0.191265 -0.002640  0.002543   \n",
            "genre_ids               0.086162 -0.286085  0.210186  0.004094  0.012420   \n",
            "artist_name             0.200404 -0.576707  0.492529  0.079710  0.014905   \n",
            "composer                0.591581 -0.366247  0.334102  0.051736  0.019652   \n",
            "lyricist                1.000000 -0.181817  0.188882  0.102670  0.006173   \n",
            "language               -0.181817  1.000000 -0.646814  0.069046 -0.021228   \n",
            "name                    0.188882 -0.646814  1.000000 -0.003100  0.026436   \n",
            "isrc                    0.102670  0.069046 -0.003100  1.000000 -0.005267   \n",
            "city                    0.006173 -0.021228  0.026436 -0.005267  1.000000   \n",
            "bd                     -0.001708 -0.040358  0.036306  0.000740  0.569120   \n",
            "gender                 -0.005946 -0.030190  0.032204  0.013560  0.349960   \n",
            "registered_via          0.012981 -0.052135  0.037438 -0.019405  0.055188   \n",
            "registration_init_time  0.007644  0.049444 -0.036803  0.010796 -0.284359   \n",
            "expiration_date         0.021369 -0.033561  0.047268 -0.007942  0.228650   \n",
            "\n",
            "                              bd    gender  registered_via  \\\n",
            "msno                    0.013505  0.026894       -0.026270   \n",
            "song_id                 0.006445 -0.002646       -0.008018   \n",
            "source_system_tab      -0.006889  0.029089        0.013223   \n",
            "source_screen_name      0.013959  0.013786       -0.041568   \n",
            "source_type             0.000020  0.023094       -0.018193   \n",
            "target                  0.013950 -0.000744        0.025931   \n",
            "song_length             0.011876 -0.003919        0.031018   \n",
            "genre_ids               0.028356 -0.019085       -0.002761   \n",
            "artist_name             0.046299  0.035662        0.035629   \n",
            "composer                0.026630  0.016933        0.013254   \n",
            "lyricist               -0.001708 -0.005946        0.012981   \n",
            "language               -0.040358 -0.030190       -0.052135   \n",
            "name                    0.036306  0.032204        0.037438   \n",
            "isrc                    0.000740  0.013560       -0.019405   \n",
            "city                    0.569120  0.349960        0.055188   \n",
            "bd                      1.000000  0.427601        0.128871   \n",
            "gender                  0.427601  1.000000        0.006888   \n",
            "registered_via          0.128871  0.006888        1.000000   \n",
            "registration_init_time -0.418457 -0.199886       -0.426571   \n",
            "expiration_date         0.228133  0.123433        0.177798   \n",
            "\n",
            "                        registration_init_time  expiration_date  \n",
            "msno                                  0.044760         0.043188  \n",
            "song_id                               0.000622        -0.006940  \n",
            "source_system_tab                    -0.016895         0.023848  \n",
            "source_screen_name                    0.011519        -0.021852  \n",
            "source_type                           0.022785        -0.047937  \n",
            "target                               -0.026483         0.072005  \n",
            "song_length                          -0.035852         0.009929  \n",
            "genre_ids                            -0.010833         0.030696  \n",
            "artist_name                          -0.026584         0.051197  \n",
            "composer                             -0.013572         0.041354  \n",
            "lyricist                              0.007644         0.021369  \n",
            "language                              0.049444        -0.033561  \n",
            "name                                 -0.036803         0.047268  \n",
            "isrc                                  0.010796        -0.007942  \n",
            "city                                 -0.284359         0.228650  \n",
            "bd                                   -0.418457         0.228133  \n",
            "gender                               -0.199886         0.123433  \n",
            "registered_via                       -0.426571         0.177798  \n",
            "registration_init_time                1.000000        -0.129368  \n",
            "expiration_date                      -0.129368         1.000000  \n"
          ]
        }
      ],
      "source": [
        "print(msongs.corr())"
      ]
    },
    {
      "cell_type": "code",
      "execution_count": null,
      "metadata": {
        "colab": {
          "base_uri": "https://localhost:8080/",
          "height": 709
        },
        "id": "UBR6W1z-YT-N",
        "outputId": "bdbe8366-1136-4f7f-c858-ec4b3082da21"
      },
      "outputs": [
        {
          "data": {
            "text/plain": [
              "<matplotlib.axes._subplots.AxesSubplot at 0x7eff96a37dc0>"
            ]
          },
          "execution_count": 47,
          "metadata": {},
          "output_type": "execute_result"
        },
        {
          "data": {
            "image/png": "[encoded data removed]",
            "text/plain": [
              "<Figure size 720x720 with 2 Axes>"
            ]
          },
          "metadata": {},
          "output_type": "display_data"
        }
      ],
      "source": [
        "plt.figure(figsize=(10,10))\n",
        "sns.heatmap(msongs.corr())"
      ]
    },
    {
      "cell_type": "markdown",
      "metadata": {
        "id": "xq9zdTwbiQDS"
      },
      "source": [
        "Visualization"
      ]
    },
    {
      "cell_type": "code",
      "execution_count": null,
      "metadata": {
        "colab": {
          "base_uri": "https://localhost:8080/",
          "height": 678
        },
        "id": "-xEGdVXMiVZu",
        "outputId": "f4e31fc1-0583-47ee-b9a2-ce2152f8d5d3"
      },
      "outputs": [
        {
          "name": "stderr",
          "output_type": "stream",
          "text": [
            "/usr/local/lib/python3.8/dist-packages/seaborn/_decorators.py:36: FutureWarning: Pass the following variable as a keyword arg: x. From version 0.12, the only valid positional argument will be `data`, and passing other arguments without an explicit keyword will result in an error or misinterpretation.\n",
            "  warnings.warn(\n"
          ]
        },
        {
          "data": {
            "text/plain": [
              "<matplotlib.axes._subplots.AxesSubplot at 0x7eff935bed30>"
            ]
          },
          "execution_count": 48,
          "metadata": {},
          "output_type": "execute_result"
        },
        {
          "data": {
            "image/png": "[encoded data removed]",
            "text/plain": [
              "<Figure size 864x720 with 1 Axes>"
            ]
          },
          "metadata": {},
          "output_type": "display_data"
        }
      ],
      "source": [
        "plt.figure(figsize=(12,10))\n",
        "sns.countplot(train['source_system_tab'],hue=train['target'])"
      ]
    },
    {
      "cell_type": "code",
      "execution_count": null,
      "metadata": {
        "colab": {
          "base_uri": "https://localhost:8080/",
          "height": 919
        },
        "id": "OXUsHN9QkSaX",
        "outputId": "a42b32bb-efba-4cc2-c188-b6e67174dc05"
      },
      "outputs": [
        {
          "name": "stderr",
          "output_type": "stream",
          "text": [
            "/usr/local/lib/python3.8/dist-packages/seaborn/_decorators.py:36: FutureWarning: Pass the following variable as a keyword arg: x. From version 0.12, the only valid positional argument will be `data`, and passing other arguments without an explicit keyword will result in an error or misinterpretation.\n",
            "  warnings.warn(\n"
          ]
        },
        {
          "data": {
            "text/plain": [
              "[Text(0, 0, 'online-playlist'),\n",
              " Text(0, 0, 'local-playlist'),\n",
              " Text(0, 0, 'local-library'),\n",
              " Text(0, 0, 'top-hits-for-artist'),\n",
              " Text(0, 0, 'album'),\n",
              " Text(0, 0, 'song-based-playlist'),\n",
              " Text(0, 0, 'radio'),\n",
              " Text(0, 0, 'song'),\n",
              " Text(0, 0, 'listen-with'),\n",
              " Text(0, 0, 'artist'),\n",
              " Text(0, 0, 'topic-article-playlist')]"
            ]
          },
          "execution_count": 49,
          "metadata": {},
          "output_type": "execute_result"
        },
        {
          "data": {
            "image/png": "[encoded data removed]",
            "text/plain": [
              "<Figure size 864x720 with 1 Axes>"
            ]
          },
          "metadata": {},
          "output_type": "display_data"
        }
      ],
      "source": [
        "plt.figure(figsize=(12,10))\n",
        "g=sns.countplot(train['source_type'],hue=train['target'])\n",
        "locs, labels = plt.xticks()\n",
        "g.set_xticklabels(labels,rotation=45)"
      ]
    },
    {
      "cell_type": "code",
      "execution_count": null,
      "metadata": {
        "colab": {
          "base_uri": "https://localhost:8080/",
          "height": 509
        },
        "id": "qiDTMQ8lmvO2",
        "outputId": "b9cf5163-41eb-4424-a981-0c9f2b5b7b49"
      },
      "outputs": [
        {
          "data": {
            "image/png": "[encoded data removed]",
            "text/plain": [
              "<Figure size 864x576 with 1 Axes>"
            ]
          },
          "metadata": {},
          "output_type": "display_data"
        }
      ],
      "source": [
        "fig, ax = plt.subplots(figsize=(12,8))\n",
        "ax=sns.countplot(x=\"gender\",data=msongs,palette=['#705898','#7038F8','yellow'],hue=\"target\")\n",
        "plt.xlabel(\"male female participation\")\n",
        "plt.ylabel(\"count\")\n",
        "plt.title(\"male female participation vs target \")\n",
        "plt.xticks(rotation='90')\n",
        "plt.legend(loc='upper left')\n",
        "plt.show()"
      ]
    },
    {
      "cell_type": "code",
      "execution_count": null,
      "metadata": {
        "colab": {
          "base_uri": "https://localhost:8080/",
          "height": 513
        },
        "id": "3ECfIsqApq5b",
        "outputId": "c5cf2ac9-d8f3-4e2a-9bca-9353b1e7d122"
      },
      "outputs": [
        {
          "data": {
            "image/png": "[encoded data removed]",
            "text/plain": [
              "<Figure size 864x576 with 1 Axes>"
            ]
          },
          "metadata": {},
          "output_type": "display_data"
        }
      ],
      "source": [
        "fig, ax = plt.subplots(figsize=(12,8))\n",
        "ax=sns.boxplot(x=\"gender\",y=\"city\",data=msongs,palette=['blue','orange','green'],hue=\"target\")\n",
        "plt.xlabel(\"gender\")\n",
        "plt.ylabel(\"city\")\n",
        "plt.title(\"city vs registered_via  \")\n",
        "plt.show()"
      ]
    },
    {
      "cell_type": "code",
      "execution_count": null,
      "metadata": {
        "colab": {
          "base_uri": "https://localhost:8080/",
          "height": 513
        },
        "id": "PJeKz7PwrNi-",
        "outputId": "437867a8-e477-43d7-f7bb-ee4ccce59723"
      },
      "outputs": [
        {
          "data": {
            "image/png": "[encoded data removed]",
            "text/plain": [
              "<Figure size 864x576 with 1 Axes>"
            ]
          },
          "metadata": {},
          "output_type": "display_data"
        }
      ],
      "source": [
        "fig, ax = plt.subplots(figsize=(12,8))\n",
        "ax=sns.boxplot(x=\"bd\",y=\"gender\",data=msongs,palette=['blue','orange','green'])\n",
        "plt.xlabel(\"bd age group\")\n",
        "plt.ylabel(\"gender\")\n",
        "plt.title(\"bd age group vs gender \")\n",
        "plt.show()"
      ]
    },
    {
      "cell_type": "markdown",
      "metadata": {
        "id": "haLpt9jwp92s"
      },
      "source": [
        "# Model Selection\n",
        "\n"
      ]
    },
    {
      "cell_type": "code",
      "execution_count": null,
      "metadata": {
        "id": "ZXe6Vx-P77Z0"
      },
      "outputs": [],
      "source": [
        "X = msongs.drop('target', axis = 1)\n",
        "y = msongs.target\n",
        "X_train, X_test, Y_train, Y_test = train_test_split(X, y, test_size = 0.25, random_state = 0)"
      ]
    },
    {
      "cell_type": "code",
      "execution_count": null,
      "metadata": {
        "colab": {
          "base_uri": "https://localhost:8080/",
          "height": 424
        },
        "id": "kGgQZ8cMGvB2",
        "outputId": "7e3817db-e85e-4653-9b7a-131296adc538"
      },
      "outputs": [
        {
          "data": {
            "text/html": [
              "\n",
              "  <div id=\"df-1bad98c0-7485-4fc4-900e-4a2f112fde1e\">\n",
              "    <div class=\"colab-df-container\">\n",
              "      <div>\n",
              "<style scoped>\n",
              "    .dataframe tbody tr th:only-of-type {\n",
              "        vertical-align: middle;\n",
              "    }\n",
              "\n",
              "    .dataframe tbody tr th {\n",
              "        vertical-align: top;\n",
              "    }\n",
              "\n",
              "    .dataframe thead th {\n",
              "        text-align: right;\n",
              "    }\n",
              "</style>\n",
              "<table border=\"1\" class=\"dataframe\">\n",
              "  <thead>\n",
              "    <tr style=\"text-align: right;\">\n",
              "      <th></th>\n",
              "      <th>Predicted</th>\n",
              "      <th>Actual</th>\n",
              "    </tr>\n",
              "  </thead>\n",
              "  <tbody>\n",
              "    <tr>\n",
              "      <th>2267</th>\n",
              "      <td>1.0</td>\n",
              "      <td>1.0</td>\n",
              "    </tr>\n",
              "    <tr>\n",
              "      <th>12290</th>\n",
              "      <td>1.0</td>\n",
              "      <td>1.0</td>\n",
              "    </tr>\n",
              "    <tr>\n",
              "      <th>13470</th>\n",
              "      <td>1.0</td>\n",
              "      <td>1.0</td>\n",
              "    </tr>\n",
              "    <tr>\n",
              "      <th>13763</th>\n",
              "      <td>1.0</td>\n",
              "      <td>1.0</td>\n",
              "    </tr>\n",
              "    <tr>\n",
              "      <th>1870</th>\n",
              "      <td>1.0</td>\n",
              "      <td>0.0</td>\n",
              "    </tr>\n",
              "    <tr>\n",
              "      <th>...</th>\n",
              "      <td>...</td>\n",
              "      <td>...</td>\n",
              "    </tr>\n",
              "    <tr>\n",
              "      <th>9682</th>\n",
              "      <td>1.0</td>\n",
              "      <td>1.0</td>\n",
              "    </tr>\n",
              "    <tr>\n",
              "      <th>2175</th>\n",
              "      <td>0.0</td>\n",
              "      <td>1.0</td>\n",
              "    </tr>\n",
              "    <tr>\n",
              "      <th>2876</th>\n",
              "      <td>1.0</td>\n",
              "      <td>1.0</td>\n",
              "    </tr>\n",
              "    <tr>\n",
              "      <th>5578</th>\n",
              "      <td>1.0</td>\n",
              "      <td>1.0</td>\n",
              "    </tr>\n",
              "    <tr>\n",
              "      <th>14164</th>\n",
              "      <td>1.0</td>\n",
              "      <td>1.0</td>\n",
              "    </tr>\n",
              "  </tbody>\n",
              "</table>\n",
              "<p>3921 rows × 2 columns</p>\n",
              "</div>\n",
              "      <button class=\"colab-df-convert\" onclick=\"convertToInteractive('df-1bad98c0-7485-4fc4-900e-4a2f112fde1e')\"\n",
              "              title=\"Convert this dataframe to an interactive table.\"\n",
              "              style=\"display:none;\">\n",
              "        \n",
              "  <svg xmlns=\"http://www.w3.org/2000/svg\" height=\"24px\"viewBox=\"0 0 24 24\"\n",
              "       width=\"24px\">\n",
              "    <path d=\"M0 0h24v24H0V0z\" fill=\"none\"/>\n",
              "    <path d=\"M18.56 5.44l.94 2.06.94-2.06 2.06-.94-2.06-.94-.94-2.06-.94 2.06-2.06.94zm-11 1L8.5 8.5l.94-2.06 2.06-.94-2.06-.94L8.5 2.5l-.94 2.06-2.06.94zm10 10l.94 2.06.94-2.06 2.06-.94-2.06-.94-.94-2.06-.94 2.06-2.06.94z\"/><path d=\"M17.41 7.96l-1.37-1.37c-.4-.4-.92-.59-1.43-.59-.52 0-1.04.2-1.43.59L10.3 9.45l-7.72 7.72c-.78.78-.78 2.05 0 2.83L4 21.41c.39.39.9.59 1.41.59.51 0 1.02-.2 1.41-.59l7.78-7.78 2.81-2.81c.8-.78.8-2.07 0-2.86zM5.41 20L4 18.59l7.72-7.72 1.47 1.35L5.41 20z\"/>\n",
              "  </svg>\n",
              "      </button>\n",
              "      \n",
              "  <style>\n",
              "    .colab-df-container {\n",
              "      display:flex;\n",
              "      flex-wrap:wrap;\n",
              "      gap: 12px;\n",
              "    }\n",
              "\n",
              "    .colab-df-convert {\n",
              "      background-color: #E8F0FE;\n",
              "      border: none;\n",
              "      border-radius: 50%;\n",
              "      cursor: pointer;\n",
              "      display: none;\n",
              "      fill: #1967D2;\n",
              "      height: 32px;\n",
              "      padding: 0 0 0 0;\n",
              "      width: 32px;\n",
              "    }\n",
              "\n",
              "    .colab-df-convert:hover {\n",
              "      background-color: #E2EBFA;\n",
              "      box-shadow: 0px 1px 2px rgba(60, 64, 67, 0.3), 0px 1px 3px 1px rgba(60, 64, 67, 0.15);\n",
              "      fill: #174EA6;\n",
              "    }\n",
              "\n",
              "    [theme=dark] .colab-df-convert {\n",
              "      background-color: #3B4455;\n",
              "      fill: #D2E3FC;\n",
              "    }\n",
              "\n",
              "    [theme=dark] .colab-df-convert:hover {\n",
              "      background-color: #434B5C;\n",
              "      box-shadow: 0px 1px 3px 1px rgba(0, 0, 0, 0.15);\n",
              "      filter: drop-shadow(0px 1px 2px rgba(0, 0, 0, 0.3));\n",
              "      fill: #FFFFFF;\n",
              "    }\n",
              "  </style>\n",
              "\n",
              "      <script>\n",
              "        const buttonEl =\n",
              "          document.querySelector('#df-1bad98c0-7485-4fc4-900e-4a2f112fde1e button.colab-df-convert');\n",
              "        buttonEl.style.display =\n",
              "          google.colab.kernel.accessAllowed ? 'block' : 'none';\n",
              "\n",
              "        async function convertToInteractive(key) {\n",
              "          const element = document.querySelector('#df-1bad98c0-7485-4fc4-900e-4a2f112fde1e');\n",
              "          const dataTable =\n",
              "            await google.colab.kernel.invokeFunction('convertToInteractive',\n",
              "                                                     [key], {});\n",
              "          if (!dataTable) return;\n",
              "\n",
              "          const docLinkHtml = 'Like what you see? Visit the ' +\n",
              "            '<a target=\"_blank\" href=https://colab.research.google.com/notebooks/data_table.ipynb>data table notebook</a>'\n",
              "            + ' to learn more about interactive tables.';\n",
              "          element.innerHTML = '';\n",
              "          dataTable['output_type'] = 'display_data';\n",
              "          await google.colab.output.renderOutput(dataTable, element);\n",
              "          const docLink = document.createElement('div');\n",
              "          docLink.innerHTML = docLinkHtml;\n",
              "          element.appendChild(docLink);\n",
              "        }\n",
              "      </script>\n",
              "    </div>\n",
              "  </div>\n",
              "  "
            ],
            "text/plain": [
              "       Predicted  Actual\n",
              "2267         1.0     1.0\n",
              "12290        1.0     1.0\n",
              "13470        1.0     1.0\n",
              "13763        1.0     1.0\n",
              "1870         1.0     0.0\n",
              "...          ...     ...\n",
              "9682         1.0     1.0\n",
              "2175         0.0     1.0\n",
              "2876         1.0     1.0\n",
              "5578         1.0     1.0\n",
              "14164        1.0     1.0\n",
              "\n",
              "[3921 rows x 2 columns]"
            ]
          },
          "execution_count": 54,
          "metadata": {},
          "output_type": "execute_result"
        }
      ],
      "source": [
        "## 1) K-Nearest-Neighbours\n",
        "\n",
        "from sklearn.neighbors import KNeighborsClassifier\n",
        "\n",
        "knn_model=KNeighborsClassifier(n_neighbors=3)\n",
        "\n",
        "knn_model.fit(X_train,Y_train)\n",
        "\n",
        "knn_pred = knn_model.predict(X_test)\n",
        "Knn_preds = pd.DataFrame({\"Predicted\":knn_pred,\"Actual\":Y_test})\n",
        "Knn_preds\n",
        "\n"
      ]
    },
    {
      "cell_type": "code",
      "execution_count": null,
      "metadata": {
        "colab": {
          "base_uri": "https://localhost:8080/"
        },
        "id": "kaYjZ4osC1aC",
        "outputId": "282f552a-42e8-4765-e9a4-eabbcf376449"
      },
      "outputs": [
        {
          "name": "stdout",
          "output_type": "stream",
          "text": [
            "1992 961 610 358\n",
            "Rightly Classified:  2350 / 3921\n",
            "Wrongly Classified:  1571 / 3921\n"
          ]
        }
      ],
      "source": [
        "Knn_TP = len(Knn_preds[(Knn_preds[\"Predicted\"]==Knn_preds[\"Actual\"])&(Knn_preds[\"Predicted\"]==1)])\n",
        "Knn_FP = len(Knn_preds[(Knn_preds[\"Predicted\"]!=Knn_preds[\"Actual\"])&(Knn_preds[\"Predicted\"]==1)])\n",
        "Knn_FN = len(Knn_preds[(Knn_preds[\"Predicted\"]!=Knn_preds[\"Actual\"])&(Knn_preds[\"Predicted\"]==0)])\n",
        "Knn_TN = len(Knn_preds[(Knn_preds[\"Predicted\"]==Knn_preds[\"Actual\"])&(Knn_preds[\"Predicted\"]==0)])\n",
        "print(Knn_TP,Knn_FP,Knn_FN,Knn_TN)\n",
        "print(\"Rightly Classified: \",(Knn_TP+Knn_TN),\"/\",(Knn_TP+Knn_FP+Knn_FN+Knn_TN))\n",
        "print(\"Wrongly Classified: \",(Knn_FP+Knn_FN),\"/\",(Knn_TP+Knn_FP+Knn_FN+Knn_TN))\n",
        "\n"
      ]
    },
    {
      "cell_type": "code",
      "execution_count": null,
      "metadata": {
        "colab": {
          "base_uri": "https://localhost:8080/",
          "height": 314
        },
        "id": "YnSgLdGadYO-",
        "outputId": "3f68ee82-93e5-4eec-fd20-1df51c8e7bfd"
      },
      "outputs": [
        {
          "data": {
            "image/png": "[encoded data removed]",
            "text/plain": [
              "<Figure size 432x288 with 2 Axes>"
            ]
          },
          "metadata": {},
          "output_type": "display_data"
        },
        {
          "name": "stdout",
          "output_type": "stream",
          "text": [
            "\n",
            "Accuracy on using  KNN algorithm is:  59.93369038510584\n"
          ]
        }
      ],
      "source": [
        "confusion_matrix = metrics.confusion_matrix(Y_test, knn_pred)\n",
        "cm_display = metrics.ConfusionMatrixDisplay(confusion_matrix = confusion_matrix, display_labels = [False, True])\n",
        "cm_display.plot()\n",
        "plt.show()\n",
        "knn_accuracy = accuracy_score(knn_pred, Y_test)\n",
        "print('\\nAccuracy on using  KNN algorithm is: ',knn_accuracy*100);"
      ]
    },
    {
      "cell_type": "code",
      "execution_count": null,
      "metadata": {
        "colab": {
          "base_uri": "https://localhost:8080/"
        },
        "id": "eooYxq3AR3mz",
        "outputId": "692bbdb6-eafd-4721-8eb9-e22be3c6f387"
      },
      "outputs": [
        {
          "name": "stdout",
          "output_type": "stream",
          "text": [
            "              precision    recall  f1-score   support\n",
            "\n",
            "         0.0       0.37      0.27      0.31      1318\n",
            "         1.0       0.67      0.77      0.72      2602\n",
            "         6.0       0.00      0.00      0.00         1\n",
            "\n",
            "    accuracy                           0.60      3921\n",
            "   macro avg       0.35      0.35      0.34      3921\n",
            "weighted avg       0.57      0.60      0.58      3921\n",
            "\n"
          ]
        },
        {
          "name": "stderr",
          "output_type": "stream",
          "text": [
            "/usr/local/lib/python3.8/dist-packages/sklearn/metrics/_classification.py:1318: UndefinedMetricWarning: Precision and F-score are ill-defined and being set to 0.0 in labels with no predicted samples. Use `zero_division` parameter to control this behavior.\n",
            "  _warn_prf(average, modifier, msg_start, len(result))\n",
            "/usr/local/lib/python3.8/dist-packages/sklearn/metrics/_classification.py:1318: UndefinedMetricWarning: Precision and F-score are ill-defined and being set to 0.0 in labels with no predicted samples. Use `zero_division` parameter to control this behavior.\n",
            "  _warn_prf(average, modifier, msg_start, len(result))\n",
            "/usr/local/lib/python3.8/dist-packages/sklearn/metrics/_classification.py:1318: UndefinedMetricWarning: Precision and F-score are ill-defined and being set to 0.0 in labels with no predicted samples. Use `zero_division` parameter to control this behavior.\n",
            "  _warn_prf(average, modifier, msg_start, len(result))\n"
          ]
        }
      ],
      "source": [
        "print(classification_report(Y_test, knn_pred))"
      ]
    },
    {
      "cell_type": "markdown",
      "metadata": {
        "id": "W_Typ-rIZg3a"
      },
      "source": [
        "##KNN (k=10)"
      ]
    },
    {
      "cell_type": "code",
      "execution_count": null,
      "metadata": {
        "colab": {
          "base_uri": "https://localhost:8080/",
          "height": 424
        },
        "id": "0gGBa0TuZYcR",
        "outputId": "7cab90b5-0114-444b-a7d9-60332fed2ccb"
      },
      "outputs": [
        {
          "data": {
            "text/html": [
              "\n",
              "  <div id=\"df-1a48e4d9-cffa-423c-97fb-97f200a45ee3\">\n",
              "    <div class=\"colab-df-container\">\n",
              "      <div>\n",
              "<style scoped>\n",
              "    .dataframe tbody tr th:only-of-type {\n",
              "        vertical-align: middle;\n",
              "    }\n",
              "\n",
              "    .dataframe tbody tr th {\n",
              "        vertical-align: top;\n",
              "    }\n",
              "\n",
              "    .dataframe thead th {\n",
              "        text-align: right;\n",
              "    }\n",
              "</style>\n",
              "<table border=\"1\" class=\"dataframe\">\n",
              "  <thead>\n",
              "    <tr style=\"text-align: right;\">\n",
              "      <th></th>\n",
              "      <th>Predicted</th>\n",
              "      <th>Actual</th>\n",
              "    </tr>\n",
              "  </thead>\n",
              "  <tbody>\n",
              "    <tr>\n",
              "      <th>2267</th>\n",
              "      <td>1.0</td>\n",
              "      <td>1.0</td>\n",
              "    </tr>\n",
              "    <tr>\n",
              "      <th>12290</th>\n",
              "      <td>1.0</td>\n",
              "      <td>1.0</td>\n",
              "    </tr>\n",
              "    <tr>\n",
              "      <th>13470</th>\n",
              "      <td>1.0</td>\n",
              "      <td>1.0</td>\n",
              "    </tr>\n",
              "    <tr>\n",
              "      <th>13763</th>\n",
              "      <td>0.0</td>\n",
              "      <td>1.0</td>\n",
              "    </tr>\n",
              "    <tr>\n",
              "      <th>1870</th>\n",
              "      <td>1.0</td>\n",
              "      <td>0.0</td>\n",
              "    </tr>\n",
              "    <tr>\n",
              "      <th>...</th>\n",
              "      <td>...</td>\n",
              "      <td>...</td>\n",
              "    </tr>\n",
              "    <tr>\n",
              "      <th>9682</th>\n",
              "      <td>1.0</td>\n",
              "      <td>1.0</td>\n",
              "    </tr>\n",
              "    <tr>\n",
              "      <th>2175</th>\n",
              "      <td>1.0</td>\n",
              "      <td>1.0</td>\n",
              "    </tr>\n",
              "    <tr>\n",
              "      <th>2876</th>\n",
              "      <td>1.0</td>\n",
              "      <td>1.0</td>\n",
              "    </tr>\n",
              "    <tr>\n",
              "      <th>5578</th>\n",
              "      <td>1.0</td>\n",
              "      <td>1.0</td>\n",
              "    </tr>\n",
              "    <tr>\n",
              "      <th>14164</th>\n",
              "      <td>1.0</td>\n",
              "      <td>1.0</td>\n",
              "    </tr>\n",
              "  </tbody>\n",
              "</table>\n",
              "<p>3921 rows × 2 columns</p>\n",
              "</div>\n",
              "      <button class=\"colab-df-convert\" onclick=\"convertToInteractive('df-1a48e4d9-cffa-423c-97fb-97f200a45ee3')\"\n",
              "              title=\"Convert this dataframe to an interactive table.\"\n",
              "              style=\"display:none;\">\n",
              "        \n",
              "  <svg xmlns=\"http://www.w3.org/2000/svg\" height=\"24px\"viewBox=\"0 0 24 24\"\n",
              "       width=\"24px\">\n",
              "    <path d=\"M0 0h24v24H0V0z\" fill=\"none\"/>\n",
              "    <path d=\"M18.56 5.44l.94 2.06.94-2.06 2.06-.94-2.06-.94-.94-2.06-.94 2.06-2.06.94zm-11 1L8.5 8.5l.94-2.06 2.06-.94-2.06-.94L8.5 2.5l-.94 2.06-2.06.94zm10 10l.94 2.06.94-2.06 2.06-.94-2.06-.94-.94-2.06-.94 2.06-2.06.94z\"/><path d=\"M17.41 7.96l-1.37-1.37c-.4-.4-.92-.59-1.43-.59-.52 0-1.04.2-1.43.59L10.3 9.45l-7.72 7.72c-.78.78-.78 2.05 0 2.83L4 21.41c.39.39.9.59 1.41.59.51 0 1.02-.2 1.41-.59l7.78-7.78 2.81-2.81c.8-.78.8-2.07 0-2.86zM5.41 20L4 18.59l7.72-7.72 1.47 1.35L5.41 20z\"/>\n",
              "  </svg>\n",
              "      </button>\n",
              "      \n",
              "  <style>\n",
              "    .colab-df-container {\n",
              "      display:flex;\n",
              "      flex-wrap:wrap;\n",
              "      gap: 12px;\n",
              "    }\n",
              "\n",
              "    .colab-df-convert {\n",
              "      background-color: #E8F0FE;\n",
              "      border: none;\n",
              "      border-radius: 50%;\n",
              "      cursor: pointer;\n",
              "      display: none;\n",
              "      fill: #1967D2;\n",
              "      height: 32px;\n",
              "      padding: 0 0 0 0;\n",
              "      width: 32px;\n",
              "    }\n",
              "\n",
              "    .colab-df-convert:hover {\n",
              "      background-color: #E2EBFA;\n",
              "      box-shadow: 0px 1px 2px rgba(60, 64, 67, 0.3), 0px 1px 3px 1px rgba(60, 64, 67, 0.15);\n",
              "      fill: #174EA6;\n",
              "    }\n",
              "\n",
              "    [theme=dark] .colab-df-convert {\n",
              "      background-color: #3B4455;\n",
              "      fill: #D2E3FC;\n",
              "    }\n",
              "\n",
              "    [theme=dark] .colab-df-convert:hover {\n",
              "      background-color: #434B5C;\n",
              "      box-shadow: 0px 1px 3px 1px rgba(0, 0, 0, 0.15);\n",
              "      filter: drop-shadow(0px 1px 2px rgba(0, 0, 0, 0.3));\n",
              "      fill: #FFFFFF;\n",
              "    }\n",
              "  </style>\n",
              "\n",
              "      <script>\n",
              "        const buttonEl =\n",
              "          document.querySelector('#df-1a48e4d9-cffa-423c-97fb-97f200a45ee3 button.colab-df-convert');\n",
              "        buttonEl.style.display =\n",
              "          google.colab.kernel.accessAllowed ? 'block' : 'none';\n",
              "\n",
              "        async function convertToInteractive(key) {\n",
              "          const element = document.querySelector('#df-1a48e4d9-cffa-423c-97fb-97f200a45ee3');\n",
              "          const dataTable =\n",
              "            await google.colab.kernel.invokeFunction('convertToInteractive',\n",
              "                                                     [key], {});\n",
              "          if (!dataTable) return;\n",
              "\n",
              "          const docLinkHtml = 'Like what you see? Visit the ' +\n",
              "            '<a target=\"_blank\" href=https://colab.research.google.com/notebooks/data_table.ipynb>data table notebook</a>'\n",
              "            + ' to learn more about interactive tables.';\n",
              "          element.innerHTML = '';\n",
              "          dataTable['output_type'] = 'display_data';\n",
              "          await google.colab.output.renderOutput(dataTable, element);\n",
              "          const docLink = document.createElement('div');\n",
              "          docLink.innerHTML = docLinkHtml;\n",
              "          element.appendChild(docLink);\n",
              "        }\n",
              "      </script>\n",
              "    </div>\n",
              "  </div>\n",
              "  "
            ],
            "text/plain": [
              "       Predicted  Actual\n",
              "2267         1.0     1.0\n",
              "12290        1.0     1.0\n",
              "13470        1.0     1.0\n",
              "13763        0.0     1.0\n",
              "1870         1.0     0.0\n",
              "...          ...     ...\n",
              "9682         1.0     1.0\n",
              "2175         1.0     1.0\n",
              "2876         1.0     1.0\n",
              "5578         1.0     1.0\n",
              "14164        1.0     1.0\n",
              "\n",
              "[3921 rows x 2 columns]"
            ]
          },
          "execution_count": 58,
          "metadata": {},
          "output_type": "execute_result"
        }
      ],
      "source": [
        "\n",
        "KNN_model1 = KNeighborsClassifier(n_neighbors=10)\n",
        "KNN_model1.fit(X_train,Y_train)\n",
        "KNN_y_preds = KNN_model1.predict(X_test)\n",
        "KNN_preds = pd.DataFrame({\"Predicted\":KNN_y_preds,\"Actual\":Y_test})\n",
        "KNN_preds"
      ]
    },
    {
      "cell_type": "code",
      "execution_count": null,
      "metadata": {
        "colab": {
          "base_uri": "https://localhost:8080/"
        },
        "id": "4uMIlCGWZk0R",
        "outputId": "df7ff001-e198-43fa-f299-0c8c3d9abb6f"
      },
      "outputs": [
        {
          "name": "stdout",
          "output_type": "stream",
          "text": [
            "2140 1006 462 313\n",
            "Rightly Classified:  2453 / 3921\n",
            "Wrongly Classified:  1468 / 3921\n"
          ]
        }
      ],
      "source": [
        "KNN_TP1 = len(KNN_preds[(KNN_preds[\"Predicted\"]==KNN_preds[\"Actual\"])&(KNN_preds[\"Predicted\"]==1)])\n",
        "KNN_FP1 = len(KNN_preds[(KNN_preds[\"Predicted\"]!=KNN_preds[\"Actual\"])&(KNN_preds[\"Predicted\"]==1)])\n",
        "KNN_FN1 = len(KNN_preds[(KNN_preds[\"Predicted\"]!=KNN_preds[\"Actual\"])&(KNN_preds[\"Predicted\"]==0)])\n",
        "KNN_TN1 = len(KNN_preds[(KNN_preds[\"Predicted\"]==KNN_preds[\"Actual\"])&(KNN_preds[\"Predicted\"]==0)])\n",
        "print(KNN_TP1,KNN_FP1,KNN_FN1,KNN_TN1)\n",
        "print(\"Rightly Classified: \",(KNN_TP1+KNN_TN1),\"/\",(KNN_TP1+KNN_FP1+KNN_FN1+KNN_TN1))\n",
        "print(\"Wrongly Classified: \",(KNN_FP1+KNN_FN1),\"/\",(KNN_TP1+KNN_FP1+KNN_FN1+KNN_TN1))\n",
        "\n",
        "KNN_Accuracy1 = (KNN_TP1+KNN_TN1)/(KNN_TP1+KNN_FP1+KNN_FN1+KNN_TN1)\n",
        "KNN_Precision1 = (KNN_TP1)/(KNN_TP1+KNN_FP1)\n",
        "KNN_Recall1 = (KNN_TP1)/(KNN_TP1+KNN_FN1)\n",
        "KNN_Specificity1 = (KNN_TN1)/(KNN_TN1+KNN_FP1)\n",
        "KNN_F11 = (2*KNN_Precision1*KNN_Recall1)/(KNN_Precision1+KNN_Recall1)"
      ]
    },
    {
      "cell_type": "code",
      "execution_count": null,
      "metadata": {
        "colab": {
          "base_uri": "https://localhost:8080/",
          "height": 279
        },
        "id": "a-ie7R08Zsu1",
        "outputId": "f3be4007-2db5-4bc0-a82d-c64706b98894"
      },
      "outputs": [
        {
          "data": {
            "image/png": "[encoded data removed]",
            "text/plain": [
              "<Figure size 432x288 with 2 Axes>"
            ]
          },
          "metadata": {},
          "output_type": "display_data"
        }
      ],
      "source": [
        "confusion_matrix = metrics.confusion_matrix(Y_test, KNN_y_preds)\n",
        "cm_display = metrics.ConfusionMatrixDisplay(confusion_matrix = confusion_matrix, display_labels = [False, True])\n",
        "cm_display.plot()\n",
        "plt.show()\n"
      ]
    },
    {
      "cell_type": "code",
      "execution_count": null,
      "metadata": {
        "colab": {
          "base_uri": "https://localhost:8080/"
        },
        "id": "wadR_QAIZ059",
        "outputId": "1c57051a-3d7d-4173-af01-1cb0388fa9d1"
      },
      "outputs": [
        {
          "name": "stdout",
          "output_type": "stream",
          "text": [
            "              precision    recall  f1-score   support\n",
            "\n",
            "         0.0       0.40      0.24      0.30      1318\n",
            "         1.0       0.68      0.82      0.74      2602\n",
            "         6.0       0.00      0.00      0.00         1\n",
            "\n",
            "    accuracy                           0.63      3921\n",
            "   macro avg       0.36      0.35      0.35      3921\n",
            "weighted avg       0.59      0.63      0.59      3921\n",
            "\n"
          ]
        },
        {
          "name": "stderr",
          "output_type": "stream",
          "text": [
            "/usr/local/lib/python3.8/dist-packages/sklearn/metrics/_classification.py:1318: UndefinedMetricWarning: Precision and F-score are ill-defined and being set to 0.0 in labels with no predicted samples. Use `zero_division` parameter to control this behavior.\n",
            "  _warn_prf(average, modifier, msg_start, len(result))\n",
            "/usr/local/lib/python3.8/dist-packages/sklearn/metrics/_classification.py:1318: UndefinedMetricWarning: Precision and F-score are ill-defined and being set to 0.0 in labels with no predicted samples. Use `zero_division` parameter to control this behavior.\n",
            "  _warn_prf(average, modifier, msg_start, len(result))\n",
            "/usr/local/lib/python3.8/dist-packages/sklearn/metrics/_classification.py:1318: UndefinedMetricWarning: Precision and F-score are ill-defined and being set to 0.0 in labels with no predicted samples. Use `zero_division` parameter to control this behavior.\n",
            "  _warn_prf(average, modifier, msg_start, len(result))\n"
          ]
        }
      ],
      "source": [
        "\n",
        "print(classification_report(Y_test, KNN_y_preds))"
      ]
    },
    {
      "cell_type": "markdown",
      "metadata": {
        "id": "fyRN2ku9Z-mO"
      },
      "source": [
        " #KNN (k=50) "
      ]
    },
    {
      "cell_type": "code",
      "execution_count": null,
      "metadata": {
        "colab": {
          "base_uri": "https://localhost:8080/",
          "height": 424
        },
        "id": "MWIi-N9CZ7cS",
        "outputId": "19da5a62-e05e-49a6-9279-ecde83e3b810"
      },
      "outputs": [
        {
          "data": {
            "text/html": [
              "\n",
              "  <div id=\"df-275b3506-59e2-4ac4-a8c8-b6ab9c232a44\">\n",
              "    <div class=\"colab-df-container\">\n",
              "      <div>\n",
              "<style scoped>\n",
              "    .dataframe tbody tr th:only-of-type {\n",
              "        vertical-align: middle;\n",
              "    }\n",
              "\n",
              "    .dataframe tbody tr th {\n",
              "        vertical-align: top;\n",
              "    }\n",
              "\n",
              "    .dataframe thead th {\n",
              "        text-align: right;\n",
              "    }\n",
              "</style>\n",
              "<table border=\"1\" class=\"dataframe\">\n",
              "  <thead>\n",
              "    <tr style=\"text-align: right;\">\n",
              "      <th></th>\n",
              "      <th>Predicted</th>\n",
              "      <th>Actual</th>\n",
              "    </tr>\n",
              "  </thead>\n",
              "  <tbody>\n",
              "    <tr>\n",
              "      <th>2267</th>\n",
              "      <td>1.0</td>\n",
              "      <td>1.0</td>\n",
              "    </tr>\n",
              "    <tr>\n",
              "      <th>12290</th>\n",
              "      <td>1.0</td>\n",
              "      <td>1.0</td>\n",
              "    </tr>\n",
              "    <tr>\n",
              "      <th>13470</th>\n",
              "      <td>1.0</td>\n",
              "      <td>1.0</td>\n",
              "    </tr>\n",
              "    <tr>\n",
              "      <th>13763</th>\n",
              "      <td>1.0</td>\n",
              "      <td>1.0</td>\n",
              "    </tr>\n",
              "    <tr>\n",
              "      <th>1870</th>\n",
              "      <td>1.0</td>\n",
              "      <td>0.0</td>\n",
              "    </tr>\n",
              "    <tr>\n",
              "      <th>...</th>\n",
              "      <td>...</td>\n",
              "      <td>...</td>\n",
              "    </tr>\n",
              "    <tr>\n",
              "      <th>9682</th>\n",
              "      <td>1.0</td>\n",
              "      <td>1.0</td>\n",
              "    </tr>\n",
              "    <tr>\n",
              "      <th>2175</th>\n",
              "      <td>1.0</td>\n",
              "      <td>1.0</td>\n",
              "    </tr>\n",
              "    <tr>\n",
              "      <th>2876</th>\n",
              "      <td>1.0</td>\n",
              "      <td>1.0</td>\n",
              "    </tr>\n",
              "    <tr>\n",
              "      <th>5578</th>\n",
              "      <td>1.0</td>\n",
              "      <td>1.0</td>\n",
              "    </tr>\n",
              "    <tr>\n",
              "      <th>14164</th>\n",
              "      <td>1.0</td>\n",
              "      <td>1.0</td>\n",
              "    </tr>\n",
              "  </tbody>\n",
              "</table>\n",
              "<p>3921 rows × 2 columns</p>\n",
              "</div>\n",
              "      <button class=\"colab-df-convert\" onclick=\"convertToInteractive('df-275b3506-59e2-4ac4-a8c8-b6ab9c232a44')\"\n",
              "              title=\"Convert this dataframe to an interactive table.\"\n",
              "              style=\"display:none;\">\n",
              "        \n",
              "  <svg xmlns=\"http://www.w3.org/2000/svg\" height=\"24px\"viewBox=\"0 0 24 24\"\n",
              "       width=\"24px\">\n",
              "    <path d=\"M0 0h24v24H0V0z\" fill=\"none\"/>\n",
              "    <path d=\"M18.56 5.44l.94 2.06.94-2.06 2.06-.94-2.06-.94-.94-2.06-.94 2.06-2.06.94zm-11 1L8.5 8.5l.94-2.06 2.06-.94-2.06-.94L8.5 2.5l-.94 2.06-2.06.94zm10 10l.94 2.06.94-2.06 2.06-.94-2.06-.94-.94-2.06-.94 2.06-2.06.94z\"/><path d=\"M17.41 7.96l-1.37-1.37c-.4-.4-.92-.59-1.43-.59-.52 0-1.04.2-1.43.59L10.3 9.45l-7.72 7.72c-.78.78-.78 2.05 0 2.83L4 21.41c.39.39.9.59 1.41.59.51 0 1.02-.2 1.41-.59l7.78-7.78 2.81-2.81c.8-.78.8-2.07 0-2.86zM5.41 20L4 18.59l7.72-7.72 1.47 1.35L5.41 20z\"/>\n",
              "  </svg>\n",
              "      </button>\n",
              "      \n",
              "  <style>\n",
              "    .colab-df-container {\n",
              "      display:flex;\n",
              "      flex-wrap:wrap;\n",
              "      gap: 12px;\n",
              "    }\n",
              "\n",
              "    .colab-df-convert {\n",
              "      background-color: #E8F0FE;\n",
              "      border: none;\n",
              "      border-radius: 50%;\n",
              "      cursor: pointer;\n",
              "      display: none;\n",
              "      fill: #1967D2;\n",
              "      height: 32px;\n",
              "      padding: 0 0 0 0;\n",
              "      width: 32px;\n",
              "    }\n",
              "\n",
              "    .colab-df-convert:hover {\n",
              "      background-color: #E2EBFA;\n",
              "      box-shadow: 0px 1px 2px rgba(60, 64, 67, 0.3), 0px 1px 3px 1px rgba(60, 64, 67, 0.15);\n",
              "      fill: #174EA6;\n",
              "    }\n",
              "\n",
              "    [theme=dark] .colab-df-convert {\n",
              "      background-color: #3B4455;\n",
              "      fill: #D2E3FC;\n",
              "    }\n",
              "\n",
              "    [theme=dark] .colab-df-convert:hover {\n",
              "      background-color: #434B5C;\n",
              "      box-shadow: 0px 1px 3px 1px rgba(0, 0, 0, 0.15);\n",
              "      filter: drop-shadow(0px 1px 2px rgba(0, 0, 0, 0.3));\n",
              "      fill: #FFFFFF;\n",
              "    }\n",
              "  </style>\n",
              "\n",
              "      <script>\n",
              "        const buttonEl =\n",
              "          document.querySelector('#df-275b3506-59e2-4ac4-a8c8-b6ab9c232a44 button.colab-df-convert');\n",
              "        buttonEl.style.display =\n",
              "          google.colab.kernel.accessAllowed ? 'block' : 'none';\n",
              "\n",
              "        async function convertToInteractive(key) {\n",
              "          const element = document.querySelector('#df-275b3506-59e2-4ac4-a8c8-b6ab9c232a44');\n",
              "          const dataTable =\n",
              "            await google.colab.kernel.invokeFunction('convertToInteractive',\n",
              "                                                     [key], {});\n",
              "          if (!dataTable) return;\n",
              "\n",
              "          const docLinkHtml = 'Like what you see? Visit the ' +\n",
              "            '<a target=\"_blank\" href=https://colab.research.google.com/notebooks/data_table.ipynb>data table notebook</a>'\n",
              "            + ' to learn more about interactive tables.';\n",
              "          element.innerHTML = '';\n",
              "          dataTable['output_type'] = 'display_data';\n",
              "          await google.colab.output.renderOutput(dataTable, element);\n",
              "          const docLink = document.createElement('div');\n",
              "          docLink.innerHTML = docLinkHtml;\n",
              "          element.appendChild(docLink);\n",
              "        }\n",
              "      </script>\n",
              "    </div>\n",
              "  </div>\n",
              "  "
            ],
            "text/plain": [
              "       Predicted  Actual\n",
              "2267         1.0     1.0\n",
              "12290        1.0     1.0\n",
              "13470        1.0     1.0\n",
              "13763        1.0     1.0\n",
              "1870         1.0     0.0\n",
              "...          ...     ...\n",
              "9682         1.0     1.0\n",
              "2175         1.0     1.0\n",
              "2876         1.0     1.0\n",
              "5578         1.0     1.0\n",
              "14164        1.0     1.0\n",
              "\n",
              "[3921 rows x 2 columns]"
            ]
          },
          "execution_count": 62,
          "metadata": {},
          "output_type": "execute_result"
        }
      ],
      "source": [
        "KNN_model2 = KNeighborsClassifier(n_neighbors=50)\n",
        "KNN_model2.fit(X_train,Y_train)\n",
        "KNN_y_preds = KNN_model2.predict(X_test)\n",
        "KNN_preds = pd.DataFrame({\"Predicted\":KNN_y_preds,\"Actual\":Y_test})\n",
        "KNN_preds"
      ]
    },
    {
      "cell_type": "code",
      "execution_count": null,
      "metadata": {
        "colab": {
          "base_uri": "https://localhost:8080/"
        },
        "id": "qodYGqL8aTlr",
        "outputId": "43be23da-4beb-4068-e9c2-35d528f2d08d"
      },
      "outputs": [
        {
          "name": "stdout",
          "output_type": "stream",
          "text": [
            "2519 1247 83 72\n",
            "Rightly Classified:  2591 / 3921\n",
            "Wrongly Classified:  1330 / 3921\n"
          ]
        }
      ],
      "source": [
        "KNN_TP2 = len(KNN_preds[(KNN_preds[\"Predicted\"]==KNN_preds[\"Actual\"])&(KNN_preds[\"Predicted\"]==1)])\n",
        "KNN_FP2 = len(KNN_preds[(KNN_preds[\"Predicted\"]!=KNN_preds[\"Actual\"])&(KNN_preds[\"Predicted\"]==1)])\n",
        "KNN_FN2 = len(KNN_preds[(KNN_preds[\"Predicted\"]!=KNN_preds[\"Actual\"])&(KNN_preds[\"Predicted\"]==0)])\n",
        "KNN_TN2 = len(KNN_preds[(KNN_preds[\"Predicted\"]==KNN_preds[\"Actual\"])&(KNN_preds[\"Predicted\"]==0)])\n",
        "print(KNN_TP2,KNN_FP2,KNN_FN2,KNN_TN2)\n",
        "print(\"Rightly Classified: \",(KNN_TP2+KNN_TN2),\"/\",(KNN_TP2+KNN_FP2+KNN_FN2+KNN_TN2))\n",
        "print(\"Wrongly Classified: \",(KNN_FP2+KNN_FN2),\"/\",(KNN_TP2+KNN_FP2+KNN_FN2+KNN_TN2))\n",
        "\n",
        "KNN_Accuracy2 = (KNN_TP2+KNN_TN2)/(KNN_TP2+KNN_FP2+KNN_FN2+KNN_TN2)\n",
        "KNN_Precision2 = (KNN_TP2)/(KNN_TP2+KNN_FP2)\n",
        "KNN_Recall2 = (KNN_TP2)/(KNN_TP2+KNN_FN2)\n",
        "KNN_Specificity2 = (KNN_TN2)/(KNN_TN2+KNN_FP2)\n",
        "KNN_F12 = (2*KNN_Precision2*KNN_Recall2)/(KNN_Precision2+KNN_Recall2)"
      ]
    },
    {
      "cell_type": "code",
      "execution_count": null,
      "metadata": {
        "colab": {
          "base_uri": "https://localhost:8080/",
          "height": 282
        },
        "id": "Pi25ESZKaVKQ",
        "outputId": "efe40f9b-f8bb-4df9-b0ce-6c944e3bceeb"
      },
      "outputs": [
        {
          "data": {
            "image/png": "[encoded data removed]",
            "text/plain": [
              "<Figure size 432x288 with 2 Axes>"
            ]
          },
          "metadata": {},
          "output_type": "display_data"
        }
      ],
      "source": [
        "confusion_matrix = metrics.confusion_matrix(Y_test, KNN_y_preds)\n",
        "cm_display = metrics.ConfusionMatrixDisplay(confusion_matrix = confusion_matrix, display_labels = [False, True])\n",
        "cm_display.plot()\n",
        "plt.show()"
      ]
    },
    {
      "cell_type": "code",
      "execution_count": null,
      "metadata": {
        "colab": {
          "base_uri": "https://localhost:8080/"
        },
        "id": "-GeBUJSuabm4",
        "outputId": "5c3044d0-ff12-40db-ce59-a3063b1ceb15"
      },
      "outputs": [
        {
          "name": "stdout",
          "output_type": "stream",
          "text": [
            "              precision    recall  f1-score   support\n",
            "\n",
            "         0.0       0.46      0.05      0.10      1318\n",
            "         1.0       0.67      0.97      0.79      2602\n",
            "         6.0       0.00      0.00      0.00         1\n",
            "\n",
            "    accuracy                           0.66      3921\n",
            "   macro avg       0.38      0.34      0.30      3921\n",
            "weighted avg       0.60      0.66      0.56      3921\n",
            "\n"
          ]
        },
        {
          "name": "stderr",
          "output_type": "stream",
          "text": [
            "/usr/local/lib/python3.8/dist-packages/sklearn/metrics/_classification.py:1318: UndefinedMetricWarning: Precision and F-score are ill-defined and being set to 0.0 in labels with no predicted samples. Use `zero_division` parameter to control this behavior.\n",
            "  _warn_prf(average, modifier, msg_start, len(result))\n",
            "/usr/local/lib/python3.8/dist-packages/sklearn/metrics/_classification.py:1318: UndefinedMetricWarning: Precision and F-score are ill-defined and being set to 0.0 in labels with no predicted samples. Use `zero_division` parameter to control this behavior.\n",
            "  _warn_prf(average, modifier, msg_start, len(result))\n",
            "/usr/local/lib/python3.8/dist-packages/sklearn/metrics/_classification.py:1318: UndefinedMetricWarning: Precision and F-score are ill-defined and being set to 0.0 in labels with no predicted samples. Use `zero_division` parameter to control this behavior.\n",
            "  _warn_prf(average, modifier, msg_start, len(result))\n"
          ]
        }
      ],
      "source": [
        "print(classification_report(Y_test, KNN_y_preds))"
      ]
    },
    {
      "cell_type": "markdown",
      "source": [
        "# For K=50, the KNN algorithm performs well for the dataset than for k=10"
      ],
      "metadata": {
        "id": "zdJkNUxx0fP3"
      }
    },
    {
      "cell_type": "code",
      "execution_count": null,
      "metadata": {
        "colab": {
          "base_uri": "https://localhost:8080/",
          "height": 424
        },
        "id": "gqUS5_nJ-oXm",
        "outputId": "4e17952e-d45c-4ad9-9b64-c16da55abd07"
      },
      "outputs": [
        {
          "data": {
            "text/html": [
              "\n",
              "  <div id=\"df-bd602325-a412-4298-81cb-3ceefef627f3\">\n",
              "    <div class=\"colab-df-container\">\n",
              "      <div>\n",
              "<style scoped>\n",
              "    .dataframe tbody tr th:only-of-type {\n",
              "        vertical-align: middle;\n",
              "    }\n",
              "\n",
              "    .dataframe tbody tr th {\n",
              "        vertical-align: top;\n",
              "    }\n",
              "\n",
              "    .dataframe thead th {\n",
              "        text-align: right;\n",
              "    }\n",
              "</style>\n",
              "<table border=\"1\" class=\"dataframe\">\n",
              "  <thead>\n",
              "    <tr style=\"text-align: right;\">\n",
              "      <th></th>\n",
              "      <th>Predicted</th>\n",
              "      <th>Actual</th>\n",
              "    </tr>\n",
              "  </thead>\n",
              "  <tbody>\n",
              "    <tr>\n",
              "      <th>2267</th>\n",
              "      <td>1.0</td>\n",
              "      <td>1.0</td>\n",
              "    </tr>\n",
              "    <tr>\n",
              "      <th>12290</th>\n",
              "      <td>1.0</td>\n",
              "      <td>1.0</td>\n",
              "    </tr>\n",
              "    <tr>\n",
              "      <th>13470</th>\n",
              "      <td>1.0</td>\n",
              "      <td>1.0</td>\n",
              "    </tr>\n",
              "    <tr>\n",
              "      <th>13763</th>\n",
              "      <td>1.0</td>\n",
              "      <td>1.0</td>\n",
              "    </tr>\n",
              "    <tr>\n",
              "      <th>1870</th>\n",
              "      <td>1.0</td>\n",
              "      <td>0.0</td>\n",
              "    </tr>\n",
              "    <tr>\n",
              "      <th>...</th>\n",
              "      <td>...</td>\n",
              "      <td>...</td>\n",
              "    </tr>\n",
              "    <tr>\n",
              "      <th>9682</th>\n",
              "      <td>1.0</td>\n",
              "      <td>1.0</td>\n",
              "    </tr>\n",
              "    <tr>\n",
              "      <th>2175</th>\n",
              "      <td>1.0</td>\n",
              "      <td>1.0</td>\n",
              "    </tr>\n",
              "    <tr>\n",
              "      <th>2876</th>\n",
              "      <td>1.0</td>\n",
              "      <td>1.0</td>\n",
              "    </tr>\n",
              "    <tr>\n",
              "      <th>5578</th>\n",
              "      <td>1.0</td>\n",
              "      <td>1.0</td>\n",
              "    </tr>\n",
              "    <tr>\n",
              "      <th>14164</th>\n",
              "      <td>1.0</td>\n",
              "      <td>1.0</td>\n",
              "    </tr>\n",
              "  </tbody>\n",
              "</table>\n",
              "<p>3921 rows × 2 columns</p>\n",
              "</div>\n",
              "      <button class=\"colab-df-convert\" onclick=\"convertToInteractive('df-bd602325-a412-4298-81cb-3ceefef627f3')\"\n",
              "              title=\"Convert this dataframe to an interactive table.\"\n",
              "              style=\"display:none;\">\n",
              "        \n",
              "  <svg xmlns=\"http://www.w3.org/2000/svg\" height=\"24px\"viewBox=\"0 0 24 24\"\n",
              "       width=\"24px\">\n",
              "    <path d=\"M0 0h24v24H0V0z\" fill=\"none\"/>\n",
              "    <path d=\"M18.56 5.44l.94 2.06.94-2.06 2.06-.94-2.06-.94-.94-2.06-.94 2.06-2.06.94zm-11 1L8.5 8.5l.94-2.06 2.06-.94-2.06-.94L8.5 2.5l-.94 2.06-2.06.94zm10 10l.94 2.06.94-2.06 2.06-.94-2.06-.94-.94-2.06-.94 2.06-2.06.94z\"/><path d=\"M17.41 7.96l-1.37-1.37c-.4-.4-.92-.59-1.43-.59-.52 0-1.04.2-1.43.59L10.3 9.45l-7.72 7.72c-.78.78-.78 2.05 0 2.83L4 21.41c.39.39.9.59 1.41.59.51 0 1.02-.2 1.41-.59l7.78-7.78 2.81-2.81c.8-.78.8-2.07 0-2.86zM5.41 20L4 18.59l7.72-7.72 1.47 1.35L5.41 20z\"/>\n",
              "  </svg>\n",
              "      </button>\n",
              "      \n",
              "  <style>\n",
              "    .colab-df-container {\n",
              "      display:flex;\n",
              "      flex-wrap:wrap;\n",
              "      gap: 12px;\n",
              "    }\n",
              "\n",
              "    .colab-df-convert {\n",
              "      background-color: #E8F0FE;\n",
              "      border: none;\n",
              "      border-radius: 50%;\n",
              "      cursor: pointer;\n",
              "      display: none;\n",
              "      fill: #1967D2;\n",
              "      height: 32px;\n",
              "      padding: 0 0 0 0;\n",
              "      width: 32px;\n",
              "    }\n",
              "\n",
              "    .colab-df-convert:hover {\n",
              "      background-color: #E2EBFA;\n",
              "      box-shadow: 0px 1px 2px rgba(60, 64, 67, 0.3), 0px 1px 3px 1px rgba(60, 64, 67, 0.15);\n",
              "      fill: #174EA6;\n",
              "    }\n",
              "\n",
              "    [theme=dark] .colab-df-convert {\n",
              "      background-color: #3B4455;\n",
              "      fill: #D2E3FC;\n",
              "    }\n",
              "\n",
              "    [theme=dark] .colab-df-convert:hover {\n",
              "      background-color: #434B5C;\n",
              "      box-shadow: 0px 1px 3px 1px rgba(0, 0, 0, 0.15);\n",
              "      filter: drop-shadow(0px 1px 2px rgba(0, 0, 0, 0.3));\n",
              "      fill: #FFFFFF;\n",
              "    }\n",
              "  </style>\n",
              "\n",
              "      <script>\n",
              "        const buttonEl =\n",
              "          document.querySelector('#df-bd602325-a412-4298-81cb-3ceefef627f3 button.colab-df-convert');\n",
              "        buttonEl.style.display =\n",
              "          google.colab.kernel.accessAllowed ? 'block' : 'none';\n",
              "\n",
              "        async function convertToInteractive(key) {\n",
              "          const element = document.querySelector('#df-bd602325-a412-4298-81cb-3ceefef627f3');\n",
              "          const dataTable =\n",
              "            await google.colab.kernel.invokeFunction('convertToInteractive',\n",
              "                                                     [key], {});\n",
              "          if (!dataTable) return;\n",
              "\n",
              "          const docLinkHtml = 'Like what you see? Visit the ' +\n",
              "            '<a target=\"_blank\" href=https://colab.research.google.com/notebooks/data_table.ipynb>data table notebook</a>'\n",
              "            + ' to learn more about interactive tables.';\n",
              "          element.innerHTML = '';\n",
              "          dataTable['output_type'] = 'display_data';\n",
              "          await google.colab.output.renderOutput(dataTable, element);\n",
              "          const docLink = document.createElement('div');\n",
              "          docLink.innerHTML = docLinkHtml;\n",
              "          element.appendChild(docLink);\n",
              "        }\n",
              "      </script>\n",
              "    </div>\n",
              "  </div>\n",
              "  "
            ],
            "text/plain": [
              "       Predicted  Actual\n",
              "2267         1.0     1.0\n",
              "12290        1.0     1.0\n",
              "13470        1.0     1.0\n",
              "13763        1.0     1.0\n",
              "1870         1.0     0.0\n",
              "...          ...     ...\n",
              "9682         1.0     1.0\n",
              "2175         1.0     1.0\n",
              "2876         1.0     1.0\n",
              "5578         1.0     1.0\n",
              "14164        1.0     1.0\n",
              "\n",
              "[3921 rows x 2 columns]"
            ]
          },
          "execution_count": 66,
          "metadata": {},
          "output_type": "execute_result"
        }
      ],
      "source": [
        "## 2) Naive Bayes Model\n",
        "\n",
        "from sklearn.naive_bayes import GaussianNB\n",
        "\n",
        "nav_bayes_model = GaussianNB()\n",
        "\n",
        "nav_bayes_model.fit(X_train, Y_train)\n",
        "\n",
        "nav_bayes_pred = nav_bayes_model.predict(X_test)\n",
        "Nav_preds = pd.DataFrame({\"Predicted\":nav_bayes_pred,\"Actual\":Y_test})\n",
        "Nav_preds\n"
      ]
    },
    {
      "cell_type": "code",
      "execution_count": null,
      "metadata": {
        "colab": {
          "base_uri": "https://localhost:8080/"
        },
        "id": "tkolLRbMF2du",
        "outputId": "1600066a-3e7a-4c1b-e50b-9e72f2cc6a48"
      },
      "outputs": [
        {
          "name": "stdout",
          "output_type": "stream",
          "text": [
            "2456 1106 146 213\n",
            "Rightly Classified:  2669 / 3921\n",
            "Wrongly Classified:  1252 / 3921\n"
          ]
        }
      ],
      "source": [
        "NAV_TP = len(Nav_preds[(Nav_preds[\"Predicted\"]==Nav_preds[\"Actual\"])&(Nav_preds[\"Predicted\"]==1)])\n",
        "NAV_FP = len(Nav_preds[(Nav_preds[\"Predicted\"]!=Nav_preds[\"Actual\"])&(Nav_preds[\"Predicted\"]==1)])\n",
        "NAV_FN = len(Nav_preds[(Nav_preds[\"Predicted\"]!=Nav_preds[\"Actual\"])&(Nav_preds[\"Predicted\"]==0)])\n",
        "NAV_TN = len(Nav_preds[(Nav_preds[\"Predicted\"]==Nav_preds[\"Actual\"])&(Nav_preds[\"Predicted\"]==0)])\n",
        "print(NAV_TP,NAV_FP,NAV_FN,NAV_TN)\n",
        "print(\"Rightly Classified: \",(NAV_TP+NAV_TN),\"/\",(NAV_TP+NAV_FP+NAV_FN+NAV_TN))\n",
        "print(\"Wrongly Classified: \",(NAV_FP+NAV_FN),\"/\",(NAV_TP+NAV_FP+NAV_FN+NAV_TN))\n",
        "NAV_Accuracy = (NAV_TP+NAV_TN)/(NAV_TP+NAV_FP+NAV_FN+NAV_TN)\n",
        "NAV_Precision = (NAV_TP)/(NAV_TP+NAV_FP)\n",
        "NAV_Recall = (NAV_TP)/(NAV_TP+NAV_FN)\n",
        "NAV_Specificity = (NAV_TN)/(NAV_TN+NAV_FP)\n",
        "NAV_F1 = (2*NAV_Precision*NAV_Recall)/(NAV_Precision+NAV_Recall)\n"
      ]
    },
    {
      "cell_type": "code",
      "execution_count": null,
      "metadata": {
        "colab": {
          "base_uri": "https://localhost:8080/",
          "height": 314
        },
        "id": "VsGcl05-Zd8D",
        "outputId": "560b0a37-d28d-49de-cd6a-56ce5ee708d0"
      },
      "outputs": [
        {
          "data": {
            "image/png": "[encoded data removed]",
            "text/plain": [
              "<Figure size 432x288 with 2 Axes>"
            ]
          },
          "metadata": {},
          "output_type": "display_data"
        },
        {
          "name": "stdout",
          "output_type": "stream",
          "text": [
            "\n",
            "Accuracy on using Navie Bayes model is:  68.0693700586585\n"
          ]
        }
      ],
      "source": [
        "confusion_matrix = metrics.confusion_matrix(Y_test, nav_bayes_pred)\n",
        "cm_display = metrics.ConfusionMatrixDisplay(confusion_matrix = confusion_matrix, display_labels = [False, True])\n",
        "cm_display.plot()\n",
        "plt.show()\n",
        "nav_bayes_accuracy = accuracy_score(nav_bayes_pred, Y_test)\n",
        "print('\\nAccuracy on using Navie Bayes model is: ',nav_bayes_accuracy*100)"
      ]
    },
    {
      "cell_type": "code",
      "execution_count": null,
      "metadata": {
        "colab": {
          "base_uri": "https://localhost:8080/"
        },
        "id": "DzYgDKQWHD-v",
        "outputId": "6508c2fb-2d24-469b-dc30-9d3d0e9c022f"
      },
      "outputs": [
        {
          "name": "stdout",
          "output_type": "stream",
          "text": [
            "              precision    recall  f1-score   support\n",
            "\n",
            "         0.0       0.59      0.16      0.25      1318\n",
            "         1.0       0.69      0.94      0.80      2602\n",
            "         6.0       0.00      0.00      0.00         1\n",
            "\n",
            "    accuracy                           0.68      3921\n",
            "   macro avg       0.43      0.37      0.35      3921\n",
            "weighted avg       0.66      0.68      0.61      3921\n",
            "\n"
          ]
        },
        {
          "name": "stderr",
          "output_type": "stream",
          "text": [
            "/usr/local/lib/python3.8/dist-packages/sklearn/metrics/_classification.py:1318: UndefinedMetricWarning: Precision and F-score are ill-defined and being set to 0.0 in labels with no predicted samples. Use `zero_division` parameter to control this behavior.\n",
            "  _warn_prf(average, modifier, msg_start, len(result))\n",
            "/usr/local/lib/python3.8/dist-packages/sklearn/metrics/_classification.py:1318: UndefinedMetricWarning: Precision and F-score are ill-defined and being set to 0.0 in labels with no predicted samples. Use `zero_division` parameter to control this behavior.\n",
            "  _warn_prf(average, modifier, msg_start, len(result))\n",
            "/usr/local/lib/python3.8/dist-packages/sklearn/metrics/_classification.py:1318: UndefinedMetricWarning: Precision and F-score are ill-defined and being set to 0.0 in labels with no predicted samples. Use `zero_division` parameter to control this behavior.\n",
            "  _warn_prf(average, modifier, msg_start, len(result))\n"
          ]
        }
      ],
      "source": [
        "print(classification_report(Y_test, nav_bayes_pred))"
      ]
    },
    {
      "cell_type": "code",
      "execution_count": null,
      "metadata": {
        "colab": {
          "base_uri": "https://localhost:8080/",
          "height": 424
        },
        "id": "Ly1KIWEu-h0d",
        "outputId": "f35ad3c3-7094-4a6b-f66d-13f0b4278fe6"
      },
      "outputs": [
        {
          "data": {
            "text/html": [
              "\n",
              "  <div id=\"df-739a0d72-2452-407a-ad6e-91872dc9860f\">\n",
              "    <div class=\"colab-df-container\">\n",
              "      <div>\n",
              "<style scoped>\n",
              "    .dataframe tbody tr th:only-of-type {\n",
              "        vertical-align: middle;\n",
              "    }\n",
              "\n",
              "    .dataframe tbody tr th {\n",
              "        vertical-align: top;\n",
              "    }\n",
              "\n",
              "    .dataframe thead th {\n",
              "        text-align: right;\n",
              "    }\n",
              "</style>\n",
              "<table border=\"1\" class=\"dataframe\">\n",
              "  <thead>\n",
              "    <tr style=\"text-align: right;\">\n",
              "      <th></th>\n",
              "      <th>Predicted</th>\n",
              "      <th>Actual</th>\n",
              "    </tr>\n",
              "  </thead>\n",
              "  <tbody>\n",
              "    <tr>\n",
              "      <th>2267</th>\n",
              "      <td>1.0</td>\n",
              "      <td>1.0</td>\n",
              "    </tr>\n",
              "    <tr>\n",
              "      <th>12290</th>\n",
              "      <td>1.0</td>\n",
              "      <td>1.0</td>\n",
              "    </tr>\n",
              "    <tr>\n",
              "      <th>13470</th>\n",
              "      <td>1.0</td>\n",
              "      <td>1.0</td>\n",
              "    </tr>\n",
              "    <tr>\n",
              "      <th>13763</th>\n",
              "      <td>1.0</td>\n",
              "      <td>1.0</td>\n",
              "    </tr>\n",
              "    <tr>\n",
              "      <th>1870</th>\n",
              "      <td>1.0</td>\n",
              "      <td>0.0</td>\n",
              "    </tr>\n",
              "    <tr>\n",
              "      <th>...</th>\n",
              "      <td>...</td>\n",
              "      <td>...</td>\n",
              "    </tr>\n",
              "    <tr>\n",
              "      <th>9682</th>\n",
              "      <td>1.0</td>\n",
              "      <td>1.0</td>\n",
              "    </tr>\n",
              "    <tr>\n",
              "      <th>2175</th>\n",
              "      <td>1.0</td>\n",
              "      <td>1.0</td>\n",
              "    </tr>\n",
              "    <tr>\n",
              "      <th>2876</th>\n",
              "      <td>1.0</td>\n",
              "      <td>1.0</td>\n",
              "    </tr>\n",
              "    <tr>\n",
              "      <th>5578</th>\n",
              "      <td>1.0</td>\n",
              "      <td>1.0</td>\n",
              "    </tr>\n",
              "    <tr>\n",
              "      <th>14164</th>\n",
              "      <td>1.0</td>\n",
              "      <td>1.0</td>\n",
              "    </tr>\n",
              "  </tbody>\n",
              "</table>\n",
              "<p>3921 rows × 2 columns</p>\n",
              "</div>\n",
              "      <button class=\"colab-df-convert\" onclick=\"convertToInteractive('df-739a0d72-2452-407a-ad6e-91872dc9860f')\"\n",
              "              title=\"Convert this dataframe to an interactive table.\"\n",
              "              style=\"display:none;\">\n",
              "        \n",
              "  <svg xmlns=\"http://www.w3.org/2000/svg\" height=\"24px\"viewBox=\"0 0 24 24\"\n",
              "       width=\"24px\">\n",
              "    <path d=\"M0 0h24v24H0V0z\" fill=\"none\"/>\n",
              "    <path d=\"M18.56 5.44l.94 2.06.94-2.06 2.06-.94-2.06-.94-.94-2.06-.94 2.06-2.06.94zm-11 1L8.5 8.5l.94-2.06 2.06-.94-2.06-.94L8.5 2.5l-.94 2.06-2.06.94zm10 10l.94 2.06.94-2.06 2.06-.94-2.06-.94-.94-2.06-.94 2.06-2.06.94z\"/><path d=\"M17.41 7.96l-1.37-1.37c-.4-.4-.92-.59-1.43-.59-.52 0-1.04.2-1.43.59L10.3 9.45l-7.72 7.72c-.78.78-.78 2.05 0 2.83L4 21.41c.39.39.9.59 1.41.59.51 0 1.02-.2 1.41-.59l7.78-7.78 2.81-2.81c.8-.78.8-2.07 0-2.86zM5.41 20L4 18.59l7.72-7.72 1.47 1.35L5.41 20z\"/>\n",
              "  </svg>\n",
              "      </button>\n",
              "      \n",
              "  <style>\n",
              "    .colab-df-container {\n",
              "      display:flex;\n",
              "      flex-wrap:wrap;\n",
              "      gap: 12px;\n",
              "    }\n",
              "\n",
              "    .colab-df-convert {\n",
              "      background-color: #E8F0FE;\n",
              "      border: none;\n",
              "      border-radius: 50%;\n",
              "      cursor: pointer;\n",
              "      display: none;\n",
              "      fill: #1967D2;\n",
              "      height: 32px;\n",
              "      padding: 0 0 0 0;\n",
              "      width: 32px;\n",
              "    }\n",
              "\n",
              "    .colab-df-convert:hover {\n",
              "      background-color: #E2EBFA;\n",
              "      box-shadow: 0px 1px 2px rgba(60, 64, 67, 0.3), 0px 1px 3px 1px rgba(60, 64, 67, 0.15);\n",
              "      fill: #174EA6;\n",
              "    }\n",
              "\n",
              "    [theme=dark] .colab-df-convert {\n",
              "      background-color: #3B4455;\n",
              "      fill: #D2E3FC;\n",
              "    }\n",
              "\n",
              "    [theme=dark] .colab-df-convert:hover {\n",
              "      background-color: #434B5C;\n",
              "      box-shadow: 0px 1px 3px 1px rgba(0, 0, 0, 0.15);\n",
              "      filter: drop-shadow(0px 1px 2px rgba(0, 0, 0, 0.3));\n",
              "      fill: #FFFFFF;\n",
              "    }\n",
              "  </style>\n",
              "\n",
              "      <script>\n",
              "        const buttonEl =\n",
              "          document.querySelector('#df-739a0d72-2452-407a-ad6e-91872dc9860f button.colab-df-convert');\n",
              "        buttonEl.style.display =\n",
              "          google.colab.kernel.accessAllowed ? 'block' : 'none';\n",
              "\n",
              "        async function convertToInteractive(key) {\n",
              "          const element = document.querySelector('#df-739a0d72-2452-407a-ad6e-91872dc9860f');\n",
              "          const dataTable =\n",
              "            await google.colab.kernel.invokeFunction('convertToInteractive',\n",
              "                                                     [key], {});\n",
              "          if (!dataTable) return;\n",
              "\n",
              "          const docLinkHtml = 'Like what you see? Visit the ' +\n",
              "            '<a target=\"_blank\" href=https://colab.research.google.com/notebooks/data_table.ipynb>data table notebook</a>'\n",
              "            + ' to learn more about interactive tables.';\n",
              "          element.innerHTML = '';\n",
              "          dataTable['output_type'] = 'display_data';\n",
              "          await google.colab.output.renderOutput(dataTable, element);\n",
              "          const docLink = document.createElement('div');\n",
              "          docLink.innerHTML = docLinkHtml;\n",
              "          element.appendChild(docLink);\n",
              "        }\n",
              "      </script>\n",
              "    </div>\n",
              "  </div>\n",
              "  "
            ],
            "text/plain": [
              "       Predicted  Actual\n",
              "2267         1.0     1.0\n",
              "12290        1.0     1.0\n",
              "13470        1.0     1.0\n",
              "13763        1.0     1.0\n",
              "1870         1.0     0.0\n",
              "...          ...     ...\n",
              "9682         1.0     1.0\n",
              "2175         1.0     1.0\n",
              "2876         1.0     1.0\n",
              "5578         1.0     1.0\n",
              "14164        1.0     1.0\n",
              "\n",
              "[3921 rows x 2 columns]"
            ]
          },
          "execution_count": 73,
          "metadata": {},
          "output_type": "execute_result"
        }
      ],
      "source": [
        "## 3) Logistic Regression\n",
        "log_reg_model = LogisticRegression()\n",
        "\n",
        "log_reg_model.fit(X_train, Y_train)\n",
        "\n",
        "log_reg_pred = log_reg_model.predict(X_test)\n",
        "Log_preds = pd.DataFrame({\"Predicted\":log_reg_pred,\"Actual\":Y_test})\n",
        "Log_preds\n"
      ]
    },
    {
      "cell_type": "code",
      "execution_count": null,
      "metadata": {
        "colab": {
          "base_uri": "https://localhost:8080/"
        },
        "id": "mSalCcxVEr2z",
        "outputId": "b6e8db9f-77fa-49dc-905d-6bfc013cb0d5"
      },
      "outputs": [
        {
          "name": "stdout",
          "output_type": "stream",
          "text": [
            "2602 1319 0 0\n",
            "Rightly Classified:  2602 / 3921\n",
            "Wrongly Classified:  1319 / 3921\n"
          ]
        }
      ],
      "source": [
        "Log_TP = len(Log_preds[(Log_preds[\"Predicted\"]==Log_preds[\"Actual\"])&(Log_preds[\"Predicted\"]==1)])\n",
        "Log_FP = len(Log_preds[(Log_preds[\"Predicted\"]!=Log_preds[\"Actual\"])&(Log_preds[\"Predicted\"]==1)])\n",
        "Log_FN = len(Log_preds[(Log_preds[\"Predicted\"]!=Log_preds[\"Actual\"])&(Log_preds[\"Predicted\"]==0)])\n",
        "Log_TN = len(Log_preds[(Log_preds[\"Predicted\"]==Log_preds[\"Actual\"])&(Log_preds[\"Predicted\"]==0)])\n",
        "print(Log_TP,Log_FP,Log_FN,Log_TN)\n",
        "print(\"Rightly Classified: \",(Log_TP+Log_TN),\"/\",(Log_TP+Log_FP+Log_FN+Log_TN))\n",
        "print(\"Wrongly Classified: \",(Log_FP+Log_FN),\"/\",(Log_TP+Log_FP+Log_FN+Log_TN))\n",
        "Log_Accuracy = (Log_TP+Log_TN)/(Log_TP+Log_TN+Log_FP+Log_FN)\n",
        "Log_Precision = (Log_TP)/(Log_TP+Log_FP)\n",
        "Log_Recall = (Log_TP)/(Log_TP+Log_FN)\n",
        "Log_Specificity = (Log_TN)/(Log_TN+Log_FP)\n",
        "Log_F1 = (2*Log_Precision*Log_Recall)/(Log_Precision+Log_Recall)"
      ]
    },
    {
      "cell_type": "code",
      "execution_count": null,
      "metadata": {
        "colab": {
          "base_uri": "https://localhost:8080/",
          "height": 314
        },
        "id": "_gP-nzmwY2ZR",
        "outputId": "ce49a9ce-91ba-45ff-c698-00713f6b0fb5"
      },
      "outputs": [
        {
          "data": {
            "image/png": "[encoded data removed]",
            "text/plain": [
              "<Figure size 432x288 with 2 Axes>"
            ]
          },
          "metadata": {},
          "output_type": "display_data"
        },
        {
          "name": "stdout",
          "output_type": "stream",
          "text": [
            "\n",
            "Accuracy on using Logistic Regression algorithm is:  66.36062229023209\n"
          ]
        }
      ],
      "source": [
        "confusion_matrix = metrics.confusion_matrix(Y_test, log_reg_pred)\n",
        "cm_display = metrics.ConfusionMatrixDisplay(confusion_matrix = confusion_matrix, display_labels = [False, True])\n",
        "cm_display.plot()\n",
        "plt.show()\n",
        "log_reg_accuracy = accuracy_score(log_reg_pred, Y_test)\n",
        "print('\\nAccuracy on using Logistic Regression algorithm is: ',log_reg_accuracy*100)"
      ]
    },
    {
      "cell_type": "code",
      "execution_count": null,
      "metadata": {
        "colab": {
          "base_uri": "https://localhost:8080/"
        },
        "id": "Sfnegp1zE8oO",
        "outputId": "a724f6ea-2eab-4ad1-aec4-79a45bf0bb5a"
      },
      "outputs": [
        {
          "name": "stdout",
          "output_type": "stream",
          "text": [
            "              precision    recall  f1-score   support\n",
            "\n",
            "         0.0       0.00      0.00      0.00      1318\n",
            "         1.0       0.66      1.00      0.80      2602\n",
            "         6.0       0.00      0.00      0.00         1\n",
            "\n",
            "    accuracy                           0.66      3921\n",
            "   macro avg       0.22      0.33      0.27      3921\n",
            "weighted avg       0.44      0.66      0.53      3921\n",
            "\n"
          ]
        },
        {
          "name": "stderr",
          "output_type": "stream",
          "text": [
            "/usr/local/lib/python3.8/dist-packages/sklearn/metrics/_classification.py:1318: UndefinedMetricWarning: Precision and F-score are ill-defined and being set to 0.0 in labels with no predicted samples. Use `zero_division` parameter to control this behavior.\n",
            "  _warn_prf(average, modifier, msg_start, len(result))\n",
            "/usr/local/lib/python3.8/dist-packages/sklearn/metrics/_classification.py:1318: UndefinedMetricWarning: Precision and F-score are ill-defined and being set to 0.0 in labels with no predicted samples. Use `zero_division` parameter to control this behavior.\n",
            "  _warn_prf(average, modifier, msg_start, len(result))\n",
            "/usr/local/lib/python3.8/dist-packages/sklearn/metrics/_classification.py:1318: UndefinedMetricWarning: Precision and F-score are ill-defined and being set to 0.0 in labels with no predicted samples. Use `zero_division` parameter to control this behavior.\n",
            "  _warn_prf(average, modifier, msg_start, len(result))\n"
          ]
        }
      ],
      "source": [
        "print(classification_report(Y_test, log_reg_pred))"
      ]
    },
    {
      "cell_type": "code",
      "execution_count": null,
      "metadata": {
        "colab": {
          "base_uri": "https://localhost:8080/",
          "height": 424
        },
        "id": "o73jDMXDGkSt",
        "outputId": "bb1e627d-d8df-4f82-e94e-c51bf2db4536"
      },
      "outputs": [
        {
          "data": {
            "text/html": [
              "\n",
              "  <div id=\"df-ef29af36-d80f-4bcf-a5b8-13dde5aeec9d\">\n",
              "    <div class=\"colab-df-container\">\n",
              "      <div>\n",
              "<style scoped>\n",
              "    .dataframe tbody tr th:only-of-type {\n",
              "        vertical-align: middle;\n",
              "    }\n",
              "\n",
              "    .dataframe tbody tr th {\n",
              "        vertical-align: top;\n",
              "    }\n",
              "\n",
              "    .dataframe thead th {\n",
              "        text-align: right;\n",
              "    }\n",
              "</style>\n",
              "<table border=\"1\" class=\"dataframe\">\n",
              "  <thead>\n",
              "    <tr style=\"text-align: right;\">\n",
              "      <th></th>\n",
              "      <th>Predicted</th>\n",
              "      <th>Actual</th>\n",
              "    </tr>\n",
              "  </thead>\n",
              "  <tbody>\n",
              "    <tr>\n",
              "      <th>2267</th>\n",
              "      <td>1.0</td>\n",
              "      <td>1.0</td>\n",
              "    </tr>\n",
              "    <tr>\n",
              "      <th>12290</th>\n",
              "      <td>0.0</td>\n",
              "      <td>1.0</td>\n",
              "    </tr>\n",
              "    <tr>\n",
              "      <th>13470</th>\n",
              "      <td>1.0</td>\n",
              "      <td>1.0</td>\n",
              "    </tr>\n",
              "    <tr>\n",
              "      <th>13763</th>\n",
              "      <td>1.0</td>\n",
              "      <td>1.0</td>\n",
              "    </tr>\n",
              "    <tr>\n",
              "      <th>1870</th>\n",
              "      <td>1.0</td>\n",
              "      <td>0.0</td>\n",
              "    </tr>\n",
              "    <tr>\n",
              "      <th>...</th>\n",
              "      <td>...</td>\n",
              "      <td>...</td>\n",
              "    </tr>\n",
              "    <tr>\n",
              "      <th>9682</th>\n",
              "      <td>1.0</td>\n",
              "      <td>1.0</td>\n",
              "    </tr>\n",
              "    <tr>\n",
              "      <th>2175</th>\n",
              "      <td>1.0</td>\n",
              "      <td>1.0</td>\n",
              "    </tr>\n",
              "    <tr>\n",
              "      <th>2876</th>\n",
              "      <td>0.0</td>\n",
              "      <td>1.0</td>\n",
              "    </tr>\n",
              "    <tr>\n",
              "      <th>5578</th>\n",
              "      <td>1.0</td>\n",
              "      <td>1.0</td>\n",
              "    </tr>\n",
              "    <tr>\n",
              "      <th>14164</th>\n",
              "      <td>0.0</td>\n",
              "      <td>1.0</td>\n",
              "    </tr>\n",
              "  </tbody>\n",
              "</table>\n",
              "<p>3921 rows × 2 columns</p>\n",
              "</div>\n",
              "      <button class=\"colab-df-convert\" onclick=\"convertToInteractive('df-ef29af36-d80f-4bcf-a5b8-13dde5aeec9d')\"\n",
              "              title=\"Convert this dataframe to an interactive table.\"\n",
              "              style=\"display:none;\">\n",
              "        \n",
              "  <svg xmlns=\"http://www.w3.org/2000/svg\" height=\"24px\"viewBox=\"0 0 24 24\"\n",
              "       width=\"24px\">\n",
              "    <path d=\"M0 0h24v24H0V0z\" fill=\"none\"/>\n",
              "    <path d=\"M18.56 5.44l.94 2.06.94-2.06 2.06-.94-2.06-.94-.94-2.06-.94 2.06-2.06.94zm-11 1L8.5 8.5l.94-2.06 2.06-.94-2.06-.94L8.5 2.5l-.94 2.06-2.06.94zm10 10l.94 2.06.94-2.06 2.06-.94-2.06-.94-.94-2.06-.94 2.06-2.06.94z\"/><path d=\"M17.41 7.96l-1.37-1.37c-.4-.4-.92-.59-1.43-.59-.52 0-1.04.2-1.43.59L10.3 9.45l-7.72 7.72c-.78.78-.78 2.05 0 2.83L4 21.41c.39.39.9.59 1.41.59.51 0 1.02-.2 1.41-.59l7.78-7.78 2.81-2.81c.8-.78.8-2.07 0-2.86zM5.41 20L4 18.59l7.72-7.72 1.47 1.35L5.41 20z\"/>\n",
              "  </svg>\n",
              "      </button>\n",
              "      \n",
              "  <style>\n",
              "    .colab-df-container {\n",
              "      display:flex;\n",
              "      flex-wrap:wrap;\n",
              "      gap: 12px;\n",
              "    }\n",
              "\n",
              "    .colab-df-convert {\n",
              "      background-color: #E8F0FE;\n",
              "      border: none;\n",
              "      border-radius: 50%;\n",
              "      cursor: pointer;\n",
              "      display: none;\n",
              "      fill: #1967D2;\n",
              "      height: 32px;\n",
              "      padding: 0 0 0 0;\n",
              "      width: 32px;\n",
              "    }\n",
              "\n",
              "    .colab-df-convert:hover {\n",
              "      background-color: #E2EBFA;\n",
              "      box-shadow: 0px 1px 2px rgba(60, 64, 67, 0.3), 0px 1px 3px 1px rgba(60, 64, 67, 0.15);\n",
              "      fill: #174EA6;\n",
              "    }\n",
              "\n",
              "    [theme=dark] .colab-df-convert {\n",
              "      background-color: #3B4455;\n",
              "      fill: #D2E3FC;\n",
              "    }\n",
              "\n",
              "    [theme=dark] .colab-df-convert:hover {\n",
              "      background-color: #434B5C;\n",
              "      box-shadow: 0px 1px 3px 1px rgba(0, 0, 0, 0.15);\n",
              "      filter: drop-shadow(0px 1px 2px rgba(0, 0, 0, 0.3));\n",
              "      fill: #FFFFFF;\n",
              "    }\n",
              "  </style>\n",
              "\n",
              "      <script>\n",
              "        const buttonEl =\n",
              "          document.querySelector('#df-ef29af36-d80f-4bcf-a5b8-13dde5aeec9d button.colab-df-convert');\n",
              "        buttonEl.style.display =\n",
              "          google.colab.kernel.accessAllowed ? 'block' : 'none';\n",
              "\n",
              "        async function convertToInteractive(key) {\n",
              "          const element = document.querySelector('#df-ef29af36-d80f-4bcf-a5b8-13dde5aeec9d');\n",
              "          const dataTable =\n",
              "            await google.colab.kernel.invokeFunction('convertToInteractive',\n",
              "                                                     [key], {});\n",
              "          if (!dataTable) return;\n",
              "\n",
              "          const docLinkHtml = 'Like what you see? Visit the ' +\n",
              "            '<a target=\"_blank\" href=https://colab.research.google.com/notebooks/data_table.ipynb>data table notebook</a>'\n",
              "            + ' to learn more about interactive tables.';\n",
              "          element.innerHTML = '';\n",
              "          dataTable['output_type'] = 'display_data';\n",
              "          await google.colab.output.renderOutput(dataTable, element);\n",
              "          const docLink = document.createElement('div');\n",
              "          docLink.innerHTML = docLinkHtml;\n",
              "          element.appendChild(docLink);\n",
              "        }\n",
              "      </script>\n",
              "    </div>\n",
              "  </div>\n",
              "  "
            ],
            "text/plain": [
              "       Predicted  Actual\n",
              "2267         1.0     1.0\n",
              "12290        0.0     1.0\n",
              "13470        1.0     1.0\n",
              "13763        1.0     1.0\n",
              "1870         1.0     0.0\n",
              "...          ...     ...\n",
              "9682         1.0     1.0\n",
              "2175         1.0     1.0\n",
              "2876         0.0     1.0\n",
              "5578         1.0     1.0\n",
              "14164        0.0     1.0\n",
              "\n",
              "[3921 rows x 2 columns]"
            ]
          },
          "execution_count": 77,
          "metadata": {},
          "output_type": "execute_result"
        }
      ],
      "source": [
        "## 4) Decision Tree Model\n",
        "\n",
        "from sklearn.tree import DecisionTreeClassifier\n",
        "\n",
        "dec_tree_model = DecisionTreeClassifier()\n",
        "\n",
        "dec_tree_model.fit(X_train, Y_train)\n",
        "\n",
        "dec_tree_pred = dec_tree_model.predict(X_test)\n",
        "Decision_tree_preds = pd.DataFrame({\"Predicted\":dec_tree_pred,\"Actual\":Y_test})\n",
        "Decision_tree_preds\n"
      ]
    },
    {
      "cell_type": "code",
      "execution_count": null,
      "metadata": {
        "colab": {
          "base_uri": "https://localhost:8080/"
        },
        "id": "JtIPsKCJCP46",
        "outputId": "a9f0ba56-ba6e-44dc-9624-8f7e05bfe6ba"
      },
      "outputs": [
        {
          "name": "stdout",
          "output_type": "stream",
          "text": [
            "2064 599 538 720\n",
            "Rightly Classified:  2784 / 3921\n",
            "Wrongly Classified:  1137 / 3921\n"
          ]
        }
      ],
      "source": [
        "Decision_TP = len(Decision_tree_preds[(Decision_tree_preds[\"Predicted\"]==Decision_tree_preds[\"Actual\"])&(Decision_tree_preds[\"Predicted\"]==1)])\n",
        "Decision_FP = len(Decision_tree_preds[(Decision_tree_preds[\"Predicted\"]!=Decision_tree_preds[\"Actual\"])&(Decision_tree_preds[\"Predicted\"]==1)])\n",
        "Decision_FN = len(Decision_tree_preds[(Decision_tree_preds[\"Predicted\"]!=Decision_tree_preds[\"Actual\"])&(Decision_tree_preds[\"Predicted\"]==0)])\n",
        "Decision_TN = len(Decision_tree_preds[(Decision_tree_preds[\"Predicted\"]==Decision_tree_preds[\"Actual\"])&(Decision_tree_preds[\"Predicted\"]==0)])\n",
        "print(Decision_TP,Decision_FP,Decision_FN,Decision_TN)\n",
        "print(\"Rightly Classified: \",(Decision_TP+Decision_TN),\"/\",(Decision_TP+Decision_FP+Decision_FN+Decision_TN))\n",
        "print(\"Wrongly Classified: \",(Decision_FP+Decision_FN),\"/\",(Decision_TP+Decision_FP+Decision_FN+Decision_TN))\n",
        "Decision_Accuracy = (Decision_TP+Decision_TN)/(Decision_TP+Decision_TN+Decision_FP+Decision_FN)\n",
        "Decision_Precision = (Decision_TP)/(Decision_TP+Decision_FP)\n",
        "Decision_Recall = (Decision_TP)/(Decision_TP+Decision_FN)\n",
        "Decision_Specificity = (Decision_TN)/(Decision_TN+Decision_FP)\n",
        "Decision_F1 = (2*Decision_Precision*Decision_Recall)/(Decision_Precision+Decision_Recall)"
      ]
    },
    {
      "cell_type": "code",
      "execution_count": null,
      "metadata": {
        "colab": {
          "base_uri": "https://localhost:8080/",
          "height": 314
        },
        "id": "lo6NAIPnaR8S",
        "outputId": "cb5c16a5-7feb-4376-ed1b-719444d61a3c"
      },
      "outputs": [
        {
          "data": {
            "image/png": "[encoded data removed]",
            "text/plain": [
              "<Figure size 432x288 with 2 Axes>"
            ]
          },
          "metadata": {},
          "output_type": "display_data"
        },
        {
          "name": "stdout",
          "output_type": "stream",
          "text": [
            "\n",
            "Accuracy on using Decision Tree model is:  71.00229533282327\n"
          ]
        }
      ],
      "source": [
        "confusion_matrix = metrics.confusion_matrix(Y_test, dec_tree_pred)\n",
        "cm_display = metrics.ConfusionMatrixDisplay(confusion_matrix = confusion_matrix, display_labels = [False, True])\n",
        "cm_display.plot()\n",
        "plt.show()\n",
        "dec_tree_accuracy = accuracy_score(dec_tree_pred, Y_test)\n",
        "print('\\nAccuracy on using Decision Tree model is: ',dec_tree_accuracy*100);"
      ]
    },
    {
      "cell_type": "code",
      "execution_count": null,
      "metadata": {
        "colab": {
          "base_uri": "https://localhost:8080/"
        },
        "id": "jYH4ZiPRCoZu",
        "outputId": "dd91c91f-65c6-4be8-a6d9-f1849855bc58"
      },
      "outputs": [
        {
          "name": "stdout",
          "output_type": "stream",
          "text": [
            "              precision    recall  f1-score   support\n",
            "\n",
            "         0.0       0.57      0.55      0.56      1318\n",
            "         1.0       0.78      0.79      0.78      2602\n",
            "         6.0       0.00      0.00      0.00         1\n",
            "\n",
            "    accuracy                           0.71      3921\n",
            "   macro avg       0.45      0.45      0.45      3921\n",
            "weighted avg       0.71      0.71      0.71      3921\n",
            "\n"
          ]
        },
        {
          "name": "stderr",
          "output_type": "stream",
          "text": [
            "/usr/local/lib/python3.8/dist-packages/sklearn/metrics/_classification.py:1318: UndefinedMetricWarning: Precision and F-score are ill-defined and being set to 0.0 in labels with no predicted samples. Use `zero_division` parameter to control this behavior.\n",
            "  _warn_prf(average, modifier, msg_start, len(result))\n",
            "/usr/local/lib/python3.8/dist-packages/sklearn/metrics/_classification.py:1318: UndefinedMetricWarning: Precision and F-score are ill-defined and being set to 0.0 in labels with no predicted samples. Use `zero_division` parameter to control this behavior.\n",
            "  _warn_prf(average, modifier, msg_start, len(result))\n",
            "/usr/local/lib/python3.8/dist-packages/sklearn/metrics/_classification.py:1318: UndefinedMetricWarning: Precision and F-score are ill-defined and being set to 0.0 in labels with no predicted samples. Use `zero_division` parameter to control this behavior.\n",
            "  _warn_prf(average, modifier, msg_start, len(result))\n"
          ]
        }
      ],
      "source": [
        "print(classification_report(Y_test,dec_tree_pred ))"
      ]
    },
    {
      "cell_type": "code",
      "execution_count": null,
      "metadata": {
        "colab": {
          "base_uri": "https://localhost:8080/",
          "height": 424
        },
        "id": "aRugDYfGGolZ",
        "outputId": "c4d237bd-8f36-4686-ed9a-3b467a5827da"
      },
      "outputs": [
        {
          "data": {
            "text/html": [
              "\n",
              "  <div id=\"df-156abcf1-3593-41db-adf8-597355133bc0\">\n",
              "    <div class=\"colab-df-container\">\n",
              "      <div>\n",
              "<style scoped>\n",
              "    .dataframe tbody tr th:only-of-type {\n",
              "        vertical-align: middle;\n",
              "    }\n",
              "\n",
              "    .dataframe tbody tr th {\n",
              "        vertical-align: top;\n",
              "    }\n",
              "\n",
              "    .dataframe thead th {\n",
              "        text-align: right;\n",
              "    }\n",
              "</style>\n",
              "<table border=\"1\" class=\"dataframe\">\n",
              "  <thead>\n",
              "    <tr style=\"text-align: right;\">\n",
              "      <th></th>\n",
              "      <th>Predicted</th>\n",
              "      <th>Actual</th>\n",
              "    </tr>\n",
              "  </thead>\n",
              "  <tbody>\n",
              "    <tr>\n",
              "      <th>2267</th>\n",
              "      <td>1.0</td>\n",
              "      <td>1.0</td>\n",
              "    </tr>\n",
              "    <tr>\n",
              "      <th>12290</th>\n",
              "      <td>1.0</td>\n",
              "      <td>1.0</td>\n",
              "    </tr>\n",
              "    <tr>\n",
              "      <th>13470</th>\n",
              "      <td>1.0</td>\n",
              "      <td>1.0</td>\n",
              "    </tr>\n",
              "    <tr>\n",
              "      <th>13763</th>\n",
              "      <td>1.0</td>\n",
              "      <td>1.0</td>\n",
              "    </tr>\n",
              "    <tr>\n",
              "      <th>1870</th>\n",
              "      <td>1.0</td>\n",
              "      <td>0.0</td>\n",
              "    </tr>\n",
              "    <tr>\n",
              "      <th>...</th>\n",
              "      <td>...</td>\n",
              "      <td>...</td>\n",
              "    </tr>\n",
              "    <tr>\n",
              "      <th>9682</th>\n",
              "      <td>1.0</td>\n",
              "      <td>1.0</td>\n",
              "    </tr>\n",
              "    <tr>\n",
              "      <th>2175</th>\n",
              "      <td>1.0</td>\n",
              "      <td>1.0</td>\n",
              "    </tr>\n",
              "    <tr>\n",
              "      <th>2876</th>\n",
              "      <td>1.0</td>\n",
              "      <td>1.0</td>\n",
              "    </tr>\n",
              "    <tr>\n",
              "      <th>5578</th>\n",
              "      <td>1.0</td>\n",
              "      <td>1.0</td>\n",
              "    </tr>\n",
              "    <tr>\n",
              "      <th>14164</th>\n",
              "      <td>1.0</td>\n",
              "      <td>1.0</td>\n",
              "    </tr>\n",
              "  </tbody>\n",
              "</table>\n",
              "<p>3921 rows × 2 columns</p>\n",
              "</div>\n",
              "      <button class=\"colab-df-convert\" onclick=\"convertToInteractive('df-156abcf1-3593-41db-adf8-597355133bc0')\"\n",
              "              title=\"Convert this dataframe to an interactive table.\"\n",
              "              style=\"display:none;\">\n",
              "        \n",
              "  <svg xmlns=\"http://www.w3.org/2000/svg\" height=\"24px\"viewBox=\"0 0 24 24\"\n",
              "       width=\"24px\">\n",
              "    <path d=\"M0 0h24v24H0V0z\" fill=\"none\"/>\n",
              "    <path d=\"M18.56 5.44l.94 2.06.94-2.06 2.06-.94-2.06-.94-.94-2.06-.94 2.06-2.06.94zm-11 1L8.5 8.5l.94-2.06 2.06-.94-2.06-.94L8.5 2.5l-.94 2.06-2.06.94zm10 10l.94 2.06.94-2.06 2.06-.94-2.06-.94-.94-2.06-.94 2.06-2.06.94z\"/><path d=\"M17.41 7.96l-1.37-1.37c-.4-.4-.92-.59-1.43-.59-.52 0-1.04.2-1.43.59L10.3 9.45l-7.72 7.72c-.78.78-.78 2.05 0 2.83L4 21.41c.39.39.9.59 1.41.59.51 0 1.02-.2 1.41-.59l7.78-7.78 2.81-2.81c.8-.78.8-2.07 0-2.86zM5.41 20L4 18.59l7.72-7.72 1.47 1.35L5.41 20z\"/>\n",
              "  </svg>\n",
              "      </button>\n",
              "      \n",
              "  <style>\n",
              "    .colab-df-container {\n",
              "      display:flex;\n",
              "      flex-wrap:wrap;\n",
              "      gap: 12px;\n",
              "    }\n",
              "\n",
              "    .colab-df-convert {\n",
              "      background-color: #E8F0FE;\n",
              "      border: none;\n",
              "      border-radius: 50%;\n",
              "      cursor: pointer;\n",
              "      display: none;\n",
              "      fill: #1967D2;\n",
              "      height: 32px;\n",
              "      padding: 0 0 0 0;\n",
              "      width: 32px;\n",
              "    }\n",
              "\n",
              "    .colab-df-convert:hover {\n",
              "      background-color: #E2EBFA;\n",
              "      box-shadow: 0px 1px 2px rgba(60, 64, 67, 0.3), 0px 1px 3px 1px rgba(60, 64, 67, 0.15);\n",
              "      fill: #174EA6;\n",
              "    }\n",
              "\n",
              "    [theme=dark] .colab-df-convert {\n",
              "      background-color: #3B4455;\n",
              "      fill: #D2E3FC;\n",
              "    }\n",
              "\n",
              "    [theme=dark] .colab-df-convert:hover {\n",
              "      background-color: #434B5C;\n",
              "      box-shadow: 0px 1px 3px 1px rgba(0, 0, 0, 0.15);\n",
              "      filter: drop-shadow(0px 1px 2px rgba(0, 0, 0, 0.3));\n",
              "      fill: #FFFFFF;\n",
              "    }\n",
              "  </style>\n",
              "\n",
              "      <script>\n",
              "        const buttonEl =\n",
              "          document.querySelector('#df-156abcf1-3593-41db-adf8-597355133bc0 button.colab-df-convert');\n",
              "        buttonEl.style.display =\n",
              "          google.colab.kernel.accessAllowed ? 'block' : 'none';\n",
              "\n",
              "        async function convertToInteractive(key) {\n",
              "          const element = document.querySelector('#df-156abcf1-3593-41db-adf8-597355133bc0');\n",
              "          const dataTable =\n",
              "            await google.colab.kernel.invokeFunction('convertToInteractive',\n",
              "                                                     [key], {});\n",
              "          if (!dataTable) return;\n",
              "\n",
              "          const docLinkHtml = 'Like what you see? Visit the ' +\n",
              "            '<a target=\"_blank\" href=https://colab.research.google.com/notebooks/data_table.ipynb>data table notebook</a>'\n",
              "            + ' to learn more about interactive tables.';\n",
              "          element.innerHTML = '';\n",
              "          dataTable['output_type'] = 'display_data';\n",
              "          await google.colab.output.renderOutput(dataTable, element);\n",
              "          const docLink = document.createElement('div');\n",
              "          docLink.innerHTML = docLinkHtml;\n",
              "          element.appendChild(docLink);\n",
              "        }\n",
              "      </script>\n",
              "    </div>\n",
              "  </div>\n",
              "  "
            ],
            "text/plain": [
              "       Predicted  Actual\n",
              "2267         1.0     1.0\n",
              "12290        1.0     1.0\n",
              "13470        1.0     1.0\n",
              "13763        1.0     1.0\n",
              "1870         1.0     0.0\n",
              "...          ...     ...\n",
              "9682         1.0     1.0\n",
              "2175         1.0     1.0\n",
              "2876         1.0     1.0\n",
              "5578         1.0     1.0\n",
              "14164        1.0     1.0\n",
              "\n",
              "[3921 rows x 2 columns]"
            ]
          },
          "execution_count": 81,
          "metadata": {},
          "output_type": "execute_result"
        }
      ],
      "source": [
        "## 5) Random Forest \n",
        "\n",
        "from sklearn.ensemble import RandomForestClassifier\n",
        "\n",
        "rand_forest_model= RandomForestClassifier(max_depth=2)\n",
        "\n",
        "rand_forest_model.fit(X_train,Y_train)\n",
        "\n",
        "rand_forest_pred = rand_forest_model.predict(X_test)\n",
        "RF_preds = pd.DataFrame({\"Predicted\":rand_forest_pred,\"Actual\":Y_test})\n",
        "RF_preds"
      ]
    },
    {
      "cell_type": "code",
      "execution_count": null,
      "metadata": {
        "colab": {
          "base_uri": "https://localhost:8080/"
        },
        "id": "j3ivD1mlS8Wg",
        "outputId": "fe7e087b-5259-48d2-8c47-ebcc209f7f84"
      },
      "outputs": [
        {
          "name": "stdout",
          "output_type": "stream",
          "text": [
            "2564 1218 38 101\n",
            "Rightly Classified:  2665 / 3921\n",
            "Wrongly Classified:  1256 / 3921\n"
          ]
        }
      ],
      "source": [
        "RF_TP1 = len(RF_preds[(RF_preds[\"Predicted\"]==RF_preds[\"Actual\"])&(RF_preds[\"Predicted\"]==1)])\n",
        "RF_FP1 = len(RF_preds[(RF_preds[\"Predicted\"]!=RF_preds[\"Actual\"])&(RF_preds[\"Predicted\"]==1)])\n",
        "RF_FN1 = len(RF_preds[(RF_preds[\"Predicted\"]!=RF_preds[\"Actual\"])&(RF_preds[\"Predicted\"]==0)])\n",
        "RF_TN1 = len(RF_preds[(RF_preds[\"Predicted\"]==RF_preds[\"Actual\"])&(RF_preds[\"Predicted\"]==0)])\n",
        "print(RF_TP1,RF_FP1,RF_FN1,RF_TN1)\n",
        "print(\"Rightly Classified: \",(RF_TP1+RF_TN1),\"/\",(RF_TP1+RF_FP1+RF_FN1+RF_TN1))\n",
        "print(\"Wrongly Classified: \",(RF_FP1+RF_FN1),\"/\",(RF_TP1+RF_FP1+RF_FN1+RF_TN1))\n",
        "RF_Accuracy1 = (RF_TP1+RF_TN1)/(RF_TP1+RF_FP1+RF_FN1+RF_TN1)\n",
        "RF_Precision1 = (RF_TP1)/(RF_TP1+RF_FP1)\n",
        "RF_Recall1 = (RF_TP1)/(RF_TP1+RF_FN1)\n",
        "RF_Specificity1 = (RF_TN1)/(RF_TN1+RF_FP1)\n",
        "RF_F11 = (2*RF_Precision1*RF_Recall1)/(RF_Precision1+RF_Recall1)\n"
      ]
    },
    {
      "cell_type": "code",
      "execution_count": null,
      "metadata": {
        "colab": {
          "base_uri": "https://localhost:8080/",
          "height": 314
        },
        "id": "gmNTD5jAay8v",
        "outputId": "2a7fa91e-f7d4-46d1-cddf-6f1df00bbeaa"
      },
      "outputs": [
        {
          "data": {
            "image/png": "[encoded data removed]",
            "text/plain": [
              "<Figure size 432x288 with 2 Axes>"
            ]
          },
          "metadata": {},
          "output_type": "display_data"
        },
        {
          "name": "stdout",
          "output_type": "stream",
          "text": [
            "\n",
            "Accuracy on using Random Forest algorithm is:  67.96735526651364\n"
          ]
        }
      ],
      "source": [
        "confusion_matrix = metrics.confusion_matrix(Y_test, rand_forest_pred)\n",
        "cm_display = metrics.ConfusionMatrixDisplay(confusion_matrix = confusion_matrix, display_labels = [False, True])\n",
        "cm_display.plot()\n",
        "plt.show()\n",
        "rand_forest_accuracy = accuracy_score(rand_forest_pred, Y_test)\n",
        "print('\\nAccuracy on using Random Forest algorithm is: ',rand_forest_accuracy*100);"
      ]
    },
    {
      "cell_type": "code",
      "execution_count": null,
      "metadata": {
        "colab": {
          "base_uri": "https://localhost:8080/"
        },
        "id": "ZDoHyeKQdkmt",
        "outputId": "94526ab8-e3f8-4f1e-99b0-8efcb86eccc6"
      },
      "outputs": [
        {
          "name": "stdout",
          "output_type": "stream",
          "text": [
            "              precision    recall  f1-score   support\n",
            "\n",
            "         0.0       0.73      0.08      0.14      1318\n",
            "         1.0       0.68      0.99      0.80      2602\n",
            "         6.0       0.00      0.00      0.00         1\n",
            "\n",
            "    accuracy                           0.68      3921\n",
            "   macro avg       0.47      0.35      0.31      3921\n",
            "weighted avg       0.69      0.68      0.58      3921\n",
            "\n"
          ]
        },
        {
          "name": "stderr",
          "output_type": "stream",
          "text": [
            "/usr/local/lib/python3.8/dist-packages/sklearn/metrics/_classification.py:1318: UndefinedMetricWarning: Precision and F-score are ill-defined and being set to 0.0 in labels with no predicted samples. Use `zero_division` parameter to control this behavior.\n",
            "  _warn_prf(average, modifier, msg_start, len(result))\n",
            "/usr/local/lib/python3.8/dist-packages/sklearn/metrics/_classification.py:1318: UndefinedMetricWarning: Precision and F-score are ill-defined and being set to 0.0 in labels with no predicted samples. Use `zero_division` parameter to control this behavior.\n",
            "  _warn_prf(average, modifier, msg_start, len(result))\n",
            "/usr/local/lib/python3.8/dist-packages/sklearn/metrics/_classification.py:1318: UndefinedMetricWarning: Precision and F-score are ill-defined and being set to 0.0 in labels with no predicted samples. Use `zero_division` parameter to control this behavior.\n",
            "  _warn_prf(average, modifier, msg_start, len(result))\n"
          ]
        }
      ],
      "source": [
        "print(classification_report(Y_test,rand_forest_pred ))"
      ]
    },
    {
      "cell_type": "markdown",
      "metadata": {
        "id": "tW2fP1B1V58y"
      },
      "source": [
        "##Random Forest (Max 5 features in Bootstraping)"
      ]
    },
    {
      "cell_type": "code",
      "execution_count": null,
      "metadata": {
        "colab": {
          "base_uri": "https://localhost:8080/",
          "height": 424
        },
        "id": "sURph06sUtzi",
        "outputId": "a3459528-4bc4-4d74-85a0-499c8c0d56f9"
      },
      "outputs": [
        {
          "data": {
            "text/html": [
              "\n",
              "  <div id=\"df-220f7d8c-c8d9-45ee-b508-55a43cdd5f89\">\n",
              "    <div class=\"colab-df-container\">\n",
              "      <div>\n",
              "<style scoped>\n",
              "    .dataframe tbody tr th:only-of-type {\n",
              "        vertical-align: middle;\n",
              "    }\n",
              "\n",
              "    .dataframe tbody tr th {\n",
              "        vertical-align: top;\n",
              "    }\n",
              "\n",
              "    .dataframe thead th {\n",
              "        text-align: right;\n",
              "    }\n",
              "</style>\n",
              "<table border=\"1\" class=\"dataframe\">\n",
              "  <thead>\n",
              "    <tr style=\"text-align: right;\">\n",
              "      <th></th>\n",
              "      <th>Predicted</th>\n",
              "      <th>Actual</th>\n",
              "    </tr>\n",
              "  </thead>\n",
              "  <tbody>\n",
              "    <tr>\n",
              "      <th>2267</th>\n",
              "      <td>1.0</td>\n",
              "      <td>1.0</td>\n",
              "    </tr>\n",
              "    <tr>\n",
              "      <th>12290</th>\n",
              "      <td>1.0</td>\n",
              "      <td>1.0</td>\n",
              "    </tr>\n",
              "    <tr>\n",
              "      <th>13470</th>\n",
              "      <td>1.0</td>\n",
              "      <td>1.0</td>\n",
              "    </tr>\n",
              "    <tr>\n",
              "      <th>13763</th>\n",
              "      <td>1.0</td>\n",
              "      <td>1.0</td>\n",
              "    </tr>\n",
              "    <tr>\n",
              "      <th>1870</th>\n",
              "      <td>1.0</td>\n",
              "      <td>0.0</td>\n",
              "    </tr>\n",
              "    <tr>\n",
              "      <th>...</th>\n",
              "      <td>...</td>\n",
              "      <td>...</td>\n",
              "    </tr>\n",
              "    <tr>\n",
              "      <th>9682</th>\n",
              "      <td>1.0</td>\n",
              "      <td>1.0</td>\n",
              "    </tr>\n",
              "    <tr>\n",
              "      <th>2175</th>\n",
              "      <td>1.0</td>\n",
              "      <td>1.0</td>\n",
              "    </tr>\n",
              "    <tr>\n",
              "      <th>2876</th>\n",
              "      <td>1.0</td>\n",
              "      <td>1.0</td>\n",
              "    </tr>\n",
              "    <tr>\n",
              "      <th>5578</th>\n",
              "      <td>1.0</td>\n",
              "      <td>1.0</td>\n",
              "    </tr>\n",
              "    <tr>\n",
              "      <th>14164</th>\n",
              "      <td>1.0</td>\n",
              "      <td>1.0</td>\n",
              "    </tr>\n",
              "  </tbody>\n",
              "</table>\n",
              "<p>3921 rows × 2 columns</p>\n",
              "</div>\n",
              "      <button class=\"colab-df-convert\" onclick=\"convertToInteractive('df-220f7d8c-c8d9-45ee-b508-55a43cdd5f89')\"\n",
              "              title=\"Convert this dataframe to an interactive table.\"\n",
              "              style=\"display:none;\">\n",
              "        \n",
              "  <svg xmlns=\"http://www.w3.org/2000/svg\" height=\"24px\"viewBox=\"0 0 24 24\"\n",
              "       width=\"24px\">\n",
              "    <path d=\"M0 0h24v24H0V0z\" fill=\"none\"/>\n",
              "    <path d=\"M18.56 5.44l.94 2.06.94-2.06 2.06-.94-2.06-.94-.94-2.06-.94 2.06-2.06.94zm-11 1L8.5 8.5l.94-2.06 2.06-.94-2.06-.94L8.5 2.5l-.94 2.06-2.06.94zm10 10l.94 2.06.94-2.06 2.06-.94-2.06-.94-.94-2.06-.94 2.06-2.06.94z\"/><path d=\"M17.41 7.96l-1.37-1.37c-.4-.4-.92-.59-1.43-.59-.52 0-1.04.2-1.43.59L10.3 9.45l-7.72 7.72c-.78.78-.78 2.05 0 2.83L4 21.41c.39.39.9.59 1.41.59.51 0 1.02-.2 1.41-.59l7.78-7.78 2.81-2.81c.8-.78.8-2.07 0-2.86zM5.41 20L4 18.59l7.72-7.72 1.47 1.35L5.41 20z\"/>\n",
              "  </svg>\n",
              "      </button>\n",
              "      \n",
              "  <style>\n",
              "    .colab-df-container {\n",
              "      display:flex;\n",
              "      flex-wrap:wrap;\n",
              "      gap: 12px;\n",
              "    }\n",
              "\n",
              "    .colab-df-convert {\n",
              "      background-color: #E8F0FE;\n",
              "      border: none;\n",
              "      border-radius: 50%;\n",
              "      cursor: pointer;\n",
              "      display: none;\n",
              "      fill: #1967D2;\n",
              "      height: 32px;\n",
              "      padding: 0 0 0 0;\n",
              "      width: 32px;\n",
              "    }\n",
              "\n",
              "    .colab-df-convert:hover {\n",
              "      background-color: #E2EBFA;\n",
              "      box-shadow: 0px 1px 2px rgba(60, 64, 67, 0.3), 0px 1px 3px 1px rgba(60, 64, 67, 0.15);\n",
              "      fill: #174EA6;\n",
              "    }\n",
              "\n",
              "    [theme=dark] .colab-df-convert {\n",
              "      background-color: #3B4455;\n",
              "      fill: #D2E3FC;\n",
              "    }\n",
              "\n",
              "    [theme=dark] .colab-df-convert:hover {\n",
              "      background-color: #434B5C;\n",
              "      box-shadow: 0px 1px 3px 1px rgba(0, 0, 0, 0.15);\n",
              "      filter: drop-shadow(0px 1px 2px rgba(0, 0, 0, 0.3));\n",
              "      fill: #FFFFFF;\n",
              "    }\n",
              "  </style>\n",
              "\n",
              "      <script>\n",
              "        const buttonEl =\n",
              "          document.querySelector('#df-220f7d8c-c8d9-45ee-b508-55a43cdd5f89 button.colab-df-convert');\n",
              "        buttonEl.style.display =\n",
              "          google.colab.kernel.accessAllowed ? 'block' : 'none';\n",
              "\n",
              "        async function convertToInteractive(key) {\n",
              "          const element = document.querySelector('#df-220f7d8c-c8d9-45ee-b508-55a43cdd5f89');\n",
              "          const dataTable =\n",
              "            await google.colab.kernel.invokeFunction('convertToInteractive',\n",
              "                                                     [key], {});\n",
              "          if (!dataTable) return;\n",
              "\n",
              "          const docLinkHtml = 'Like what you see? Visit the ' +\n",
              "            '<a target=\"_blank\" href=https://colab.research.google.com/notebooks/data_table.ipynb>data table notebook</a>'\n",
              "            + ' to learn more about interactive tables.';\n",
              "          element.innerHTML = '';\n",
              "          dataTable['output_type'] = 'display_data';\n",
              "          await google.colab.output.renderOutput(dataTable, element);\n",
              "          const docLink = document.createElement('div');\n",
              "          docLink.innerHTML = docLinkHtml;\n",
              "          element.appendChild(docLink);\n",
              "        }\n",
              "      </script>\n",
              "    </div>\n",
              "  </div>\n",
              "  "
            ],
            "text/plain": [
              "       Predicted  Actual\n",
              "2267         1.0     1.0\n",
              "12290        1.0     1.0\n",
              "13470        1.0     1.0\n",
              "13763        1.0     1.0\n",
              "1870         1.0     0.0\n",
              "...          ...     ...\n",
              "9682         1.0     1.0\n",
              "2175         1.0     1.0\n",
              "2876         1.0     1.0\n",
              "5578         1.0     1.0\n",
              "14164        1.0     1.0\n",
              "\n",
              "[3921 rows x 2 columns]"
            ]
          },
          "execution_count": 86,
          "metadata": {},
          "output_type": "execute_result"
        }
      ],
      "source": [
        "\n",
        "RF_model2 = RandomForestClassifier(max_depth=5)\n",
        "RF_model2.fit(X_train,Y_train)\n",
        "RF_y_preds = RF_model2.predict(X_test)\n",
        "RF_preds = pd.DataFrame({\"Predicted\":RF_y_preds,\"Actual\":Y_test})\n",
        "RF_preds"
      ]
    },
    {
      "cell_type": "code",
      "execution_count": null,
      "metadata": {
        "colab": {
          "base_uri": "https://localhost:8080/"
        },
        "id": "RtQ77IMZWBeg",
        "outputId": "73be0a13-3dac-4c8e-a08d-2f4088134cbb"
      },
      "outputs": [
        {
          "name": "stdout",
          "output_type": "stream",
          "text": [
            "2385 880 217 439\n",
            "Rightly Classified:  2824 / 3921\n",
            "Wrongly Classified:  1097 / 3921\n"
          ]
        }
      ],
      "source": [
        "\n",
        "RF_TP2 = len(RF_preds[(RF_preds[\"Predicted\"]==RF_preds[\"Actual\"])&(RF_preds[\"Predicted\"]==1)])\n",
        "RF_FP2 = len(RF_preds[(RF_preds[\"Predicted\"]!=RF_preds[\"Actual\"])&(RF_preds[\"Predicted\"]==1)])\n",
        "RF_FN2 = len(RF_preds[(RF_preds[\"Predicted\"]!=RF_preds[\"Actual\"])&(RF_preds[\"Predicted\"]==0)])\n",
        "RF_TN2 = len(RF_preds[(RF_preds[\"Predicted\"]==RF_preds[\"Actual\"])&(RF_preds[\"Predicted\"]==0)])\n",
        "print(RF_TP2,RF_FP2,RF_FN2,RF_TN2)\n",
        "print(\"Rightly Classified: \",(RF_TP2+RF_TN2),\"/\",(RF_TP2+RF_FP2+RF_FN2+RF_TN2))\n",
        "print(\"Wrongly Classified: \",(RF_FP2+RF_FN2),\"/\",(RF_TP2+RF_FP2+RF_FN2+RF_TN2))\n",
        "RF_Accuracy2 = (RF_TP2+RF_TN2)/(RF_TP2+RF_FP2+RF_FN2+RF_TN2)\n",
        "RF_Precision2 = (RF_TP2)/(RF_TP2+RF_FP2)\n",
        "RF_Recall2 = (RF_TP2)/(RF_TP2+RF_FN2)\n",
        "RF_Specificity2 = (RF_TN2)/(RF_TN2+RF_FP2)\n",
        "RF_F12 = (2*RF_Precision2*RF_Recall2)/(RF_Precision2+RF_Recall2)"
      ]
    },
    {
      "cell_type": "code",
      "execution_count": null,
      "metadata": {
        "colab": {
          "base_uri": "https://localhost:8080/",
          "height": 279
        },
        "id": "SnIrSMYkWMwr",
        "outputId": "2bace4da-957b-4c2a-a9fb-3783ab1db7f8"
      },
      "outputs": [
        {
          "data": {
            "image/png": "[encoded data removed]",
            "text/plain": [
              "<Figure size 432x288 with 2 Axes>"
            ]
          },
          "metadata": {},
          "output_type": "display_data"
        }
      ],
      "source": [
        "confusion_matrix = metrics.confusion_matrix(Y_test, RF_y_preds)\n",
        "cm_display = metrics.ConfusionMatrixDisplay(confusion_matrix = confusion_matrix, display_labels = [False, True])\n",
        "cm_display.plot()\n",
        "plt.show()"
      ]
    },
    {
      "cell_type": "code",
      "execution_count": null,
      "metadata": {
        "colab": {
          "base_uri": "https://localhost:8080/"
        },
        "id": "76p5zeF6Wpf8",
        "outputId": "b08e3a56-bdae-45e9-d860-aafb7e27ec0a"
      },
      "outputs": [
        {
          "name": "stdout",
          "output_type": "stream",
          "text": [
            "              precision    recall  f1-score   support\n",
            "\n",
            "         0.0       0.67      0.33      0.44      1318\n",
            "         1.0       0.73      0.92      0.81      2602\n",
            "         6.0       0.00      0.00      0.00         1\n",
            "\n",
            "    accuracy                           0.72      3921\n",
            "   macro avg       0.47      0.42      0.42      3921\n",
            "weighted avg       0.71      0.72      0.69      3921\n",
            "\n"
          ]
        },
        {
          "name": "stderr",
          "output_type": "stream",
          "text": [
            "/usr/local/lib/python3.8/dist-packages/sklearn/metrics/_classification.py:1318: UndefinedMetricWarning: Precision and F-score are ill-defined and being set to 0.0 in labels with no predicted samples. Use `zero_division` parameter to control this behavior.\n",
            "  _warn_prf(average, modifier, msg_start, len(result))\n",
            "/usr/local/lib/python3.8/dist-packages/sklearn/metrics/_classification.py:1318: UndefinedMetricWarning: Precision and F-score are ill-defined and being set to 0.0 in labels with no predicted samples. Use `zero_division` parameter to control this behavior.\n",
            "  _warn_prf(average, modifier, msg_start, len(result))\n",
            "/usr/local/lib/python3.8/dist-packages/sklearn/metrics/_classification.py:1318: UndefinedMetricWarning: Precision and F-score are ill-defined and being set to 0.0 in labels with no predicted samples. Use `zero_division` parameter to control this behavior.\n",
            "  _warn_prf(average, modifier, msg_start, len(result))\n"
          ]
        }
      ],
      "source": [
        "print(classification_report(Y_test, RF_y_preds))"
      ]
    },
    {
      "cell_type": "markdown",
      "metadata": {
        "id": "Vno8cKM7W5pR"
      },
      "source": [
        "# Random Forest (Max 10 features in Bootstraping) "
      ]
    },
    {
      "cell_type": "code",
      "execution_count": null,
      "metadata": {
        "colab": {
          "base_uri": "https://localhost:8080/",
          "height": 424
        },
        "id": "8KHBZ_dyW27z",
        "outputId": "cf4f10e6-b462-4415-c0f0-9ee61e5ca544"
      },
      "outputs": [
        {
          "data": {
            "text/html": [
              "\n",
              "  <div id=\"df-f19613e8-56dc-406d-8d60-bac5391f2113\">\n",
              "    <div class=\"colab-df-container\">\n",
              "      <div>\n",
              "<style scoped>\n",
              "    .dataframe tbody tr th:only-of-type {\n",
              "        vertical-align: middle;\n",
              "    }\n",
              "\n",
              "    .dataframe tbody tr th {\n",
              "        vertical-align: top;\n",
              "    }\n",
              "\n",
              "    .dataframe thead th {\n",
              "        text-align: right;\n",
              "    }\n",
              "</style>\n",
              "<table border=\"1\" class=\"dataframe\">\n",
              "  <thead>\n",
              "    <tr style=\"text-align: right;\">\n",
              "      <th></th>\n",
              "      <th>Predicted</th>\n",
              "      <th>Actual</th>\n",
              "    </tr>\n",
              "  </thead>\n",
              "  <tbody>\n",
              "    <tr>\n",
              "      <th>2267</th>\n",
              "      <td>1.0</td>\n",
              "      <td>1.0</td>\n",
              "    </tr>\n",
              "    <tr>\n",
              "      <th>12290</th>\n",
              "      <td>1.0</td>\n",
              "      <td>1.0</td>\n",
              "    </tr>\n",
              "    <tr>\n",
              "      <th>13470</th>\n",
              "      <td>1.0</td>\n",
              "      <td>1.0</td>\n",
              "    </tr>\n",
              "    <tr>\n",
              "      <th>13763</th>\n",
              "      <td>1.0</td>\n",
              "      <td>1.0</td>\n",
              "    </tr>\n",
              "    <tr>\n",
              "      <th>1870</th>\n",
              "      <td>1.0</td>\n",
              "      <td>0.0</td>\n",
              "    </tr>\n",
              "    <tr>\n",
              "      <th>...</th>\n",
              "      <td>...</td>\n",
              "      <td>...</td>\n",
              "    </tr>\n",
              "    <tr>\n",
              "      <th>9682</th>\n",
              "      <td>1.0</td>\n",
              "      <td>1.0</td>\n",
              "    </tr>\n",
              "    <tr>\n",
              "      <th>2175</th>\n",
              "      <td>1.0</td>\n",
              "      <td>1.0</td>\n",
              "    </tr>\n",
              "    <tr>\n",
              "      <th>2876</th>\n",
              "      <td>1.0</td>\n",
              "      <td>1.0</td>\n",
              "    </tr>\n",
              "    <tr>\n",
              "      <th>5578</th>\n",
              "      <td>1.0</td>\n",
              "      <td>1.0</td>\n",
              "    </tr>\n",
              "    <tr>\n",
              "      <th>14164</th>\n",
              "      <td>1.0</td>\n",
              "      <td>1.0</td>\n",
              "    </tr>\n",
              "  </tbody>\n",
              "</table>\n",
              "<p>3921 rows × 2 columns</p>\n",
              "</div>\n",
              "      <button class=\"colab-df-convert\" onclick=\"convertToInteractive('df-f19613e8-56dc-406d-8d60-bac5391f2113')\"\n",
              "              title=\"Convert this dataframe to an interactive table.\"\n",
              "              style=\"display:none;\">\n",
              "        \n",
              "  <svg xmlns=\"http://www.w3.org/2000/svg\" height=\"24px\"viewBox=\"0 0 24 24\"\n",
              "       width=\"24px\">\n",
              "    <path d=\"M0 0h24v24H0V0z\" fill=\"none\"/>\n",
              "    <path d=\"M18.56 5.44l.94 2.06.94-2.06 2.06-.94-2.06-.94-.94-2.06-.94 2.06-2.06.94zm-11 1L8.5 8.5l.94-2.06 2.06-.94-2.06-.94L8.5 2.5l-.94 2.06-2.06.94zm10 10l.94 2.06.94-2.06 2.06-.94-2.06-.94-.94-2.06-.94 2.06-2.06.94z\"/><path d=\"M17.41 7.96l-1.37-1.37c-.4-.4-.92-.59-1.43-.59-.52 0-1.04.2-1.43.59L10.3 9.45l-7.72 7.72c-.78.78-.78 2.05 0 2.83L4 21.41c.39.39.9.59 1.41.59.51 0 1.02-.2 1.41-.59l7.78-7.78 2.81-2.81c.8-.78.8-2.07 0-2.86zM5.41 20L4 18.59l7.72-7.72 1.47 1.35L5.41 20z\"/>\n",
              "  </svg>\n",
              "      </button>\n",
              "      \n",
              "  <style>\n",
              "    .colab-df-container {\n",
              "      display:flex;\n",
              "      flex-wrap:wrap;\n",
              "      gap: 12px;\n",
              "    }\n",
              "\n",
              "    .colab-df-convert {\n",
              "      background-color: #E8F0FE;\n",
              "      border: none;\n",
              "      border-radius: 50%;\n",
              "      cursor: pointer;\n",
              "      display: none;\n",
              "      fill: #1967D2;\n",
              "      height: 32px;\n",
              "      padding: 0 0 0 0;\n",
              "      width: 32px;\n",
              "    }\n",
              "\n",
              "    .colab-df-convert:hover {\n",
              "      background-color: #E2EBFA;\n",
              "      box-shadow: 0px 1px 2px rgba(60, 64, 67, 0.3), 0px 1px 3px 1px rgba(60, 64, 67, 0.15);\n",
              "      fill: #174EA6;\n",
              "    }\n",
              "\n",
              "    [theme=dark] .colab-df-convert {\n",
              "      background-color: #3B4455;\n",
              "      fill: #D2E3FC;\n",
              "    }\n",
              "\n",
              "    [theme=dark] .colab-df-convert:hover {\n",
              "      background-color: #434B5C;\n",
              "      box-shadow: 0px 1px 3px 1px rgba(0, 0, 0, 0.15);\n",
              "      filter: drop-shadow(0px 1px 2px rgba(0, 0, 0, 0.3));\n",
              "      fill: #FFFFFF;\n",
              "    }\n",
              "  </style>\n",
              "\n",
              "      <script>\n",
              "        const buttonEl =\n",
              "          document.querySelector('#df-f19613e8-56dc-406d-8d60-bac5391f2113 button.colab-df-convert');\n",
              "        buttonEl.style.display =\n",
              "          google.colab.kernel.accessAllowed ? 'block' : 'none';\n",
              "\n",
              "        async function convertToInteractive(key) {\n",
              "          const element = document.querySelector('#df-f19613e8-56dc-406d-8d60-bac5391f2113');\n",
              "          const dataTable =\n",
              "            await google.colab.kernel.invokeFunction('convertToInteractive',\n",
              "                                                     [key], {});\n",
              "          if (!dataTable) return;\n",
              "\n",
              "          const docLinkHtml = 'Like what you see? Visit the ' +\n",
              "            '<a target=\"_blank\" href=https://colab.research.google.com/notebooks/data_table.ipynb>data table notebook</a>'\n",
              "            + ' to learn more about interactive tables.';\n",
              "          element.innerHTML = '';\n",
              "          dataTable['output_type'] = 'display_data';\n",
              "          await google.colab.output.renderOutput(dataTable, element);\n",
              "          const docLink = document.createElement('div');\n",
              "          docLink.innerHTML = docLinkHtml;\n",
              "          element.appendChild(docLink);\n",
              "        }\n",
              "      </script>\n",
              "    </div>\n",
              "  </div>\n",
              "  "
            ],
            "text/plain": [
              "       Predicted  Actual\n",
              "2267         1.0     1.0\n",
              "12290        1.0     1.0\n",
              "13470        1.0     1.0\n",
              "13763        1.0     1.0\n",
              "1870         1.0     0.0\n",
              "...          ...     ...\n",
              "9682         1.0     1.0\n",
              "2175         1.0     1.0\n",
              "2876         1.0     1.0\n",
              "5578         1.0     1.0\n",
              "14164        1.0     1.0\n",
              "\n",
              "[3921 rows x 2 columns]"
            ]
          },
          "execution_count": 90,
          "metadata": {},
          "output_type": "execute_result"
        }
      ],
      "source": [
        "RF_model3 = RandomForestClassifier(max_depth=10)\n",
        "RF_model3.fit(X_train,Y_train)\n",
        "RF_y_preds = RF_model3.predict(X_test)\n",
        "RF_preds = pd.DataFrame({\"Predicted\":RF_y_preds,\"Actual\":Y_test})\n",
        "RF_preds"
      ]
    },
    {
      "cell_type": "code",
      "execution_count": null,
      "metadata": {
        "id": "r7Oz3BT5Y3h6"
      },
      "outputs": [],
      "source": [
        "RF_TP3 = len(RF_preds[(RF_preds[\"Predicted\"]==RF_preds[\"Actual\"])&(RF_preds[\"Predicted\"]==1)])\n",
        "RF_FP3 = len(RF_preds[(RF_preds[\"Predicted\"]!=RF_preds[\"Actual\"])&(RF_preds[\"Predicted\"]==1)])\n",
        "RF_FN3 = len(RF_preds[(RF_preds[\"Predicted\"]!=RF_preds[\"Actual\"])&(RF_preds[\"Predicted\"]==0)])\n",
        "RF_TN3 = len(RF_preds[(RF_preds[\"Predicted\"]==RF_preds[\"Actual\"])&(RF_preds[\"Predicted\"]==0)])\n",
        "print(RF_TP3,RF_FP3,RF_FN3,RF_TN3)\n",
        "print(\"Rightly Classified: \",(RF_TP3+RF_TN3),\"/\",(RF_TP3+RF_FP3+RF_FN3+RF_TN3))\n",
        "print(\"Wrongly Classified: \",(RF_FP3+RF_FN3),\"/\",(RF_TP3+RF_FP3+RF_FN3+RF_TN3))\n",
        "\n",
        "RF_Accuracy3 = (RF_TP3+RF_TN3)/(RF_TP3+RF_FP3+RF_FN3+RF_TN3)\n",
        "RF_Precision3 = (RF_TP3)/(RF_TP3+RF_FP3)\n",
        "RF_Recall3 = (RF_TP3)/(RF_TP3+RF_FN3)\n",
        "RF_Specificity3 = (RF_TN3)/(RF_TN3+RF_FP3)\n",
        "RF_F13 = (2*RF_Precision3*RF_Recall3)/(RF_Precision3+RF_Recall3)"
      ]
    },
    {
      "cell_type": "code",
      "execution_count": null,
      "metadata": {
        "colab": {
          "base_uri": "https://localhost:8080/",
          "height": 279
        },
        "id": "rreqTsXbY_QC",
        "outputId": "8749616e-5317-447f-b587-f1d1ae6b2d21"
      },
      "outputs": [
        {
          "data": {
            "image/png": "[encoded data removed]",
            "text/plain": [
              "<Figure size 432x288 with 2 Axes>"
            ]
          },
          "metadata": {},
          "output_type": "display_data"
        }
      ],
      "source": [
        "confusion_matrix = metrics.confusion_matrix(Y_test, RF_y_preds)\n",
        "cm_display = metrics.ConfusionMatrixDisplay(confusion_matrix = confusion_matrix, display_labels = [False, True])\n",
        "cm_display.plot()\n",
        "plt.show()"
      ]
    },
    {
      "cell_type": "code",
      "execution_count": null,
      "metadata": {
        "colab": {
          "base_uri": "https://localhost:8080/"
        },
        "id": "eVrMfStEZGqN",
        "outputId": "980a271e-c91e-4306-e9d8-4f0d5d6a62b1"
      },
      "outputs": [
        {
          "name": "stdout",
          "output_type": "stream",
          "text": [
            "              precision    recall  f1-score   support\n",
            "\n",
            "         0.0       0.75      0.28      0.40      4370\n",
            "         1.0       0.80      0.97      0.88     13198\n",
            "\n",
            "    accuracy                           0.80     17568\n",
            "   macro avg       0.78      0.62      0.64     17568\n",
            "weighted avg       0.79      0.80      0.76     17568\n",
            "\n"
          ]
        }
      ],
      "source": [
        "print(classification_report(Y_test, RF_y_preds))"
      ]
    },
    {
      "cell_type": "markdown",
      "metadata": {
        "id": "h6I6uHUHasXv"
      },
      "source": [
        "######SVM (Support Vector Machine)"
      ]
    },
    {
      "cell_type": "code",
      "execution_count": null,
      "metadata": {
        "colab": {
          "base_uri": "https://localhost:8080/",
          "height": 424
        },
        "id": "Qk8FgnclZLdL",
        "outputId": "c6264ec3-8c5f-4727-97a2-f7242f4591ab"
      },
      "outputs": [
        {
          "data": {
            "text/html": [
              "\n",
              "  <div id=\"df-d2cd149b-a4ec-4f5f-8e03-02b892952434\">\n",
              "    <div class=\"colab-df-container\">\n",
              "      <div>\n",
              "<style scoped>\n",
              "    .dataframe tbody tr th:only-of-type {\n",
              "        vertical-align: middle;\n",
              "    }\n",
              "\n",
              "    .dataframe tbody tr th {\n",
              "        vertical-align: top;\n",
              "    }\n",
              "\n",
              "    .dataframe thead th {\n",
              "        text-align: right;\n",
              "    }\n",
              "</style>\n",
              "<table border=\"1\" class=\"dataframe\">\n",
              "  <thead>\n",
              "    <tr style=\"text-align: right;\">\n",
              "      <th></th>\n",
              "      <th>Predicted</th>\n",
              "      <th>Actual</th>\n",
              "    </tr>\n",
              "  </thead>\n",
              "  <tbody>\n",
              "    <tr>\n",
              "      <th>21617</th>\n",
              "      <td>1.0</td>\n",
              "      <td>0.0</td>\n",
              "    </tr>\n",
              "    <tr>\n",
              "      <th>34029</th>\n",
              "      <td>1.0</td>\n",
              "      <td>1.0</td>\n",
              "    </tr>\n",
              "    <tr>\n",
              "      <th>34957</th>\n",
              "      <td>1.0</td>\n",
              "      <td>1.0</td>\n",
              "    </tr>\n",
              "    <tr>\n",
              "      <th>24416</th>\n",
              "      <td>1.0</td>\n",
              "      <td>1.0</td>\n",
              "    </tr>\n",
              "    <tr>\n",
              "      <th>17811</th>\n",
              "      <td>1.0</td>\n",
              "      <td>0.0</td>\n",
              "    </tr>\n",
              "    <tr>\n",
              "      <th>...</th>\n",
              "      <td>...</td>\n",
              "      <td>...</td>\n",
              "    </tr>\n",
              "    <tr>\n",
              "      <th>21055</th>\n",
              "      <td>1.0</td>\n",
              "      <td>1.0</td>\n",
              "    </tr>\n",
              "    <tr>\n",
              "      <th>12308</th>\n",
              "      <td>1.0</td>\n",
              "      <td>1.0</td>\n",
              "    </tr>\n",
              "    <tr>\n",
              "      <th>61307</th>\n",
              "      <td>1.0</td>\n",
              "      <td>0.0</td>\n",
              "    </tr>\n",
              "    <tr>\n",
              "      <th>31571</th>\n",
              "      <td>1.0</td>\n",
              "      <td>1.0</td>\n",
              "    </tr>\n",
              "    <tr>\n",
              "      <th>19008</th>\n",
              "      <td>1.0</td>\n",
              "      <td>1.0</td>\n",
              "    </tr>\n",
              "  </tbody>\n",
              "</table>\n",
              "<p>17568 rows × 2 columns</p>\n",
              "</div>\n",
              "      <button class=\"colab-df-convert\" onclick=\"convertToInteractive('df-d2cd149b-a4ec-4f5f-8e03-02b892952434')\"\n",
              "              title=\"Convert this dataframe to an interactive table.\"\n",
              "              style=\"display:none;\">\n",
              "        \n",
              "  <svg xmlns=\"http://www.w3.org/2000/svg\" height=\"24px\"viewBox=\"0 0 24 24\"\n",
              "       width=\"24px\">\n",
              "    <path d=\"M0 0h24v24H0V0z\" fill=\"none\"/>\n",
              "    <path d=\"M18.56 5.44l.94 2.06.94-2.06 2.06-.94-2.06-.94-.94-2.06-.94 2.06-2.06.94zm-11 1L8.5 8.5l.94-2.06 2.06-.94-2.06-.94L8.5 2.5l-.94 2.06-2.06.94zm10 10l.94 2.06.94-2.06 2.06-.94-2.06-.94-.94-2.06-.94 2.06-2.06.94z\"/><path d=\"M17.41 7.96l-1.37-1.37c-.4-.4-.92-.59-1.43-.59-.52 0-1.04.2-1.43.59L10.3 9.45l-7.72 7.72c-.78.78-.78 2.05 0 2.83L4 21.41c.39.39.9.59 1.41.59.51 0 1.02-.2 1.41-.59l7.78-7.78 2.81-2.81c.8-.78.8-2.07 0-2.86zM5.41 20L4 18.59l7.72-7.72 1.47 1.35L5.41 20z\"/>\n",
              "  </svg>\n",
              "      </button>\n",
              "      \n",
              "  <style>\n",
              "    .colab-df-container {\n",
              "      display:flex;\n",
              "      flex-wrap:wrap;\n",
              "      gap: 12px;\n",
              "    }\n",
              "\n",
              "    .colab-df-convert {\n",
              "      background-color: #E8F0FE;\n",
              "      border: none;\n",
              "      border-radius: 50%;\n",
              "      cursor: pointer;\n",
              "      display: none;\n",
              "      fill: #1967D2;\n",
              "      height: 32px;\n",
              "      padding: 0 0 0 0;\n",
              "      width: 32px;\n",
              "    }\n",
              "\n",
              "    .colab-df-convert:hover {\n",
              "      background-color: #E2EBFA;\n",
              "      box-shadow: 0px 1px 2px rgba(60, 64, 67, 0.3), 0px 1px 3px 1px rgba(60, 64, 67, 0.15);\n",
              "      fill: #174EA6;\n",
              "    }\n",
              "\n",
              "    [theme=dark] .colab-df-convert {\n",
              "      background-color: #3B4455;\n",
              "      fill: #D2E3FC;\n",
              "    }\n",
              "\n",
              "    [theme=dark] .colab-df-convert:hover {\n",
              "      background-color: #434B5C;\n",
              "      box-shadow: 0px 1px 3px 1px rgba(0, 0, 0, 0.15);\n",
              "      filter: drop-shadow(0px 1px 2px rgba(0, 0, 0, 0.3));\n",
              "      fill: #FFFFFF;\n",
              "    }\n",
              "  </style>\n",
              "\n",
              "      <script>\n",
              "        const buttonEl =\n",
              "          document.querySelector('#df-d2cd149b-a4ec-4f5f-8e03-02b892952434 button.colab-df-convert');\n",
              "        buttonEl.style.display =\n",
              "          google.colab.kernel.accessAllowed ? 'block' : 'none';\n",
              "\n",
              "        async function convertToInteractive(key) {\n",
              "          const element = document.querySelector('#df-d2cd149b-a4ec-4f5f-8e03-02b892952434');\n",
              "          const dataTable =\n",
              "            await google.colab.kernel.invokeFunction('convertToInteractive',\n",
              "                                                     [key], {});\n",
              "          if (!dataTable) return;\n",
              "\n",
              "          const docLinkHtml = 'Like what you see? Visit the ' +\n",
              "            '<a target=\"_blank\" href=https://colab.research.google.com/notebooks/data_table.ipynb>data table notebook</a>'\n",
              "            + ' to learn more about interactive tables.';\n",
              "          element.innerHTML = '';\n",
              "          dataTable['output_type'] = 'display_data';\n",
              "          await google.colab.output.renderOutput(dataTable, element);\n",
              "          const docLink = document.createElement('div');\n",
              "          docLink.innerHTML = docLinkHtml;\n",
              "          element.appendChild(docLink);\n",
              "        }\n",
              "      </script>\n",
              "    </div>\n",
              "  </div>\n",
              "  "
            ],
            "text/plain": [
              "       Predicted  Actual\n",
              "21617        1.0     0.0\n",
              "34029        1.0     1.0\n",
              "34957        1.0     1.0\n",
              "24416        1.0     1.0\n",
              "17811        1.0     0.0\n",
              "...          ...     ...\n",
              "21055        1.0     1.0\n",
              "12308        1.0     1.0\n",
              "61307        1.0     0.0\n",
              "31571        1.0     1.0\n",
              "19008        1.0     1.0\n",
              "\n",
              "[17568 rows x 2 columns]"
            ]
          },
          "execution_count": 115,
          "metadata": {},
          "output_type": "execute_result"
        }
      ],
      "source": [
        "from sklearn import svm\n",
        "SVM_model = svm.SVC()\n",
        "SVM_model.fit(X_train,Y_train)\n",
        "SVM_y_preds = SVM_model.predict(X_test)\n",
        "SVM_preds = pd.DataFrame({\"Predicted\":SVM_y_preds,\"Actual\":Y_test})\n",
        "SVM_preds"
      ]
    },
    {
      "cell_type": "code",
      "execution_count": null,
      "metadata": {
        "colab": {
          "base_uri": "https://localhost:8080/"
        },
        "id": "8MaTPeGxa7kJ",
        "outputId": "6b6fdaf6-26bb-43e8-fec4-a995ce7e7d30"
      },
      "outputs": [
        {
          "name": "stdout",
          "output_type": "stream",
          "text": [
            "13198 4370 0 0\n",
            "Rightly Classified:  13198 / 17568\n",
            "Wrongly Classified:  4370 / 17568\n"
          ]
        }
      ],
      "source": [
        "SVM_TP = len(SVM_preds[(SVM_preds[\"Predicted\"]==SVM_preds[\"Actual\"])&(SVM_preds[\"Predicted\"]==1)])\n",
        "SVM_FP = len(SVM_preds[(SVM_preds[\"Predicted\"]!=SVM_preds[\"Actual\"])&(SVM_preds[\"Predicted\"]==1)])\n",
        "SVM_FN = len(SVM_preds[(SVM_preds[\"Predicted\"]!=SVM_preds[\"Actual\"])&(SVM_preds[\"Predicted\"]==0)])\n",
        "SVM_TN = len(SVM_preds[(SVM_preds[\"Predicted\"]==SVM_preds[\"Actual\"])&(SVM_preds[\"Predicted\"]==0)])\n",
        "print(SVM_TP,SVM_FP,SVM_FN,SVM_TN)\n",
        "print(\"Rightly Classified: \",(SVM_TP+SVM_TN),\"/\",(SVM_TP+SVM_FP+SVM_FN+SVM_TN))\n",
        "print(\"Wrongly Classified: \",(SVM_FP+SVM_FN),\"/\",(SVM_TP+SVM_FP+SVM_FN+SVM_TN))\n",
        "\n",
        "SVM_Accuracy = (SVM_TP+SVM_TN)/(SVM_TP+SVM_FP+SVM_FN+SVM_TN)\n",
        "SVM_Precision = (SVM_TP)/(SVM_TP+SVM_FP)\n",
        "SVM_Recall = (SVM_TP)/(SVM_TP+SVM_FN)\n",
        "SVM_Specificity = (SVM_TN)/(SVM_TN+SVM_FP)\n",
        "SVM_F1 = (2*SVM_Precision*SVM_Recall)/(SVM_Precision+SVM_Recall)"
      ]
    },
    {
      "cell_type": "code",
      "execution_count": null,
      "metadata": {
        "colab": {
          "base_uri": "https://localhost:8080/",
          "height": 279
        },
        "id": "9-HvDoh6bAY5",
        "outputId": "a8d27562-b273-4009-f680-3e60a23422e4"
      },
      "outputs": [
        {
          "data": {
            "image/png": "[encoded data removed]",
            "text/plain": [
              "<Figure size 432x288 with 2 Axes>"
            ]
          },
          "metadata": {},
          "output_type": "display_data"
        }
      ],
      "source": [
        "confusion_matrix = metrics.confusion_matrix(Y_test, SVM_y_preds)\n",
        "cm_display = metrics.ConfusionMatrixDisplay(confusion_matrix = confusion_matrix, display_labels = [False, True])\n",
        "cm_display.plot()\n",
        "plt.show()"
      ]
    },
    {
      "cell_type": "code",
      "execution_count": null,
      "metadata": {
        "colab": {
          "base_uri": "https://localhost:8080/"
        },
        "id": "UE3lSPuvbXqP",
        "outputId": "0b72ea9c-5a27-4bd0-a13a-fa204aec6811"
      },
      "outputs": [
        {
          "name": "stdout",
          "output_type": "stream",
          "text": [
            "              precision    recall  f1-score   support\n",
            "\n",
            "         0.0       0.00      0.00      0.00      1318\n",
            "         1.0       0.66      1.00      0.80      2602\n",
            "         6.0       0.00      0.00      0.00         1\n",
            "\n",
            "    accuracy                           0.66      3921\n",
            "   macro avg       0.22      0.33      0.27      3921\n",
            "weighted avg       0.44      0.66      0.53      3921\n",
            "\n"
          ]
        },
        {
          "name": "stderr",
          "output_type": "stream",
          "text": [
            "/usr/local/lib/python3.8/dist-packages/sklearn/metrics/_classification.py:1318: UndefinedMetricWarning: Precision and F-score are ill-defined and being set to 0.0 in labels with no predicted samples. Use `zero_division` parameter to control this behavior.\n",
            "  _warn_prf(average, modifier, msg_start, len(result))\n",
            "/usr/local/lib/python3.8/dist-packages/sklearn/metrics/_classification.py:1318: UndefinedMetricWarning: Precision and F-score are ill-defined and being set to 0.0 in labels with no predicted samples. Use `zero_division` parameter to control this behavior.\n",
            "  _warn_prf(average, modifier, msg_start, len(result))\n",
            "/usr/local/lib/python3.8/dist-packages/sklearn/metrics/_classification.py:1318: UndefinedMetricWarning: Precision and F-score are ill-defined and being set to 0.0 in labels with no predicted samples. Use `zero_division` parameter to control this behavior.\n",
            "  _warn_prf(average, modifier, msg_start, len(result))\n"
          ]
        }
      ],
      "source": [
        "print(classification_report(Y_test, SVM_y_preds))"
      ]
    },
    {
      "cell_type": "markdown",
      "metadata": {
        "id": "MYensia6eH6T"
      },
      "source": [
        "###LGBM_model"
      ]
    },
    {
      "cell_type": "code",
      "execution_count": null,
      "metadata": {
        "colab": {
          "base_uri": "https://localhost:8080/",
          "height": 424
        },
        "id": "LyXspGkdeC-Q",
        "outputId": "1c7f643a-6667-4f9a-fdd2-2e31c8a0f7eb"
      },
      "outputs": [
        {
          "data": {
            "text/html": [
              "\n",
              "  <div id=\"df-6f385e4d-e9f4-40cd-a711-5f4ff47bccb7\">\n",
              "    <div class=\"colab-df-container\">\n",
              "      <div>\n",
              "<style scoped>\n",
              "    .dataframe tbody tr th:only-of-type {\n",
              "        vertical-align: middle;\n",
              "    }\n",
              "\n",
              "    .dataframe tbody tr th {\n",
              "        vertical-align: top;\n",
              "    }\n",
              "\n",
              "    .dataframe thead th {\n",
              "        text-align: right;\n",
              "    }\n",
              "</style>\n",
              "<table border=\"1\" class=\"dataframe\">\n",
              "  <thead>\n",
              "    <tr style=\"text-align: right;\">\n",
              "      <th></th>\n",
              "      <th>Predicted</th>\n",
              "      <th>Actual</th>\n",
              "    </tr>\n",
              "  </thead>\n",
              "  <tbody>\n",
              "    <tr>\n",
              "      <th>2267</th>\n",
              "      <td>1.0</td>\n",
              "      <td>1.0</td>\n",
              "    </tr>\n",
              "    <tr>\n",
              "      <th>12290</th>\n",
              "      <td>1.0</td>\n",
              "      <td>1.0</td>\n",
              "    </tr>\n",
              "    <tr>\n",
              "      <th>13470</th>\n",
              "      <td>1.0</td>\n",
              "      <td>1.0</td>\n",
              "    </tr>\n",
              "    <tr>\n",
              "      <th>13763</th>\n",
              "      <td>1.0</td>\n",
              "      <td>1.0</td>\n",
              "    </tr>\n",
              "    <tr>\n",
              "      <th>1870</th>\n",
              "      <td>1.0</td>\n",
              "      <td>0.0</td>\n",
              "    </tr>\n",
              "    <tr>\n",
              "      <th>...</th>\n",
              "      <td>...</td>\n",
              "      <td>...</td>\n",
              "    </tr>\n",
              "    <tr>\n",
              "      <th>9682</th>\n",
              "      <td>1.0</td>\n",
              "      <td>1.0</td>\n",
              "    </tr>\n",
              "    <tr>\n",
              "      <th>2175</th>\n",
              "      <td>1.0</td>\n",
              "      <td>1.0</td>\n",
              "    </tr>\n",
              "    <tr>\n",
              "      <th>2876</th>\n",
              "      <td>1.0</td>\n",
              "      <td>1.0</td>\n",
              "    </tr>\n",
              "    <tr>\n",
              "      <th>5578</th>\n",
              "      <td>1.0</td>\n",
              "      <td>1.0</td>\n",
              "    </tr>\n",
              "    <tr>\n",
              "      <th>14164</th>\n",
              "      <td>1.0</td>\n",
              "      <td>1.0</td>\n",
              "    </tr>\n",
              "  </tbody>\n",
              "</table>\n",
              "<p>3921 rows × 2 columns</p>\n",
              "</div>\n",
              "      <button class=\"colab-df-convert\" onclick=\"convertToInteractive('df-6f385e4d-e9f4-40cd-a711-5f4ff47bccb7')\"\n",
              "              title=\"Convert this dataframe to an interactive table.\"\n",
              "              style=\"display:none;\">\n",
              "        \n",
              "  <svg xmlns=\"http://www.w3.org/2000/svg\" height=\"24px\"viewBox=\"0 0 24 24\"\n",
              "       width=\"24px\">\n",
              "    <path d=\"M0 0h24v24H0V0z\" fill=\"none\"/>\n",
              "    <path d=\"M18.56 5.44l.94 2.06.94-2.06 2.06-.94-2.06-.94-.94-2.06-.94 2.06-2.06.94zm-11 1L8.5 8.5l.94-2.06 2.06-.94-2.06-.94L8.5 2.5l-.94 2.06-2.06.94zm10 10l.94 2.06.94-2.06 2.06-.94-2.06-.94-.94-2.06-.94 2.06-2.06.94z\"/><path d=\"M17.41 7.96l-1.37-1.37c-.4-.4-.92-.59-1.43-.59-.52 0-1.04.2-1.43.59L10.3 9.45l-7.72 7.72c-.78.78-.78 2.05 0 2.83L4 21.41c.39.39.9.59 1.41.59.51 0 1.02-.2 1.41-.59l7.78-7.78 2.81-2.81c.8-.78.8-2.07 0-2.86zM5.41 20L4 18.59l7.72-7.72 1.47 1.35L5.41 20z\"/>\n",
              "  </svg>\n",
              "      </button>\n",
              "      \n",
              "  <style>\n",
              "    .colab-df-container {\n",
              "      display:flex;\n",
              "      flex-wrap:wrap;\n",
              "      gap: 12px;\n",
              "    }\n",
              "\n",
              "    .colab-df-convert {\n",
              "      background-color: #E8F0FE;\n",
              "      border: none;\n",
              "      border-radius: 50%;\n",
              "      cursor: pointer;\n",
              "      display: none;\n",
              "      fill: #1967D2;\n",
              "      height: 32px;\n",
              "      padding: 0 0 0 0;\n",
              "      width: 32px;\n",
              "    }\n",
              "\n",
              "    .colab-df-convert:hover {\n",
              "      background-color: #E2EBFA;\n",
              "      box-shadow: 0px 1px 2px rgba(60, 64, 67, 0.3), 0px 1px 3px 1px rgba(60, 64, 67, 0.15);\n",
              "      fill: #174EA6;\n",
              "    }\n",
              "\n",
              "    [theme=dark] .colab-df-convert {\n",
              "      background-color: #3B4455;\n",
              "      fill: #D2E3FC;\n",
              "    }\n",
              "\n",
              "    [theme=dark] .colab-df-convert:hover {\n",
              "      background-color: #434B5C;\n",
              "      box-shadow: 0px 1px 3px 1px rgba(0, 0, 0, 0.15);\n",
              "      filter: drop-shadow(0px 1px 2px rgba(0, 0, 0, 0.3));\n",
              "      fill: #FFFFFF;\n",
              "    }\n",
              "  </style>\n",
              "\n",
              "      <script>\n",
              "        const buttonEl =\n",
              "          document.querySelector('#df-6f385e4d-e9f4-40cd-a711-5f4ff47bccb7 button.colab-df-convert');\n",
              "        buttonEl.style.display =\n",
              "          google.colab.kernel.accessAllowed ? 'block' : 'none';\n",
              "\n",
              "        async function convertToInteractive(key) {\n",
              "          const element = document.querySelector('#df-6f385e4d-e9f4-40cd-a711-5f4ff47bccb7');\n",
              "          const dataTable =\n",
              "            await google.colab.kernel.invokeFunction('convertToInteractive',\n",
              "                                                     [key], {});\n",
              "          if (!dataTable) return;\n",
              "\n",
              "          const docLinkHtml = 'Like what you see? Visit the ' +\n",
              "            '<a target=\"_blank\" href=https://colab.research.google.com/notebooks/data_table.ipynb>data table notebook</a>'\n",
              "            + ' to learn more about interactive tables.';\n",
              "          element.innerHTML = '';\n",
              "          dataTable['output_type'] = 'display_data';\n",
              "          await google.colab.output.renderOutput(dataTable, element);\n",
              "          const docLink = document.createElement('div');\n",
              "          docLink.innerHTML = docLinkHtml;\n",
              "          element.appendChild(docLink);\n",
              "        }\n",
              "      </script>\n",
              "    </div>\n",
              "  </div>\n",
              "  "
            ],
            "text/plain": [
              "       Predicted  Actual\n",
              "2267         1.0     1.0\n",
              "12290        1.0     1.0\n",
              "13470        1.0     1.0\n",
              "13763        1.0     1.0\n",
              "1870         1.0     0.0\n",
              "...          ...     ...\n",
              "9682         1.0     1.0\n",
              "2175         1.0     1.0\n",
              "2876         1.0     1.0\n",
              "5578         1.0     1.0\n",
              "14164        1.0     1.0\n",
              "\n",
              "[3921 rows x 2 columns]"
            ]
          },
          "execution_count": 100,
          "metadata": {},
          "output_type": "execute_result"
        }
      ],
      "source": [
        "from lightgbm import *\n",
        "LGBM_model = LGBMClassifier()\n",
        "LGBM_model.fit(X_train, Y_train)\n",
        "LGBM_y_preds = LGBM_model.predict(X_test)\n",
        "LGBM_preds = pd.DataFrame({\"Predicted\":LGBM_y_preds,\"Actual\":Y_test})\n",
        "LGBM_preds"
      ]
    },
    {
      "cell_type": "code",
      "execution_count": null,
      "metadata": {
        "colab": {
          "base_uri": "https://localhost:8080/"
        },
        "id": "DtobZ04_eM-5",
        "outputId": "fa23bea8-d23a-40d7-db4b-61ec7cca9665"
      },
      "outputs": [
        {
          "name": "stdout",
          "output_type": "stream",
          "text": [
            "2228 713 374 606\n",
            "Rightly Classified:  2834 / 3921\n",
            "Wrongly Classified:  1087 / 3921\n"
          ]
        }
      ],
      "source": [
        "LGBM_TP = len(LGBM_preds[(LGBM_preds[\"Predicted\"]==LGBM_preds[\"Actual\"])&(LGBM_preds[\"Predicted\"]==1)])\n",
        "LGBM_FP = len(LGBM_preds[(LGBM_preds[\"Predicted\"]!=LGBM_preds[\"Actual\"])&(LGBM_preds[\"Predicted\"]==1)])\n",
        "LGBM_FN = len(LGBM_preds[(LGBM_preds[\"Predicted\"]!=LGBM_preds[\"Actual\"])&(LGBM_preds[\"Predicted\"]==0)])\n",
        "LGBM_TN = len(LGBM_preds[(LGBM_preds[\"Predicted\"]==LGBM_preds[\"Actual\"])&(LGBM_preds[\"Predicted\"]==0)])\n",
        "print(LGBM_TP,LGBM_FP,LGBM_FN,LGBM_TN)\n",
        "print(\"Rightly Classified: \",(LGBM_TP+LGBM_TN),\"/\",(LGBM_TP+LGBM_FP+LGBM_FN+LGBM_TN))\n",
        "print(\"Wrongly Classified: \",(LGBM_FP+LGBM_FN),\"/\",(LGBM_TP+LGBM_FP+LGBM_FN+LGBM_TN))\n",
        "\n",
        "LGBM_Accuracy = (LGBM_TP+LGBM_TN)/(LGBM_TP+LGBM_TN+LGBM_FP+LGBM_FN)\n",
        "LGBM_Precision = (LGBM_TP)/(LGBM_TP+LGBM_FP)\n",
        "LGBM_Recall = (LGBM_TP)/(LGBM_TP+LGBM_FN)\n",
        "LGBM_Specificity = (LGBM_TN)/(LGBM_TN+LGBM_FP)\n",
        "LGBM_F1 = (2*LGBM_Precision*LGBM_Recall)/(LGBM_Precision+LGBM_Recall)"
      ]
    },
    {
      "cell_type": "code",
      "execution_count": null,
      "metadata": {
        "colab": {
          "base_uri": "https://localhost:8080/",
          "height": 279
        },
        "id": "JhICfv6peWPh",
        "outputId": "a9a3d066-397b-4ab2-c548-c423234780b2"
      },
      "outputs": [
        {
          "data": {
            "image/png": "[encoded data removed]",
            "text/plain": [
              "<Figure size 432x288 with 2 Axes>"
            ]
          },
          "metadata": {
            "needs_background": "light"
          },
          "output_type": "display_data"
        }
      ],
      "source": [
        "confusion_matrix = metrics.confusion_matrix(Y_test, LGBM_y_preds)\n",
        "cm_display = metrics.ConfusionMatrixDisplay(confusion_matrix = confusion_matrix, display_labels = [False, True])\n",
        "cm_display.plot()\n",
        "plt.show()"
      ]
    },
    {
      "cell_type": "code",
      "execution_count": null,
      "metadata": {
        "colab": {
          "base_uri": "https://localhost:8080/"
        },
        "id": "5lRAW7JCeRiJ",
        "outputId": "4dfe3262-5206-4b42-ab72-cd40e92680eb"
      },
      "outputs": [
        {
          "name": "stdout",
          "output_type": "stream",
          "text": [
            "              precision    recall  f1-score   support\n",
            "\n",
            "         0.0       0.62      0.46      0.53      1318\n",
            "         1.0       0.76      0.86      0.80      2602\n",
            "         6.0       0.00      0.00      0.00         1\n",
            "\n",
            "    accuracy                           0.72      3921\n",
            "   macro avg       0.46      0.44      0.44      3921\n",
            "weighted avg       0.71      0.72      0.71      3921\n",
            "\n"
          ]
        },
        {
          "name": "stderr",
          "output_type": "stream",
          "text": [
            "/usr/local/lib/python3.8/dist-packages/sklearn/metrics/_classification.py:1318: UndefinedMetricWarning: Precision and F-score are ill-defined and being set to 0.0 in labels with no predicted samples. Use `zero_division` parameter to control this behavior.\n",
            "  _warn_prf(average, modifier, msg_start, len(result))\n",
            "/usr/local/lib/python3.8/dist-packages/sklearn/metrics/_classification.py:1318: UndefinedMetricWarning: Precision and F-score are ill-defined and being set to 0.0 in labels with no predicted samples. Use `zero_division` parameter to control this behavior.\n",
            "  _warn_prf(average, modifier, msg_start, len(result))\n",
            "/usr/local/lib/python3.8/dist-packages/sklearn/metrics/_classification.py:1318: UndefinedMetricWarning: Precision and F-score are ill-defined and being set to 0.0 in labels with no predicted samples. Use `zero_division` parameter to control this behavior.\n",
            "  _warn_prf(average, modifier, msg_start, len(result))\n"
          ]
        }
      ],
      "source": [
        "print(classification_report(Y_test, LGBM_y_preds))"
      ]
    },
    {
      "cell_type": "markdown",
      "metadata": {
        "id": "HQAQp3uXe7lk"
      },
      "source": [
        " ## xgboost"
      ]
    },
    {
      "cell_type": "code",
      "execution_count": null,
      "metadata": {
        "colab": {
          "base_uri": "https://localhost:8080/",
          "height": 424
        },
        "id": "Ryn4yDL0ep6z",
        "outputId": "8bfe7840-009f-4ea5-b9af-9e9a9bbc2979"
      },
      "outputs": [
        {
          "data": {
            "text/html": [
              "\n",
              "  <div id=\"df-ed4b1498-f9a0-429c-bd01-1f794235a5f5\">\n",
              "    <div class=\"colab-df-container\">\n",
              "      <div>\n",
              "<style scoped>\n",
              "    .dataframe tbody tr th:only-of-type {\n",
              "        vertical-align: middle;\n",
              "    }\n",
              "\n",
              "    .dataframe tbody tr th {\n",
              "        vertical-align: top;\n",
              "    }\n",
              "\n",
              "    .dataframe thead th {\n",
              "        text-align: right;\n",
              "    }\n",
              "</style>\n",
              "<table border=\"1\" class=\"dataframe\">\n",
              "  <thead>\n",
              "    <tr style=\"text-align: right;\">\n",
              "      <th></th>\n",
              "      <th>Predicted</th>\n",
              "      <th>Actual</th>\n",
              "    </tr>\n",
              "  </thead>\n",
              "  <tbody>\n",
              "    <tr>\n",
              "      <th>2267</th>\n",
              "      <td>1.0</td>\n",
              "      <td>1.0</td>\n",
              "    </tr>\n",
              "    <tr>\n",
              "      <th>12290</th>\n",
              "      <td>1.0</td>\n",
              "      <td>1.0</td>\n",
              "    </tr>\n",
              "    <tr>\n",
              "      <th>13470</th>\n",
              "      <td>1.0</td>\n",
              "      <td>1.0</td>\n",
              "    </tr>\n",
              "    <tr>\n",
              "      <th>13763</th>\n",
              "      <td>1.0</td>\n",
              "      <td>1.0</td>\n",
              "    </tr>\n",
              "    <tr>\n",
              "      <th>1870</th>\n",
              "      <td>1.0</td>\n",
              "      <td>0.0</td>\n",
              "    </tr>\n",
              "    <tr>\n",
              "      <th>...</th>\n",
              "      <td>...</td>\n",
              "      <td>...</td>\n",
              "    </tr>\n",
              "    <tr>\n",
              "      <th>9682</th>\n",
              "      <td>1.0</td>\n",
              "      <td>1.0</td>\n",
              "    </tr>\n",
              "    <tr>\n",
              "      <th>2175</th>\n",
              "      <td>1.0</td>\n",
              "      <td>1.0</td>\n",
              "    </tr>\n",
              "    <tr>\n",
              "      <th>2876</th>\n",
              "      <td>1.0</td>\n",
              "      <td>1.0</td>\n",
              "    </tr>\n",
              "    <tr>\n",
              "      <th>5578</th>\n",
              "      <td>1.0</td>\n",
              "      <td>1.0</td>\n",
              "    </tr>\n",
              "    <tr>\n",
              "      <th>14164</th>\n",
              "      <td>1.0</td>\n",
              "      <td>1.0</td>\n",
              "    </tr>\n",
              "  </tbody>\n",
              "</table>\n",
              "<p>3921 rows × 2 columns</p>\n",
              "</div>\n",
              "      <button class=\"colab-df-convert\" onclick=\"convertToInteractive('df-ed4b1498-f9a0-429c-bd01-1f794235a5f5')\"\n",
              "              title=\"Convert this dataframe to an interactive table.\"\n",
              "              style=\"display:none;\">\n",
              "        \n",
              "  <svg xmlns=\"http://www.w3.org/2000/svg\" height=\"24px\"viewBox=\"0 0 24 24\"\n",
              "       width=\"24px\">\n",
              "    <path d=\"M0 0h24v24H0V0z\" fill=\"none\"/>\n",
              "    <path d=\"M18.56 5.44l.94 2.06.94-2.06 2.06-.94-2.06-.94-.94-2.06-.94 2.06-2.06.94zm-11 1L8.5 8.5l.94-2.06 2.06-.94-2.06-.94L8.5 2.5l-.94 2.06-2.06.94zm10 10l.94 2.06.94-2.06 2.06-.94-2.06-.94-.94-2.06-.94 2.06-2.06.94z\"/><path d=\"M17.41 7.96l-1.37-1.37c-.4-.4-.92-.59-1.43-.59-.52 0-1.04.2-1.43.59L10.3 9.45l-7.72 7.72c-.78.78-.78 2.05 0 2.83L4 21.41c.39.39.9.59 1.41.59.51 0 1.02-.2 1.41-.59l7.78-7.78 2.81-2.81c.8-.78.8-2.07 0-2.86zM5.41 20L4 18.59l7.72-7.72 1.47 1.35L5.41 20z\"/>\n",
              "  </svg>\n",
              "      </button>\n",
              "      \n",
              "  <style>\n",
              "    .colab-df-container {\n",
              "      display:flex;\n",
              "      flex-wrap:wrap;\n",
              "      gap: 12px;\n",
              "    }\n",
              "\n",
              "    .colab-df-convert {\n",
              "      background-color: #E8F0FE;\n",
              "      border: none;\n",
              "      border-radius: 50%;\n",
              "      cursor: pointer;\n",
              "      display: none;\n",
              "      fill: #1967D2;\n",
              "      height: 32px;\n",
              "      padding: 0 0 0 0;\n",
              "      width: 32px;\n",
              "    }\n",
              "\n",
              "    .colab-df-convert:hover {\n",
              "      background-color: #E2EBFA;\n",
              "      box-shadow: 0px 1px 2px rgba(60, 64, 67, 0.3), 0px 1px 3px 1px rgba(60, 64, 67, 0.15);\n",
              "      fill: #174EA6;\n",
              "    }\n",
              "\n",
              "    [theme=dark] .colab-df-convert {\n",
              "      background-color: #3B4455;\n",
              "      fill: #D2E3FC;\n",
              "    }\n",
              "\n",
              "    [theme=dark] .colab-df-convert:hover {\n",
              "      background-color: #434B5C;\n",
              "      box-shadow: 0px 1px 3px 1px rgba(0, 0, 0, 0.15);\n",
              "      filter: drop-shadow(0px 1px 2px rgba(0, 0, 0, 0.3));\n",
              "      fill: #FFFFFF;\n",
              "    }\n",
              "  </style>\n",
              "\n",
              "      <script>\n",
              "        const buttonEl =\n",
              "          document.querySelector('#df-ed4b1498-f9a0-429c-bd01-1f794235a5f5 button.colab-df-convert');\n",
              "        buttonEl.style.display =\n",
              "          google.colab.kernel.accessAllowed ? 'block' : 'none';\n",
              "\n",
              "        async function convertToInteractive(key) {\n",
              "          const element = document.querySelector('#df-ed4b1498-f9a0-429c-bd01-1f794235a5f5');\n",
              "          const dataTable =\n",
              "            await google.colab.kernel.invokeFunction('convertToInteractive',\n",
              "                                                     [key], {});\n",
              "          if (!dataTable) return;\n",
              "\n",
              "          const docLinkHtml = 'Like what you see? Visit the ' +\n",
              "            '<a target=\"_blank\" href=https://colab.research.google.com/notebooks/data_table.ipynb>data table notebook</a>'\n",
              "            + ' to learn more about interactive tables.';\n",
              "          element.innerHTML = '';\n",
              "          dataTable['output_type'] = 'display_data';\n",
              "          await google.colab.output.renderOutput(dataTable, element);\n",
              "          const docLink = document.createElement('div');\n",
              "          docLink.innerHTML = docLinkHtml;\n",
              "          element.appendChild(docLink);\n",
              "        }\n",
              "      </script>\n",
              "    </div>\n",
              "  </div>\n",
              "  "
            ],
            "text/plain": [
              "       Predicted  Actual\n",
              "2267         1.0     1.0\n",
              "12290        1.0     1.0\n",
              "13470        1.0     1.0\n",
              "13763        1.0     1.0\n",
              "1870         1.0     0.0\n",
              "...          ...     ...\n",
              "9682         1.0     1.0\n",
              "2175         1.0     1.0\n",
              "2876         1.0     1.0\n",
              "5578         1.0     1.0\n",
              "14164        1.0     1.0\n",
              "\n",
              "[3921 rows x 2 columns]"
            ]
          },
          "execution_count": 177,
          "metadata": {},
          "output_type": "execute_result"
        }
      ],
      "source": [
        "import xgboost as xgb\n",
        "\n",
        "XGB_model = xgb.XGBClassifier()\n",
        "XGB_model.fit(X_train, Y_train)\n",
        "XGB_y_preds =XGB_model.predict(X_test)\n",
        "XGB_preds = pd.DataFrame({\"Predicted\":XGB_y_preds,\"Actual\":Y_test})\n",
        "XGB_preds"
      ]
    },
    {
      "cell_type": "code",
      "execution_count": null,
      "metadata": {
        "colab": {
          "base_uri": "https://localhost:8080/"
        },
        "id": "TzaIporoeunz",
        "outputId": "9e4319d0-1e98-4598-d6c3-d09772714e1d"
      },
      "outputs": [
        {
          "name": "stdout",
          "output_type": "stream",
          "text": [
            "2372 818 230 501\n",
            "Rightly Classified:  2873 / 3921\n",
            "Wrongly Classified:  1048 / 3921\n"
          ]
        }
      ],
      "source": [
        "XGB_TP = len(XGB_preds[(XGB_preds[\"Predicted\"]==XGB_preds[\"Actual\"])&(XGB_preds[\"Predicted\"]==1)])\n",
        "XGB_FP = len(XGB_preds[(XGB_preds[\"Predicted\"]!=XGB_preds[\"Actual\"])&(XGB_preds[\"Predicted\"]==1)])\n",
        "XGB_FN = len(XGB_preds[(XGB_preds[\"Predicted\"]!=XGB_preds[\"Actual\"])&(XGB_preds[\"Predicted\"]==0)])\n",
        "XGB_TN = len(XGB_preds[(XGB_preds[\"Predicted\"]==XGB_preds[\"Actual\"])&(XGB_preds[\"Predicted\"]==0)])\n",
        "print(XGB_TP,XGB_FP,XGB_FN,XGB_TN)\n",
        "print(\"Rightly Classified: \",(XGB_TP+XGB_TN),\"/\",(XGB_TP+XGB_FP+XGB_FN+XGB_TN))\n",
        "print(\"Wrongly Classified: \",(XGB_FP+XGB_FN),\"/\",(XGB_TP+XGB_FP+XGB_FN+XGB_TN))\n",
        "\n",
        "XGB_Accuracy = (XGB_TP+XGB_TN)/(XGB_TP+XGB_TN+XGB_FP+XGB_FN)\n",
        "XGB_Precision = (XGB_TP)/(XGB_TP+XGB_FP)\n",
        "XGB_Recall = (XGB_TP)/(XGB_TP+XGB_FN)\n",
        "XGB_Specificity = (XGB_TN)/(XGB_TN+XGB_FP)\n",
        "XGB_F1 = (2*XGB_Precision*XGB_Recall)/(XGB_Precision+XGB_Recall)"
      ]
    },
    {
      "cell_type": "code",
      "execution_count": null,
      "metadata": {
        "colab": {
          "base_uri": "https://localhost:8080/",
          "height": 279
        },
        "id": "bLuFzgK8fAyR",
        "outputId": "0e0c22c7-d1a5-4504-ee7f-3a9c9cf94266"
      },
      "outputs": [
        {
          "data": {
            "image/png": "[encoded data removed]",
            "text/plain": [
              "<Figure size 432x288 with 2 Axes>"
            ]
          },
          "metadata": {
            "needs_background": "light"
          },
          "output_type": "display_data"
        }
      ],
      "source": [
        "confusion_matrix = metrics.confusion_matrix(Y_test, XGB_y_preds)\n",
        "cm_display = metrics.ConfusionMatrixDisplay(confusion_matrix = confusion_matrix, display_labels = [False, True])\n",
        "cm_display.plot()\n",
        "plt.show()"
      ]
    },
    {
      "cell_type": "code",
      "execution_count": null,
      "metadata": {
        "colab": {
          "base_uri": "https://localhost:8080/"
        },
        "id": "FYUeAeU6fIrj",
        "outputId": "77046a80-c03b-402f-af57-a333d9d7ff80"
      },
      "outputs": [
        {
          "name": "stdout",
          "output_type": "stream",
          "text": [
            "              precision    recall  f1-score   support\n",
            "\n",
            "         0.0       0.69      0.38      0.49      1318\n",
            "         1.0       0.74      0.91      0.82      2602\n",
            "         6.0       0.00      0.00      0.00         1\n",
            "\n",
            "    accuracy                           0.73      3921\n",
            "   macro avg       0.48      0.43      0.44      3921\n",
            "weighted avg       0.72      0.73      0.71      3921\n",
            "\n"
          ]
        },
        {
          "name": "stderr",
          "output_type": "stream",
          "text": [
            "/usr/local/lib/python3.8/dist-packages/sklearn/metrics/_classification.py:1318: UndefinedMetricWarning: Precision and F-score are ill-defined and being set to 0.0 in labels with no predicted samples. Use `zero_division` parameter to control this behavior.\n",
            "  _warn_prf(average, modifier, msg_start, len(result))\n",
            "/usr/local/lib/python3.8/dist-packages/sklearn/metrics/_classification.py:1318: UndefinedMetricWarning: Precision and F-score are ill-defined and being set to 0.0 in labels with no predicted samples. Use `zero_division` parameter to control this behavior.\n",
            "  _warn_prf(average, modifier, msg_start, len(result))\n",
            "/usr/local/lib/python3.8/dist-packages/sklearn/metrics/_classification.py:1318: UndefinedMetricWarning: Precision and F-score are ill-defined and being set to 0.0 in labels with no predicted samples. Use `zero_division` parameter to control this behavior.\n",
            "  _warn_prf(average, modifier, msg_start, len(result))\n"
          ]
        }
      ],
      "source": [
        "print(classification_report(Y_test, XGB_y_preds))"
      ]
    },
    {
      "cell_type": "markdown",
      "metadata": {
        "id": "bzpB5HathBBq"
      },
      "source": [
        "## Comparison matrix for methods"
      ]
    },
    {
      "cell_type": "code",
      "execution_count": null,
      "metadata": {
        "colab": {
          "base_uri": "https://localhost:8080/",
          "height": 363
        },
        "id": "aVSO8ZMjfOBh",
        "outputId": "419eb8d1-85fa-4e1c-c91d-36ff8c92cbeb"
      },
      "outputs": [
        {
          "data": {
            "text/html": [
              "<style type=\"text/css\">\n",
              "#T_fdcdf_row0_col1, #T_fdcdf_row0_col3, #T_fdcdf_row0_col7, #T_fdcdf_row4_col4, #T_fdcdf_row4_col6, #T_fdcdf_row6_col5, #T_fdcdf_row7_col5, #T_fdcdf_row9_col2 {\n",
              "  background-color: #faebdd;\n",
              "  color: #000000;\n",
              "}\n",
              "#T_fdcdf_row0_col2, #T_fdcdf_row4_col5, #T_fdcdf_row6_col4, #T_fdcdf_row6_col6, #T_fdcdf_row7_col4, #T_fdcdf_row7_col6, #T_fdcdf_row9_col1, #T_fdcdf_row9_col3, #T_fdcdf_row9_col7 {\n",
              "  background-color: #03051a;\n",
              "  color: #f1f1f1;\n",
              "}\n",
              "#T_fdcdf_row0_col4 {\n",
              "  background-color: #f6a47c;\n",
              "  color: #000000;\n",
              "}\n",
              "#T_fdcdf_row0_col5, #T_fdcdf_row3_col6 {\n",
              "  background-color: #ea443e;\n",
              "  color: #f1f1f1;\n",
              "}\n",
              "#T_fdcdf_row0_col6 {\n",
              "  background-color: #f58860;\n",
              "  color: #f1f1f1;\n",
              "}\n",
              "#T_fdcdf_row1_col1, #T_fdcdf_row1_col3 {\n",
              "  background-color: #f6bb97;\n",
              "  color: #000000;\n",
              "}\n",
              "#T_fdcdf_row1_col2 {\n",
              "  background-color: #30173a;\n",
              "  color: #f1f1f1;\n",
              "}\n",
              "#T_fdcdf_row1_col4 {\n",
              "  background-color: #f37852;\n",
              "  color: #f1f1f1;\n",
              "}\n",
              "#T_fdcdf_row1_col5 {\n",
              "  background-color: #e13342;\n",
              "  color: #f1f1f1;\n",
              "}\n",
              "#T_fdcdf_row1_col6 {\n",
              "  background-color: #f26f4c;\n",
              "  color: #f1f1f1;\n",
              "}\n",
              "#T_fdcdf_row1_col7 {\n",
              "  background-color: #f6be9b;\n",
              "  color: #000000;\n",
              "}\n",
              "#T_fdcdf_row2_col1, #T_fdcdf_row2_col3 {\n",
              "  background-color: #f59970;\n",
              "  color: #000000;\n",
              "}\n",
              "#T_fdcdf_row2_col2 {\n",
              "  background-color: #501d4c;\n",
              "  color: #f1f1f1;\n",
              "}\n",
              "#T_fdcdf_row2_col4, #T_fdcdf_row2_col6 {\n",
              "  background-color: #f6ae87;\n",
              "  color: #000000;\n",
              "}\n",
              "#T_fdcdf_row2_col5 {\n",
              "  background-color: #781f59;\n",
              "  color: #f1f1f1;\n",
              "}\n",
              "#T_fdcdf_row2_col7 {\n",
              "  background-color: #f3714d;\n",
              "  color: #f1f1f1;\n",
              "}\n",
              "#T_fdcdf_row3_col1, #T_fdcdf_row3_col3 {\n",
              "  background-color: #f59067;\n",
              "  color: #f1f1f1;\n",
              "}\n",
              "#T_fdcdf_row3_col2 {\n",
              "  background-color: #581e4f;\n",
              "  color: #f1f1f1;\n",
              "}\n",
              "#T_fdcdf_row3_col4 {\n",
              "  background-color: #e83f3f;\n",
              "  color: #f1f1f1;\n",
              "}\n",
              "#T_fdcdf_row3_col5 {\n",
              "  background-color: #e73d3f;\n",
              "  color: #f1f1f1;\n",
              "}\n",
              "#T_fdcdf_row3_col7 {\n",
              "  background-color: #f6a178;\n",
              "  color: #000000;\n",
              "}\n",
              "#T_fdcdf_row4_col1, #T_fdcdf_row4_col3, #T_fdcdf_row6_col2, #T_fdcdf_row7_col2 {\n",
              "  background-color: #f26b49;\n",
              "  color: #f1f1f1;\n",
              "}\n",
              "#T_fdcdf_row4_col2, #T_fdcdf_row6_col1, #T_fdcdf_row6_col3, #T_fdcdf_row7_col1, #T_fdcdf_row7_col3 {\n",
              "  background-color: #7a1f59;\n",
              "  color: #f1f1f1;\n",
              "}\n",
              "#T_fdcdf_row4_col7 {\n",
              "  background-color: #bd1655;\n",
              "  color: #f1f1f1;\n",
              "}\n",
              "#T_fdcdf_row5_col1, #T_fdcdf_row5_col3 {\n",
              "  background-color: #b51657;\n",
              "  color: #f1f1f1;\n",
              "}\n",
              "#T_fdcdf_row5_col2, #T_fdcdf_row8_col7 {\n",
              "  background-color: #dc2b46;\n",
              "  color: #f1f1f1;\n",
              "}\n",
              "#T_fdcdf_row5_col4 {\n",
              "  background-color: #591e50;\n",
              "  color: #f1f1f1;\n",
              "}\n",
              "#T_fdcdf_row5_col5 {\n",
              "  background-color: #f47d57;\n",
              "  color: #f1f1f1;\n",
              "}\n",
              "#T_fdcdf_row5_col6 {\n",
              "  background-color: #731f58;\n",
              "  color: #f1f1f1;\n",
              "}\n",
              "#T_fdcdf_row5_col7 {\n",
              "  background-color: #eb483e;\n",
              "  color: #f1f1f1;\n",
              "}\n",
              "#T_fdcdf_row6_col7, #T_fdcdf_row7_col7 {\n",
              "  background-color: #ed4e3e;\n",
              "  color: #f1f1f1;\n",
              "}\n",
              "#T_fdcdf_row8_col1, #T_fdcdf_row8_col3 {\n",
              "  background-color: #701f57;\n",
              "  color: #f1f1f1;\n",
              "}\n",
              "#T_fdcdf_row8_col2 {\n",
              "  background-color: #f37651;\n",
              "  color: #f1f1f1;\n",
              "}\n",
              "#T_fdcdf_row8_col4 {\n",
              "  background-color: #130d25;\n",
              "  color: #f1f1f1;\n",
              "}\n",
              "#T_fdcdf_row8_col5 {\n",
              "  background-color: #f6b089;\n",
              "  color: #000000;\n",
              "}\n",
              "#T_fdcdf_row8_col6 {\n",
              "  background-color: #251433;\n",
              "  color: #f1f1f1;\n",
              "}\n",
              "#T_fdcdf_row9_col4 {\n",
              "  background-color: #381a40;\n",
              "  color: #f1f1f1;\n",
              "}\n",
              "#T_fdcdf_row9_col5 {\n",
              "  background-color: #35193e;\n",
              "  color: #f1f1f1;\n",
              "}\n",
              "#T_fdcdf_row9_col6 {\n",
              "  background-color: #b01759;\n",
              "  color: #f1f1f1;\n",
              "}\n",
              "</style>\n",
              "<table id=\"T_fdcdf_\" class=\"dataframe\">\n",
              "  <thead>\n",
              "    <tr>\n",
              "      <th class=\"blank level0\" >&nbsp;</th>\n",
              "      <th class=\"col_heading level0 col0\" >ML Classification Algo</th>\n",
              "      <th class=\"col_heading level0 col1\" >Rightly_Classified</th>\n",
              "      <th class=\"col_heading level0 col2\" >Wrongly_Classified</th>\n",
              "      <th class=\"col_heading level0 col3\" >Accuracy</th>\n",
              "      <th class=\"col_heading level0 col4\" >Precision</th>\n",
              "      <th class=\"col_heading level0 col5\" >Recall</th>\n",
              "      <th class=\"col_heading level0 col6\" >Specificity</th>\n",
              "      <th class=\"col_heading level0 col7\" >F1-Score</th>\n",
              "    </tr>\n",
              "  </thead>\n",
              "  <tbody>\n",
              "    <tr>\n",
              "      <th id=\"T_fdcdf_level0_row0\" class=\"row_heading level0 row0\" >5</th>\n",
              "      <td id=\"T_fdcdf_row0_col0\" class=\"data row0 col0\" >Random Forest (Max 10 features in Bootstraping)</td>\n",
              "      <td id=\"T_fdcdf_row0_col1\" class=\"data row0 col1\" >0.748279</td>\n",
              "      <td id=\"T_fdcdf_row0_col2\" class=\"data row0 col2\" >0.251721</td>\n",
              "      <td id=\"T_fdcdf_row0_col3\" class=\"data row0 col3\" >0.748279</td>\n",
              "      <td id=\"T_fdcdf_row0_col4\" class=\"data row0 col4\" >0.754812</td>\n",
              "      <td id=\"T_fdcdf_row0_col5\" class=\"data row0 col5\" >0.919293</td>\n",
              "      <td id=\"T_fdcdf_row0_col6\" class=\"data row0 col6\" >0.410917</td>\n",
              "      <td id=\"T_fdcdf_row0_col7\" class=\"data row0 col7\" >0.828972</td>\n",
              "    </tr>\n",
              "    <tr>\n",
              "      <th id=\"T_fdcdf_level0_row1\" class=\"row_heading level0 row1\" >2</th>\n",
              "      <td id=\"T_fdcdf_row1_col0\" class=\"data row1 col0\" >XGBoosting</td>\n",
              "      <td id=\"T_fdcdf_row1_col1\" class=\"data row1 col1\" >0.732721</td>\n",
              "      <td id=\"T_fdcdf_row1_col2\" class=\"data row1 col2\" >0.267279</td>\n",
              "      <td id=\"T_fdcdf_row1_col3\" class=\"data row1 col3\" >0.732721</td>\n",
              "      <td id=\"T_fdcdf_row1_col4\" class=\"data row1 col4\" >0.743574</td>\n",
              "      <td id=\"T_fdcdf_row1_col5\" class=\"data row1 col5\" >0.911606</td>\n",
              "      <td id=\"T_fdcdf_row1_col6\" class=\"data row1 col6\" >0.379833</td>\n",
              "      <td id=\"T_fdcdf_row1_col7\" class=\"data row1 col7\" >0.819061</td>\n",
              "    </tr>\n",
              "    <tr>\n",
              "      <th id=\"T_fdcdf_level0_row2\" class=\"row_heading level0 row2\" >1</th>\n",
              "      <td id=\"T_fdcdf_row2_col0\" class=\"data row2 col0\" >LGBM Classifier</td>\n",
              "      <td id=\"T_fdcdf_row2_col1\" class=\"data row2 col1\" >0.722775</td>\n",
              "      <td id=\"T_fdcdf_row2_col2\" class=\"data row2 col2\" >0.277225</td>\n",
              "      <td id=\"T_fdcdf_row2_col3\" class=\"data row2 col3\" >0.722775</td>\n",
              "      <td id=\"T_fdcdf_row2_col4\" class=\"data row2 col4\" >0.757565</td>\n",
              "      <td id=\"T_fdcdf_row2_col5\" class=\"data row2 col5\" >0.856264</td>\n",
              "      <td id=\"T_fdcdf_row2_col6\" class=\"data row2 col6\" >0.459439</td>\n",
              "      <td id=\"T_fdcdf_row2_col7\" class=\"data row2 col7\" >0.803897</td>\n",
              "    </tr>\n",
              "    <tr>\n",
              "      <th id=\"T_fdcdf_level0_row3\" class=\"row_heading level0 row3\" >4</th>\n",
              "      <td id=\"T_fdcdf_row3_col0\" class=\"data row3 col0\" >Random Forest (Max 5 features in Bootstraping)</td>\n",
              "      <td id=\"T_fdcdf_row3_col1\" class=\"data row3 col1\" >0.720224</td>\n",
              "      <td id=\"T_fdcdf_row3_col2\" class=\"data row3 col2\" >0.279776</td>\n",
              "      <td id=\"T_fdcdf_row3_col3\" class=\"data row3 col3\" >0.720224</td>\n",
              "      <td id=\"T_fdcdf_row3_col4\" class=\"data row3 col4\" >0.730475</td>\n",
              "      <td id=\"T_fdcdf_row3_col5\" class=\"data row3 col5\" >0.916603</td>\n",
              "      <td id=\"T_fdcdf_row3_col6\" class=\"data row3 col6\" >0.332828</td>\n",
              "      <td id=\"T_fdcdf_row3_col7\" class=\"data row3 col7\" >0.813022</td>\n",
              "    </tr>\n",
              "    <tr>\n",
              "      <th id=\"T_fdcdf_level0_row4\" class=\"row_heading level0 row4\" >0</th>\n",
              "      <td id=\"T_fdcdf_row4_col0\" class=\"data row4 col0\" >Decision_Tree</td>\n",
              "      <td id=\"T_fdcdf_row4_col1\" class=\"data row4 col1\" >0.710023</td>\n",
              "      <td id=\"T_fdcdf_row4_col2\" class=\"data row4 col2\" >0.289977</td>\n",
              "      <td id=\"T_fdcdf_row4_col3\" class=\"data row4 col3\" >0.710023</td>\n",
              "      <td id=\"T_fdcdf_row4_col4\" class=\"data row4 col4\" >0.775066</td>\n",
              "      <td id=\"T_fdcdf_row4_col5\" class=\"data row4 col5\" >0.793236</td>\n",
              "      <td id=\"T_fdcdf_row4_col6\" class=\"data row4 col6\" >0.545868</td>\n",
              "      <td id=\"T_fdcdf_row4_col7\" class=\"data row4 col7\" >0.784046</td>\n",
              "    </tr>\n",
              "    <tr>\n",
              "      <th id=\"T_fdcdf_level0_row5\" class=\"row_heading level0 row5\" >6</th>\n",
              "      <td id=\"T_fdcdf_row5_col0\" class=\"data row5 col0\" >Gaussian Naive Bayes</td>\n",
              "      <td id=\"T_fdcdf_row5_col1\" class=\"data row5 col1\" >0.680694</td>\n",
              "      <td id=\"T_fdcdf_row5_col2\" class=\"data row5 col2\" >0.319306</td>\n",
              "      <td id=\"T_fdcdf_row5_col3\" class=\"data row5 col3\" >0.680694</td>\n",
              "      <td id=\"T_fdcdf_row5_col4\" class=\"data row5 col4\" >0.689500</td>\n",
              "      <td id=\"T_fdcdf_row5_col5\" class=\"data row5 col5\" >0.943889</td>\n",
              "      <td id=\"T_fdcdf_row5_col6\" class=\"data row5 col6\" >0.161486</td>\n",
              "      <td id=\"T_fdcdf_row5_col7\" class=\"data row5 col7\" >0.796885</td>\n",
              "    </tr>\n",
              "    <tr>\n",
              "      <th id=\"T_fdcdf_level0_row6\" class=\"row_heading level0 row6\" >3</th>\n",
              "      <td id=\"T_fdcdf_row6_col0\" class=\"data row6 col0\" >Logistic Regression</td>\n",
              "      <td id=\"T_fdcdf_row6_col1\" class=\"data row6 col1\" >0.663606</td>\n",
              "      <td id=\"T_fdcdf_row6_col2\" class=\"data row6 col2\" >0.336394</td>\n",
              "      <td id=\"T_fdcdf_row6_col3\" class=\"data row6 col3\" >0.663606</td>\n",
              "      <td id=\"T_fdcdf_row6_col4\" class=\"data row6 col4\" >0.663606</td>\n",
              "      <td id=\"T_fdcdf_row6_col5\" class=\"data row6 col5\" >1.000000</td>\n",
              "      <td id=\"T_fdcdf_row6_col6\" class=\"data row6 col6\" >0.000000</td>\n",
              "      <td id=\"T_fdcdf_row6_col7\" class=\"data row6 col7\" >0.797792</td>\n",
              "    </tr>\n",
              "    <tr>\n",
              "      <th id=\"T_fdcdf_level0_row7\" class=\"row_heading level0 row7\" >9</th>\n",
              "      <td id=\"T_fdcdf_row7_col0\" class=\"data row7 col0\" >SVM (Support Vector Machine)</td>\n",
              "      <td id=\"T_fdcdf_row7_col1\" class=\"data row7 col1\" >0.663606</td>\n",
              "      <td id=\"T_fdcdf_row7_col2\" class=\"data row7 col2\" >0.336394</td>\n",
              "      <td id=\"T_fdcdf_row7_col3\" class=\"data row7 col3\" >0.663606</td>\n",
              "      <td id=\"T_fdcdf_row7_col4\" class=\"data row7 col4\" >0.663606</td>\n",
              "      <td id=\"T_fdcdf_row7_col5\" class=\"data row7 col5\" >1.000000</td>\n",
              "      <td id=\"T_fdcdf_row7_col6\" class=\"data row7 col6\" >0.000000</td>\n",
              "      <td id=\"T_fdcdf_row7_col7\" class=\"data row7 col7\" >0.797792</td>\n",
              "    </tr>\n",
              "    <tr>\n",
              "      <th id=\"T_fdcdf_level0_row8\" class=\"row_heading level0 row8\" >8</th>\n",
              "      <td id=\"T_fdcdf_row8_col0\" class=\"data row8 col0\" >KNN (k=50)</td>\n",
              "      <td id=\"T_fdcdf_row8_col1\" class=\"data row8 col1\" >0.660801</td>\n",
              "      <td id=\"T_fdcdf_row8_col2\" class=\"data row8 col2\" >0.339199</td>\n",
              "      <td id=\"T_fdcdf_row8_col3\" class=\"data row8 col3\" >0.660801</td>\n",
              "      <td id=\"T_fdcdf_row8_col4\" class=\"data row8 col4\" >0.668879</td>\n",
              "      <td id=\"T_fdcdf_row8_col5\" class=\"data row8 col5\" >0.968101</td>\n",
              "      <td id=\"T_fdcdf_row8_col6\" class=\"data row8 col6\" >0.054587</td>\n",
              "      <td id=\"T_fdcdf_row8_col7\" class=\"data row8 col7\" >0.791143</td>\n",
              "    </tr>\n",
              "    <tr>\n",
              "      <th id=\"T_fdcdf_level0_row9\" class=\"row_heading level0 row9\" >7</th>\n",
              "      <td id=\"T_fdcdf_row9_col0\" class=\"data row9 col0\" >KNN (k=10)</td>\n",
              "      <td id=\"T_fdcdf_row9_col1\" class=\"data row9 col1\" >0.625606</td>\n",
              "      <td id=\"T_fdcdf_row9_col2\" class=\"data row9 col2\" >0.374394</td>\n",
              "      <td id=\"T_fdcdf_row9_col3\" class=\"data row9 col3\" >0.625606</td>\n",
              "      <td id=\"T_fdcdf_row9_col4\" class=\"data row9 col4\" >0.680229</td>\n",
              "      <td id=\"T_fdcdf_row9_col5\" class=\"data row9 col5\" >0.822444</td>\n",
              "      <td id=\"T_fdcdf_row9_col6\" class=\"data row9 col6\" >0.237301</td>\n",
              "      <td id=\"T_fdcdf_row9_col7\" class=\"data row9 col7\" >0.744607</td>\n",
              "    </tr>\n",
              "  </tbody>\n",
              "</table>\n"
            ],
            "text/plain": [
              "<pandas.io.formats.style.Styler at 0x7effa3d42280>"
            ]
          },
          "execution_count": 109,
          "metadata": {},
          "output_type": "execute_result"
        }
      ],
      "source": [
        "comparison = pd.DataFrame({\"ML Classification Algo\":[\"Decision_Tree\",\"LGBM Classifier\",\"XGBoosting\",\"Logistic Regression\",\"Random Forest (Max 5 features in Bootstraping)\",\"Random Forest (Max 10 features in Bootstraping)\",\"Gaussian Naive Bayes\",\"KNN (k=10)\",\"KNN (k=50)\",\"SVM (Support Vector Machine)\"],\n",
        " \"Rightly_Classified\":[(Decision_TP+Decision_TN)/(Decision_TP+Decision_FP+Decision_FN+Decision_TN),(LGBM_TP+LGBM_TN)/(LGBM_TP+LGBM_FP+LGBM_FN+LGBM_TN),(XGB_TP+XGB_TN)/(XGB_TP+XGB_FP+XGB_FN+XGB_TN),(Log_TP+Log_TN)/(Log_TP+Log_FP+Log_FN+Log_TN),(RF_TP2+RF_TN2)/(RF_TP2+RF_FP2+RF_FN2+RF_TN2),(RF_TP3+RF_TN3)/(RF_TP3+RF_FP3+RF_FN3+RF_TN3),(NAV_TP+NAV_TN)/(NAV_TP+NAV_FP+NAV_FN+NAV_TN),(KNN_TP1+KNN_TN1)/(KNN_TP1+KNN_FP1+KNN_FN1+KNN_TN1),(KNN_TP2+KNN_TN2)/(KNN_TP2+KNN_FP2+KNN_FN2+KNN_TN2),(SVM_TP+SVM_TN)/(SVM_TP+SVM_FP+SVM_FN+SVM_TN)],\n",
        " \"Wrongly_Classified\":[(Decision_FP+Decision_FN)/(Decision_TP+Decision_FP+Decision_FN+Decision_TN),(LGBM_FP+LGBM_FN)/(LGBM_TP+LGBM_FP+LGBM_FN+LGBM_TN),(XGB_FP+XGB_FN)/(XGB_TP+XGB_FP+XGB_FN+XGB_TN),(Log_FP+Log_FN)/(Log_TP+Log_FP+Log_FN+Log_TN),(RF_FP2+RF_FN2)/(RF_TP2+RF_FP2+RF_FN2+RF_TN2),(RF_FP3+RF_FN3)/(RF_TP3+RF_FP3+RF_FN3+RF_TN3),(NAV_FP+NAV_FN)/(NAV_TP+NAV_FP+NAV_FN+NAV_TN),(KNN_FP1+KNN_FN1)/(KNN_TP1+KNN_FP1+KNN_FN1+KNN_TN1),(KNN_FP2+KNN_FN2)/(KNN_TP2+KNN_FP2+KNN_FN2+KNN_TN2),(SVM_FP+SVM_FN)/(SVM_TP+SVM_FP+SVM_FN+SVM_TN)],\n",
        " \"Accuracy\":[Decision_Accuracy,LGBM_Accuracy,XGB_Accuracy,Log_Accuracy,RF_Accuracy2,RF_Accuracy3,NAV_Accuracy ,KNN_Accuracy1,KNN_Accuracy2,SVM_Accuracy],\n",
        "  \"Precision\":[Decision_Precision,LGBM_Precision,XGB_Precision,Log_Precision,RF_Precision2,RF_Precision3,NAV_Precision,KNN_Precision1,KNN_Precision2,SVM_Precision],\n",
        "  \"Recall\":[Decision_Recall,LGBM_Recall,XGB_Recall,Log_Recall,RF_Recall2,RF_Recall3,NAV_Recall,KNN_Recall1,KNN_Recall2,SVM_Recall],\n",
        "  \"Specificity\":[Decision_Specificity,LGBM_Specificity,XGB_Specificity,Log_Specificity,RF_Specificity2,RF_Specificity3,NAV_Specificity,KNN_Specificity1,KNN_Specificity2,SVM_Specificity],\n",
        "  \"F1-Score\":[Decision_F1,LGBM_F1,XGB_F1,Log_F1,RF_F12,RF_F13,NAV_F1,KNN_F11,KNN_F12,SVM_F1]})\n",
        "comparison.sort_values(by=\"Accuracy\",ascending=False).style.background_gradient(cmap='rocket')\n"
      ]
    },
    {
      "cell_type": "markdown",
      "metadata": {
        "id": "i5ujXjiAQ5SI"
      },
      "source": [
        "## As from above table Random Forest (Max 10 features in Bootstraping) has more accuracy and F1 score initially this model is performing well."
      ]
    },
    {
      "cell_type": "markdown",
      "metadata": {
        "id": "5t6Ob3qT4R_z"
      },
      "source": [
        "## Hyperparameter Tuning"
      ]
    },
    {
      "cell_type": "markdown",
      "metadata": {
        "id": "UjbnZaBYhO7G"
      },
      "source": [
        "#LGBM Hyperparameter tuning"
      ]
    },
    {
      "cell_type": "code",
      "execution_count": null,
      "metadata": {
        "colab": {
          "base_uri": "https://localhost:8080/"
        },
        "id": "zj9KO8cYGDTL",
        "outputId": "e4a3bb7e-fe6f-4a2d-d943-75409fdcae3b"
      },
      "outputs": [
        {
          "name": "stdout",
          "output_type": "stream",
          "text": [
            "n_components = 50, learning_rate = 0.05, max_depth = -1=> Accuracy : 75.18490181076257\n",
            "n_components = 50, learning_rate = 0.1, max_depth = -1=> Accuracy : 74.82785003825555\n",
            "n_components = 50, learning_rate = 0.15, max_depth = -1=> Accuracy : 72.78755419535833\n",
            "n_components = 50, learning_rate = 0.05, max_depth = 0=> Accuracy : 75.18490181076257\n",
            "n_components = 50, learning_rate = 0.1, max_depth = 0=> Accuracy : 74.82785003825555\n",
            "n_components = 50, learning_rate = 0.15, max_depth = 0=> Accuracy : 72.78755419535833\n",
            "n_components = 50, learning_rate = 0.05, max_depth = 1=> Accuracy : 68.50293292527417\n",
            "n_components = 50, learning_rate = 0.1, max_depth = 1=> Accuracy : 69.24254016832441\n",
            "n_components = 50, learning_rate = 0.15, max_depth = 1=> Accuracy : 70.0586585054833\n",
            "n_components = 50, learning_rate = 0.05, max_depth = 2=> Accuracy : 69.93114001530222\n",
            "n_components = 50, learning_rate = 0.1, max_depth = 2=> Accuracy : 71.2573323131854\n",
            "n_components = 50, learning_rate = 0.15, max_depth = 2=> Accuracy : 71.33384340729407\n",
            "n_components = 100, learning_rate = 0.05, max_depth = -1=> Accuracy : 76.38357561846468\n",
            "n_components = 100, learning_rate = 0.1, max_depth = -1=> Accuracy : 72.27748023463401\n",
            "n_components = 100, learning_rate = 0.15, max_depth = -1=> Accuracy : 69.59959194083142\n",
            "n_components = 100, learning_rate = 0.05, max_depth = 0=> Accuracy : 76.38357561846468\n",
            "n_components = 100, learning_rate = 0.1, max_depth = 0=> Accuracy : 72.27748023463401\n",
            "n_components = 100, learning_rate = 0.15, max_depth = 0=> Accuracy : 69.59959194083142\n",
            "n_components = 100, learning_rate = 0.05, max_depth = 1=> Accuracy : 69.19153277225197\n",
            "n_components = 100, learning_rate = 0.1, max_depth = 1=> Accuracy : 70.36470288191788\n",
            "n_components = 100, learning_rate = 0.15, max_depth = 1=> Accuracy : 70.79826574853354\n",
            "n_components = 100, learning_rate = 0.05, max_depth = 2=> Accuracy : 71.00229533282327\n",
            "n_components = 100, learning_rate = 0.1, max_depth = 2=> Accuracy : 71.74190257587351\n",
            "n_components = 100, learning_rate = 0.15, max_depth = 2=> Accuracy : 72.30298393267024\n",
            "n_components = 150, learning_rate = 0.05, max_depth = -1=> Accuracy : 77.250701351696\n",
            "n_components = 150, learning_rate = 0.1, max_depth = -1=> Accuracy : 72.71104310124969\n",
            "n_components = 150, learning_rate = 0.15, max_depth = -1=> Accuracy : 70.64524356031625\n",
            "n_components = 150, learning_rate = 0.05, max_depth = 0=> Accuracy : 77.250701351696\n",
            "n_components = 150, learning_rate = 0.1, max_depth = 0=> Accuracy : 72.71104310124969\n",
            "n_components = 150, learning_rate = 0.15, max_depth = 0=> Accuracy : 70.64524356031625\n",
            "n_components = 150, learning_rate = 0.05, max_depth = 1=> Accuracy : 69.82912522315736\n",
            "n_components = 150, learning_rate = 0.1, max_depth = 1=> Accuracy : 70.64524356031625\n",
            "n_components = 150, learning_rate = 0.15, max_depth = 1=> Accuracy : 70.97679163478703\n",
            "n_components = 150, learning_rate = 0.05, max_depth = 2=> Accuracy : 71.51236929354756\n",
            "n_components = 150, learning_rate = 0.1, max_depth = 2=> Accuracy : 72.02244325427188\n",
            "n_components = 150, learning_rate = 0.15, max_depth = 2=> Accuracy : 73.47615404233613\n",
            "n_components = 200, learning_rate = 0.05, max_depth = -1=> Accuracy : 77.48023463402194\n",
            "n_components = 200, learning_rate = 0.1, max_depth = -1=> Accuracy : 73.2466207600102\n",
            "n_components = 200, learning_rate = 0.15, max_depth = -1=> Accuracy : 70.79826574853354\n",
            "n_components = 200, learning_rate = 0.05, max_depth = 0=> Accuracy : 77.48023463402194\n",
            "n_components = 200, learning_rate = 0.1, max_depth = 0=> Accuracy : 73.2466207600102\n",
            "n_components = 200, learning_rate = 0.15, max_depth = 0=> Accuracy : 70.79826574853354\n",
            "n_components = 200, learning_rate = 0.05, max_depth = 1=> Accuracy : 70.44121397602653\n",
            "n_components = 200, learning_rate = 0.1, max_depth = 1=> Accuracy : 70.67074725835246\n",
            "n_components = 200, learning_rate = 0.15, max_depth = 1=> Accuracy : 71.18082121907676\n",
            "n_components = 200, learning_rate = 0.05, max_depth = 2=> Accuracy : 71.74190257587351\n",
            "n_components = 200, learning_rate = 0.1, max_depth = 2=> Accuracy : 72.96608008161184\n",
            "n_components = 200, learning_rate = 0.15, max_depth = 2=> Accuracy : 73.78219841877072\n",
            "n_components = 250, learning_rate = 0.05, max_depth = -1=> Accuracy : 77.27620504973221\n",
            "n_components = 250, learning_rate = 0.1, max_depth = -1=> Accuracy : 73.14460596786535\n",
            "n_components = 250, learning_rate = 0.15, max_depth = -1=> Accuracy : 69.14052537617955\n",
            "n_components = 250, learning_rate = 0.05, max_depth = 0=> Accuracy : 77.27620504973221\n",
            "n_components = 250, learning_rate = 0.1, max_depth = 0=> Accuracy : 73.14460596786535\n",
            "n_components = 250, learning_rate = 0.15, max_depth = 0=> Accuracy : 69.14052537617955\n",
            "n_components = 250, learning_rate = 0.05, max_depth = 1=> Accuracy : 70.54322876817139\n",
            "n_components = 250, learning_rate = 0.1, max_depth = 1=> Accuracy : 71.00229533282327\n",
            "n_components = 250, learning_rate = 0.15, max_depth = 1=> Accuracy : 71.35934710533027\n",
            "n_components = 250, learning_rate = 0.05, max_depth = 2=> Accuracy : 71.94593216016322\n",
            "n_components = 250, learning_rate = 0.1, max_depth = 2=> Accuracy : 72.99158377964805\n",
            "n_components = 250, learning_rate = 0.15, max_depth = 2=> Accuracy : 74.21576128538638\n"
          ]
        }
      ],
      "source": [
        "#Hyperparametertuning for lgbm using n_estimators, max_depth and learning_rate\n",
        "from lightgbm import *\n",
        "n_estimators = [50, 100, 150, 200, 250]\n",
        "max_depth = [-1,0,1,2]\n",
        "learning_rate = [0.05,0.1,0.15]\n",
        "acc = []\n",
        "for n in n_estimators:\n",
        "  for d in max_depth:\n",
        "    for l in learning_rate:\n",
        "      LGBM_model = LGBMClassifier(n_estimators = n,max_depth=d,learning_rate=l)\n",
        "      LGBM_model.fit(X_train, Y_train)\n",
        "      LGBM_y_preds = LGBM_model.predict(X_test)\n",
        "      LGBM_y_accuracy = accuracy_score(LGBM_y_preds,Y_test)\n",
        "      acc.append(LGBM_y_accuracy)\n",
        "      print(f\"n_components = {n}, learning_rate = {l}, max_depth = {d}=> Accuracy : {LGBM_y_accuracy*100}\");\n",
        "LGBM_max = max(acc)"
      ]
    },
    {
      "cell_type": "code",
      "execution_count": null,
      "metadata": {
        "colab": {
          "base_uri": "https://localhost:8080/"
        },
        "id": "BV234s9A_lES",
        "outputId": "c04aa2f7-91cd-4530-9e49-c8d1af96474f"
      },
      "outputs": [
        {
          "data": {
            "text/plain": [
              "0.7748023463402194"
            ]
          },
          "execution_count": 160,
          "metadata": {},
          "output_type": "execute_result"
        }
      ],
      "source": [
        "LGBM_max"
      ]
    },
    {
      "cell_type": "markdown",
      "source": [
        "Best parameters for LGBM are: {n_estimators, max_depth, learning_rate}\n",
        "\n",
        "The maximum accuracy after performing hyperparameter tuning on LGBM is 77.48 percent."
      ],
      "metadata": {
        "id": "KyWQ9mBAHmHG"
      }
    },
    {
      "cell_type": "markdown",
      "metadata": {
        "id": "73IgsP87ehzm"
      },
      "source": [
        "#XG Boosting Hyperparameter tuning"
      ]
    },
    {
      "cell_type": "code",
      "execution_count": null,
      "metadata": {
        "id": "8eu-8ovIRZ7U"
      },
      "outputs": [],
      "source": [
        "#Hyperparametertuning for XGBoosting\n",
        "from lightgbm import *\n",
        "eta = [0.1, 0.3, 0.5, 0.7, 0.9]\n",
        "gamma  = [0,2,5,7,10]\n",
        "Lambda = [0,1,2,3,10]\n",
        "xgacc = []\n",
        "for n in eta:\n",
        "  for d in gamma:\n",
        "    for l in Lambda:\n",
        "      XGB_model = xgb.XGBClassifier(eta = n,gamma=d,Lambda=l)\n",
        "      XGB_model.fit(X_train, Y_train)\n",
        "      XGB_y_preds =XGB_model.predict(X_test)\n",
        "      XGB_accuracy = accuracy_score(XGB_y_preds,Y_test)\n",
        "      xgacc.append(XGB_accuracy)\n",
        "\n",
        "XB_max = max(xgacc)"
      ]
    },
    {
      "cell_type": "code",
      "execution_count": null,
      "metadata": {
        "colab": {
          "base_uri": "https://localhost:8080/"
        },
        "id": "7niLdAVQBkyz",
        "outputId": "df4fb408-502d-4192-d08e-78e918547abf"
      },
      "outputs": [
        {
          "data": {
            "text/plain": [
              "0.7327212445804642"
            ]
          },
          "execution_count": 162,
          "metadata": {},
          "output_type": "execute_result"
        }
      ],
      "source": [
        "XB_max"
      ]
    },
    {
      "cell_type": "markdown",
      "source": [
        "Best parameters for XGboost are: {eta, gamma, Lambda}\n",
        "\n",
        "The maximum accuracy after performing hyperparameter tuning on XGboost is 73 percent."
      ],
      "metadata": {
        "id": "4503gTFWHYLa"
      }
    },
    {
      "cell_type": "markdown",
      "metadata": {
        "id": "CKGQYnGeelce"
      },
      "source": [
        "#K-Nearest Neighbour Hyperparameter tuning"
      ]
    },
    {
      "cell_type": "code",
      "execution_count": null,
      "metadata": {
        "colab": {
          "base_uri": "https://localhost:8080/"
        },
        "id": "_dNhT14veoCK",
        "outputId": "da9918c7-aabf-4c55-f2db-8d2c2a8c172b"
      },
      "outputs": [
        {
          "name": "stdout",
          "output_type": "stream",
          "text": [
            "{'metric': 'minkowski', 'n_neighbors': 48, 'p': 2}\n",
            "0.6775213145181576\n"
          ]
        }
      ],
      "source": [
        "#grid search for the parameters n neighbours,p , distance\n",
        "param_grid = {'n_neighbors':np.arange(1,50), 'p':[1,2], 'metric':['minkowski','euclidean','manhattan']}\n",
        "grid = GridSearchCV(KNeighborsClassifier(),param_grid,refit=True,verbose=0,cv=5)\n",
        "grid.fit(X_train,Y_train)\n",
        "print(grid.best_params_)\n",
        "print(grid.best_score_)\n"
      ]
    },
    {
      "cell_type": "markdown",
      "source": [
        "The best parameters for knn algorithm is:\n",
        "{'metric': 'minkowski', 'n_neighbors': 48, 'p': 2}\n",
        "\n",
        "The maximum accuracy after performing hyperparameter tuning is 67.8 percent."
      ],
      "metadata": {
        "id": "ZiZQNa-qHwmO"
      }
    },
    {
      "cell_type": "code",
      "execution_count": null,
      "metadata": {
        "colab": {
          "base_uri": "https://localhost:8080/"
        },
        "id": "ozCq3pRXeu_B",
        "outputId": "d8b1194f-a21c-4196-d966-6a5c12f10469"
      },
      "outputs": [
        {
          "data": {
            "text/plain": [
              "array([1., 1., 1., ..., 1., 1., 1.])"
            ]
          },
          "execution_count": 250,
          "metadata": {},
          "output_type": "execute_result"
        }
      ],
      "source": [
        "#Fitting the model with best parameters\n",
        "knn=KNeighborsClassifier(metric='minkowski', n_neighbors=48, p=2)\n",
        "knn.fit(X_train,Y_train)\n",
        "knny_pred=knn.predict(X_test)\n",
        "knny_pred"
      ]
    },
    {
      "cell_type": "markdown",
      "metadata": {
        "id": "n4ivUagf3BIB"
      },
      "source": [
        "#Logistic Hyperparameter tuning"
      ]
    },
    {
      "cell_type": "code",
      "execution_count": null,
      "metadata": {
        "colab": {
          "base_uri": "https://localhost:8080/"
        },
        "id": "N_lo0-VD3GTb",
        "outputId": "a04770f8-2217-43fe-cd89-39f1faf3b912"
      },
      "outputs": [
        {
          "name": "stdout",
          "output_type": "stream",
          "text": [
            "{'dual': False, 'fit_intercept': True, 'penalty': 'l1', 'solver': 'liblinear'}\n",
            "0.6772659595074749\n"
          ]
        }
      ],
      "source": [
        "#grid search for lg model with different parameters\n",
        "param_grid = {'penalty':['l1','l2','elasticnet','none'], 'dual':[True,False], 'fit_intercept':[True,False], 'solver':['newton-cg', 'lbfgs', 'liblinear', 'sag', 'saga']}\n",
        "grid = GridSearchCV(LogisticRegression(),param_grid,refit=True,verbose=0,cv=5)\n",
        "grid.fit(X_train,Y_train)\n",
        "print(grid.best_params_)\n",
        "print(grid.best_score_)\n"
      ]
    },
    {
      "cell_type": "markdown",
      "source": [
        "The best parameters for logistic regression is:\n",
        "{'dual': False, 'fit_intercept': True, 'penalty': 'l1', 'solver': 'liblinear'}\n",
        "\n",
        "The maximum accuracy after performing hyperparameter tuning is 67.7 percent."
      ],
      "metadata": {
        "id": "Jc9BOYzcJKH-"
      }
    },
    {
      "cell_type": "code",
      "execution_count": null,
      "metadata": {
        "colab": {
          "base_uri": "https://localhost:8080/"
        },
        "id": "bqlGw3VT4omk",
        "outputId": "9e18a300-cb9c-42c8-d44a-240b020904df"
      },
      "outputs": [
        {
          "data": {
            "text/plain": [
              "array([1., 1., 1., ..., 1., 0., 1.])"
            ]
          },
          "execution_count": 144,
          "metadata": {},
          "output_type": "execute_result"
        }
      ],
      "source": [
        "#Fitting the model with best parameters\n",
        "lg=LogisticRegression(dual=False, fit_intercept=True, penalty='l1', solver='liblinear')\n",
        "lg.fit(X_train,Y_train)\n",
        "lgy_pred=lg.predict(X_test)\n",
        "lgy_pred"
      ]
    },
    {
      "cell_type": "markdown",
      "metadata": {
        "id": "-KsHHIjv5RG7"
      },
      "source": [
        "#Random Forest Hyperparameter tuning"
      ]
    },
    {
      "cell_type": "code",
      "execution_count": null,
      "metadata": {
        "colab": {
          "base_uri": "https://localhost:8080/"
        },
        "id": "0-QPzSwz5RSz",
        "outputId": "beb970fc-9908-43fe-bfa4-92af48a75f22"
      },
      "outputs": [
        {
          "name": "stdout",
          "output_type": "stream",
          "text": [
            "{'criterion': 'entropy', 'max_depth': 4, 'max_features': 'log2'}\n",
            "0.7259821735749123\n"
          ]
        }
      ],
      "source": [
        "#grid search for random forest model with different parameters and use all processors\n",
        "param_grid = {'criterion':['gini','entropy'], 'max_depth':np.arange(1,5), 'max_features':['auto','sqrt','log2']}\n",
        "grid = GridSearchCV(RandomForestClassifier(n_jobs=-1),param_grid,refit=True,verbose=0,cv=5)\n",
        "grid.fit(X_train,Y_train)\n",
        "print(grid.best_params_)\n",
        "print(grid.best_score_)\n"
      ]
    },
    {
      "cell_type": "markdown",
      "source": [
        "The best parameters for Random Forest is:\n",
        "{'criterion': 'entropy', 'max_depth': 4, 'max_features': 'log2'}\n",
        "\n",
        "The maximum accuracy after performing hyperparameter tuning is 72.59 percent."
      ],
      "metadata": {
        "id": "UsLC9GLsJcck"
      }
    },
    {
      "cell_type": "code",
      "execution_count": null,
      "metadata": {
        "colab": {
          "base_uri": "https://localhost:8080/"
        },
        "id": "MMXuSjHa5RbN",
        "outputId": "d81c6e16-fbb7-4538-9c03-0686fd516bd7"
      },
      "outputs": [
        {
          "data": {
            "text/plain": [
              "array([1., 1., 1., ..., 1., 1., 1.])"
            ]
          },
          "execution_count": 148,
          "metadata": {},
          "output_type": "execute_result"
        }
      ],
      "source": [
        "#Fitting the model with best parameters\n",
        "rf=RandomForestClassifier(criterion='entropy', max_depth=4, max_features='log2', n_jobs=-1)\n",
        "rf.fit(X_train,Y_train)\n",
        "rf_ytest_pred=rf.predict(X_test)\n",
        "rf_ytest_pred"
      ]
    },
    {
      "cell_type": "markdown",
      "metadata": {
        "id": "PmKaoNmd6Euf"
      },
      "source": [
        "#Decision Tree Hyperparameter tuning"
      ]
    },
    {
      "cell_type": "code",
      "execution_count": null,
      "metadata": {
        "colab": {
          "base_uri": "https://localhost:8080/"
        },
        "id": "86PYk94j6E4A",
        "outputId": "e9b96424-d7cb-4130-9346-cdac88e4ab8f"
      },
      "outputs": [
        {
          "name": "stdout",
          "output_type": "stream",
          "text": [
            "{'criterion': 'gini', 'max_depth': 9, 'max_features': 'auto'}\n",
            "0.7304028942643781\n"
          ]
        }
      ],
      "source": [
        "#grid search for decision tree model with different parameters and use all processors\n",
        "param_grid = {'criterion':['gini','entropy'], 'max_depth':np.arange(1,50), 'max_features':['auto','sqrt','log2']}\n",
        "grid = GridSearchCV(DecisionTreeClassifier(),param_grid,refit=True,verbose=0)\n",
        "grid.fit(X_train,Y_train)\n",
        "print(grid.best_params_)\n",
        "print(grid.best_score_)\n"
      ]
    },
    {
      "cell_type": "markdown",
      "source": [
        "The best parameters for Decision Tree is:\n",
        "{'criterion': 'gini', 'max_depth': 9, 'max_features': 'auto'}\n",
        "\n",
        "The maximum accuracy after performing hyperparameter tuning is 73.04 percent."
      ],
      "metadata": {
        "id": "FiCsX8XOJgd4"
      }
    },
    {
      "cell_type": "code",
      "execution_count": null,
      "metadata": {
        "colab": {
          "base_uri": "https://localhost:8080/"
        },
        "id": "QEbIhxbm6EC7",
        "outputId": "35bd8584-5e64-4c2d-d316-279d1cd716bf"
      },
      "outputs": [
        {
          "data": {
            "text/plain": [
              "array([1., 1., 1., ..., 1., 1., 1.])"
            ]
          },
          "execution_count": 150,
          "metadata": {},
          "output_type": "execute_result"
        }
      ],
      "source": [
        "#Fitting the model with best parameters\n",
        "dt=DecisionTreeClassifier(criterion='gini', max_depth=9, max_features='auto')\n",
        "dt.fit(X_train,Y_train)\n",
        "dt_ytest_pred=dt.predict(X_test)\n",
        "dt_ytest_pred"
      ]
    },
    {
      "cell_type": "markdown",
      "metadata": {
        "id": "qbak5HEl6Vj1"
      },
      "source": [
        "#Gaussian Navie Bayes Hyperparameter tuning"
      ]
    },
    {
      "cell_type": "code",
      "execution_count": null,
      "metadata": {
        "colab": {
          "base_uri": "https://localhost:8080/"
        },
        "id": "6eViHLwH6Vxw",
        "outputId": "578ac42c-2c6c-495a-faa3-cb704e2f1d94"
      },
      "outputs": [
        {
          "name": "stdout",
          "output_type": "stream",
          "text": [
            "{'var_smoothing': 1.2328467394420635e-09}\n",
            "0.6872987444021381\n"
          ]
        }
      ],
      "source": [
        "#grid search for naive bayes model with different parameters and use all processors\n",
        "param_grid = {'var_smoothing':np.logspace(0,-9, num=100)}\n",
        "grid = GridSearchCV(GaussianNB(),param_grid,refit=True,verbose=0)\n",
        "grid.fit(X_train,Y_train)\n",
        "print(grid.best_params_)\n",
        "print(grid.best_score_)\n"
      ]
    },
    {
      "cell_type": "markdown",
      "source": [
        "The best parameters for Navie Bayes algorithm is:\n",
        "{'var_smoothing': 1.2328467394420635e-09}\n",
        "\n",
        "The maximum accuracy after performing hyperparameter tuning is 68.7 percent."
      ],
      "metadata": {
        "id": "D7t6qUwJJsiw"
      }
    },
    {
      "cell_type": "code",
      "execution_count": null,
      "metadata": {
        "colab": {
          "base_uri": "https://localhost:8080/"
        },
        "id": "Uhq6L1rc6V6f",
        "outputId": "9e3c7412-884f-4fea-ba9c-439fe347e883"
      },
      "outputs": [
        {
          "data": {
            "text/plain": [
              "array([1., 1., 1., ..., 1., 1., 1.])"
            ]
          },
          "execution_count": 153,
          "metadata": {},
          "output_type": "execute_result"
        }
      ],
      "source": [
        "#Fitting the model with best parameters\n",
        "gnb=GaussianNB(var_smoothing=1.2328467394420635e-09)\n",
        "gnb.fit(X_train,Y_train)\n",
        "gnby_pred=gnb.predict(X_test)\n",
        "gnby_pred"
      ]
    },
    {
      "cell_type": "markdown",
      "metadata": {
        "id": "tPuB3Vgz6qj1"
      },
      "source": [
        "## Accuracies after training with parameters(Hyperparameter tuning)"
      ]
    },
    {
      "cell_type": "code",
      "execution_count": null,
      "metadata": {
        "colab": {
          "base_uri": "https://localhost:8080/",
          "height": 300
        },
        "id": "4yqUpKGb6qtA",
        "outputId": "35929660-78ca-4828-9485-1156a363e1ad"
      },
      "outputs": [
        {
          "data": {
            "text/html": [
              "\n",
              "  <div id=\"df-1bceb029-8d79-4aa8-a9af-f9252fde05f5\">\n",
              "    <div class=\"colab-df-container\">\n",
              "      <div>\n",
              "<style scoped>\n",
              "    .dataframe tbody tr th:only-of-type {\n",
              "        vertical-align: middle;\n",
              "    }\n",
              "\n",
              "    .dataframe tbody tr th {\n",
              "        vertical-align: top;\n",
              "    }\n",
              "\n",
              "    .dataframe thead th {\n",
              "        text-align: right;\n",
              "    }\n",
              "</style>\n",
              "<table border=\"1\" class=\"dataframe\">\n",
              "  <thead>\n",
              "    <tr style=\"text-align: right;\">\n",
              "      <th></th>\n",
              "      <th>Model</th>\n",
              "      <th>Hyper_Tuning</th>\n",
              "    </tr>\n",
              "  </thead>\n",
              "  <tbody>\n",
              "    <tr>\n",
              "      <th>6</th>\n",
              "      <td>LGBM</td>\n",
              "      <td>77.480235</td>\n",
              "    </tr>\n",
              "    <tr>\n",
              "      <th>7</th>\n",
              "      <td>XGBOOST</td>\n",
              "      <td>73.272124</td>\n",
              "    </tr>\n",
              "    <tr>\n",
              "      <th>3</th>\n",
              "      <td>Decision Tree</td>\n",
              "      <td>71.767406</td>\n",
              "    </tr>\n",
              "    <tr>\n",
              "      <th>2</th>\n",
              "      <td>Random Forest</td>\n",
              "      <td>71.741903</td>\n",
              "    </tr>\n",
              "    <tr>\n",
              "      <th>4</th>\n",
              "      <td>Naive Bayes</td>\n",
              "      <td>67.865340</td>\n",
              "    </tr>\n",
              "    <tr>\n",
              "      <th>1</th>\n",
              "      <td>Logistic Regression</td>\n",
              "      <td>66.870696</td>\n",
              "    </tr>\n",
              "    <tr>\n",
              "      <th>5</th>\n",
              "      <td>SVM</td>\n",
              "      <td>66.411630</td>\n",
              "    </tr>\n",
              "    <tr>\n",
              "      <th>0</th>\n",
              "      <td>KNN</td>\n",
              "      <td>66.156593</td>\n",
              "    </tr>\n",
              "  </tbody>\n",
              "</table>\n",
              "</div>\n",
              "      <button class=\"colab-df-convert\" onclick=\"convertToInteractive('df-1bceb029-8d79-4aa8-a9af-f9252fde05f5')\"\n",
              "              title=\"Convert this dataframe to an interactive table.\"\n",
              "              style=\"display:none;\">\n",
              "        \n",
              "  <svg xmlns=\"http://www.w3.org/2000/svg\" height=\"24px\"viewBox=\"0 0 24 24\"\n",
              "       width=\"24px\">\n",
              "    <path d=\"M0 0h24v24H0V0z\" fill=\"none\"/>\n",
              "    <path d=\"M18.56 5.44l.94 2.06.94-2.06 2.06-.94-2.06-.94-.94-2.06-.94 2.06-2.06.94zm-11 1L8.5 8.5l.94-2.06 2.06-.94-2.06-.94L8.5 2.5l-.94 2.06-2.06.94zm10 10l.94 2.06.94-2.06 2.06-.94-2.06-.94-.94-2.06-.94 2.06-2.06.94z\"/><path d=\"M17.41 7.96l-1.37-1.37c-.4-.4-.92-.59-1.43-.59-.52 0-1.04.2-1.43.59L10.3 9.45l-7.72 7.72c-.78.78-.78 2.05 0 2.83L4 21.41c.39.39.9.59 1.41.59.51 0 1.02-.2 1.41-.59l7.78-7.78 2.81-2.81c.8-.78.8-2.07 0-2.86zM5.41 20L4 18.59l7.72-7.72 1.47 1.35L5.41 20z\"/>\n",
              "  </svg>\n",
              "      </button>\n",
              "      \n",
              "  <style>\n",
              "    .colab-df-container {\n",
              "      display:flex;\n",
              "      flex-wrap:wrap;\n",
              "      gap: 12px;\n",
              "    }\n",
              "\n",
              "    .colab-df-convert {\n",
              "      background-color: #E8F0FE;\n",
              "      border: none;\n",
              "      border-radius: 50%;\n",
              "      cursor: pointer;\n",
              "      display: none;\n",
              "      fill: #1967D2;\n",
              "      height: 32px;\n",
              "      padding: 0 0 0 0;\n",
              "      width: 32px;\n",
              "    }\n",
              "\n",
              "    .colab-df-convert:hover {\n",
              "      background-color: #E2EBFA;\n",
              "      box-shadow: 0px 1px 2px rgba(60, 64, 67, 0.3), 0px 1px 3px 1px rgba(60, 64, 67, 0.15);\n",
              "      fill: #174EA6;\n",
              "    }\n",
              "\n",
              "    [theme=dark] .colab-df-convert {\n",
              "      background-color: #3B4455;\n",
              "      fill: #D2E3FC;\n",
              "    }\n",
              "\n",
              "    [theme=dark] .colab-df-convert:hover {\n",
              "      background-color: #434B5C;\n",
              "      box-shadow: 0px 1px 3px 1px rgba(0, 0, 0, 0.15);\n",
              "      filter: drop-shadow(0px 1px 2px rgba(0, 0, 0, 0.3));\n",
              "      fill: #FFFFFF;\n",
              "    }\n",
              "  </style>\n",
              "\n",
              "      <script>\n",
              "        const buttonEl =\n",
              "          document.querySelector('#df-1bceb029-8d79-4aa8-a9af-f9252fde05f5 button.colab-df-convert');\n",
              "        buttonEl.style.display =\n",
              "          google.colab.kernel.accessAllowed ? 'block' : 'none';\n",
              "\n",
              "        async function convertToInteractive(key) {\n",
              "          const element = document.querySelector('#df-1bceb029-8d79-4aa8-a9af-f9252fde05f5');\n",
              "          const dataTable =\n",
              "            await google.colab.kernel.invokeFunction('convertToInteractive',\n",
              "                                                     [key], {});\n",
              "          if (!dataTable) return;\n",
              "\n",
              "          const docLinkHtml = 'Like what you see? Visit the ' +\n",
              "            '<a target=\"_blank\" href=https://colab.research.google.com/notebooks/data_table.ipynb>data table notebook</a>'\n",
              "            + ' to learn more about interactive tables.';\n",
              "          element.innerHTML = '';\n",
              "          dataTable['output_type'] = 'display_data';\n",
              "          await google.colab.output.renderOutput(dataTable, element);\n",
              "          const docLink = document.createElement('div');\n",
              "          docLink.innerHTML = docLinkHtml;\n",
              "          element.appendChild(docLink);\n",
              "        }\n",
              "      </script>\n",
              "    </div>\n",
              "  </div>\n",
              "  "
            ],
            "text/plain": [
              "                 Model  Hyper_Tuning\n",
              "6                 LGBM     77.480235\n",
              "7              XGBOOST     73.272124\n",
              "3        Decision Tree     71.767406\n",
              "2        Random Forest     71.741903\n",
              "4          Naive Bayes     67.865340\n",
              "1  Logistic Regression     66.870696\n",
              "5                  SVM     66.411630\n",
              "0                  KNN     66.156593"
            ]
          },
          "execution_count": 251,
          "metadata": {},
          "output_type": "execute_result"
        }
      ],
      "source": [
        "#Store the new accuracies \n",
        "models2 = pd.DataFrame({\n",
        "        'Model': ['KNN','Logistic Regression', 'Random Forest', 'Decision Tree', 'Naive Bayes', 'SVM', 'LGBM', 'XGBOOST'],\n",
        "        'Hyper_Tuning': [accuracy_score(Y_test,knny_pred)*100, accuracy_score(Y_test,lgy_pred)*100, accuracy_score(Y_test,rf_ytest_pred)*100, accuracy_score(Y_test,dt_ytest_pred)*100, accuracy_score(Y_test,gnby_pred)*100, accuracy_score(Y_test,SVM_y_preds)*100,LGBM_max*100,XB_max*100],})\n",
        "df2=models2.sort_values(by='Hyper_Tuning', ascending=False)\n",
        "df2\n"
      ]
    },
    {
      "cell_type": "markdown",
      "metadata": {
        "id": "gGjYVFNriIAt"
      },
      "source": [
        "## Initial accuracy of each model"
      ]
    },
    {
      "cell_type": "code",
      "execution_count": null,
      "metadata": {
        "colab": {
          "base_uri": "https://localhost:8080/",
          "height": 300
        },
        "id": "wyDxDZmQEW6d",
        "outputId": "fc421613-074b-4151-c8aa-d0ce02b0e7e7"
      },
      "outputs": [
        {
          "data": {
            "text/html": [
              "\n",
              "  <div id=\"df-5ad3f825-530c-414d-9ef2-6ae59845da9b\">\n",
              "    <div class=\"colab-df-container\">\n",
              "      <div>\n",
              "<style scoped>\n",
              "    .dataframe tbody tr th:only-of-type {\n",
              "        vertical-align: middle;\n",
              "    }\n",
              "\n",
              "    .dataframe tbody tr th {\n",
              "        vertical-align: top;\n",
              "    }\n",
              "\n",
              "    .dataframe thead th {\n",
              "        text-align: right;\n",
              "    }\n",
              "</style>\n",
              "<table border=\"1\" class=\"dataframe\">\n",
              "  <thead>\n",
              "    <tr style=\"text-align: right;\">\n",
              "      <th></th>\n",
              "      <th>Model</th>\n",
              "      <th>Initial_accuracy</th>\n",
              "    </tr>\n",
              "  </thead>\n",
              "  <tbody>\n",
              "    <tr>\n",
              "      <th>7</th>\n",
              "      <td>XGBOOST</td>\n",
              "      <td>73.272124</td>\n",
              "    </tr>\n",
              "    <tr>\n",
              "      <th>6</th>\n",
              "      <td>LGBM</td>\n",
              "      <td>72.277480</td>\n",
              "    </tr>\n",
              "    <tr>\n",
              "      <th>2</th>\n",
              "      <td>Random Forest</td>\n",
              "      <td>72.022443</td>\n",
              "    </tr>\n",
              "    <tr>\n",
              "      <th>3</th>\n",
              "      <td>Decision Tree</td>\n",
              "      <td>71.002295</td>\n",
              "    </tr>\n",
              "    <tr>\n",
              "      <th>4</th>\n",
              "      <td>Naive Bayes</td>\n",
              "      <td>68.069370</td>\n",
              "    </tr>\n",
              "    <tr>\n",
              "      <th>1</th>\n",
              "      <td>Logistic Regression</td>\n",
              "      <td>66.360622</td>\n",
              "    </tr>\n",
              "    <tr>\n",
              "      <th>5</th>\n",
              "      <td>SVM</td>\n",
              "      <td>66.360622</td>\n",
              "    </tr>\n",
              "    <tr>\n",
              "      <th>0</th>\n",
              "      <td>KNN</td>\n",
              "      <td>62.560571</td>\n",
              "    </tr>\n",
              "  </tbody>\n",
              "</table>\n",
              "</div>\n",
              "      <button class=\"colab-df-convert\" onclick=\"convertToInteractive('df-5ad3f825-530c-414d-9ef2-6ae59845da9b')\"\n",
              "              title=\"Convert this dataframe to an interactive table.\"\n",
              "              style=\"display:none;\">\n",
              "        \n",
              "  <svg xmlns=\"http://www.w3.org/2000/svg\" height=\"24px\"viewBox=\"0 0 24 24\"\n",
              "       width=\"24px\">\n",
              "    <path d=\"M0 0h24v24H0V0z\" fill=\"none\"/>\n",
              "    <path d=\"M18.56 5.44l.94 2.06.94-2.06 2.06-.94-2.06-.94-.94-2.06-.94 2.06-2.06.94zm-11 1L8.5 8.5l.94-2.06 2.06-.94-2.06-.94L8.5 2.5l-.94 2.06-2.06.94zm10 10l.94 2.06.94-2.06 2.06-.94-2.06-.94-.94-2.06-.94 2.06-2.06.94z\"/><path d=\"M17.41 7.96l-1.37-1.37c-.4-.4-.92-.59-1.43-.59-.52 0-1.04.2-1.43.59L10.3 9.45l-7.72 7.72c-.78.78-.78 2.05 0 2.83L4 21.41c.39.39.9.59 1.41.59.51 0 1.02-.2 1.41-.59l7.78-7.78 2.81-2.81c.8-.78.8-2.07 0-2.86zM5.41 20L4 18.59l7.72-7.72 1.47 1.35L5.41 20z\"/>\n",
              "  </svg>\n",
              "      </button>\n",
              "      \n",
              "  <style>\n",
              "    .colab-df-container {\n",
              "      display:flex;\n",
              "      flex-wrap:wrap;\n",
              "      gap: 12px;\n",
              "    }\n",
              "\n",
              "    .colab-df-convert {\n",
              "      background-color: #E8F0FE;\n",
              "      border: none;\n",
              "      border-radius: 50%;\n",
              "      cursor: pointer;\n",
              "      display: none;\n",
              "      fill: #1967D2;\n",
              "      height: 32px;\n",
              "      padding: 0 0 0 0;\n",
              "      width: 32px;\n",
              "    }\n",
              "\n",
              "    .colab-df-convert:hover {\n",
              "      background-color: #E2EBFA;\n",
              "      box-shadow: 0px 1px 2px rgba(60, 64, 67, 0.3), 0px 1px 3px 1px rgba(60, 64, 67, 0.15);\n",
              "      fill: #174EA6;\n",
              "    }\n",
              "\n",
              "    [theme=dark] .colab-df-convert {\n",
              "      background-color: #3B4455;\n",
              "      fill: #D2E3FC;\n",
              "    }\n",
              "\n",
              "    [theme=dark] .colab-df-convert:hover {\n",
              "      background-color: #434B5C;\n",
              "      box-shadow: 0px 1px 3px 1px rgba(0, 0, 0, 0.15);\n",
              "      filter: drop-shadow(0px 1px 2px rgba(0, 0, 0, 0.3));\n",
              "      fill: #FFFFFF;\n",
              "    }\n",
              "  </style>\n",
              "\n",
              "      <script>\n",
              "        const buttonEl =\n",
              "          document.querySelector('#df-5ad3f825-530c-414d-9ef2-6ae59845da9b button.colab-df-convert');\n",
              "        buttonEl.style.display =\n",
              "          google.colab.kernel.accessAllowed ? 'block' : 'none';\n",
              "\n",
              "        async function convertToInteractive(key) {\n",
              "          const element = document.querySelector('#df-5ad3f825-530c-414d-9ef2-6ae59845da9b');\n",
              "          const dataTable =\n",
              "            await google.colab.kernel.invokeFunction('convertToInteractive',\n",
              "                                                     [key], {});\n",
              "          if (!dataTable) return;\n",
              "\n",
              "          const docLinkHtml = 'Like what you see? Visit the ' +\n",
              "            '<a target=\"_blank\" href=https://colab.research.google.com/notebooks/data_table.ipynb>data table notebook</a>'\n",
              "            + ' to learn more about interactive tables.';\n",
              "          element.innerHTML = '';\n",
              "          dataTable['output_type'] = 'display_data';\n",
              "          await google.colab.output.renderOutput(dataTable, element);\n",
              "          const docLink = document.createElement('div');\n",
              "          docLink.innerHTML = docLinkHtml;\n",
              "          element.appendChild(docLink);\n",
              "        }\n",
              "      </script>\n",
              "    </div>\n",
              "  </div>\n",
              "  "
            ],
            "text/plain": [
              "                 Model  Initial_accuracy\n",
              "7              XGBOOST         73.272124\n",
              "6                 LGBM         72.277480\n",
              "2        Random Forest         72.022443\n",
              "3        Decision Tree         71.002295\n",
              "4          Naive Bayes         68.069370\n",
              "1  Logistic Regression         66.360622\n",
              "5                  SVM         66.360622\n",
              "0                  KNN         62.560571"
            ]
          },
          "execution_count": 253,
          "metadata": {},
          "output_type": "execute_result"
        }
      ],
      "source": [
        "models6 = pd.DataFrame({\n",
        "        'Model': ['KNN','Logistic Regression', 'Random Forest', 'Decision Tree', 'Naive Bayes', 'SVM', 'LGBM', 'XGBOOST'],\n",
        "        'Initial_accuracy':[KNN_Accuracy1*100,Log_Accuracy*100,RF_Accuracy2*100,Decision_Accuracy*100,NAV_Accuracy*100,SVM_Accuracy*100,LGBM_Accuracy*100,XGB_Accuracy*100]})\n",
        "df1=models6.sort_values(by='Initial_accuracy', ascending=False)\n",
        "df1\n",
        "\n"
      ]
    },
    {
      "cell_type": "markdown",
      "source": [
        "After performing the hyperparameter tuning on each algorithm, we found that the accuracy of data trained with LGBM and knn are decreased."
      ],
      "metadata": {
        "id": "WFxEfbFDISTe"
      }
    },
    {
      "cell_type": "markdown",
      "metadata": {
        "id": "ag30QgcW6h0Q"
      },
      "source": []
    },
    {
      "cell_type": "code",
      "execution_count": null,
      "metadata": {
        "id": "-zNIUlWZ3RH0"
      },
      "outputs": [],
      "source": []
    },
    {
      "cell_type": "code",
      "execution_count": null,
      "metadata": {
        "id": "2gHh0RhaJ7S2"
      },
      "outputs": [],
      "source": []
    },
    {
      "cell_type": "markdown",
      "metadata": {
        "id": "jovWWxGC6mA3"
      },
      "source": [
        "## Dimensionality Reduction"
      ]
    },
    {
      "cell_type": "markdown",
      "metadata": {
        "id": "1Ittw7dyBPOs"
      },
      "source": [
        "# LGBM boosting"
      ]
    },
    {
      "cell_type": "code",
      "execution_count": null,
      "metadata": {
        "colab": {
          "base_uri": "https://localhost:8080/"
        },
        "id": "IiZhtUdY0whQ",
        "outputId": "476c3eda-5a4d-431e-d1f8-a7e271fa2c77"
      },
      "outputs": [
        {
          "name": "stdout",
          "output_type": "stream",
          "text": [
            "n_components = 8=> Accuracy : 68.12037745473094\n",
            "n_components = 10=> Accuracy : 67.63580719204285\n",
            "n_components = 12=> Accuracy : 68.50293292527417\n",
            "n_components = 14=> Accuracy : 69.65059933690385\n",
            "n_components = 16=> Accuracy : 74.80234634021933\n",
            "n_components = 18=> Accuracy : 75.05738332058148\n"
          ]
        }
      ],
      "source": [
        "from sklearn.decomposition import PCA\n",
        "from lightgbm import *\n",
        "n_components = [8, 10, 12, 14, 16, 18]\n",
        "lgbm = []\n",
        "for n in n_components:\n",
        "\n",
        "  pca = PCA(n_components=n) # Vary 10 to 8/12..\n",
        "\n",
        "  X_dimred_train = pca.fit_transform(X_train)\n",
        "  X_dimred_test = pca.transform(X_test)\n",
        "  \n",
        "\n",
        "  LGBM_model = LGBMClassifier()\n",
        "  LGBM_model.fit(X_dimred_train, Y_train)\n",
        "  LGBM_y_preds = LGBM_model.predict(X_dimred_test)\n",
        "  LGBM_y_accuracy = accuracy_score(LGBM_y_preds,Y_test)\n",
        "  lgbm.append(LGBM_y_accuracy)\n",
        "  print(f\"n_components = {n}=> Accuracy : {LGBM_y_accuracy*100}\");\n",
        "lgmmax=max(lgbm)"
      ]
    },
    {
      "cell_type": "markdown",
      "metadata": {
        "id": "VPzgSnToBSKC"
      },
      "source": [
        "# XG boosting"
      ]
    },
    {
      "cell_type": "code",
      "execution_count": null,
      "metadata": {
        "colab": {
          "base_uri": "https://localhost:8080/"
        },
        "id": "wqZkwCKp0wxQ",
        "outputId": "841322ef-dfc3-4a1c-958c-ec46f640e809"
      },
      "outputs": [
        {
          "name": "stdout",
          "output_type": "stream",
          "text": [
            "n_components = 8 => Accuracy : 66.97271104310126\n",
            "n_components = 10 => Accuracy : 67.02371843917369\n",
            "n_components = 12 => Accuracy : 67.30425911757206\n",
            "n_components = 14 => Accuracy : 67.66131089007906\n",
            "n_components = 16 => Accuracy : 72.0734506503443\n",
            "n_components = 18 => Accuracy : 72.4049987248151\n"
          ]
        }
      ],
      "source": [
        "n_components = [8, 10, 12, 14, 16, 18]\n",
        "xgboo =[]\n",
        "import xgboost as xgb\n",
        "\n",
        "\n",
        "for n in n_components:\n",
        "\n",
        "  pca = PCA(n_components=n) # Vary 10 to 8/12..\n",
        "\n",
        "  X_dimred_train = pca.fit_transform(X_train)\n",
        "  X_dimred_test = pca.transform(X_test)\n",
        "\n",
        "  XGB_model = xgb.XGBClassifier()\n",
        "  XGB_model.fit(X_dimred_train, Y_train)\n",
        "  XGB_y_preds =XGB_model.predict(X_dimred_test)\n",
        "  XGB_accuracy = accuracy_score(XGB_y_preds,Y_test)\n",
        "  xgboo.append(XGB_accuracy)\n",
        "  print(f\"n_components = {n} => Accuracy : {XGB_accuracy*100}\");\n",
        "  xgbmax=max(xgboo)"
      ]
    },
    {
      "cell_type": "markdown",
      "metadata": {
        "id": "h2buAwalFN_X"
      },
      "source": [
        "# SVM"
      ]
    },
    {
      "cell_type": "code",
      "execution_count": null,
      "metadata": {
        "colab": {
          "base_uri": "https://localhost:8080/"
        },
        "id": "VcDSDr-Yv2jm",
        "outputId": "d47d86af-2929-4192-d871-e300696267a5"
      },
      "outputs": [
        {
          "name": "stdout",
          "output_type": "stream",
          "text": [
            "n_components = 8=> Accuracy : 66.41162968630452\n",
            "n_components = 10=> Accuracy : 66.41162968630452\n",
            "n_components = 12=> Accuracy : 66.41162968630452\n",
            "n_components = 14=> Accuracy : 66.41162968630452\n",
            "n_components = 16=> Accuracy : 66.41162968630452\n",
            "n_components = 18=> Accuracy : 66.41162968630452\n"
          ]
        }
      ],
      "source": [
        "from sklearn.decomposition import PCA\n",
        "from lightgbm import *\n",
        "n_components = [8, 10, 12, 14, 16, 18]\n",
        "svmacc=[]\n",
        "for n in n_components:\n",
        "\n",
        "  pca = PCA(n_components=n) # Vary 10 to 8/12..\n",
        "\n",
        "  X_dimred_train = pca.fit_transform(X_train)\n",
        "  X_dimred_test = pca.transform(X_test)\n",
        "\n",
        "\n",
        "  SVM_model = svm.SVC()\n",
        "  SVM_model.fit(X_dimred_train, Y_train)\n",
        "  SVM_y_preds = SVM_model.predict(X_dimred_test)\n",
        "  SVM_y_accuracy = accuracy_score(SVM_y_preds,Y_test)\n",
        "  svmacc.append(SVM_y_accuracy)\n",
        "  print(f\"n_components = {n}=> Accuracy : {SVM_y_accuracy*100}\");\n",
        "svm_accmax=max(svmacc)"
      ]
    },
    {
      "cell_type": "markdown",
      "metadata": {
        "id": "Q-N2mHY-FSVo"
      },
      "source": [
        "# Random_Forest"
      ]
    },
    {
      "cell_type": "code",
      "execution_count": null,
      "metadata": {
        "colab": {
          "base_uri": "https://localhost:8080/"
        },
        "id": "YImPgJ2p_KC_",
        "outputId": "d4901a66-f121-4fe2-c388-059ccbf04821"
      },
      "outputs": [
        {
          "name": "stdout",
          "output_type": "stream",
          "text": [
            "n_components = 8=> Accuracy : 67.58479979597041\n",
            "n_components = 10=> Accuracy : 67.15123692935475\n",
            "n_components = 12=> Accuracy : 69.08951798010712\n",
            "n_components = 14=> Accuracy : 70.03315480744709\n",
            "n_components = 16=> Accuracy : 75.92450905381281\n",
            "n_components = 18=> Accuracy : 76.51109410864575\n"
          ]
        }
      ],
      "source": [
        "from sklearn.decomposition import PCA\n",
        "from lightgbm import *\n",
        "n_components = [8, 10, 12, 14, 16, 18]\n",
        "rfacc=[]\n",
        "for n in n_components:\n",
        "\n",
        "  pca = PCA(n_components=n) # Vary 10 to 8/12..\n",
        "\n",
        "  X_dimred_train = pca.fit_transform(X_train)\n",
        "  X_dimred_test = pca.transform(X_test)\n",
        "\n",
        "  rand_forest_model= RandomForestClassifier()\n",
        "  rand_forest_model.fit(X_dimred_train, Y_train)\n",
        "  rand_forest_pred = rand_forest_model.predict(X_dimred_test)\n",
        "  rand_accuracy = accuracy_score(rand_forest_pred,Y_test)\n",
        "  rfacc.append(rand_accuracy)\n",
        "  print(f\"n_components = {n}=> Accuracy : {rand_accuracy*100}\");\n",
        "rffaccmax=max(rfacc)"
      ]
    },
    {
      "cell_type": "markdown",
      "metadata": {
        "id": "V3iG-kcKFZ9c"
      },
      "source": [
        "# Decision trees"
      ]
    },
    {
      "cell_type": "code",
      "execution_count": null,
      "metadata": {
        "colab": {
          "base_uri": "https://localhost:8080/"
        },
        "id": "7gWwVUTUE0di",
        "outputId": "f6b911a5-86ae-48d3-cb25-a5dd64e3845d"
      },
      "outputs": [
        {
          "name": "stdout",
          "output_type": "stream",
          "text": [
            "n_components = 8=> Accuracy : 58.91354246365723\n",
            "n_components = 10=> Accuracy : 59.24509053812803\n",
            "n_components = 12=> Accuracy : 62.7135934710533\n",
            "n_components = 14=> Accuracy : 60.80081611833717\n",
            "n_components = 16=> Accuracy : 67.32976281560826\n",
            "n_components = 18=> Accuracy : 69.16602907421576\n"
          ]
        }
      ],
      "source": [
        "from sklearn.decomposition import PCA\n",
        "from lightgbm import *\n",
        "n_components = [8, 10, 12, 14, 16, 18]\n",
        "dtr=[]\n",
        "for n in n_components:\n",
        "\n",
        "  pca = PCA(n_components=n) # Vary 10 to 8/12..\n",
        "\n",
        "  X_dimred_train = pca.fit_transform(X_train)\n",
        "  X_dimred_test = pca.transform(X_test)\n",
        "\n",
        "  dec_tree_model = DecisionTreeClassifier()\n",
        "\n",
        "  dec_tree_model.fit(X_dimred_train, Y_train)\n",
        "\n",
        "  dec_tree_pred = dec_tree_model.predict(X_dimred_test)\n",
        "  dec_accuracy = accuracy_score(dec_tree_pred,Y_test)\n",
        "  dtr.append(dec_accuracy)\n",
        "  print(f\"n_components = {n}=> Accuracy : {dec_accuracy*100}\");\n",
        "dtrmax=max(dtr)"
      ]
    },
    {
      "cell_type": "markdown",
      "metadata": {
        "id": "2pHTaX1AFdUW"
      },
      "source": [
        "# KNN"
      ]
    },
    {
      "cell_type": "code",
      "execution_count": null,
      "metadata": {
        "colab": {
          "base_uri": "https://localhost:8080/"
        },
        "id": "Z1gu6CWcFfYt",
        "outputId": "f3dea969-f4bc-4462-8e8d-1ac2356378d2"
      },
      "outputs": [
        {
          "name": "stdout",
          "output_type": "stream",
          "text": [
            "n_components = 8=> Accuracy : 60.23973476154042\n",
            "n_components = 10=> Accuracy : 59.93369038510584\n",
            "n_components = 12=> Accuracy : 59.93369038510584\n",
            "n_components = 14=> Accuracy : 59.93369038510584\n",
            "n_components = 16=> Accuracy : 59.93369038510584\n",
            "n_components = 18=> Accuracy : 59.93369038510584\n"
          ]
        }
      ],
      "source": [
        "from sklearn.decomposition import PCA\n",
        "from lightgbm import *\n",
        "n_components = [8, 10, 12, 14, 16, 18]\n",
        "knnac=[]\n",
        "for n in n_components:\n",
        "\n",
        "  pca = PCA(n_components=n) # Vary 10 to 8/12..\n",
        "\n",
        "  X_dimred_train = pca.fit_transform(X_train)\n",
        "  X_dimred_test = pca.transform(X_test)\n",
        "\n",
        "  knn_model=KNeighborsClassifier(n_neighbors=3)\n",
        "  knn_model.fit(X_dimred_train,Y_train)\n",
        "  knn_pred = knn_model.predict(X_dimred_test)\n",
        "  knn_accuracy = accuracy_score(knn_pred,Y_test)\n",
        "  knnac.append(knn_accuracy)\n",
        "  print(f\"n_components = {n}=> Accuracy : {knn_accuracy*100}\");\n",
        "knnmax=max(knnac)"
      ]
    },
    {
      "cell_type": "markdown",
      "metadata": {
        "id": "HsUH0D8NFn00"
      },
      "source": [
        "# Navie Bayes"
      ]
    },
    {
      "cell_type": "code",
      "execution_count": null,
      "metadata": {
        "colab": {
          "base_uri": "https://localhost:8080/"
        },
        "id": "-QEXfOhFFmur",
        "outputId": "bdfeed97-5ed7-4396-8e5b-79899f325d29"
      },
      "outputs": [
        {
          "name": "stdout",
          "output_type": "stream",
          "text": [
            "n_components = 8=> Accuracy : 66.97271104310126\n",
            "n_components = 10=> Accuracy : 66.97271104310126\n",
            "n_components = 12=> Accuracy : 67.2277480234634\n",
            "n_components = 14=> Accuracy : 67.27875541953583\n",
            "n_components = 16=> Accuracy : 68.2223922468758\n",
            "n_components = 18=> Accuracy : 68.34991073705687\n"
          ]
        }
      ],
      "source": [
        "from sklearn.decomposition import PCA\n",
        "from lightgbm import *\n",
        "n_components = [8, 10, 12, 14, 16, 18]\n",
        "navacc=[]\n",
        "for n in n_components:\n",
        "\n",
        "  pca = PCA(n_components=n) # Vary 10 to 8/12..\n",
        "  X_dimred_train = pca.fit_transform(X_train)\n",
        "  X_dimred_test = pca.transform(X_test)\n",
        "  nav_bayes_model = GaussianNB()\n",
        "  nav_bayes_model.fit(X_dimred_train, Y_train)\n",
        "  nav_bayes_pred = nav_bayes_model.predict(X_dimred_test)\n",
        "  nav_accuracy = accuracy_score(nav_bayes_pred,Y_test)\n",
        "  navacc.append(nav_accuracy)\n",
        "  print(f\"n_components = {n}=> Accuracy : {nav_accuracy*100}\");\n",
        "  navmax=max(navacc)"
      ]
    },
    {
      "cell_type": "markdown",
      "source": [
        "# Logistic Regression"
      ],
      "metadata": {
        "id": "Jv7_bTVtO5wy"
      }
    },
    {
      "cell_type": "code",
      "execution_count": null,
      "metadata": {
        "colab": {
          "base_uri": "https://localhost:8080/"
        },
        "id": "kN_vT8Y-VbHu",
        "outputId": "7e62af7e-f71e-43ee-bbd6-f04f6f71fa05"
      },
      "outputs": [
        {
          "name": "stdout",
          "output_type": "stream",
          "text": [
            "n_components = 8=> Accuracy : 51.95103289977047\n",
            "n_components = 10=> Accuracy : 51.03289977046672\n",
            "n_components = 12=> Accuracy : 51.31344044886509\n",
            "n_components = 14=> Accuracy : 51.23692935475644\n",
            "n_components = 16=> Accuracy : 51.44095893904617\n",
            "n_components = 18=> Accuracy : 51.31344044886509\n"
          ]
        }
      ],
      "source": [
        "from sklearn.decomposition import PCA\n",
        "from lightgbm import *\n",
        "n_components = [8, 10, 12, 14, 16, 18]\n",
        "logacc=[]\n",
        "for n in n_components:\n",
        "  pca = PCA(n_components=n) # Vary 10 to 8/12..\n",
        "  X_dimred_train = pca.fit_transform(X_train)\n",
        "  X_dimred_test = pca.transform(X_test)\n",
        "  log_reg_model = LogisticRegression()\n",
        "  log_reg_model.fit(X_dimred_train, Y_train)\n",
        "  log_reg_pred = log_reg_model.predict(X_dimred_test)\n",
        "  log_accuracy = accuracy_score(log_reg_pred,Y_test)\n",
        "  logacc.append(log_accuracy)\n",
        "  print(f\"n_components = {n}=> Accuracy : {log_accuracy*100}\");\n",
        "logmax=max(logacc)"
      ]
    },
    {
      "cell_type": "markdown",
      "source": [
        "# Tabulating the values of maximum accuracies after performing dimensionality reducton on each algorithm"
      ],
      "metadata": {
        "id": "9F1nU46nPBN3"
      }
    },
    {
      "cell_type": "code",
      "execution_count": null,
      "metadata": {
        "colab": {
          "base_uri": "https://localhost:8080/",
          "height": 300
        },
        "id": "lxasxckWUsDP",
        "outputId": "c9e9de6e-ebc9-4dcb-c1b1-0309159656b0"
      },
      "outputs": [
        {
          "data": {
            "text/html": [
              "\n",
              "  <div id=\"df-19d56c8f-dda7-475a-a2ea-0846e4d8cd69\">\n",
              "    <div class=\"colab-df-container\">\n",
              "      <div>\n",
              "<style scoped>\n",
              "    .dataframe tbody tr th:only-of-type {\n",
              "        vertical-align: middle;\n",
              "    }\n",
              "\n",
              "    .dataframe tbody tr th {\n",
              "        vertical-align: top;\n",
              "    }\n",
              "\n",
              "    .dataframe thead th {\n",
              "        text-align: right;\n",
              "    }\n",
              "</style>\n",
              "<table border=\"1\" class=\"dataframe\">\n",
              "  <thead>\n",
              "    <tr style=\"text-align: right;\">\n",
              "      <th></th>\n",
              "      <th>Model</th>\n",
              "      <th>Dimensionality_reduction</th>\n",
              "    </tr>\n",
              "  </thead>\n",
              "  <tbody>\n",
              "    <tr>\n",
              "      <th>2</th>\n",
              "      <td>Random Forest</td>\n",
              "      <td>76.511094</td>\n",
              "    </tr>\n",
              "    <tr>\n",
              "      <th>6</th>\n",
              "      <td>LGBM</td>\n",
              "      <td>75.057383</td>\n",
              "    </tr>\n",
              "    <tr>\n",
              "      <th>7</th>\n",
              "      <td>XGBOOST</td>\n",
              "      <td>72.404999</td>\n",
              "    </tr>\n",
              "    <tr>\n",
              "      <th>3</th>\n",
              "      <td>Decision Tree</td>\n",
              "      <td>69.166029</td>\n",
              "    </tr>\n",
              "    <tr>\n",
              "      <th>4</th>\n",
              "      <td>Naive Bayes</td>\n",
              "      <td>68.349911</td>\n",
              "    </tr>\n",
              "    <tr>\n",
              "      <th>5</th>\n",
              "      <td>SVM</td>\n",
              "      <td>66.411630</td>\n",
              "    </tr>\n",
              "    <tr>\n",
              "      <th>0</th>\n",
              "      <td>KNN</td>\n",
              "      <td>60.239735</td>\n",
              "    </tr>\n",
              "    <tr>\n",
              "      <th>1</th>\n",
              "      <td>Logistic Regression</td>\n",
              "      <td>51.951033</td>\n",
              "    </tr>\n",
              "  </tbody>\n",
              "</table>\n",
              "</div>\n",
              "      <button class=\"colab-df-convert\" onclick=\"convertToInteractive('df-19d56c8f-dda7-475a-a2ea-0846e4d8cd69')\"\n",
              "              title=\"Convert this dataframe to an interactive table.\"\n",
              "              style=\"display:none;\">\n",
              "        \n",
              "  <svg xmlns=\"http://www.w3.org/2000/svg\" height=\"24px\"viewBox=\"0 0 24 24\"\n",
              "       width=\"24px\">\n",
              "    <path d=\"M0 0h24v24H0V0z\" fill=\"none\"/>\n",
              "    <path d=\"M18.56 5.44l.94 2.06.94-2.06 2.06-.94-2.06-.94-.94-2.06-.94 2.06-2.06.94zm-11 1L8.5 8.5l.94-2.06 2.06-.94-2.06-.94L8.5 2.5l-.94 2.06-2.06.94zm10 10l.94 2.06.94-2.06 2.06-.94-2.06-.94-.94-2.06-.94 2.06-2.06.94z\"/><path d=\"M17.41 7.96l-1.37-1.37c-.4-.4-.92-.59-1.43-.59-.52 0-1.04.2-1.43.59L10.3 9.45l-7.72 7.72c-.78.78-.78 2.05 0 2.83L4 21.41c.39.39.9.59 1.41.59.51 0 1.02-.2 1.41-.59l7.78-7.78 2.81-2.81c.8-.78.8-2.07 0-2.86zM5.41 20L4 18.59l7.72-7.72 1.47 1.35L5.41 20z\"/>\n",
              "  </svg>\n",
              "      </button>\n",
              "      \n",
              "  <style>\n",
              "    .colab-df-container {\n",
              "      display:flex;\n",
              "      flex-wrap:wrap;\n",
              "      gap: 12px;\n",
              "    }\n",
              "\n",
              "    .colab-df-convert {\n",
              "      background-color: #E8F0FE;\n",
              "      border: none;\n",
              "      border-radius: 50%;\n",
              "      cursor: pointer;\n",
              "      display: none;\n",
              "      fill: #1967D2;\n",
              "      height: 32px;\n",
              "      padding: 0 0 0 0;\n",
              "      width: 32px;\n",
              "    }\n",
              "\n",
              "    .colab-df-convert:hover {\n",
              "      background-color: #E2EBFA;\n",
              "      box-shadow: 0px 1px 2px rgba(60, 64, 67, 0.3), 0px 1px 3px 1px rgba(60, 64, 67, 0.15);\n",
              "      fill: #174EA6;\n",
              "    }\n",
              "\n",
              "    [theme=dark] .colab-df-convert {\n",
              "      background-color: #3B4455;\n",
              "      fill: #D2E3FC;\n",
              "    }\n",
              "\n",
              "    [theme=dark] .colab-df-convert:hover {\n",
              "      background-color: #434B5C;\n",
              "      box-shadow: 0px 1px 3px 1px rgba(0, 0, 0, 0.15);\n",
              "      filter: drop-shadow(0px 1px 2px rgba(0, 0, 0, 0.3));\n",
              "      fill: #FFFFFF;\n",
              "    }\n",
              "  </style>\n",
              "\n",
              "      <script>\n",
              "        const buttonEl =\n",
              "          document.querySelector('#df-19d56c8f-dda7-475a-a2ea-0846e4d8cd69 button.colab-df-convert');\n",
              "        buttonEl.style.display =\n",
              "          google.colab.kernel.accessAllowed ? 'block' : 'none';\n",
              "\n",
              "        async function convertToInteractive(key) {\n",
              "          const element = document.querySelector('#df-19d56c8f-dda7-475a-a2ea-0846e4d8cd69');\n",
              "          const dataTable =\n",
              "            await google.colab.kernel.invokeFunction('convertToInteractive',\n",
              "                                                     [key], {});\n",
              "          if (!dataTable) return;\n",
              "\n",
              "          const docLinkHtml = 'Like what you see? Visit the ' +\n",
              "            '<a target=\"_blank\" href=https://colab.research.google.com/notebooks/data_table.ipynb>data table notebook</a>'\n",
              "            + ' to learn more about interactive tables.';\n",
              "          element.innerHTML = '';\n",
              "          dataTable['output_type'] = 'display_data';\n",
              "          await google.colab.output.renderOutput(dataTable, element);\n",
              "          const docLink = document.createElement('div');\n",
              "          docLink.innerHTML = docLinkHtml;\n",
              "          element.appendChild(docLink);\n",
              "        }\n",
              "      </script>\n",
              "    </div>\n",
              "  </div>\n",
              "  "
            ],
            "text/plain": [
              "                 Model  Dimensionality_reduction\n",
              "2        Random Forest                 76.511094\n",
              "6                 LGBM                 75.057383\n",
              "7              XGBOOST                 72.404999\n",
              "3        Decision Tree                 69.166029\n",
              "4          Naive Bayes                 68.349911\n",
              "5                  SVM                 66.411630\n",
              "0                  KNN                 60.239735\n",
              "1  Logistic Regression                 51.951033"
            ]
          },
          "execution_count": 255,
          "metadata": {},
          "output_type": "execute_result"
        }
      ],
      "source": [
        "models7 = pd.DataFrame({\n",
        "        'Model': ['KNN','Logistic Regression', 'Random Forest', 'Decision Tree', 'Naive Bayes', 'SVM', 'LGBM', 'XGBOOST'],\n",
        "        'Dimensionality_reduction':[knnmax*100,logmax*100,rffaccmax*100,dtrmax*100,navmax*100,svm_accmax*100,lgmmax*100,xgbmax*100]})\n",
        "df3=models7.sort_values(by='Dimensionality_reduction', ascending=False)\n",
        "df3"
      ]
    },
    {
      "cell_type": "markdown",
      "source": [
        "# Tabulating values of Initial_accuracies of each algorithm"
      ],
      "metadata": {
        "id": "Pcx4CyREPQDS"
      }
    },
    {
      "cell_type": "code",
      "execution_count": null,
      "metadata": {
        "colab": {
          "base_uri": "https://localhost:8080/",
          "height": 300
        },
        "id": "yoL7LDQTXW66",
        "outputId": "434334f4-99ff-4fe4-846b-ba115a97b209"
      },
      "outputs": [
        {
          "data": {
            "text/html": [
              "\n",
              "  <div id=\"df-75eaaa6b-8e55-4d7b-969d-4c86cd95fd3e\">\n",
              "    <div class=\"colab-df-container\">\n",
              "      <div>\n",
              "<style scoped>\n",
              "    .dataframe tbody tr th:only-of-type {\n",
              "        vertical-align: middle;\n",
              "    }\n",
              "\n",
              "    .dataframe tbody tr th {\n",
              "        vertical-align: top;\n",
              "    }\n",
              "\n",
              "    .dataframe thead th {\n",
              "        text-align: right;\n",
              "    }\n",
              "</style>\n",
              "<table border=\"1\" class=\"dataframe\">\n",
              "  <thead>\n",
              "    <tr style=\"text-align: right;\">\n",
              "      <th></th>\n",
              "      <th>Model</th>\n",
              "      <th>Initial_accuracy</th>\n",
              "      <th>Model</th>\n",
              "      <th>Hyper_Tuning</th>\n",
              "      <th>Model</th>\n",
              "      <th>Dimensionality_reduction</th>\n",
              "    </tr>\n",
              "  </thead>\n",
              "  <tbody>\n",
              "    <tr>\n",
              "      <th>0</th>\n",
              "      <td>KNN</td>\n",
              "      <td>62.560571</td>\n",
              "      <td>KNN</td>\n",
              "      <td>66.156593</td>\n",
              "      <td>KNN</td>\n",
              "      <td>60.239735</td>\n",
              "    </tr>\n",
              "    <tr>\n",
              "      <th>1</th>\n",
              "      <td>Logistic Regression</td>\n",
              "      <td>66.360622</td>\n",
              "      <td>Logistic Regression</td>\n",
              "      <td>66.870696</td>\n",
              "      <td>Logistic Regression</td>\n",
              "      <td>51.951033</td>\n",
              "    </tr>\n",
              "    <tr>\n",
              "      <th>2</th>\n",
              "      <td>Random Forest</td>\n",
              "      <td>72.022443</td>\n",
              "      <td>Random Forest</td>\n",
              "      <td>71.741903</td>\n",
              "      <td>Random Forest</td>\n",
              "      <td>76.511094</td>\n",
              "    </tr>\n",
              "    <tr>\n",
              "      <th>3</th>\n",
              "      <td>Decision Tree</td>\n",
              "      <td>71.002295</td>\n",
              "      <td>Decision Tree</td>\n",
              "      <td>71.767406</td>\n",
              "      <td>Decision Tree</td>\n",
              "      <td>69.166029</td>\n",
              "    </tr>\n",
              "    <tr>\n",
              "      <th>4</th>\n",
              "      <td>Naive Bayes</td>\n",
              "      <td>68.069370</td>\n",
              "      <td>Naive Bayes</td>\n",
              "      <td>67.865340</td>\n",
              "      <td>Naive Bayes</td>\n",
              "      <td>68.349911</td>\n",
              "    </tr>\n",
              "    <tr>\n",
              "      <th>5</th>\n",
              "      <td>SVM</td>\n",
              "      <td>66.360622</td>\n",
              "      <td>SVM</td>\n",
              "      <td>66.411630</td>\n",
              "      <td>SVM</td>\n",
              "      <td>66.411630</td>\n",
              "    </tr>\n",
              "    <tr>\n",
              "      <th>6</th>\n",
              "      <td>LGBM</td>\n",
              "      <td>72.277480</td>\n",
              "      <td>LGBM</td>\n",
              "      <td>77.480235</td>\n",
              "      <td>LGBM</td>\n",
              "      <td>75.057383</td>\n",
              "    </tr>\n",
              "    <tr>\n",
              "      <th>7</th>\n",
              "      <td>XGBOOST</td>\n",
              "      <td>73.272124</td>\n",
              "      <td>XGBOOST</td>\n",
              "      <td>73.272124</td>\n",
              "      <td>XGBOOST</td>\n",
              "      <td>72.404999</td>\n",
              "    </tr>\n",
              "  </tbody>\n",
              "</table>\n",
              "</div>\n",
              "      <button class=\"colab-df-convert\" onclick=\"convertToInteractive('df-75eaaa6b-8e55-4d7b-969d-4c86cd95fd3e')\"\n",
              "              title=\"Convert this dataframe to an interactive table.\"\n",
              "              style=\"display:none;\">\n",
              "        \n",
              "  <svg xmlns=\"http://www.w3.org/2000/svg\" height=\"24px\"viewBox=\"0 0 24 24\"\n",
              "       width=\"24px\">\n",
              "    <path d=\"M0 0h24v24H0V0z\" fill=\"none\"/>\n",
              "    <path d=\"M18.56 5.44l.94 2.06.94-2.06 2.06-.94-2.06-.94-.94-2.06-.94 2.06-2.06.94zm-11 1L8.5 8.5l.94-2.06 2.06-.94-2.06-.94L8.5 2.5l-.94 2.06-2.06.94zm10 10l.94 2.06.94-2.06 2.06-.94-2.06-.94-.94-2.06-.94 2.06-2.06.94z\"/><path d=\"M17.41 7.96l-1.37-1.37c-.4-.4-.92-.59-1.43-.59-.52 0-1.04.2-1.43.59L10.3 9.45l-7.72 7.72c-.78.78-.78 2.05 0 2.83L4 21.41c.39.39.9.59 1.41.59.51 0 1.02-.2 1.41-.59l7.78-7.78 2.81-2.81c.8-.78.8-2.07 0-2.86zM5.41 20L4 18.59l7.72-7.72 1.47 1.35L5.41 20z\"/>\n",
              "  </svg>\n",
              "      </button>\n",
              "      \n",
              "  <style>\n",
              "    .colab-df-container {\n",
              "      display:flex;\n",
              "      flex-wrap:wrap;\n",
              "      gap: 12px;\n",
              "    }\n",
              "\n",
              "    .colab-df-convert {\n",
              "      background-color: #E8F0FE;\n",
              "      border: none;\n",
              "      border-radius: 50%;\n",
              "      cursor: pointer;\n",
              "      display: none;\n",
              "      fill: #1967D2;\n",
              "      height: 32px;\n",
              "      padding: 0 0 0 0;\n",
              "      width: 32px;\n",
              "    }\n",
              "\n",
              "    .colab-df-convert:hover {\n",
              "      background-color: #E2EBFA;\n",
              "      box-shadow: 0px 1px 2px rgba(60, 64, 67, 0.3), 0px 1px 3px 1px rgba(60, 64, 67, 0.15);\n",
              "      fill: #174EA6;\n",
              "    }\n",
              "\n",
              "    [theme=dark] .colab-df-convert {\n",
              "      background-color: #3B4455;\n",
              "      fill: #D2E3FC;\n",
              "    }\n",
              "\n",
              "    [theme=dark] .colab-df-convert:hover {\n",
              "      background-color: #434B5C;\n",
              "      box-shadow: 0px 1px 3px 1px rgba(0, 0, 0, 0.15);\n",
              "      filter: drop-shadow(0px 1px 2px rgba(0, 0, 0, 0.3));\n",
              "      fill: #FFFFFF;\n",
              "    }\n",
              "  </style>\n",
              "\n",
              "      <script>\n",
              "        const buttonEl =\n",
              "          document.querySelector('#df-75eaaa6b-8e55-4d7b-969d-4c86cd95fd3e button.colab-df-convert');\n",
              "        buttonEl.style.display =\n",
              "          google.colab.kernel.accessAllowed ? 'block' : 'none';\n",
              "\n",
              "        async function convertToInteractive(key) {\n",
              "          const element = document.querySelector('#df-75eaaa6b-8e55-4d7b-969d-4c86cd95fd3e');\n",
              "          const dataTable =\n",
              "            await google.colab.kernel.invokeFunction('convertToInteractive',\n",
              "                                                     [key], {});\n",
              "          if (!dataTable) return;\n",
              "\n",
              "          const docLinkHtml = 'Like what you see? Visit the ' +\n",
              "            '<a target=\"_blank\" href=https://colab.research.google.com/notebooks/data_table.ipynb>data table notebook</a>'\n",
              "            + ' to learn more about interactive tables.';\n",
              "          element.innerHTML = '';\n",
              "          dataTable['output_type'] = 'display_data';\n",
              "          await google.colab.output.renderOutput(dataTable, element);\n",
              "          const docLink = document.createElement('div');\n",
              "          docLink.innerHTML = docLinkHtml;\n",
              "          element.appendChild(docLink);\n",
              "        }\n",
              "      </script>\n",
              "    </div>\n",
              "  </div>\n",
              "  "
            ],
            "text/plain": [
              "                 Model  Initial_accuracy                Model  Hyper_Tuning  \\\n",
              "0                  KNN         62.560571                  KNN     66.156593   \n",
              "1  Logistic Regression         66.360622  Logistic Regression     66.870696   \n",
              "2        Random Forest         72.022443        Random Forest     71.741903   \n",
              "3        Decision Tree         71.002295        Decision Tree     71.767406   \n",
              "4          Naive Bayes         68.069370          Naive Bayes     67.865340   \n",
              "5                  SVM         66.360622                  SVM     66.411630   \n",
              "6                 LGBM         72.277480                 LGBM     77.480235   \n",
              "7              XGBOOST         73.272124              XGBOOST     73.272124   \n",
              "\n",
              "                 Model  Dimensionality_reduction  \n",
              "0                  KNN                 60.239735  \n",
              "1  Logistic Regression                 51.951033  \n",
              "2        Random Forest                 76.511094  \n",
              "3        Decision Tree                 69.166029  \n",
              "4          Naive Bayes                 68.349911  \n",
              "5                  SVM                 66.411630  \n",
              "6                 LGBM                 75.057383  \n",
              "7              XGBOOST                 72.404999  "
            ]
          },
          "execution_count": 257,
          "metadata": {},
          "output_type": "execute_result"
        }
      ],
      "source": [
        "modelscom=pd.concat([df1.sort_values(by='Initial_accuracy', ascending=False)\n",
        ",df2.sort_values(by='Hyper_Tuning', ascending=False),df3.sort_values(by='Dimensionality_reduction', ascending=False)],axis=1)\n",
        "modelscom"
      ]
    },
    {
      "cell_type": "code",
      "execution_count": null,
      "metadata": {
        "colab": {
          "base_uri": "https://localhost:8080/",
          "height": 300
        },
        "id": "SsoqiCtYZG38",
        "outputId": "e654f1f6-5790-48c4-9228-d95b63cb2cc9"
      },
      "outputs": [
        {
          "data": {
            "text/html": [
              "\n",
              "  <div id=\"df-8c8ebaad-3678-453c-8ac5-93a3e638f400\">\n",
              "    <div class=\"colab-df-container\">\n",
              "      <div>\n",
              "<style scoped>\n",
              "    .dataframe tbody tr th:only-of-type {\n",
              "        vertical-align: middle;\n",
              "    }\n",
              "\n",
              "    .dataframe tbody tr th {\n",
              "        vertical-align: top;\n",
              "    }\n",
              "\n",
              "    .dataframe thead th {\n",
              "        text-align: right;\n",
              "    }\n",
              "</style>\n",
              "<table border=\"1\" class=\"dataframe\">\n",
              "  <thead>\n",
              "    <tr style=\"text-align: right;\">\n",
              "      <th></th>\n",
              "      <th>Model</th>\n",
              "      <th>Initial_accuracy</th>\n",
              "    </tr>\n",
              "  </thead>\n",
              "  <tbody>\n",
              "    <tr>\n",
              "      <th>7</th>\n",
              "      <td>XGBOOST</td>\n",
              "      <td>73.272124</td>\n",
              "    </tr>\n",
              "    <tr>\n",
              "      <th>6</th>\n",
              "      <td>LGBM</td>\n",
              "      <td>72.277480</td>\n",
              "    </tr>\n",
              "    <tr>\n",
              "      <th>2</th>\n",
              "      <td>Random Forest</td>\n",
              "      <td>72.022443</td>\n",
              "    </tr>\n",
              "    <tr>\n",
              "      <th>3</th>\n",
              "      <td>Decision Tree</td>\n",
              "      <td>71.002295</td>\n",
              "    </tr>\n",
              "    <tr>\n",
              "      <th>4</th>\n",
              "      <td>Naive Bayes</td>\n",
              "      <td>68.069370</td>\n",
              "    </tr>\n",
              "    <tr>\n",
              "      <th>1</th>\n",
              "      <td>Logistic Regression</td>\n",
              "      <td>66.360622</td>\n",
              "    </tr>\n",
              "    <tr>\n",
              "      <th>5</th>\n",
              "      <td>SVM</td>\n",
              "      <td>66.360622</td>\n",
              "    </tr>\n",
              "    <tr>\n",
              "      <th>0</th>\n",
              "      <td>KNN</td>\n",
              "      <td>62.560571</td>\n",
              "    </tr>\n",
              "  </tbody>\n",
              "</table>\n",
              "</div>\n",
              "      <button class=\"colab-df-convert\" onclick=\"convertToInteractive('df-8c8ebaad-3678-453c-8ac5-93a3e638f400')\"\n",
              "              title=\"Convert this dataframe to an interactive table.\"\n",
              "              style=\"display:none;\">\n",
              "        \n",
              "  <svg xmlns=\"http://www.w3.org/2000/svg\" height=\"24px\"viewBox=\"0 0 24 24\"\n",
              "       width=\"24px\">\n",
              "    <path d=\"M0 0h24v24H0V0z\" fill=\"none\"/>\n",
              "    <path d=\"M18.56 5.44l.94 2.06.94-2.06 2.06-.94-2.06-.94-.94-2.06-.94 2.06-2.06.94zm-11 1L8.5 8.5l.94-2.06 2.06-.94-2.06-.94L8.5 2.5l-.94 2.06-2.06.94zm10 10l.94 2.06.94-2.06 2.06-.94-2.06-.94-.94-2.06-.94 2.06-2.06.94z\"/><path d=\"M17.41 7.96l-1.37-1.37c-.4-.4-.92-.59-1.43-.59-.52 0-1.04.2-1.43.59L10.3 9.45l-7.72 7.72c-.78.78-.78 2.05 0 2.83L4 21.41c.39.39.9.59 1.41.59.51 0 1.02-.2 1.41-.59l7.78-7.78 2.81-2.81c.8-.78.8-2.07 0-2.86zM5.41 20L4 18.59l7.72-7.72 1.47 1.35L5.41 20z\"/>\n",
              "  </svg>\n",
              "      </button>\n",
              "      \n",
              "  <style>\n",
              "    .colab-df-container {\n",
              "      display:flex;\n",
              "      flex-wrap:wrap;\n",
              "      gap: 12px;\n",
              "    }\n",
              "\n",
              "    .colab-df-convert {\n",
              "      background-color: #E8F0FE;\n",
              "      border: none;\n",
              "      border-radius: 50%;\n",
              "      cursor: pointer;\n",
              "      display: none;\n",
              "      fill: #1967D2;\n",
              "      height: 32px;\n",
              "      padding: 0 0 0 0;\n",
              "      width: 32px;\n",
              "    }\n",
              "\n",
              "    .colab-df-convert:hover {\n",
              "      background-color: #E2EBFA;\n",
              "      box-shadow: 0px 1px 2px rgba(60, 64, 67, 0.3), 0px 1px 3px 1px rgba(60, 64, 67, 0.15);\n",
              "      fill: #174EA6;\n",
              "    }\n",
              "\n",
              "    [theme=dark] .colab-df-convert {\n",
              "      background-color: #3B4455;\n",
              "      fill: #D2E3FC;\n",
              "    }\n",
              "\n",
              "    [theme=dark] .colab-df-convert:hover {\n",
              "      background-color: #434B5C;\n",
              "      box-shadow: 0px 1px 3px 1px rgba(0, 0, 0, 0.15);\n",
              "      filter: drop-shadow(0px 1px 2px rgba(0, 0, 0, 0.3));\n",
              "      fill: #FFFFFF;\n",
              "    }\n",
              "  </style>\n",
              "\n",
              "      <script>\n",
              "        const buttonEl =\n",
              "          document.querySelector('#df-8c8ebaad-3678-453c-8ac5-93a3e638f400 button.colab-df-convert');\n",
              "        buttonEl.style.display =\n",
              "          google.colab.kernel.accessAllowed ? 'block' : 'none';\n",
              "\n",
              "        async function convertToInteractive(key) {\n",
              "          const element = document.querySelector('#df-8c8ebaad-3678-453c-8ac5-93a3e638f400');\n",
              "          const dataTable =\n",
              "            await google.colab.kernel.invokeFunction('convertToInteractive',\n",
              "                                                     [key], {});\n",
              "          if (!dataTable) return;\n",
              "\n",
              "          const docLinkHtml = 'Like what you see? Visit the ' +\n",
              "            '<a target=\"_blank\" href=https://colab.research.google.com/notebooks/data_table.ipynb>data table notebook</a>'\n",
              "            + ' to learn more about interactive tables.';\n",
              "          element.innerHTML = '';\n",
              "          dataTable['output_type'] = 'display_data';\n",
              "          await google.colab.output.renderOutput(dataTable, element);\n",
              "          const docLink = document.createElement('div');\n",
              "          docLink.innerHTML = docLinkHtml;\n",
              "          element.appendChild(docLink);\n",
              "        }\n",
              "      </script>\n",
              "    </div>\n",
              "  </div>\n",
              "  "
            ],
            "text/plain": [
              "                 Model  Initial_accuracy\n",
              "7              XGBOOST         73.272124\n",
              "6                 LGBM         72.277480\n",
              "2        Random Forest         72.022443\n",
              "3        Decision Tree         71.002295\n",
              "4          Naive Bayes         68.069370\n",
              "1  Logistic Regression         66.360622\n",
              "5                  SVM         66.360622\n",
              "0                  KNN         62.560571"
            ]
          },
          "execution_count": 258,
          "metadata": {},
          "output_type": "execute_result"
        }
      ],
      "source": [
        "df1"
      ]
    },
    {
      "cell_type": "markdown",
      "source": [
        "# Tabulating values of maximum accuracies after performing hyperparameter tuning on each algorithm"
      ],
      "metadata": {
        "id": "RYuNQaQxPY8C"
      }
    },
    {
      "cell_type": "code",
      "execution_count": null,
      "metadata": {
        "colab": {
          "base_uri": "https://localhost:8080/",
          "height": 300
        },
        "id": "b44jWxpCZI4O",
        "outputId": "e2fe869a-b1a1-4ad5-efde-ff2a3590dceb"
      },
      "outputs": [
        {
          "data": {
            "text/html": [
              "\n",
              "  <div id=\"df-0bf4f13b-eb0d-4d23-b2e9-6e8e28de9a56\">\n",
              "    <div class=\"colab-df-container\">\n",
              "      <div>\n",
              "<style scoped>\n",
              "    .dataframe tbody tr th:only-of-type {\n",
              "        vertical-align: middle;\n",
              "    }\n",
              "\n",
              "    .dataframe tbody tr th {\n",
              "        vertical-align: top;\n",
              "    }\n",
              "\n",
              "    .dataframe thead th {\n",
              "        text-align: right;\n",
              "    }\n",
              "</style>\n",
              "<table border=\"1\" class=\"dataframe\">\n",
              "  <thead>\n",
              "    <tr style=\"text-align: right;\">\n",
              "      <th></th>\n",
              "      <th>Model</th>\n",
              "      <th>Hyper_Tuning</th>\n",
              "    </tr>\n",
              "  </thead>\n",
              "  <tbody>\n",
              "    <tr>\n",
              "      <th>6</th>\n",
              "      <td>LGBM</td>\n",
              "      <td>77.480235</td>\n",
              "    </tr>\n",
              "    <tr>\n",
              "      <th>7</th>\n",
              "      <td>XGBOOST</td>\n",
              "      <td>73.272124</td>\n",
              "    </tr>\n",
              "    <tr>\n",
              "      <th>3</th>\n",
              "      <td>Decision Tree</td>\n",
              "      <td>71.767406</td>\n",
              "    </tr>\n",
              "    <tr>\n",
              "      <th>2</th>\n",
              "      <td>Random Forest</td>\n",
              "      <td>71.741903</td>\n",
              "    </tr>\n",
              "    <tr>\n",
              "      <th>4</th>\n",
              "      <td>Naive Bayes</td>\n",
              "      <td>67.865340</td>\n",
              "    </tr>\n",
              "    <tr>\n",
              "      <th>1</th>\n",
              "      <td>Logistic Regression</td>\n",
              "      <td>66.870696</td>\n",
              "    </tr>\n",
              "    <tr>\n",
              "      <th>5</th>\n",
              "      <td>SVM</td>\n",
              "      <td>66.411630</td>\n",
              "    </tr>\n",
              "    <tr>\n",
              "      <th>0</th>\n",
              "      <td>KNN</td>\n",
              "      <td>66.156593</td>\n",
              "    </tr>\n",
              "  </tbody>\n",
              "</table>\n",
              "</div>\n",
              "      <button class=\"colab-df-convert\" onclick=\"convertToInteractive('df-0bf4f13b-eb0d-4d23-b2e9-6e8e28de9a56')\"\n",
              "              title=\"Convert this dataframe to an interactive table.\"\n",
              "              style=\"display:none;\">\n",
              "        \n",
              "  <svg xmlns=\"http://www.w3.org/2000/svg\" height=\"24px\"viewBox=\"0 0 24 24\"\n",
              "       width=\"24px\">\n",
              "    <path d=\"M0 0h24v24H0V0z\" fill=\"none\"/>\n",
              "    <path d=\"M18.56 5.44l.94 2.06.94-2.06 2.06-.94-2.06-.94-.94-2.06-.94 2.06-2.06.94zm-11 1L8.5 8.5l.94-2.06 2.06-.94-2.06-.94L8.5 2.5l-.94 2.06-2.06.94zm10 10l.94 2.06.94-2.06 2.06-.94-2.06-.94-.94-2.06-.94 2.06-2.06.94z\"/><path d=\"M17.41 7.96l-1.37-1.37c-.4-.4-.92-.59-1.43-.59-.52 0-1.04.2-1.43.59L10.3 9.45l-7.72 7.72c-.78.78-.78 2.05 0 2.83L4 21.41c.39.39.9.59 1.41.59.51 0 1.02-.2 1.41-.59l7.78-7.78 2.81-2.81c.8-.78.8-2.07 0-2.86zM5.41 20L4 18.59l7.72-7.72 1.47 1.35L5.41 20z\"/>\n",
              "  </svg>\n",
              "      </button>\n",
              "      \n",
              "  <style>\n",
              "    .colab-df-container {\n",
              "      display:flex;\n",
              "      flex-wrap:wrap;\n",
              "      gap: 12px;\n",
              "    }\n",
              "\n",
              "    .colab-df-convert {\n",
              "      background-color: #E8F0FE;\n",
              "      border: none;\n",
              "      border-radius: 50%;\n",
              "      cursor: pointer;\n",
              "      display: none;\n",
              "      fill: #1967D2;\n",
              "      height: 32px;\n",
              "      padding: 0 0 0 0;\n",
              "      width: 32px;\n",
              "    }\n",
              "\n",
              "    .colab-df-convert:hover {\n",
              "      background-color: #E2EBFA;\n",
              "      box-shadow: 0px 1px 2px rgba(60, 64, 67, 0.3), 0px 1px 3px 1px rgba(60, 64, 67, 0.15);\n",
              "      fill: #174EA6;\n",
              "    }\n",
              "\n",
              "    [theme=dark] .colab-df-convert {\n",
              "      background-color: #3B4455;\n",
              "      fill: #D2E3FC;\n",
              "    }\n",
              "\n",
              "    [theme=dark] .colab-df-convert:hover {\n",
              "      background-color: #434B5C;\n",
              "      box-shadow: 0px 1px 3px 1px rgba(0, 0, 0, 0.15);\n",
              "      filter: drop-shadow(0px 1px 2px rgba(0, 0, 0, 0.3));\n",
              "      fill: #FFFFFF;\n",
              "    }\n",
              "  </style>\n",
              "\n",
              "      <script>\n",
              "        const buttonEl =\n",
              "          document.querySelector('#df-0bf4f13b-eb0d-4d23-b2e9-6e8e28de9a56 button.colab-df-convert');\n",
              "        buttonEl.style.display =\n",
              "          google.colab.kernel.accessAllowed ? 'block' : 'none';\n",
              "\n",
              "        async function convertToInteractive(key) {\n",
              "          const element = document.querySelector('#df-0bf4f13b-eb0d-4d23-b2e9-6e8e28de9a56');\n",
              "          const dataTable =\n",
              "            await google.colab.kernel.invokeFunction('convertToInteractive',\n",
              "                                                     [key], {});\n",
              "          if (!dataTable) return;\n",
              "\n",
              "          const docLinkHtml = 'Like what you see? Visit the ' +\n",
              "            '<a target=\"_blank\" href=https://colab.research.google.com/notebooks/data_table.ipynb>data table notebook</a>'\n",
              "            + ' to learn more about interactive tables.';\n",
              "          element.innerHTML = '';\n",
              "          dataTable['output_type'] = 'display_data';\n",
              "          await google.colab.output.renderOutput(dataTable, element);\n",
              "          const docLink = document.createElement('div');\n",
              "          docLink.innerHTML = docLinkHtml;\n",
              "          element.appendChild(docLink);\n",
              "        }\n",
              "      </script>\n",
              "    </div>\n",
              "  </div>\n",
              "  "
            ],
            "text/plain": [
              "                 Model  Hyper_Tuning\n",
              "6                 LGBM     77.480235\n",
              "7              XGBOOST     73.272124\n",
              "3        Decision Tree     71.767406\n",
              "2        Random Forest     71.741903\n",
              "4          Naive Bayes     67.865340\n",
              "1  Logistic Regression     66.870696\n",
              "5                  SVM     66.411630\n",
              "0                  KNN     66.156593"
            ]
          },
          "execution_count": 259,
          "metadata": {},
          "output_type": "execute_result"
        }
      ],
      "source": [
        "df2"
      ]
    },
    {
      "cell_type": "code",
      "execution_count": null,
      "metadata": {
        "colab": {
          "base_uri": "https://localhost:8080/",
          "height": 300
        },
        "id": "cqoB0vmbZLPF",
        "outputId": "e8c5d00c-39a7-4c1a-c8dc-1c0aad1945cf"
      },
      "outputs": [
        {
          "data": {
            "text/html": [
              "\n",
              "  <div id=\"df-4087fcd3-c1f4-4a79-8603-b08f9991a9c2\">\n",
              "    <div class=\"colab-df-container\">\n",
              "      <div>\n",
              "<style scoped>\n",
              "    .dataframe tbody tr th:only-of-type {\n",
              "        vertical-align: middle;\n",
              "    }\n",
              "\n",
              "    .dataframe tbody tr th {\n",
              "        vertical-align: top;\n",
              "    }\n",
              "\n",
              "    .dataframe thead th {\n",
              "        text-align: right;\n",
              "    }\n",
              "</style>\n",
              "<table border=\"1\" class=\"dataframe\">\n",
              "  <thead>\n",
              "    <tr style=\"text-align: right;\">\n",
              "      <th></th>\n",
              "      <th>Model</th>\n",
              "      <th>Dimensionality_reduction</th>\n",
              "    </tr>\n",
              "  </thead>\n",
              "  <tbody>\n",
              "    <tr>\n",
              "      <th>2</th>\n",
              "      <td>Random Forest</td>\n",
              "      <td>76.511094</td>\n",
              "    </tr>\n",
              "    <tr>\n",
              "      <th>6</th>\n",
              "      <td>LGBM</td>\n",
              "      <td>75.057383</td>\n",
              "    </tr>\n",
              "    <tr>\n",
              "      <th>7</th>\n",
              "      <td>XGBOOST</td>\n",
              "      <td>72.404999</td>\n",
              "    </tr>\n",
              "    <tr>\n",
              "      <th>3</th>\n",
              "      <td>Decision Tree</td>\n",
              "      <td>69.166029</td>\n",
              "    </tr>\n",
              "    <tr>\n",
              "      <th>4</th>\n",
              "      <td>Naive Bayes</td>\n",
              "      <td>68.349911</td>\n",
              "    </tr>\n",
              "    <tr>\n",
              "      <th>5</th>\n",
              "      <td>SVM</td>\n",
              "      <td>66.411630</td>\n",
              "    </tr>\n",
              "    <tr>\n",
              "      <th>0</th>\n",
              "      <td>KNN</td>\n",
              "      <td>60.239735</td>\n",
              "    </tr>\n",
              "    <tr>\n",
              "      <th>1</th>\n",
              "      <td>Logistic Regression</td>\n",
              "      <td>51.951033</td>\n",
              "    </tr>\n",
              "  </tbody>\n",
              "</table>\n",
              "</div>\n",
              "      <button class=\"colab-df-convert\" onclick=\"convertToInteractive('df-4087fcd3-c1f4-4a79-8603-b08f9991a9c2')\"\n",
              "              title=\"Convert this dataframe to an interactive table.\"\n",
              "              style=\"display:none;\">\n",
              "        \n",
              "  <svg xmlns=\"http://www.w3.org/2000/svg\" height=\"24px\"viewBox=\"0 0 24 24\"\n",
              "       width=\"24px\">\n",
              "    <path d=\"M0 0h24v24H0V0z\" fill=\"none\"/>\n",
              "    <path d=\"M18.56 5.44l.94 2.06.94-2.06 2.06-.94-2.06-.94-.94-2.06-.94 2.06-2.06.94zm-11 1L8.5 8.5l.94-2.06 2.06-.94-2.06-.94L8.5 2.5l-.94 2.06-2.06.94zm10 10l.94 2.06.94-2.06 2.06-.94-2.06-.94-.94-2.06-.94 2.06-2.06.94z\"/><path d=\"M17.41 7.96l-1.37-1.37c-.4-.4-.92-.59-1.43-.59-.52 0-1.04.2-1.43.59L10.3 9.45l-7.72 7.72c-.78.78-.78 2.05 0 2.83L4 21.41c.39.39.9.59 1.41.59.51 0 1.02-.2 1.41-.59l7.78-7.78 2.81-2.81c.8-.78.8-2.07 0-2.86zM5.41 20L4 18.59l7.72-7.72 1.47 1.35L5.41 20z\"/>\n",
              "  </svg>\n",
              "      </button>\n",
              "      \n",
              "  <style>\n",
              "    .colab-df-container {\n",
              "      display:flex;\n",
              "      flex-wrap:wrap;\n",
              "      gap: 12px;\n",
              "    }\n",
              "\n",
              "    .colab-df-convert {\n",
              "      background-color: #E8F0FE;\n",
              "      border: none;\n",
              "      border-radius: 50%;\n",
              "      cursor: pointer;\n",
              "      display: none;\n",
              "      fill: #1967D2;\n",
              "      height: 32px;\n",
              "      padding: 0 0 0 0;\n",
              "      width: 32px;\n",
              "    }\n",
              "\n",
              "    .colab-df-convert:hover {\n",
              "      background-color: #E2EBFA;\n",
              "      box-shadow: 0px 1px 2px rgba(60, 64, 67, 0.3), 0px 1px 3px 1px rgba(60, 64, 67, 0.15);\n",
              "      fill: #174EA6;\n",
              "    }\n",
              "\n",
              "    [theme=dark] .colab-df-convert {\n",
              "      background-color: #3B4455;\n",
              "      fill: #D2E3FC;\n",
              "    }\n",
              "\n",
              "    [theme=dark] .colab-df-convert:hover {\n",
              "      background-color: #434B5C;\n",
              "      box-shadow: 0px 1px 3px 1px rgba(0, 0, 0, 0.15);\n",
              "      filter: drop-shadow(0px 1px 2px rgba(0, 0, 0, 0.3));\n",
              "      fill: #FFFFFF;\n",
              "    }\n",
              "  </style>\n",
              "\n",
              "      <script>\n",
              "        const buttonEl =\n",
              "          document.querySelector('#df-4087fcd3-c1f4-4a79-8603-b08f9991a9c2 button.colab-df-convert');\n",
              "        buttonEl.style.display =\n",
              "          google.colab.kernel.accessAllowed ? 'block' : 'none';\n",
              "\n",
              "        async function convertToInteractive(key) {\n",
              "          const element = document.querySelector('#df-4087fcd3-c1f4-4a79-8603-b08f9991a9c2');\n",
              "          const dataTable =\n",
              "            await google.colab.kernel.invokeFunction('convertToInteractive',\n",
              "                                                     [key], {});\n",
              "          if (!dataTable) return;\n",
              "\n",
              "          const docLinkHtml = 'Like what you see? Visit the ' +\n",
              "            '<a target=\"_blank\" href=https://colab.research.google.com/notebooks/data_table.ipynb>data table notebook</a>'\n",
              "            + ' to learn more about interactive tables.';\n",
              "          element.innerHTML = '';\n",
              "          dataTable['output_type'] = 'display_data';\n",
              "          await google.colab.output.renderOutput(dataTable, element);\n",
              "          const docLink = document.createElement('div');\n",
              "          docLink.innerHTML = docLinkHtml;\n",
              "          element.appendChild(docLink);\n",
              "        }\n",
              "      </script>\n",
              "    </div>\n",
              "  </div>\n",
              "  "
            ],
            "text/plain": [
              "                 Model  Dimensionality_reduction\n",
              "2        Random Forest                 76.511094\n",
              "6                 LGBM                 75.057383\n",
              "7              XGBOOST                 72.404999\n",
              "3        Decision Tree                 69.166029\n",
              "4          Naive Bayes                 68.349911\n",
              "5                  SVM                 66.411630\n",
              "0                  KNN                 60.239735\n",
              "1  Logistic Regression                 51.951033"
            ]
          },
          "execution_count": 260,
          "metadata": {},
          "output_type": "execute_result"
        }
      ],
      "source": [
        "df3"
      ]
    },
    {
      "cell_type": "markdown",
      "source": [
        "# Graph plotting for the accuracies comparison"
      ],
      "metadata": {
        "id": "I9HnSBOOPwwJ"
      }
    },
    {
      "cell_type": "code",
      "execution_count": null,
      "metadata": {
        "colab": {
          "base_uri": "https://localhost:8080/",
          "height": 1000
        },
        "id": "qT_gGuRhZvvM",
        "outputId": "6cfcc6e4-ca3e-4a1a-c3a6-fc76a30ad7dd"
      },
      "outputs": [
        {
          "data": {
            "image/png": "[encoded data removed]",
            "text/plain": [
              "<Figure size 648x360 with 1 Axes>"
            ]
          },
          "metadata": {
            "needs_background": "light"
          },
          "output_type": "display_data"
        },
        {
          "data": {
            "image/png": "[encoded data removed]",
            "text/plain": [
              "<Figure size 648x360 with 1 Axes>"
            ]
          },
          "metadata": {
            "needs_background": "light"
          },
          "output_type": "display_data"
        },
        {
          "data": {
            "image/png": "[encoded data removed]",
            "text/plain": [
              "<Figure size 648x360 with 1 Axes>"
            ]
          },
          "metadata": {
            "needs_background": "light"
          },
          "output_type": "display_data"
        }
      ],
      "source": [
        "import matplotlib.pyplot as plt\n",
        "%matplotlib inline \n",
        "#df1\n",
        "model = list(df1.Model)\n",
        "iacc = list(df1.Initial_accuracy)\n",
        "  \n",
        "fig = plt.figure(figsize = (9, 5))\n",
        "plt.bar(model, iacc, color ='maroon', width = 0.4)\n",
        " \n",
        "plt.xlabel(\"Model\")\n",
        "plt.ylabel(\"Initial_accuracy\")\n",
        "plt.title(\"Accuracy comparison\")\n",
        "plt.show()\n",
        "\n",
        "#df2\n",
        "model = list(df2.Model)\n",
        "htune = list(df2.Hyper_Tuning)\n",
        "  \n",
        "fig = plt.figure(figsize = (9, 5))\n",
        "plt.bar(model, htune, color ='orange', width = 0.4)\n",
        " \n",
        "plt.xlabel(\"Model\")\n",
        "plt.ylabel(\"Hyper_Tuning\")\n",
        "plt.title(\"Accuracy comparison after hyperparameter tuning\")\n",
        "plt.show()\n",
        "\n",
        "#df3\n",
        "model = list(df3.Model)\n",
        "dreduc = list(df3.Dimensionality_reduction)\n",
        "  \n",
        "fig = plt.figure(figsize = (9, 5))\n",
        "plt.bar(model, dreduc, color ='blue', width = 0.4)\n",
        " \n",
        "plt.xlabel(\"Model\")\n",
        "plt.ylabel(\"Hyper_Tuning\")\n",
        "plt.title(\"Accuracy comparison after Dimensionality reduction\")\n",
        "plt.show()"
      ]
    },
    {
      "cell_type": "markdown",
      "source": [
        "Algorithms that have accuracy high initially are:\n",
        "{Logistic Regression}\n",
        "\n",
        "Algorithms that have accuracy high after performing hyperparameter tuning are:\n",
        "{LGBM, Navie Bayes, Knn}\n",
        "\n",
        "Algorithms that have accuracy high after performing dimensionality reduction are: {Random Forest, Decision Tree}\n",
        "\n",
        "Approximately equal at all times: \n",
        "{XGboost, SVM}"
      ],
      "metadata": {
        "id": "CwYAc8JQQBXz"
      }
    },
    {
      "cell_type": "markdown",
      "metadata": {
        "id": "6buzll2HyzEF"
      },
      "source": [
        "## Unsupervised Learning\n",
        "\n"
      ]
    },
    {
      "cell_type": "markdown",
      "metadata": {
        "id": "lKERYqKTytxm"
      },
      "source": [
        "# K-means Clustering"
      ]
    },
    {
      "cell_type": "code",
      "execution_count": null,
      "metadata": {
        "colab": {
          "base_uri": "https://localhost:8080/",
          "height": 290
        },
        "id": "4ND0mOsSzAqK",
        "outputId": "6f9beb32-e8cd-460a-e47b-9db5419256ea"
      },
      "outputs": [
        {
          "output_type": "display_data",
          "data": {
            "text/plain": [
              "<Figure size 432x288 with 1 Axes>"
            ],
            "image/png": "[encoded data removed]"
          },
          "metadata": {
            "needs_background": "light"
          }
        }
      ],
      "source": [
        "from sklearn.cluster import KMeans\n",
        "import matplotlib.pyplot as plt\n",
        "\n",
        "wcss = []\n",
        "i_vals = []\n",
        "\n",
        "for i in range(2,11):\n",
        "  i_vals.append(i)\n",
        "  kmeans = KMeans(n_clusters=i,init=\"k-means++\",random_state=0)\n",
        "  kmeans.fit(X_train)\n",
        "  wcss.append(kmeans.inertia_)\n",
        "\n",
        "plt.plot(i_vals,wcss)\n",
        "plt.xlabel('Number of clusters(k)')  \n",
        "plt.ylabel('wcss_vals')  \n",
        "plt.show()"
      ]
    },
    {
      "cell_type": "code",
      "execution_count": null,
      "metadata": {
        "colab": {
          "base_uri": "https://localhost:8080/",
          "height": 424
        },
        "id": "QBWcT9fCzE27",
        "outputId": "19caa14a-1ee1-4493-a6e3-b55f3882c1e1"
      },
      "outputs": [
        {
          "output_type": "execute_result",
          "data": {
            "text/plain": [
              "         Predicted  Actual\n",
              "486121           1     1.0\n",
              "671465           2     1.0\n",
              "942867           3     0.0\n",
              "1134456          3     1.0\n",
              "484074           1     0.0\n",
              "...            ...     ...\n",
              "14921            2     0.0\n",
              "495294           1     0.0\n",
              "308270           2     0.0\n",
              "173985           2     0.0\n",
              "615279           3     1.0\n",
              "\n",
              "[300041 rows x 2 columns]"
            ],
            "text/html": [
              "\n",
              "  <div id=\"df-2dc46fc2-e47d-4215-a68d-8504896ea0b9\">\n",
              "    <div class=\"colab-df-container\">\n",
              "      <div>\n",
              "<style scoped>\n",
              "    .dataframe tbody tr th:only-of-type {\n",
              "        vertical-align: middle;\n",
              "    }\n",
              "\n",
              "    .dataframe tbody tr th {\n",
              "        vertical-align: top;\n",
              "    }\n",
              "\n",
              "    .dataframe thead th {\n",
              "        text-align: right;\n",
              "    }\n",
              "</style>\n",
              "<table border=\"1\" class=\"dataframe\">\n",
              "  <thead>\n",
              "    <tr style=\"text-align: right;\">\n",
              "      <th></th>\n",
              "      <th>Predicted</th>\n",
              "      <th>Actual</th>\n",
              "    </tr>\n",
              "  </thead>\n",
              "  <tbody>\n",
              "    <tr>\n",
              "      <th>486121</th>\n",
              "      <td>1</td>\n",
              "      <td>1.0</td>\n",
              "    </tr>\n",
              "    <tr>\n",
              "      <th>671465</th>\n",
              "      <td>2</td>\n",
              "      <td>1.0</td>\n",
              "    </tr>\n",
              "    <tr>\n",
              "      <th>942867</th>\n",
              "      <td>3</td>\n",
              "      <td>0.0</td>\n",
              "    </tr>\n",
              "    <tr>\n",
              "      <th>1134456</th>\n",
              "      <td>3</td>\n",
              "      <td>1.0</td>\n",
              "    </tr>\n",
              "    <tr>\n",
              "      <th>484074</th>\n",
              "      <td>1</td>\n",
              "      <td>0.0</td>\n",
              "    </tr>\n",
              "    <tr>\n",
              "      <th>...</th>\n",
              "      <td>...</td>\n",
              "      <td>...</td>\n",
              "    </tr>\n",
              "    <tr>\n",
              "      <th>14921</th>\n",
              "      <td>2</td>\n",
              "      <td>0.0</td>\n",
              "    </tr>\n",
              "    <tr>\n",
              "      <th>495294</th>\n",
              "      <td>1</td>\n",
              "      <td>0.0</td>\n",
              "    </tr>\n",
              "    <tr>\n",
              "      <th>308270</th>\n",
              "      <td>2</td>\n",
              "      <td>0.0</td>\n",
              "    </tr>\n",
              "    <tr>\n",
              "      <th>173985</th>\n",
              "      <td>2</td>\n",
              "      <td>0.0</td>\n",
              "    </tr>\n",
              "    <tr>\n",
              "      <th>615279</th>\n",
              "      <td>3</td>\n",
              "      <td>1.0</td>\n",
              "    </tr>\n",
              "  </tbody>\n",
              "</table>\n",
              "<p>300041 rows × 2 columns</p>\n",
              "</div>\n",
              "      <button class=\"colab-df-convert\" onclick=\"convertToInteractive('df-2dc46fc2-e47d-4215-a68d-8504896ea0b9')\"\n",
              "              title=\"Convert this dataframe to an interactive table.\"\n",
              "              style=\"display:none;\">\n",
              "        \n",
              "  <svg xmlns=\"http://www.w3.org/2000/svg\" height=\"24px\"viewBox=\"0 0 24 24\"\n",
              "       width=\"24px\">\n",
              "    <path d=\"M0 0h24v24H0V0z\" fill=\"none\"/>\n",
              "    <path d=\"M18.56 5.44l.94 2.06.94-2.06 2.06-.94-2.06-.94-.94-2.06-.94 2.06-2.06.94zm-11 1L8.5 8.5l.94-2.06 2.06-.94-2.06-.94L8.5 2.5l-.94 2.06-2.06.94zm10 10l.94 2.06.94-2.06 2.06-.94-2.06-.94-.94-2.06-.94 2.06-2.06.94z\"/><path d=\"M17.41 7.96l-1.37-1.37c-.4-.4-.92-.59-1.43-.59-.52 0-1.04.2-1.43.59L10.3 9.45l-7.72 7.72c-.78.78-.78 2.05 0 2.83L4 21.41c.39.39.9.59 1.41.59.51 0 1.02-.2 1.41-.59l7.78-7.78 2.81-2.81c.8-.78.8-2.07 0-2.86zM5.41 20L4 18.59l7.72-7.72 1.47 1.35L5.41 20z\"/>\n",
              "  </svg>\n",
              "      </button>\n",
              "      \n",
              "  <style>\n",
              "    .colab-df-container {\n",
              "      display:flex;\n",
              "      flex-wrap:wrap;\n",
              "      gap: 12px;\n",
              "    }\n",
              "\n",
              "    .colab-df-convert {\n",
              "      background-color: #E8F0FE;\n",
              "      border: none;\n",
              "      border-radius: 50%;\n",
              "      cursor: pointer;\n",
              "      display: none;\n",
              "      fill: #1967D2;\n",
              "      height: 32px;\n",
              "      padding: 0 0 0 0;\n",
              "      width: 32px;\n",
              "    }\n",
              "\n",
              "    .colab-df-convert:hover {\n",
              "      background-color: #E2EBFA;\n",
              "      box-shadow: 0px 1px 2px rgba(60, 64, 67, 0.3), 0px 1px 3px 1px rgba(60, 64, 67, 0.15);\n",
              "      fill: #174EA6;\n",
              "    }\n",
              "\n",
              "    [theme=dark] .colab-df-convert {\n",
              "      background-color: #3B4455;\n",
              "      fill: #D2E3FC;\n",
              "    }\n",
              "\n",
              "    [theme=dark] .colab-df-convert:hover {\n",
              "      background-color: #434B5C;\n",
              "      box-shadow: 0px 1px 3px 1px rgba(0, 0, 0, 0.15);\n",
              "      filter: drop-shadow(0px 1px 2px rgba(0, 0, 0, 0.3));\n",
              "      fill: #FFFFFF;\n",
              "    }\n",
              "  </style>\n",
              "\n",
              "      <script>\n",
              "        const buttonEl =\n",
              "          document.querySelector('#df-2dc46fc2-e47d-4215-a68d-8504896ea0b9 button.colab-df-convert');\n",
              "        buttonEl.style.display =\n",
              "          google.colab.kernel.accessAllowed ? 'block' : 'none';\n",
              "\n",
              "        async function convertToInteractive(key) {\n",
              "          const element = document.querySelector('#df-2dc46fc2-e47d-4215-a68d-8504896ea0b9');\n",
              "          const dataTable =\n",
              "            await google.colab.kernel.invokeFunction('convertToInteractive',\n",
              "                                                     [key], {});\n",
              "          if (!dataTable) return;\n",
              "\n",
              "          const docLinkHtml = 'Like what you see? Visit the ' +\n",
              "            '<a target=\"_blank\" href=https://colab.research.google.com/notebooks/data_table.ipynb>data table notebook</a>'\n",
              "            + ' to learn more about interactive tables.';\n",
              "          element.innerHTML = '';\n",
              "          dataTable['output_type'] = 'display_data';\n",
              "          await google.colab.output.renderOutput(dataTable, element);\n",
              "          const docLink = document.createElement('div');\n",
              "          docLink.innerHTML = docLinkHtml;\n",
              "          element.appendChild(docLink);\n",
              "        }\n",
              "      </script>\n",
              "    </div>\n",
              "  </div>\n",
              "  "
            ]
          },
          "metadata": {},
          "execution_count": 29
        }
      ],
      "source": [
        "from sklearn.cluster import KMeans\n",
        "\n",
        "kmeans = KMeans(n_clusters=4,init=\"random\",random_state=42)\n",
        "kmeans.fit(X_train)\n",
        "KMeans_y_preds = kmeans.predict(X_test)\n",
        "KMeans_preds = pd.DataFrame({\"Predicted\":KMeans_y_preds,\"Actual\":Y_test})\n",
        "KMeans_preds"
      ]
    },
    {
      "cell_type": "code",
      "source": [
        "KMeans_accuracy = accuracy_score(KMeans_y_preds,Y_test)\n",
        "print(\"Initial accuracy is: \",KMeans_accuracy*100)"
      ],
      "metadata": {
        "colab": {
          "base_uri": "https://localhost:8080/"
        },
        "id": "figKHvBRwIB3",
        "outputId": "e2feccac-3772-4d30-e65d-4d889917f1c2"
      },
      "execution_count": null,
      "outputs": [
        {
          "output_type": "stream",
          "name": "stdout",
          "text": [
            "Initial accuracy is:  23.32114611003163\n"
          ]
        }
      ]
    },
    {
      "cell_type": "code",
      "execution_count": null,
      "metadata": {
        "colab": {
          "base_uri": "https://localhost:8080/"
        },
        "id": "LeDUxiBGzHOj",
        "outputId": "4ac459cf-88a4-4b02-aaba-4623c1e3817d"
      },
      "outputs": [
        {
          "output_type": "stream",
          "name": "stdout",
          "text": [
            "69846 33335 123 127\n",
            "Rightly Classified:  69973 / 103431\n",
            "Wrongly Classified:  33458 / 103431\n"
          ]
        }
      ],
      "source": [
        "Kmeans_TP = len(KMeans_preds[(KMeans_preds[\"Predicted\"]==KMeans_preds[\"Actual\"])&(KMeans_preds[\"Predicted\"]==1)])\n",
        "Kmeans_FP = len(KMeans_preds[(KMeans_preds[\"Predicted\"]!=KMeans_preds[\"Actual\"])&(KMeans_preds[\"Predicted\"]==1)])\n",
        "Kmeans_FN = len(KMeans_preds[(KMeans_preds[\"Predicted\"]!=KMeans_preds[\"Actual\"])&(KMeans_preds[\"Predicted\"]==0)])\n",
        "Kmeans_TN = len(KMeans_preds[(KMeans_preds[\"Predicted\"]==KMeans_preds[\"Actual\"])&(KMeans_preds[\"Predicted\"]==0)])\n",
        "print(Kmeans_TP,Kmeans_FP,Kmeans_FN,Kmeans_TN)\n",
        "print(\"Rightly Classified: \",(Kmeans_TP+Kmeans_TN),\"/\",(Kmeans_TP+Kmeans_FP+Kmeans_FN+Kmeans_TN))\n",
        "print(\"Wrongly Classified: \",(Kmeans_FP+Kmeans_FN),\"/\",(Kmeans_TP+Kmeans_FP+Kmeans_FN+Kmeans_TN))\n",
        "\n",
        "Kmeans_Accuracy = (Kmeans_TP+Kmeans_TN)/(Kmeans_TP+Kmeans_FP+Kmeans_FN+Kmeans_TN)\n",
        "Kmeans_Precision = (Kmeans_TP)/(Kmeans_TP+Kmeans_FP)\n",
        "Kmeans_Recall = (Kmeans_TP)/(Kmeans_TP+Kmeans_FN)\n",
        "Kmeans_Specificity = (Kmeans_TN)/(Kmeans_TN+Kmeans_FP)\n",
        "Kmeans_F1 = (2*Kmeans_Precision*Kmeans_Recall)/(Kmeans_Precision+Kmeans_Recall)"
      ]
    },
    {
      "cell_type": "code",
      "execution_count": null,
      "metadata": {
        "colab": {
          "base_uri": "https://localhost:8080/",
          "height": 282
        },
        "id": "4PKH8sIfzNXc",
        "outputId": "7b6849d9-deae-4037-f57b-30cc2bff0fd2"
      },
      "outputs": [
        {
          "output_type": "execute_result",
          "data": {
            "text/plain": [
              "<matplotlib.axes._subplots.AxesSubplot at 0x7f1993ea1a90>"
            ]
          },
          "metadata": {},
          "execution_count": 24
        },
        {
          "output_type": "display_data",
          "data": {
            "text/plain": [
              "<Figure size 432x288 with 2 Axes>"
            ],
            "image/png": "[encoded data removed]"
          },
          "metadata": {
            "needs_background": "light"
          }
        }
      ],
      "source": [
        "from sklearn.metrics import confusion_matrix\n",
        "import seaborn as sns\n",
        "\n",
        "Kmeans_Confusion_matrix = confusion_matrix(Y_test, KMeans_y_preds)\n",
        "sns.heatmap(Kmeans_Confusion_matrix, annot=True, fmt='g')"
      ]
    },
    {
      "cell_type": "code",
      "execution_count": null,
      "metadata": {
        "colab": {
          "base_uri": "https://localhost:8080/"
        },
        "id": "8DoekANCzb0v",
        "outputId": "860ffeb4-4c82-40f1-ae6c-cac50c0c0cc0"
      },
      "outputs": [
        {
          "output_type": "stream",
          "name": "stdout",
          "text": [
            "              precision    recall  f1-score   support\n",
            "\n",
            "         0.0       0.51      0.00      0.00     95844\n",
            "         1.0       0.68      0.34      0.45    204197\n",
            "         2.0       0.00      0.00      0.00         0\n",
            "         3.0       0.00      0.00      0.00         0\n",
            "\n",
            "    accuracy                           0.23    300041\n",
            "   macro avg       0.30      0.09      0.11    300041\n",
            "weighted avg       0.62      0.23      0.31    300041\n",
            "\n"
          ]
        }
      ],
      "source": [
        "from sklearn.metrics import classification_report\n",
        "\n",
        "print(classification_report(Y_test, KMeans_y_preds))"
      ]
    },
    {
      "cell_type": "code",
      "source": [
        "#Dimensionality Reduction for k-means clustering\n",
        "from sklearn.decomposition import PCA\n",
        "from lightgbm import *\n",
        "n_components = [8, 10, 12, 14, 16, 18]\n",
        "KMc=[]\n",
        "for n in n_components:\n",
        "  pca = PCA(n_components=n) # Vary 10 to 8/12..\n",
        "  X_dimred_train = pca.fit_transform(X_train)\n",
        "  X_dimred_test = pca.transform(X_test)\n",
        "\n",
        "  kmeans = KMeans(n_clusters=5,init=\"random\",random_state=42)\n",
        "  kmeans.fit(X_dimred_train, Y_train)\n",
        "  KMeans_y_preds = kmeans.predict(X_dimred_test)\n",
        "  KMeans_accuracy = accuracy_score(KMeans_y_preds,Y_test)\n",
        "  KMc.append(KMeans_accuracy)\n",
        "  print(f\"n_components = {n}=> Accuracy : {KMeans_accuracy*100}\");\n",
        "KMcmax=max(KMc)\n",
        "print(\"Accuracy after performing Dimensionality Reduction is: \",KMcmax)"
      ],
      "metadata": {
        "colab": {
          "base_uri": "https://localhost:8080/"
        },
        "id": "da1cSzRMkiKC",
        "outputId": "060cc0d1-19da-4edc-95b4-3ae107c95a66"
      },
      "execution_count": null,
      "outputs": [
        {
          "output_type": "stream",
          "name": "stdout",
          "text": [
            "n_components = 8=> Accuracy : 27.230278528601094\n",
            "n_components = 10=> Accuracy : 27.23327811865712\n",
            "n_components = 12=> Accuracy : 27.23327811865712\n",
            "n_components = 14=> Accuracy : 17.274972420435873\n",
            "n_components = 16=> Accuracy : 27.204948657016875\n",
            "n_components = 18=> Accuracy : 28.620421875676993\n",
            "Accuracy after performing Dimensionality Reduction is:  0.28620421875676993\n"
          ]
        }
      ]
    },
    {
      "cell_type": "markdown",
      "source": [
        "#Therefore, after building all the models initially we tried to improve accuracy by using dimensionality reduction and hyper parameter tuning many algorithms accuracy was improved after hyper parameter tuning, Initially XGBOOST was performing well but after doing the hyper parameter tuning LGBM accuracy was improved from 72 to 77 this is very large improvement in the accuracy, Random Forest algorithm was improved after implementing dimensionality reduction."
      ],
      "metadata": {
        "id": "7aHTet66jlTL"
      }
    },
    {
      "cell_type": "markdown",
      "source": [
        "#From the above Comparisons LGBM (Light gradient boost modelling) was performing well for this music recommendation system model."
      ],
      "metadata": {
        "id": "NA9z98tfjoIh"
      }
    }
  ],
  "metadata": {
    "colab": {
      "provenance": []
    },
    "kernelspec": {
      "display_name": "Python 3",
      "name": "python3"
    },
    "language_info": {
      "name": "python"
    }
  },
  "nbformat": 4,
  "nbformat_minor": 0
}